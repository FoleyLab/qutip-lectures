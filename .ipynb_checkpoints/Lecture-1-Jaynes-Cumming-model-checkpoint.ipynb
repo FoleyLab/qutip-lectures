{
 "cells": [
  {
   "cell_type": "markdown",
   "id": "662400a1",
   "metadata": {},
   "source": [
    "# QuTiP lecture: Vacuum Rabi oscillations in the Jaynes-Cummings model"
   ]
  },
  {
   "cell_type": "markdown",
   "id": "56afcd1f",
   "metadata": {},
   "source": [
    "Author: J. R. Johansson (robert@riken.jp), http://dml.riken.jp/~rob/\n",
    "\n",
    "The latest version of this [IPython notebook](http://ipython.org/ipython-doc/dev/interactive/htmlnotebook.html) lecture is available at [http://github.com/jrjohansson/qutip-lectures](http://github.com/jrjohansson/qutip-lectures).\n",
    "\n",
    "The other notebooks in this lecture series are indexed at [http://jrjohansson.github.com](http://jrjohansson.github.com)."
   ]
  },
  {
   "cell_type": "code",
   "execution_count": 1,
   "id": "90c37f59",
   "metadata": {
    "collapsed": false,
    "jupyter": {
     "outputs_hidden": false
    }
   },
   "outputs": [],
   "source": [
    "# setup the matplotlib graphics library and configure it to show \n",
    "# figures inline in the notebook\n",
    "%matplotlib inline\n",
    "import matplotlib.pyplot as plt\n",
    "import numpy as np\n",
    "import json"
   ]
  },
  {
   "cell_type": "code",
   "execution_count": 2,
   "id": "f4b56bc2",
   "metadata": {
    "collapsed": false,
    "jupyter": {
     "outputs_hidden": false
    }
   },
   "outputs": [],
   "source": [
    "# make qutip available in the rest of the notebook\n",
    "from qutip import *"
   ]
  },
  {
   "cell_type": "markdown",
   "id": "6a04b779",
   "metadata": {},
   "source": [
    "# Introduction\n",
    "\n",
    "The Jaynes-Cumming model is the simplest possible model of quantum mechanical light-matter interaction, describing a single two-level atom interacting with a single electromagnetic cavity mode. The Hamiltonian for this system is (in dipole interaction form)\n",
    "\n",
    "### $H = \\hbar \\omega_c a^\\dagger a + \\frac{1}{2}\\hbar\\omega_a\\sigma_z + \\hbar g(a^\\dagger + a)(\\sigma_- + \\sigma_+)$\n",
    "\n",
    "or with the rotating-wave approximation\n",
    "\n",
    "### $H_{\\rm RWA} = \\hbar \\omega_c a^\\dagger a + \\frac{1}{2}\\hbar\\omega_a\\sigma_z + \\hbar g(a^\\dagger\\sigma_- + a\\sigma_+)$\n",
    "\n",
    "where $\\omega_c$ and $\\omega_a$ are the frequencies of the cavity and atom, respectively, and $g$ is the interaction strength."
   ]
  },
  {
   "cell_type": "markdown",
   "id": "08f15d3f",
   "metadata": {},
   "source": [
    "### Problem parameters\n",
    "\n",
    "\n",
    "Here we use units where $\\hbar = 1$: "
   ]
  },
  {
   "cell_type": "code",
   "execution_count": 3,
   "id": "af2cb741",
   "metadata": {
    "collapsed": false,
    "jupyter": {
     "outputs_hidden": false
    }
   },
   "outputs": [],
   "source": [
    "\n",
    "# create new dictionary to store calculation data\n",
    "JC_data = {\n",
    "\n",
    "    \"spin_frequency\" : 0.5,\n",
    "    \"cavity_frequency\" : 0.5,\n",
    "    \"cavity_coupling\" : 0.02,\n",
    "    \"use_rwa\" : True,\n",
    "    \"number_of_cavity_states\" : 2,\n",
    "    \"kappa\" : 0.00,\n",
    "    \"gamma\" : 5e-7,\n",
    "    \"energies\" : [],\n",
    "}\n",
    "\n",
    "\n",
    "\n",
    "wc = JC_data[\"cavity_frequency\"]\n",
    "wa = JC_data[\"spin_frequency\"]\n",
    "g  = JC_data[\"cavity_coupling\"]\n",
    "kappa = JC_data[\"kappa\"]\n",
    "gamma = JC_data[\"gamma\"]\n",
    "N = JC_data[\"number_of_cavity_states\"]\n",
    "n_th_a = 0.0       \n",
    "use_rwa = JC_data[\"use_rwa\"]\n",
    "\n",
    "tlist = np.linspace(0,1000,1001)"
   ]
  },
  {
   "cell_type": "markdown",
   "id": "48c541b7",
   "metadata": {},
   "source": [
    "### Setup the operators, the Hamiltonian and initial state"
   ]
  },
  {
   "cell_type": "code",
   "execution_count": 4,
   "id": "5cc9c979",
   "metadata": {
    "collapsed": false,
    "jupyter": {
     "outputs_hidden": false
    }
   },
   "outputs": [],
   "source": [
    "# intial state\n",
    "psi0 = tensor(basis(N,0), basis(2,1))    # start with an excited atom\n",
    "\n",
    "# operators\n",
    "a  = tensor(destroy(N), qeye(2))\n",
    "sm = tensor(qeye(N), destroy(2))\n",
    "\n",
    "# Hamiltonian\n",
    "if use_rwa:\n",
    "    H = wc * a.dag() * a + wa * sm.dag() * sm + g * (a.dag() * sm + a * sm.dag())\n",
    "else:\n",
    "    H = wc * a.dag() * a + wa * sm.dag() * sm + g * (a.dag() + a) * (sm + sm.dag())"
   ]
  },
  {
   "cell_type": "markdown",
   "id": "ebce1138",
   "metadata": {},
   "source": [
    "### Get the eigenvalues of the Hamiltonian and store to dictionary"
   ]
  },
  {
   "cell_type": "code",
   "execution_count": 5,
   "id": "c8bab5b0-a201-49f6-826a-e07ff05ad07b",
   "metadata": {},
   "outputs": [],
   "source": [
    "eigs = H.eigenenergies()\n",
    "\n",
    "JC_data[\"energies\"].append(eigs.tolist())\n",
    "\n"
   ]
  },
  {
   "cell_type": "markdown",
   "id": "a3594ea9-abdc-4ad5-8b93-7a642e18fe51",
   "metadata": {},
   "source": [
    "### Write the data to a json file where the file will be named based on simulation parameters"
   ]
  },
  {
   "cell_type": "code",
   "execution_count": 6,
   "id": "584e40b0-6618-4f67-a813-b25ea6e6c0db",
   "metadata": {},
   "outputs": [],
   "source": [
    "\n",
    "# write the data to a JSON file\n",
    "def write_to_json(data, filename):\n",
    "    with open(filename, 'w') as json_file:\n",
    "        json.dump(data, json_file, indent=4)\n",
    "\n",
    "def create_output_filename(dictionary):\n",
    "    # define output file name based on the parameters of the simulation\n",
    "    output_filename = \"JC_simulation_\"\n",
    "    output_filename += \"spin_freq_\" + str(dictionary[\"spin_frequency\"]) + \"_\"\n",
    "    output_filename += \"cavity_freq_\" + str(dictionary[\"cavity_frequency\"]) + \"_\"\n",
    "    output_filename += \"cavity_coupling_\" + str(dictionary[\"cavity_coupling\"]) + \".json\"\n",
    "    return output_filename\n",
    "\n",
    "output_filename = create_output_filename(JC_data)\n",
    "\n",
    "write_to_json(JC_data, output_filename)"
   ]
  },
  {
   "cell_type": "markdown",
   "id": "1a53ff8c-84b8-4586-841f-da52264a3b0b",
   "metadata": {},
   "source": [
    "### Next cells relate to dynamics, will look at these later!"
   ]
  },
  {
   "cell_type": "code",
   "execution_count": 7,
   "id": "d930d3fd",
   "metadata": {
    "collapsed": false,
    "jupyter": {
     "outputs_hidden": false
    }
   },
   "outputs": [],
   "source": [
    "c_ops = []\n",
    "\n",
    "# cavity relaxation\n",
    "rate = kappa * (1 + n_th_a)\n",
    "if rate > 0.0:\n",
    "    c_ops.append(np.sqrt(rate) * a)\n",
    "\n",
    "# cavity excitation, if temperature > 0\n",
    "rate = kappa * n_th_a\n",
    "if rate > 0.0:\n",
    "    c_ops.append(np.sqrt(rate) * a.dag())\n",
    "\n",
    "# qubit relaxation\n",
    "rate = gamma\n",
    "if rate > 0.0:\n",
    "    c_ops.append(np.sqrt(rate) * sm)"
   ]
  },
  {
   "cell_type": "markdown",
   "id": "f3a38e62",
   "metadata": {},
   "source": [
    "### Evolve the system\n",
    "\n",
    "Here we evolve the system with the Lindblad master equation solver, and we request that the expectation values of the operators $a^\\dagger a$ and $\\sigma_+\\sigma_-$ are returned by the solver by passing the list `[a.dag()*a, sm.dag()*sm]` as the fifth argument to the solver."
   ]
  },
  {
   "cell_type": "code",
   "execution_count": 8,
   "id": "4a19c355",
   "metadata": {
    "collapsed": false,
    "jupyter": {
     "outputs_hidden": false
    }
   },
   "outputs": [
    {
     "name": "stderr",
     "output_type": "stream",
     "text": [
      "/opt/homebrew/Caskroom/miniforge/base/envs/qutip/lib/python3.12/site-packages/qutip/solver/solver_base.py:576: FutureWarning: e_ops will be keyword only from qutip 5.3 for all solver\n",
      "  warnings.warn(\n"
     ]
    }
   ],
   "source": [
    "#output = mesolve(H, psi0, tlist, c_ops, [a.dag() * a, sm.dag() * sm, sm * sm.dag() * a * a.dag()])\n",
    "output = mesolve(H, psi0, tlist, c_ops, [])\n",
    "density_matrices = output.states\n"
   ]
  },
  {
   "cell_type": "markdown",
   "id": "7063bfa8",
   "metadata": {},
   "source": [
    "## Visualize the results\n",
    "\n",
    "Here we plot the excitation probabilities of the cavity and the atom (these expectation values were calculated by the `mesolve` above). We can clearly see how energy is being coherently transferred back and forth between the cavity and the atom."
   ]
  },
  {
   "cell_type": "code",
   "execution_count": 10,
   "id": "547291a7-f055-4d67-9e17-6e796cf3cdbd",
   "metadata": {},
   "outputs": [
    {
     "name": "stdout",
     "output_type": "stream",
     "text": [
      "t = 0\n",
      "[[0.+0.j 0.+0.j 0.+0.j 0.+0.j]\n",
      " [0.+0.j 1.+0.j 0.+0.j 0.+0.j]\n",
      " [0.+0.j 0.+0.j 0.+0.j 0.+0.j]\n",
      " [0.+0.j 0.+0.j 0.+0.j 0.+0.j]]\n",
      "t = 10\n",
      "[[4.93385312e-06+0.j        0.00000000e+00+0.j\n",
      "  0.00000000e+00+0.j        0.00000000e+00+0.j       ]\n",
      " [0.00000000e+00+0.j        9.60525694e-01+0.j\n",
      "  0.00000000e+00+0.1947085j 0.00000000e+00+0.j       ]\n",
      " [0.00000000e+00+0.j        0.00000000e+00-0.1947085j\n",
      "  3.94693720e-02+0.j        0.00000000e+00+0.j       ]\n",
      " [0.00000000e+00+0.j        0.00000000e+00+0.j\n",
      "  0.00000000e+00+0.j        0.00000000e+00+0.j       ]]\n",
      "t = 1000\n",
      "[[2.54624412e-04+0.j         0.00000000e+00+0.j\n",
      "  0.00000000e+00+0.j         0.00000000e+00+0.j        ]\n",
      " [0.00000000e+00+0.j         1.66495389e-01+0.j\n",
      "  0.00000000e+00+0.37245279j 0.00000000e+00+0.j        ]\n",
      " [0.00000000e+00+0.j         0.00000000e+00-0.37245279j\n",
      "  8.33249987e-01+0.j         0.00000000e+00+0.j        ]\n",
      " [0.00000000e+00+0.j         0.00000000e+00+0.j\n",
      "  0.00000000e+00+0.j         0.00000000e+00+0.j        ]]\n"
     ]
    }
   ],
   "source": [
    "print(\"t = 0\")\n",
    "print(density_matrices[0].full())\n",
    "\n",
    "print(\"t = 10\")\n",
    "print(density_matrices[10].full())\n",
    "\n",
    "print(\"t = 1000\")\n",
    "print(density_matrices[1000].full())"
   ]
  },
  {
   "cell_type": "code",
   "execution_count": null,
   "id": "e9abade9",
   "metadata": {
    "collapsed": false,
    "jupyter": {
     "outputs_hidden": false
    }
   },
   "outputs": [],
   "source": [
    "n_c = output.expect[0]\n",
    "n_a = output.expect[1]\n",
    "n_g = output.expect[2]\n",
    "\n",
    "fig, axes = plt.subplots(1, 1, figsize=(10,6))\n",
    "\n",
    "axes.plot(tlist, n_g, label=\"Ground\")\n",
    "#axes.plot(tlist, n_c, label=\"Cavity\")\n",
    "#axes.plot(tlist, n_a, label=\"Atom excited state\")\n",
    "axes.legend(loc=0)\n",
    "axes.set_xlabel('Time')\n",
    "axes.set_ylabel('Occupation probability')\n",
    "axes.set_title('Vacuum Rabi oscillations')"
   ]
  },
  {
   "cell_type": "code",
   "execution_count": null,
   "id": "cebb741b-9822-45e8-b506-8828ef934720",
   "metadata": {},
   "outputs": [],
   "source": [
    "density_matrices = output.states  # List of Qobj objects (density matrices)\n",
    "\n",
    "# Print the density matrix at a specific time (e.g., the last one)\n",
    "print(\"Density matrix at final time:\")\n",
    "print(density_matrices[-1])"
   ]
  },
  {
   "cell_type": "markdown",
   "id": "2fcc51b5",
   "metadata": {},
   "source": [
    "## Cavity wigner function\n",
    "\n",
    "In addition to the cavity's and atom's excitation probabilities, we may also be interested in for example the wigner function as a function of time. The Wigner function can give some valuable insight in the nature of the state of the resonators. \n",
    "\n",
    "To calculate the Wigner function in QuTiP, we first recalculte the evolution without specifying any expectation value operators, which will result in that the solver return a list of density matrices for the system for the given time coordinates."
   ]
  },
  {
   "cell_type": "code",
   "execution_count": null,
   "id": "8ded9e95",
   "metadata": {
    "collapsed": false,
    "jupyter": {
     "outputs_hidden": false
    }
   },
   "outputs": [],
   "source": [
    "output = mesolve(H, psi0, tlist, c_ops, [])"
   ]
  },
  {
   "cell_type": "markdown",
   "id": "18f7aebf",
   "metadata": {},
   "source": [
    "Now, `output.states` contains a list of density matrices for the system for the time points specified in the list `tlist`:"
   ]
  },
  {
   "cell_type": "code",
   "execution_count": null,
   "id": "67be1d71",
   "metadata": {
    "collapsed": false,
    "jupyter": {
     "outputs_hidden": false
    }
   },
   "outputs": [],
   "source": [
    "output"
   ]
  },
  {
   "cell_type": "code",
   "execution_count": null,
   "id": "8f89c626",
   "metadata": {
    "collapsed": false,
    "jupyter": {
     "outputs_hidden": false
    }
   },
   "outputs": [],
   "source": [
    "type(output.states)"
   ]
  },
  {
   "cell_type": "code",
   "execution_count": null,
   "id": "575f0c27",
   "metadata": {
    "collapsed": false,
    "jupyter": {
     "outputs_hidden": false
    }
   },
   "outputs": [],
   "source": [
    "len(output.states)"
   ]
  },
  {
   "cell_type": "code",
   "execution_count": null,
   "id": "a83a737b",
   "metadata": {
    "collapsed": false,
    "jupyter": {
     "outputs_hidden": false
    }
   },
   "outputs": [],
   "source": [
    "output.states[-1] # indexing the list with -1 results in the last element in the list"
   ]
  },
  {
   "cell_type": "markdown",
   "id": "aa7f6ea0",
   "metadata": {},
   "source": [
    "Now let's look at the Wigner functions at the point in time when atom is in its ground state: $t = \\\\{5, 15, 25\\\\}$ (see the plot above). \n",
    "\n",
    "For each of these points in time we need to:\n",
    "\n",
    " 1. Find the system density matrix for the points in time that we are interested in.\n",
    " 2. Trace out the atom and obtain the reduced density matrix for the cavity.\n",
    " 3. Calculate and visualize the Wigner function fo the reduced cavity density matrix."
   ]
  },
  {
   "cell_type": "code",
   "execution_count": null,
   "id": "5fdf4d13",
   "metadata": {
    "collapsed": false,
    "jupyter": {
     "outputs_hidden": false
    }
   },
   "outputs": [],
   "source": [
    "# find the indices of the density matrices for the times we are interested in\n",
    "t_idx = where([tlist == t for t in [0.0, 5.0, 15.0, 25.0]])[1]\n",
    "tlist[t_idx]"
   ]
  },
  {
   "cell_type": "code",
   "execution_count": null,
   "id": "0cfe3767",
   "metadata": {
    "collapsed": false,
    "jupyter": {
     "outputs_hidden": false
    }
   },
   "outputs": [],
   "source": [
    "# get a list density matrices\n",
    "rho_list = array(output.states)[t_idx]"
   ]
  },
  {
   "cell_type": "code",
   "execution_count": null,
   "id": "a0bc0727",
   "metadata": {
    "collapsed": false,
    "jupyter": {
     "outputs_hidden": false
    }
   },
   "outputs": [],
   "source": [
    "# loop over the list of density matrices\n",
    "\n",
    "xvec = np.linspace(-3,3,200)\n",
    "\n",
    "fig, axes = plt.subplots(1,len(rho_list), sharex=True, figsize=(3*len(rho_list),3))\n",
    "\n",
    "for idx, rho in enumerate(rho_list):\n",
    "\n",
    "    # trace out the atom from the density matrix, to obtain\n",
    "    # the reduced density matrix for the cavity\n",
    "    rho_cavity = ptrace(rho, 0)\n",
    "    \n",
    "    # calculate its wigner function\n",
    "    W = wigner(rho_cavity, xvec, xvec)\n",
    "    \n",
    "    # plot its wigner function\n",
    "    axes[idx].contourf(xvec, xvec, W, 100, norm=mpl.colors.Normalize(-.25,.25), cmap=plt.get_cmap('RdBu'))\n",
    "\n",
    "    axes[idx].set_title(r\"$t = %.1f$\" % tlist[t_idx][idx], fontsize=16)\n",
    "    "
   ]
  },
  {
   "cell_type": "markdown",
   "id": "965dee7c",
   "metadata": {},
   "source": [
    "At $t =0$, the cavity is in it's ground state. At $t = 5, 15, 25$ it reaches it's maxium occupation in this Rabi-vacuum oscillation process. We can note that for $t=5$ and $t=15$ the Wigner function has negative values, indicating a truely quantum mechanical state. At $t=25$, however, the wigner function no longer has negative values and can therefore be considered a classical state."
   ]
  },
  {
   "cell_type": "markdown",
   "id": "53e977e2",
   "metadata": {},
   "source": [
    "### Alternative view of the same thing"
   ]
  },
  {
   "cell_type": "code",
   "execution_count": null,
   "id": "8e8fa9f2",
   "metadata": {
    "collapsed": false,
    "jupyter": {
     "outputs_hidden": false
    }
   },
   "outputs": [],
   "source": [
    "t_idx = where([tlist == t for t in [0.0, 5.0, 10, 15, 20, 25]])[1]\n",
    "rho_list = array(output.states)[t_idx]\n",
    "\n",
    "fig_grid = (2, len(rho_list)*2)\n",
    "fig = plt.figure(figsize=(2.5*len(rho_list),5))\n",
    "\n",
    "for idx, rho in enumerate(rho_list):\n",
    "    rho_cavity = ptrace(rho, 0)\n",
    "    W = wigner(rho_cavity, xvec, xvec)\n",
    "    ax = plt.subplot2grid(fig_grid, (0, 2*idx), colspan=2)\n",
    "    ax.contourf(xvec, xvec, W, 100, norm=mpl.colors.Normalize(-.25,.25), cmap=plt.get_cmap('RdBu'))\n",
    "    ax.set_title(r\"$t = %.1f$\" % tlist[t_idx][idx], fontsize=16)\n",
    "\n",
    "# plot the cavity occupation probability in the ground state\n",
    "ax = plt.subplot2grid(fig_grid, (1, 1), colspan=(fig_grid[1]-2))\n",
    "ax.plot(tlist, n_c, label=\"Cavity\")\n",
    "ax.plot(tlist, n_a, label=\"Atom excited state\")\n",
    "ax.legend()\n",
    "ax.set_xlabel('Time')\n",
    "ax.set_ylabel('Occupation probability');"
   ]
  },
  {
   "cell_type": "markdown",
   "id": "168a4abb",
   "metadata": {},
   "source": [
    "### Software versions"
   ]
  },
  {
   "cell_type": "code",
   "execution_count": null,
   "id": "a21b02e2",
   "metadata": {
    "collapsed": false,
    "jupyter": {
     "outputs_hidden": false
    }
   },
   "outputs": [],
   "source": [
    "from qutip.ipynbtools import version_table\n",
    "\n",
    "version_table()"
   ]
  }
 ],
 "metadata": {
  "kernelspec": {
   "display_name": "Python 3 (ipykernel)",
   "language": "python",
   "name": "python3"
  },
  "language_info": {
   "codemirror_mode": {
    "name": "ipython",
    "version": 3
   },
   "file_extension": ".py",
   "mimetype": "text/x-python",
   "name": "python",
   "nbconvert_exporter": "python",
   "pygments_lexer": "ipython3",
   "version": "3.12.8"
  }
 },
 "nbformat": 4,
 "nbformat_minor": 5
}
