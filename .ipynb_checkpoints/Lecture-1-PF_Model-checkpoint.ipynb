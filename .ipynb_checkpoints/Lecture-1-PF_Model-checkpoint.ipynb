{
 "cells": [
  {
   "cell_type": "markdown",
   "id": "662400a1",
   "metadata": {},
   "source": [
    "# QuTiP lecture: Vacuum Rabi oscillations in the Jaynes-Cummings model"
   ]
  },
  {
   "cell_type": "markdown",
   "id": "56afcd1f",
   "metadata": {},
   "source": [
    "Author: J. R. Johansson (robert@riken.jp), http://dml.riken.jp/~rob/\n",
    "\n",
    "The latest version of this [IPython notebook](http://ipython.org/ipython-doc/dev/interactive/htmlnotebook.html) lecture is available at [http://github.com/jrjohansson/qutip-lectures](http://github.com/jrjohansson/qutip-lectures).\n",
    "\n",
    "The other notebooks in this lecture series are indexed at [http://jrjohansson.github.com](http://jrjohansson.github.com)."
   ]
  },
  {
   "cell_type": "code",
   "execution_count": 1,
   "id": "90c37f59",
   "metadata": {
    "collapsed": false,
    "jupyter": {
     "outputs_hidden": false
    }
   },
   "outputs": [],
   "source": [
    "# setup the matplotlib graphics library and configure it to show \n",
    "# figures inline in the notebook\n",
    "%matplotlib inline\n",
    "import matplotlib.pyplot as plt\n",
    "import numpy as np\n",
    "import json"
   ]
  },
  {
   "cell_type": "code",
   "execution_count": 2,
   "id": "f4b56bc2",
   "metadata": {
    "collapsed": false,
    "jupyter": {
     "outputs_hidden": false
    }
   },
   "outputs": [],
   "source": [
    "# make qutip available in the rest of the notebook\n",
    "from qutip import *"
   ]
  },
  {
   "cell_type": "markdown",
   "id": "6a04b779",
   "metadata": {},
   "source": [
    "# Introduction\n",
    "\n",
    "We will elaborate somewhat on the Jaynes-Cummings model to capture some of the important effects that are captured by the more rigorous Pauli-Fierz Hamiltonian.  Namely, we will include coupling between the cavity and the atom through the dipole operator of the atom, and will include (optionally) the dipole self energy.  We will write the full model including the dipole self energy as \n",
    "\n",
    "### $H_{\\rm PF} = \\hbar \\omega_c a^\\dagger a + \\frac{1}{2}\\hbar\\omega_a\\sigma_z - \\sqrt{\\frac{\\omega_c}{2}} \\lambda \\cdot \\hat{\\mu} (a^\\dagger + a) + \\frac{1}{2} \\left( \\lambda \\cdot \\hat{\\mu} \\right)^2$\n",
    "\n",
    "and neglecting the DSE (e.g. the Rabi Hamiltonian) as\n",
    "\n",
    "### $H_{\\rm Rabi} = \\hbar \\omega_c a^\\dagger a + \\frac{1}{2}\\hbar\\omega_a\\sigma_z - \\sqrt{\\frac{\\omega_c}{2}} \\lambda \\cdot \\hat{\\mu} (a^\\dagger + a)$\n",
    "\n",
    "where $\\omega_c$ and $\\omega_a$ are the frequencies of the cavity and atom, respectively, and $\\lambda$ is a parameter that quantifies the cavity field strength, and the dipole operator $\\hat{\\mu}$ can be expressed in terms of the Pauli matrices as\n",
    "\n",
    "### $\\hat{\\mu} = \\mu_{gg} \\sigma_- \\sigma_+ + \\mu_{ee} \\sigma_+ \\sigma_- + \\mu_{eg} \\left(\\sigma_- + \\sigma_+ \\right)$,\n",
    "\n",
    "where the parameters $\\mu_{gg}$, $\\mu_{ee}$, and $\\mu_{eg}$ denote the permanent ground state dipole moment, permanent excited-state dipole moment, and transition dipole moment of the atomic system, respectively."
   ]
  },
  {
   "cell_type": "markdown",
   "id": "08f15d3f",
   "metadata": {},
   "source": [
    "### Problem parameters\n",
    "\n",
    "\n",
    "Here we use units where $\\hbar = 1$: "
   ]
  },
  {
   "cell_type": "code",
   "execution_count": 1,
   "id": "af2cb741",
   "metadata": {
    "collapsed": false,
    "jupyter": {
     "outputs_hidden": false
    }
   },
   "outputs": [],
   "source": [
    "\n",
    "# create new dictionary to store calculation data for the PF Hamiltonian\n",
    "PF_data = {\n",
    "\n",
    "    \"spin_frequency\" : 0.5,\n",
    "    \"cavity_frequency\" : 0.5,\n",
    "    \"cavity_coupling\" : 0.02,\n",
    "    \"ground_state_permanent_dipole\" : 1.0,\n",
    "    \"excited_state_permanent_dipole\" : 0.5,\n",
    "    \"transition_dipole\" : 1.5,\n",
    "    \"lambda_value\" : 0.01,\n",
    "    \"use_rabi\" : True,\n",
    "    \"number_of_cavity_states\" : 2,\n",
    "    \"kappa\" : 0.00,\n",
    "    \"gamma\" : 5e-7,\n",
    "    \"energies\" : [],\n",
    "}\n",
    "\n",
    "\n",
    "\n",
    "wc = PF_data[\"cavity_frequency\"]\n",
    "wa = PF_data[\"spin_frequency\"]\n",
    "g  = PF_data[\"cavity_coupling\"]\n",
    "mu_gg = PF_data[\"ground_state_permanent_dipole\"]\n",
    "mu_ee = PF_data[\"excited_state_permanent_dipole\"]\n",
    "mu_eg = PF_data[\"transition_dipole\"]\n",
    "\n",
    "N = PF_data[\"number_of_cavity_states\"]       \n",
    "use_rabi = PF_data[\"use_rabi\"]\n"
   ]
  },
  {
   "cell_type": "markdown",
   "id": "48c541b7",
   "metadata": {},
   "source": [
    "### Setup the operators, the Hamiltonian and initial state"
   ]
  },
  {
   "cell_type": "code",
   "execution_count": 4,
   "id": "5cc9c979",
   "metadata": {
    "collapsed": false,
    "jupyter": {
     "outputs_hidden": false
    }
   },
   "outputs": [],
   "source": [
    "# intial state\n",
    "psi0 = tensor(basis(N,0), basis(2,1))    # start with an excited atom\n",
    "\n",
    "# operators\n",
    "a  = tensor(destroy(N), qeye(2))\n",
    "sm = tensor(qeye(N), destroy(2))\n",
    "\n",
    "# Hamiltonian\n",
    "if use_rabi:\n",
    "    # <== MODIFY TO BUILD THE Pauli-Fierz Hamiltonian\n",
    "    H = wc * a.dag() * a + wa * sm.dag() * sm + g * (a.dag() * sm + a * sm.dag())\n",
    "else:\n",
    "    # <== MODIFY TO BUILD THE Rabi Hamiltonian\n",
    "    H = wc * a.dag() * a + wa * sm.dag() * sm + g * (a.dag() + a) * (sm + sm.dag())"
   ]
  },
  {
   "cell_type": "markdown",
   "id": "ebce1138",
   "metadata": {},
   "source": [
    "### Get the eigenvalues of the Hamiltonian and store to dictionary"
   ]
  },
  {
   "cell_type": "code",
   "execution_count": 5,
   "id": "c8bab5b0-a201-49f6-826a-e07ff05ad07b",
   "metadata": {},
   "outputs": [],
   "source": [
    "eigs = H.eigenenergies()\n",
    "\n",
    "PF_data[\"energies\"].append(eigs.tolist())\n",
    "\n"
   ]
  },
  {
   "cell_type": "markdown",
   "id": "a3594ea9-abdc-4ad5-8b93-7a642e18fe51",
   "metadata": {},
   "source": [
    "### Write the data to a json file where the file will be named based on simulation parameters"
   ]
  },
  {
   "cell_type": "code",
   "execution_count": 6,
   "id": "584e40b0-6618-4f67-a813-b25ea6e6c0db",
   "metadata": {},
   "outputs": [],
   "source": [
    "\n",
    "# write the data to a JSON file\n",
    "def write_to_json(data, filename):\n",
    "    with open(filename, 'w') as json_file:\n",
    "        json.dump(data, json_file, indent=4)\n",
    "\n",
    "def create_output_filename(dictionary):\n",
    "    # define output file name based on the parameters of the simulation\n",
    "    if dictionary[\"use_rabi\"]:\n",
    "        output_filename = \"Rabi_simulation_\"\n",
    "    else:\n",
    "        output_filename = \"PF_simulation_\"\n",
    "    output_filename += \"spin_freq_\" + str(dictionary[\"spin_frequency\"]) + \"_\"\n",
    "    output_filename += \"cavity_freq_\" + str(dictionary[\"cavity_frequency\"]) + \"_\"\n",
    "    output_filename += \"lambda_value_\" + str(dictionary[\"lambda_value\"]) + \"_\"\n",
    "    output_filename += \"N_cavity_states_\" + str(dictionary[\"number_of_cavity_states\"]) + \"_\"\n",
    "    \n",
    "    output_filename += \"cavity_coupling_\" + str(dictionary[\"cavity_coupling\"]) + \".json\"\n",
    "    return output_filename\n",
    "\n",
    "output_filename = create_output_filename(PF_data)\n",
    "\n",
    "write_to_json(PF_data, output_filename)"
   ]
  }
 ],
 "metadata": {
  "kernelspec": {
   "display_name": "Python 3 (ipykernel)",
   "language": "python",
   "name": "python3"
  },
  "language_info": {
   "codemirror_mode": {
    "name": "ipython",
    "version": 3
   },
   "file_extension": ".py",
   "mimetype": "text/x-python",
   "name": "python",
   "nbconvert_exporter": "python",
   "pygments_lexer": "ipython3",
   "version": "3.12.8"
  }
 },
 "nbformat": 4,
 "nbformat_minor": 5
}
