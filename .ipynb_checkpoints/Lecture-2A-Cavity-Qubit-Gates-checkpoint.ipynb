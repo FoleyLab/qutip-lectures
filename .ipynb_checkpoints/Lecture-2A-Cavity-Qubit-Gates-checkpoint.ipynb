{
 "cells": [
  {
   "cell_type": "markdown",
   "id": "217e760f",
   "metadata": {},
   "source": [
    "# QuTiP lecture: simulation of a two-qubit gate using a resonator as coupler\n",
    "\n",
    "Author: J.R. Johansson, robert@riken.jp\n",
    "\n",
    "http://dml.riken.jp/~rob/\n",
    "\n",
    "Latest version of this ipython notebook lecture are available at: http://github.com/jrjohansson/qutip-lectures"
   ]
  },
  {
   "cell_type": "code",
   "execution_count": null,
   "id": "f5c6c883",
   "metadata": {
    "collapsed": false,
    "jupyter": {
     "outputs_hidden": false
    }
   },
   "outputs": [],
   "source": [
    "%matplotlib inline\n",
    "import matplotlib.pyplot as plt\n",
    "import numpy as np"
   ]
  },
  {
   "cell_type": "code",
   "execution_count": null,
   "id": "e7754f1a",
   "metadata": {
    "collapsed": false,
    "jupyter": {
     "outputs_hidden": false
    }
   },
   "outputs": [],
   "source": [
    "from qutip import *"
   ]
  },
  {
   "cell_type": "markdown",
   "id": "63b4d5dc",
   "metadata": {},
   "source": [
    "## Parameters"
   ]
  },
  {
   "cell_type": "code",
   "execution_count": null,
   "id": "6d17e63c",
   "metadata": {
    "collapsed": false,
    "jupyter": {
     "outputs_hidden": false
    }
   },
   "outputs": [],
   "source": [
    "N = 10\n",
    "pi =  np.pi\n",
    "wc = 5.0 * 2 * pi\n",
    "w1 = 3.0 * 2 * pi\n",
    "w2 = 2.0 * 2 * pi\n",
    "\n",
    "g1 = 0.01 * 2 * pi\n",
    "g2 = 0.0125 * 2 * pi\n",
    "print(g1)\n",
    "print(g2)\n",
    "\n",
    "tlist = np.linspace(0, 100, 500)\n",
    "\n",
    "width = 0.5\n",
    "\n",
    "# resonant SQRT iSWAP gate\n",
    "T0_1 = 20\n",
    "T_gate_1 = (1*pi)/(4 * g1)\n",
    "\n",
    "# resonant iSWAP gate\n",
    "T0_2 = 60\n",
    "T_gate_2 = (2*pi)/(4 * g2)"
   ]
  },
  {
   "cell_type": "markdown",
   "id": "7b135e45",
   "metadata": {},
   "source": [
    "### Operators, Hamiltonian and initial state "
   ]
  },
  {
   "cell_type": "markdown",
   "id": "1022b875-47d2-4017-99de-c1c324b97370",
   "metadata": {},
   "source": [
    "dipole operator for the atom has the form\n",
    "\n",
    "-6.43777131e-01 atomic units, the excited state has a dipole moment of 4.20099337e-01 atomic units, and the transition dipole moment is -7.60294804e-01 (all along z) as computed at the FCI/cc-pVTZ level of theory.\n",
    "\n",
    "Next block will build the $\\lambda \\cdot \\mu$ matrices for each system (consistent with their g values) for the model that includes \n",
    "the full bilinear coupling and dipole self energy"
   ]
  },
  {
   "cell_type": "code",
   "execution_count": null,
   "id": "c06718f8-6a57-4b46-9e37-2008a9208fc8",
   "metadata": {},
   "outputs": [],
   "source": [
    "# lamda value s.t. the original mu_12 * lam = g1 -> 0.026919208248238624\n",
    "lam = 0.026919208248238624 \n",
    "\n",
    "# scaling of dipole moment for system 2 s.t. original g2 is scaled appropriately -> 1.2247448713915894\n",
    "tdm_fac = 1.2247448713915894"
   ]
  },
  {
   "cell_type": "code",
   "execution_count": null,
   "id": "f4711a3b-b1b6-439e-b791-7054354b5fbf",
   "metadata": {},
   "outputs": [],
   "source": [
    "\n",
    "mu_1 = -6.43777131e-01 * sigmap() * sigmam()\n",
    "mu_1 += 4.20099337e-01 * sigmam() * sigmap()\n",
    "mu_1 += -7.60294804e-01 * (sigmap() + sigmam())\n",
    "\n",
    "\n",
    "d_1 = lam * mu_1\n",
    "d_2 = tdm_fac * d_1\n",
    "\n",
    "# define g1 and g2 in terms of sqrt(w/2) * d[0,1] terms\n",
    "_g1 = np.abs(np.sqrt(w1/2) * d_1[0,1])\n",
    "_g2 = np.abs(np.sqrt(w2/2) * d_2[0,1])\n",
    "\n",
    "# resonant SQRT iSWAP gate\n",
    "T0_1 = 20\n",
    "T_gate_1 = (1*pi)/(4 * _g1)\n",
    "\n",
    "# resonant iSWAP gate\n",
    "T0_2 = 60\n",
    "T_gate_2 = (2*pi)/(4 * _g2)\n",
    "\n"
   ]
  },
  {
   "cell_type": "code",
   "execution_count": null,
   "id": "3937a3f7-ca53-4382-978f-9b788c53521a",
   "metadata": {},
   "outputs": [],
   "source": [
    "d_1"
   ]
  },
  {
   "cell_type": "code",
   "execution_count": null,
   "id": "61096f7f-13f6-4d15-a89c-4d5077064139",
   "metadata": {},
   "outputs": [],
   "source": [
    "d_2"
   ]
  },
  {
   "cell_type": "code",
   "execution_count": null,
   "id": "252fbf63",
   "metadata": {
    "collapsed": false,
    "jupyter": {
     "outputs_hidden": false
    }
   },
   "outputs": [],
   "source": [
    "# cavity operators\n",
    "a = tensor(destroy(N), qeye(2), qeye(2))\n",
    "n = a.dag() * a\n",
    "\n",
    "# operators for qubit 1\n",
    "sm1 = tensor(qeye(N), destroy(2), qeye(2))\n",
    "sz1 = tensor(qeye(N), sigmaz(), qeye(2))\n",
    "n1 = sm1.dag() * sm1\n",
    "\n",
    "# oeprators for qubit 2\n",
    "sm2 = tensor(qeye(N), qeye(2), destroy(2))\n",
    "sz2 = tensor(qeye(N), qeye(2), sigmaz())\n",
    "n2 = sm2.dag() * sm2\n",
    "\n",
    "# dipole self energy for qubit 1 and 2\n",
    "_d1 = tensor(d_1, qeye(2))\n",
    "_d2 = tensor(qeye(2), d_2)\n",
    "d1 = tensor(qeye(N), _d1)\n",
    "d2 = tensor(qeye(N), _d2)\n",
    "\n",
    "_dse = 1/2 * (_d1 + _d2) @ (_d1 + _d2)\n",
    "dse = tensor(qeye(N), _dse)\n",
    "\n",
    "_dse"
   ]
  },
  {
   "cell_type": "code",
   "execution_count": null,
   "id": "8946fb0b-a35a-4fba-be4d-082ba11cab65",
   "metadata": {},
   "outputs": [],
   "source": [
    "dse_1 = tensor(qeye(N), (1/2 * _d1 @ _d1))\n",
    "dse_2 = tensor(qeye(N), (1/2 * _d2 @ _d2))\n",
    "dse_12 = tensor(qeye(N), (1/2 * _d1 @ _d2 + 1/2 * _d2 @ _d1))\n"
   ]
  },
  {
   "cell_type": "code",
   "execution_count": null,
   "id": "ed44af67-f4d6-4a88-bb49-6291b7f3d62a",
   "metadata": {},
   "outputs": [],
   "source": []
  },
  {
   "cell_type": "code",
   "execution_count": null,
   "id": "003f98d4",
   "metadata": {
    "collapsed": false,
    "jupyter": {
     "outputs_hidden": false
    }
   },
   "outputs": [],
   "source": [
    "# Hamiltonian using QuTiP\n",
    "coupling=\"notsimple\"\n",
    "\n",
    "Hc = a.dag() * a\n",
    "H1 = - 0.5 * sz1\n",
    "H2 = - 0.5 * sz2\n",
    "\n",
    "if coupling==\"simple\":\n",
    "    Hc1 = _g1 * (a.dag() * sm1 + a * sm1.dag())\n",
    "    Hc2 = _g2 * (a.dag() * sm2 + a * sm2.dag())\n",
    "    H = wc * Hc + w1 * H1 + w2 * H2 + Hc1 + Hc2\n",
    "\n",
    "else:\n",
    "    Hc1 = np.sqrt(w1/2) * (a.dag() @ d1 + a @ d1)\n",
    "    Hc2 = np.sqrt(w2/2) * (a.dag() @ d2 + a @ d2)\n",
    "    H = wc * Hc + w1 * H1 + w2 * H2 + Hc1 + Hc2 + dse"
   ]
  },
  {
   "cell_type": "code",
   "execution_count": null,
   "id": "ed802b6b",
   "metadata": {
    "collapsed": false,
    "jupyter": {
     "outputs_hidden": false
    }
   },
   "outputs": [],
   "source": [
    "H"
   ]
  },
  {
   "cell_type": "code",
   "execution_count": null,
   "id": "4b050d70",
   "metadata": {
    "collapsed": false,
    "jupyter": {
     "outputs_hidden": false
    }
   },
   "outputs": [],
   "source": [
    "# initial state: start with one of the qubits in its excited state\n",
    "psi0 = tensor(basis(N,0),basis(2,1),basis(2,0))\n"
   ]
  },
  {
   "cell_type": "markdown",
   "id": "6d11e55f",
   "metadata": {},
   "source": [
    "# Ideal two-qubit iSWAP gate"
   ]
  },
  {
   "cell_type": "code",
   "execution_count": null,
   "id": "5cf32c40",
   "metadata": {
    "collapsed": false,
    "jupyter": {
     "outputs_hidden": false
    }
   },
   "outputs": [],
   "source": [
    "def step_t(w1, w2, t0, width, t):\n",
    "    \"\"\"\n",
    "    Step function that goes from w1 to w2 at time t0\n",
    "    as a function of t. \n",
    "    \"\"\"\n",
    "    return w1 + (w2 - w1) * (t > t0)\n",
    "\n",
    "\n",
    "fig, axes = plt.subplots(1, 1, figsize=(8,2))\n",
    "axes.plot(tlist, [step_t(0.5, 1.5, 50, 0.0, t) for t in tlist], 'k')\n",
    "axes.set_ylim(0, 2)\n",
    "fig.tight_layout()"
   ]
  },
  {
   "cell_type": "code",
   "execution_count": null,
   "id": "c14607cf",
   "metadata": {
    "collapsed": false,
    "jupyter": {
     "outputs_hidden": false
    }
   },
   "outputs": [],
   "source": [
    "def wc_t(t, args=None):\n",
    "    return wc\n",
    "\n",
    "def w1_t(t, args=None):\n",
    "    return w1 + step_t(0.0, wc-w1, T0_1, width, t) - step_t(0.0, wc-w1, T0_1+T_gate_1, width, t)\n",
    "\n",
    "def w2_t(t, args=None):\n",
    "    return w2 + step_t(0.0, wc-w2, T0_2, width, t) - step_t(0.0, wc-w2, T0_2+T_gate_2, width, t)\n",
    "\n",
    "\n",
    "H_t_orig =  [[Hc, wc_t], [H1, w1_t], [H2, w2_t], Hc1+Hc2]\n",
    "H_t_new =   [[Hc, wc_t], [H1, w1_t], [H2, w2_t], H1+H2+Hc+Hc1+Hc2+dse"
   ]
  },
  {
   "cell_type": "markdown",
   "id": "638a7790",
   "metadata": {},
   "source": [
    "### Evolve the system"
   ]
  },
  {
   "cell_type": "code",
   "execution_count": null,
   "id": "0ce2d8ab",
   "metadata": {
    "collapsed": false,
    "jupyter": {
     "outputs_hidden": false
    }
   },
   "outputs": [],
   "source": [
    "res = mesolve(H_t, psi0, tlist, [], [])"
   ]
  },
  {
   "cell_type": "markdown",
   "id": "3166d8eb",
   "metadata": {},
   "source": [
    "### Plot the results"
   ]
  },
  {
   "cell_type": "code",
   "execution_count": null,
   "id": "bbec0028",
   "metadata": {
    "collapsed": false,
    "jupyter": {
     "outputs_hidden": false
    }
   },
   "outputs": [],
   "source": [
    "fig, axes = plt.subplots(2, 1, sharex=True, figsize=(12,8))\n",
    "\n",
    "axes[0].plot(tlist, np.array(list(map(wc_t, tlist))) / (2*pi), 'r', linewidth=2, label=\"cavity\")\n",
    "axes[0].plot(tlist, np.array(list(map(w1_t, tlist))) / (2*pi), 'b', linewidth=2, label=\"qubit 1\")\n",
    "axes[0].plot(tlist, np.array(list(map(w2_t, tlist))) / (2*pi), 'g', linewidth=2, label=\"qubit 2\")\n",
    "axes[0].set_ylim(1, 6)\n",
    "axes[0].set_ylabel(\"Energy (GHz)\", fontsize=16)\n",
    "axes[0].legend()\n",
    "\n",
    "axes[1].plot(tlist, np.real(expect(n, res.states)), 'r', linewidth=2, label=\"cavity\")\n",
    "axes[1].plot(tlist, np.real(expect(n1, res.states)), 'b', linewidth=2, label=\"qubit 1\")\n",
    "axes[1].plot(tlist, np.real(expect(n2, res.states)), 'g', linewidth=2, label=\"qubit 2\")\n",
    "axes[1].set_ylim(0, 1)\n",
    "#axes[1].set_xlim(60,100)\n",
    "\n",
    "axes[1].set_xlabel(\"Time (ns)\", fontsize=16)\n",
    "axes[1].set_ylabel(\"Occupation probability\", fontsize=16)\n",
    "axes[1].legend()\n",
    "\n",
    "fig.tight_layout()"
   ]
  },
  {
   "cell_type": "markdown",
   "id": "dd9fe458",
   "metadata": {},
   "source": [
    "### Inspect the final state"
   ]
  },
  {
   "cell_type": "code",
   "execution_count": null,
   "id": "282ddd20",
   "metadata": {
    "collapsed": false,
    "jupyter": {
     "outputs_hidden": false
    }
   },
   "outputs": [],
   "source": [
    "# extract the final state from the result of the simulation\n",
    "rho_final = res.states[-1]"
   ]
  },
  {
   "cell_type": "code",
   "execution_count": null,
   "id": "25451199",
   "metadata": {
    "collapsed": false,
    "jupyter": {
     "outputs_hidden": false
    }
   },
   "outputs": [],
   "source": [
    "# trace out the resonator mode and print the two-qubit density matrix\n",
    "rho_qubits = ptrace(rho_final, [1,2])\n",
    "rho_qubits"
   ]
  },
  {
   "cell_type": "code",
   "execution_count": null,
   "id": "5a6d0474",
   "metadata": {
    "collapsed": false,
    "jupyter": {
     "outputs_hidden": false
    }
   },
   "outputs": [],
   "source": [
    "\n",
    "# compare to the ideal result of the sqrtiswap gate (plus phase correction) for the current initial state\n",
    "rho_qubits_ideal = ket2dm(tensor(phasegate(0), phasegate(-pi/2)) * sqrtiswap() * tensor(basis(2,1), basis(2,0)))\n",
    "rho_qubits_ideal"
   ]
  },
  {
   "cell_type": "markdown",
   "id": "6fc5a3d7",
   "metadata": {},
   "source": [
    "### Fidelity and concurrence"
   ]
  },
  {
   "cell_type": "code",
   "execution_count": null,
   "id": "2eb66b37",
   "metadata": {
    "collapsed": false,
    "jupyter": {
     "outputs_hidden": false
    }
   },
   "outputs": [],
   "source": [
    "fidelity(rho_qubits, rho_qubits_ideal)"
   ]
  },
  {
   "cell_type": "code",
   "execution_count": null,
   "id": "569c9a0f",
   "metadata": {
    "collapsed": false,
    "jupyter": {
     "outputs_hidden": false
    }
   },
   "outputs": [],
   "source": [
    "concurrence(rho_qubits)"
   ]
  },
  {
   "cell_type": "markdown",
   "id": "b2032b25",
   "metadata": {},
   "source": [
    "# Dissipative two-qubit iSWAP gate"
   ]
  },
  {
   "cell_type": "markdown",
   "id": "6c5a87f2",
   "metadata": {},
   "source": [
    "### Define collapse operators that describe dissipation\n",
    "\n"
   ]
  },
  {
   "cell_type": "code",
   "execution_count": null,
   "id": "b856905c",
   "metadata": {
    "collapsed": false,
    "jupyter": {
     "outputs_hidden": false
    }
   },
   "outputs": [],
   "source": [
    "kappa = 0.0001\n",
    "gamma1 = 0.005\n",
    "gamma2 = 0.005\n",
    "\n",
    "c_ops = [np.sqrt(kappa) * a, np.sqrt(gamma1) * sm1, np.sqrt(gamma2) * sm2]"
   ]
  },
  {
   "cell_type": "markdown",
   "id": "1e4ad0d1",
   "metadata": {},
   "source": [
    "### Evolve the system"
   ]
  },
  {
   "cell_type": "code",
   "execution_count": null,
   "id": "ed8296d9",
   "metadata": {
    "collapsed": false,
    "jupyter": {
     "outputs_hidden": false
    }
   },
   "outputs": [],
   "source": [
    "res = mesolve(H_t, psi0, tlist, c_ops, [])"
   ]
  },
  {
   "cell_type": "markdown",
   "id": "01d29263",
   "metadata": {},
   "source": [
    "### Plot the results"
   ]
  },
  {
   "cell_type": "code",
   "execution_count": null,
   "id": "5c72ca97",
   "metadata": {
    "collapsed": false,
    "jupyter": {
     "outputs_hidden": false
    }
   },
   "outputs": [],
   "source": [
    "fig, axes = plt.subplots(2, 1, sharex=True, figsize=(12,8))\n",
    "\n",
    "axes[0].plot(tlist, np.array(list(map(wc_t, tlist))) / (2*pi), 'r', linewidth=2, label=\"cavity\")\n",
    "axes[0].plot(tlist, np.array(list(map(w1_t, tlist))) / (2*pi), 'b', linewidth=2, label=\"qubit 1\")\n",
    "axes[0].plot(tlist, np.array(list(map(w2_t, tlist))) / (2*pi), 'g', linewidth=2, label=\"qubit 2\")\n",
    "axes[0].set_ylim(1, 6)\n",
    "axes[0].set_ylabel(\"Energy (GHz)\", fontsize=16)\n",
    "axes[0].legend()\n",
    "\n",
    "axes[1].plot(tlist, np.real(expect(n, res.states)), 'r', linewidth=2, label=\"cavity\")\n",
    "axes[1].plot(tlist, np.real(expect(n1, res.states)), 'b', linewidth=2, label=\"qubit 1\")\n",
    "axes[1].plot(tlist, np.real(expect(n2, res.states)), 'g', linewidth=2, label=\"qubit 2\")\n",
    "axes[1].set_ylim(0, 1)\n",
    "\n",
    "axes[1].set_xlabel(\"Time (ns)\", fontsize=16)\n",
    "axes[1].set_ylabel(\"Occupation probability\", fontsize=16)\n",
    "axes[1].legend()\n",
    "\n",
    "fig.tight_layout()"
   ]
  },
  {
   "cell_type": "markdown",
   "id": "4120f4fd",
   "metadata": {},
   "source": [
    "### Fidelity and concurrence"
   ]
  },
  {
   "cell_type": "code",
   "execution_count": null,
   "id": "4762c6b1",
   "metadata": {
    "collapsed": false,
    "jupyter": {
     "outputs_hidden": false
    }
   },
   "outputs": [],
   "source": [
    "rho_final = res.states[-1]\n",
    "rho_qubits = ptrace(rho_final, [1,2])"
   ]
  },
  {
   "cell_type": "code",
   "execution_count": null,
   "id": "ad5aba36",
   "metadata": {
    "collapsed": false,
    "jupyter": {
     "outputs_hidden": false
    }
   },
   "outputs": [],
   "source": [
    "fidelity(rho_qubits, rho_qubits_ideal)"
   ]
  },
  {
   "cell_type": "code",
   "execution_count": null,
   "id": "85fff9f8",
   "metadata": {
    "collapsed": false,
    "jupyter": {
     "outputs_hidden": false
    }
   },
   "outputs": [],
   "source": [
    "concurrence(rho_qubits)"
   ]
  },
  {
   "cell_type": "markdown",
   "id": "0c62cf1e",
   "metadata": {},
   "source": [
    "# Two-qubit iSWAP gate: Finite pulse rise time"
   ]
  },
  {
   "cell_type": "code",
   "execution_count": null,
   "id": "df6625cd",
   "metadata": {
    "collapsed": false,
    "jupyter": {
     "outputs_hidden": false
    }
   },
   "outputs": [],
   "source": [
    "def step_t(w1, w2, t0, width, t):\n",
    "    \"\"\"\n",
    "    Step function that goes from w1 to w2 at time t0\n",
    "    as a function of t, with finite rise time defined\n",
    "    by the parameter width.\n",
    "    \"\"\"\n",
    "    return w1 + (w2 - w1) / (1 + exp(-(t-t0)/width))\n",
    "\n",
    "\n",
    "fig, axes = plt.subplots(1, 1, figsize=(8,2))\n",
    "axes.plot(tlist, [step_t(0.5, 1.5, 50, width, t) for t in tlist], 'k')\n",
    "axes.set_ylim(0, 2)\n",
    "fig.tight_layout()"
   ]
  },
  {
   "cell_type": "markdown",
   "id": "1ed78d6e",
   "metadata": {},
   "source": [
    "### Evolve the system"
   ]
  },
  {
   "cell_type": "code",
   "execution_count": null,
   "id": "6dbfbb5b",
   "metadata": {
    "collapsed": false,
    "jupyter": {
     "outputs_hidden": false
    }
   },
   "outputs": [],
   "source": [
    "res = mesolve(H_t, psi0, tlist, [], [])"
   ]
  },
  {
   "cell_type": "markdown",
   "id": "d8d32c50",
   "metadata": {},
   "source": [
    "### Plot the results"
   ]
  },
  {
   "cell_type": "code",
   "execution_count": null,
   "id": "333f3b60",
   "metadata": {
    "collapsed": false,
    "jupyter": {
     "outputs_hidden": false
    }
   },
   "outputs": [],
   "source": [
    "fig, axes = plt.subplots(2, 1, sharex=True, figsize=(12,8))\n",
    "\n",
    "axes[0].plot(tlist, array(list(map(wc_t, tlist))) / (2*pi), 'r', linewidth=2, label=\"cavity\")\n",
    "axes[0].plot(tlist, array(list(map(w1_t, tlist))) / (2*pi), 'b', linewidth=2, label=\"qubit 1\")\n",
    "axes[0].plot(tlist, array(list(map(w2_t, tlist))) / (2*pi), 'g', linewidth=2, label=\"qubit 2\")\n",
    "axes[0].set_ylim(1, 6)\n",
    "axes[0].set_ylabel(\"Energy (GHz)\", fontsize=16)\n",
    "axes[0].legend()\n",
    "\n",
    "axes[1].plot(tlist, real(expect(n, res.states)), 'r', linewidth=2, label=\"cavity\")\n",
    "axes[1].plot(tlist, real(expect(n1, res.states)), 'b', linewidth=2, label=\"qubit 1\")\n",
    "axes[1].plot(tlist, real(expect(n2, res.states)), 'g', linewidth=2, label=\"qubit 2\")\n",
    "axes[1].set_ylim(0, 1)\n",
    "\n",
    "axes[1].set_xlabel(\"Time (ns)\", fontsize=16)\n",
    "axes[1].set_ylabel(\"Occupation probability\", fontsize=16)\n",
    "axes[1].legend()\n",
    "\n",
    "fig.tight_layout()"
   ]
  },
  {
   "cell_type": "markdown",
   "id": "b022da16",
   "metadata": {},
   "source": [
    "### Fidelity and concurrence"
   ]
  },
  {
   "cell_type": "code",
   "execution_count": null,
   "id": "838cc78f",
   "metadata": {
    "collapsed": false,
    "jupyter": {
     "outputs_hidden": false
    }
   },
   "outputs": [],
   "source": [
    "rho_final = res.states[-1]\n",
    "rho_qubits = ptrace(rho_final, [1,2])"
   ]
  },
  {
   "cell_type": "code",
   "execution_count": null,
   "id": "3239021a",
   "metadata": {
    "collapsed": false,
    "jupyter": {
     "outputs_hidden": false
    }
   },
   "outputs": [],
   "source": [
    "fidelity(rho_qubits, rho_qubits_ideal)"
   ]
  },
  {
   "cell_type": "code",
   "execution_count": null,
   "id": "475b9de4",
   "metadata": {
    "collapsed": false,
    "jupyter": {
     "outputs_hidden": false
    }
   },
   "outputs": [],
   "source": [
    "concurrence(rho_qubits)"
   ]
  },
  {
   "cell_type": "markdown",
   "id": "47ef59fd",
   "metadata": {},
   "source": [
    "# Two-qubit iSWAP gate: Finite rise time with overshoot"
   ]
  },
  {
   "cell_type": "code",
   "execution_count": null,
   "id": "aa86d1f0",
   "metadata": {
    "collapsed": false,
    "jupyter": {
     "outputs_hidden": false
    }
   },
   "outputs": [],
   "source": [
    "from scipy.special import sici\n",
    "\n",
    "def step_t(w1, w2, t0, width, t):\n",
    "    \"\"\"\n",
    "    Step function that goes from w1 to w2 at time t0\n",
    "    as a function of t, with finite rise time and \n",
    "    and overshoot defined by the parameter width.\n",
    "    \"\"\"\n",
    "\n",
    "    return w1 + (w2-w1) * (0.5 + sici((t-t0)/width)[0]/(pi))\n",
    "\n",
    "\n",
    "fig, axes = plt.subplots(1, 1, figsize=(8,2))\n",
    "axes.plot(tlist, [step_t(0.5, 1.5, 50, width, t) for t in tlist], 'k')\n",
    "axes.set_ylim(0, 2)\n",
    "fig.tight_layout()"
   ]
  },
  {
   "cell_type": "markdown",
   "id": "9ee7b196",
   "metadata": {},
   "source": [
    "### Evolve the system"
   ]
  },
  {
   "cell_type": "code",
   "execution_count": null,
   "id": "80134409",
   "metadata": {
    "collapsed": false,
    "jupyter": {
     "outputs_hidden": false
    }
   },
   "outputs": [],
   "source": [
    "res = mesolve(H_t, psi0, tlist, [], [])"
   ]
  },
  {
   "cell_type": "markdown",
   "id": "c7e4db83",
   "metadata": {},
   "source": [
    "### Plot the results"
   ]
  },
  {
   "cell_type": "code",
   "execution_count": null,
   "id": "d1f37b14",
   "metadata": {
    "collapsed": false,
    "jupyter": {
     "outputs_hidden": false
    }
   },
   "outputs": [],
   "source": [
    "fig, axes = plt.subplots(2, 1, sharex=True, figsize=(12,8))\n",
    "\n",
    "axes[0].plot(tlist, array(list(map(wc_t, tlist))) / (2*pi), 'r', linewidth=2, label=\"cavity\")\n",
    "axes[0].plot(tlist, array(list(map(w1_t, tlist))) / (2*pi), 'b', linewidth=2, label=\"qubit 1\")\n",
    "axes[0].plot(tlist, array(list(map(w2_t, tlist))) / (2*pi), 'g', linewidth=2, label=\"qubit 2\")\n",
    "axes[0].set_ylim(1, 6)\n",
    "axes[0].set_ylabel(\"Energy (GHz)\", fontsize=16)\n",
    "axes[0].legend()\n",
    "\n",
    "axes[1].plot(tlist, real(expect(n, res.states)), 'r', linewidth=2, label=\"cavity\")\n",
    "axes[1].plot(tlist, real(expect(n1, res.states)), 'b', linewidth=2, label=\"qubit 1\")\n",
    "axes[1].plot(tlist, real(expect(n2, res.states)), 'g', linewidth=2, label=\"qubit 2\")\n",
    "axes[1].set_ylim(0, 1)\n",
    "\n",
    "axes[1].set_xlabel(\"Time (ns)\", fontsize=16)\n",
    "axes[1].set_ylabel(\"Occupation probability\", fontsize=16)\n",
    "axes[1].legend()\n",
    "\n",
    "fig.tight_layout()"
   ]
  },
  {
   "cell_type": "markdown",
   "id": "a2232c4e",
   "metadata": {},
   "source": [
    "### Fidelity and concurrence"
   ]
  },
  {
   "cell_type": "code",
   "execution_count": null,
   "id": "3e36d5ea",
   "metadata": {
    "collapsed": false,
    "jupyter": {
     "outputs_hidden": false
    }
   },
   "outputs": [],
   "source": [
    "rho_final = res.states[-1]\n",
    "rho_qubits = ptrace(rho_final, [1,2])"
   ]
  },
  {
   "cell_type": "code",
   "execution_count": null,
   "id": "38cff58a",
   "metadata": {
    "collapsed": false,
    "jupyter": {
     "outputs_hidden": false
    }
   },
   "outputs": [],
   "source": [
    "fidelity(rho_qubits, rho_qubits_ideal)"
   ]
  },
  {
   "cell_type": "code",
   "execution_count": null,
   "id": "ddb5b189",
   "metadata": {
    "collapsed": false,
    "jupyter": {
     "outputs_hidden": false
    }
   },
   "outputs": [],
   "source": [
    "concurrence(rho_qubits)"
   ]
  },
  {
   "cell_type": "markdown",
   "id": "e45a22c3",
   "metadata": {},
   "source": [
    "# Two-qubit iSWAP gate: Finite pulse rise time and dissipation"
   ]
  },
  {
   "cell_type": "code",
   "execution_count": null,
   "id": "71efd92c",
   "metadata": {
    "collapsed": false,
    "jupyter": {
     "outputs_hidden": false
    }
   },
   "outputs": [],
   "source": [
    "# increase the pulse rise time a bit\n",
    "width = 0.6\n",
    "\n",
    "# high-Q resonator but dissipative qubits\n",
    "kappa  = 0.00001\n",
    "gamma1 = 0.005\n",
    "gamma2 = 0.005\n",
    "\n",
    "c_ops = [sqrt(kappa) * a, sqrt(gamma1) * sm1, sqrt(gamma2) * sm2]"
   ]
  },
  {
   "cell_type": "markdown",
   "id": "44bed78a",
   "metadata": {},
   "source": [
    "### Evolve the system"
   ]
  },
  {
   "cell_type": "code",
   "execution_count": null,
   "id": "8e9d9086",
   "metadata": {
    "collapsed": false,
    "jupyter": {
     "outputs_hidden": false
    }
   },
   "outputs": [],
   "source": [
    "res = mesolve(H_t, psi0, tlist, c_ops, [])"
   ]
  },
  {
   "cell_type": "markdown",
   "id": "595cf10e",
   "metadata": {},
   "source": [
    "### Plot results"
   ]
  },
  {
   "cell_type": "code",
   "execution_count": null,
   "id": "886bfcdd",
   "metadata": {
    "collapsed": false,
    "jupyter": {
     "outputs_hidden": false
    }
   },
   "outputs": [],
   "source": [
    "fig, axes = plt.subplots(2, 1, sharex=True, figsize=(12,8))\n",
    "\n",
    "axes[0].plot(tlist, array(list(map(wc_t, tlist))) / (2*pi), 'r', linewidth=2, label=\"cavity\")\n",
    "axes[0].plot(tlist, array(list(map(w1_t, tlist))) / (2*pi), 'b', linewidth=2, label=\"qubit 1\")\n",
    "axes[0].plot(tlist, array(list(map(w2_t, tlist))) / (2*pi), 'g', linewidth=2, label=\"qubit 2\")\n",
    "axes[0].set_ylim(1, 6)\n",
    "axes[0].set_ylabel(\"Energy (GHz)\", fontsize=16)\n",
    "axes[0].legend()\n",
    "\n",
    "axes[1].plot(tlist, real(expect(n, res.states)), 'r', linewidth=2, label=\"cavity\")\n",
    "axes[1].plot(tlist, real(expect(n1, res.states)), 'b', linewidth=2, label=\"qubit 1\")\n",
    "axes[1].plot(tlist, real(expect(n2, res.states)), 'g', linewidth=2, label=\"qubit 2\")\n",
    "axes[1].set_ylim(0, 1)\n",
    "\n",
    "axes[1].set_xlabel(\"Time (ns)\", fontsize=16)\n",
    "axes[1].set_ylabel(\"Occupation probability\", fontsize=16)\n",
    "axes[1].legend()\n",
    "\n",
    "fig.tight_layout()"
   ]
  },
  {
   "cell_type": "markdown",
   "id": "ba0ae7a5",
   "metadata": {},
   "source": [
    "### Fidelity and concurrence"
   ]
  },
  {
   "cell_type": "code",
   "execution_count": null,
   "id": "bf14385a",
   "metadata": {
    "collapsed": false,
    "jupyter": {
     "outputs_hidden": false
    }
   },
   "outputs": [],
   "source": [
    "rho_final = res.states[-1]\n",
    "rho_qubits = ptrace(rho_final, [1,2])"
   ]
  },
  {
   "cell_type": "code",
   "execution_count": null,
   "id": "163bc940",
   "metadata": {
    "collapsed": false,
    "jupyter": {
     "outputs_hidden": false
    }
   },
   "outputs": [],
   "source": [
    "fidelity(rho_qubits, rho_qubits_ideal)"
   ]
  },
  {
   "cell_type": "code",
   "execution_count": null,
   "id": "05e6a85a",
   "metadata": {
    "collapsed": false,
    "jupyter": {
     "outputs_hidden": false
    }
   },
   "outputs": [],
   "source": [
    "concurrence(rho_qubits)"
   ]
  },
  {
   "cell_type": "markdown",
   "id": "6acce7ed",
   "metadata": {},
   "source": [
    "# Two-qubit iSWAP gate: Using tunable resonator and fixed-frequency qubits"
   ]
  },
  {
   "cell_type": "code",
   "execution_count": null,
   "id": "017f3641",
   "metadata": {
    "collapsed": false,
    "jupyter": {
     "outputs_hidden": false
    }
   },
   "outputs": [],
   "source": [
    "# reduce the rise time\n",
    "width = 0.25\n",
    "\n",
    "def wc_t(t, args=None):\n",
    "    return wc - step_t(0.0, wc-w1, T0_1, width, t) + step_t(0.0, wc-w1, T0_1+T_gate_1, width, t) \\\n",
    "              - step_t(0.0, wc-w2, T0_2, width, t) + step_t(0.0, wc-w2, T0_2+T_gate_2, width, t)\n",
    "\n",
    "H_t = [[Hc, wc_t], H1 * w1 + H2 * w2 + Hc1+Hc2]"
   ]
  },
  {
   "cell_type": "markdown",
   "id": "987685d1",
   "metadata": {},
   "source": [
    "### Evolve the system"
   ]
  },
  {
   "cell_type": "code",
   "execution_count": null,
   "id": "189da5c9",
   "metadata": {
    "collapsed": false,
    "jupyter": {
     "outputs_hidden": false
    }
   },
   "outputs": [],
   "source": [
    "res = mesolve(H_t, psi0, tlist, c_ops, [])"
   ]
  },
  {
   "cell_type": "markdown",
   "id": "78e2cbdc",
   "metadata": {},
   "source": [
    "### Plot the results"
   ]
  },
  {
   "cell_type": "code",
   "execution_count": null,
   "id": "a300603c",
   "metadata": {
    "collapsed": false,
    "jupyter": {
     "outputs_hidden": false
    }
   },
   "outputs": [],
   "source": [
    "fig, axes = plt.subplots(2, 1, sharex=True, figsize=(12,8))\n",
    "\n",
    "axes[0].plot(tlist, array(list(map(wc_t, tlist))) / (2*pi), 'r', linewidth=2, label=\"cavity\")\n",
    "axes[0].plot(tlist, array(list(map(w1_t, tlist))) / (2*pi), 'b', linewidth=2, label=\"qubit 1\")\n",
    "axes[0].plot(tlist, array(list(map(w2_t, tlist))) / (2*pi), 'g', linewidth=2, label=\"qubit 2\")\n",
    "axes[0].set_ylim(1, 6)\n",
    "axes[0].set_ylabel(\"Energy (GHz)\", fontsize=16)\n",
    "axes[0].legend()\n",
    "\n",
    "axes[1].plot(tlist, real(expect(n, res.states)), 'r', linewidth=2, label=\"cavity\")\n",
    "axes[1].plot(tlist, real(expect(n1, res.states)), 'b', linewidth=2, label=\"qubit 1\")\n",
    "axes[1].plot(tlist, real(expect(n2, res.states)), 'g', linewidth=2, label=\"qubit 2\")\n",
    "axes[1].set_ylim(0, 1)\n",
    "\n",
    "axes[1].set_xlabel(\"Time (ns)\", fontsize=16)\n",
    "axes[1].set_ylabel(\"Occupation probability\", fontsize=16)\n",
    "axes[1].legend()\n",
    "\n",
    "fig.tight_layout()"
   ]
  },
  {
   "cell_type": "markdown",
   "id": "0c6ad3c6",
   "metadata": {},
   "source": [
    "### Fidelity and concurrence"
   ]
  },
  {
   "cell_type": "code",
   "execution_count": null,
   "id": "dfd0f1c7",
   "metadata": {
    "collapsed": false,
    "jupyter": {
     "outputs_hidden": false
    }
   },
   "outputs": [],
   "source": [
    "rho_final = res.states[-1]\n",
    "rho_qubits = ptrace(rho_final, [1,2])"
   ]
  },
  {
   "cell_type": "code",
   "execution_count": null,
   "id": "e444454a",
   "metadata": {
    "collapsed": false,
    "jupyter": {
     "outputs_hidden": false
    }
   },
   "outputs": [],
   "source": [
    "fidelity(rho_qubits, rho_qubits_ideal)"
   ]
  },
  {
   "cell_type": "code",
   "execution_count": null,
   "id": "f82f218e",
   "metadata": {
    "collapsed": false,
    "jupyter": {
     "outputs_hidden": false
    }
   },
   "outputs": [],
   "source": [
    "concurrence(rho_qubits)"
   ]
  },
  {
   "cell_type": "markdown",
   "id": "99030a39",
   "metadata": {},
   "source": [
    "### Software versions"
   ]
  },
  {
   "cell_type": "code",
   "execution_count": null,
   "id": "3fb99a1e",
   "metadata": {
    "collapsed": false,
    "jupyter": {
     "outputs_hidden": false
    }
   },
   "outputs": [],
   "source": [
    "from qutip.ipynbtools import version_table\n",
    "\n",
    "version_table()"
   ]
  }
 ],
 "metadata": {
  "kernelspec": {
   "display_name": "Python 3 (ipykernel)",
   "language": "python",
   "name": "python3"
  },
  "language_info": {
   "codemirror_mode": {
    "name": "ipython",
    "version": 3
   },
   "file_extension": ".py",
   "mimetype": "text/x-python",
   "name": "python",
   "nbconvert_exporter": "python",
   "pygments_lexer": "ipython3",
   "version": "3.12.8"
  }
 },
 "nbformat": 4,
 "nbformat_minor": 5
}
