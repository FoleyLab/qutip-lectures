{
 "cells": [
  {
   "cell_type": "code",
   "execution_count": 1,
   "id": "9c53fb93-4f23-49a9-a66f-8ecec5c3757b",
   "metadata": {},
   "outputs": [],
   "source": [
    "import matplotlib.pyplot as plt\n",
    "import numpy as np"
   ]
  },
  {
   "cell_type": "code",
   "execution_count": 2,
   "id": "eabb021c-b9b0-45d8-914d-8d3b5035e41f",
   "metadata": {},
   "outputs": [],
   "source": [
    "from qutip import *"
   ]
  },
  {
   "cell_type": "code",
   "execution_count": 4,
   "id": "204a3c17-6031-4c14-90df-d0c12b7c298f",
   "metadata": {},
   "outputs": [],
   "source": [
    "pi = np.pi\n",
    "N = 10\n",
    "\n",
    "wc = 5.0 * 2 * pi\n",
    "w1 = 3.0 * 2 * pi\n",
    "w2 = 2.0 * 2 * pi\n",
    "\n",
    "g1 = 0.01 * 2 * pi\n",
    "g2 = 0.0125 * 2 * pi\n",
    "\n",
    "tlist = np.linspace(0, 100, 500)\n",
    "\n",
    "width = 0.5\n",
    "\n",
    "# resonant SQRT iSWAP gate\n",
    "T0_1 = 20\n",
    "T_gate_1 = (1*pi)/(4 * g1)\n",
    "\n",
    "# resonant iSWAP gate\n",
    "T0_2 = 60\n",
    "T_gate_2 = (2*pi)/(4 * g2)"
   ]
  },
  {
   "cell_type": "code",
   "execution_count": 6,
   "id": "3bd955e6-4328-41e7-9cd8-7452abf06479",
   "metadata": {},
   "outputs": [],
   "source": [
    "\n",
    "# cavity operators\n",
    "a = tensor(destroy(N), qeye(2), qeye(2))\n",
    "n = a.dag() * a\n",
    "\n",
    "# operators for qubit 1\n",
    "sm1 = tensor(qeye(N), destroy(2), qeye(2))\n",
    "sz1 = tensor(qeye(N), sigmaz(), qeye(2))\n",
    "n1 = sm1.dag() * sm1\n",
    "\n",
    "# oeprators for qubit 2\n",
    "sm2 = tensor(qeye(N), qeye(2), destroy(2))\n",
    "sz2 = tensor(qeye(N), qeye(2), sigmaz())\n",
    "n2 = sm2.dag() * sm2\n",
    "     "
   ]
  },
  {
   "cell_type": "code",
   "execution_count": 12,
   "id": "a419e8f7-5cd7-4751-a96d-878d3e8ad61f",
   "metadata": {},
   "outputs": [],
   "source": [
    "\n",
    "# Hamiltonian using QuTiP\n",
    "Hc = a.dag() * a\n",
    "H1 = - 0.5 * sz1\n",
    "H2 = - 0.5 * sz2\n",
    "Hc1 = g1 * (a.dag() * sm1 + a * sm1.dag())\n",
    "Hc2 = g2 * (a.dag() * sm2 + a * sm2.dag())\n",
    "\n",
    "H = wc * Hc + w1 * H1 + w2 * H2 + Hc1 + Hc2 \n",
    "Hcoup = Hc1 + Hc2\n",
    "     "
   ]
  },
  {
   "cell_type": "code",
   "execution_count": 13,
   "id": "13577f68-4530-41f3-8bf4-832fe538d0f8",
   "metadata": {},
   "outputs": [
    {
     "data": {
      "text/plain": [
       "array([-4.12174615e-01, -3.87173015e-01, -3.60441779e-01, -3.31563076e-01,\n",
       "       -3.01740121e-01, -2.99917734e-01, -2.64515900e-01, -2.23584083e-01,\n",
       "       -1.73264256e-01, -1.00580040e-01, -4.57158997e-02, -4.29211348e-02,\n",
       "       -3.99274693e-02, -3.66840039e-02, -3.31127397e-02, -2.90817880e-02,\n",
       "       -2.43285937e-02, -1.81254285e-02, -1.23154428e-17,  0.00000000e+00,\n",
       "        0.00000000e+00,  0.00000000e+00,  1.81254285e-02,  2.43285937e-02,\n",
       "        2.90817880e-02,  3.31127397e-02,  3.66840039e-02,  3.99274693e-02,\n",
       "        4.29211348e-02,  4.57158997e-02,  1.00580040e-01,  1.73264256e-01,\n",
       "        2.23584083e-01,  2.64515900e-01,  2.99917734e-01,  3.01740121e-01,\n",
       "        3.31563076e-01,  3.60441779e-01,  3.87173015e-01,  4.12174615e-01])"
      ]
     },
     "execution_count": 13,
     "metadata": {},
     "output_type": "execute_result"
    }
   ],
   "source": [
    "Hcoup.eigenenergies()"
   ]
  },
  {
   "cell_type": "code",
   "execution_count": null,
   "id": "d8c1b29a-2474-4238-b319-fee972fd2ea4",
   "metadata": {},
   "outputs": [],
   "source": []
  }
 ],
 "metadata": {
  "kernelspec": {
   "display_name": "Python 3 (ipykernel)",
   "language": "python",
   "name": "python3"
  },
  "language_info": {
   "codemirror_mode": {
    "name": "ipython",
    "version": 3
   },
   "file_extension": ".py",
   "mimetype": "text/x-python",
   "name": "python",
   "nbconvert_exporter": "python",
   "pygments_lexer": "ipython3",
   "version": "3.11.0"
  }
 },
 "nbformat": 4,
 "nbformat_minor": 5
}
