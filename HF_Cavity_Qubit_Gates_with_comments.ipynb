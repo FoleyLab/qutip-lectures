{
 "cells": [
  {
   "cell_type": "code",
   "execution_count": 1,
   "id": "f5c6c883",
   "metadata": {
    "collapsed": false,
    "jupyter": {
     "outputs_hidden": false
    }
   },
   "outputs": [],
   "source": [
    "#%matplotlib inline\n",
    "import matplotlib.pyplot as plt\n",
    "import numpy as np"
   ]
  },
  {
   "cell_type": "code",
   "execution_count": 2,
   "id": "e7754f1a",
   "metadata": {
    "collapsed": false,
    "jupyter": {
     "outputs_hidden": false
    }
   },
   "outputs": [],
   "source": [
    "from qutip import *"
   ]
  },
  {
   "cell_type": "markdown",
   "id": "63b4d5dc",
   "metadata": {},
   "source": [
    "## Parameters"
   ]
  },
  {
   "cell_type": "code",
   "execution_count": 3,
   "id": "6d17e63c",
   "metadata": {
    "collapsed": false,
    "jupyter": {
     "outputs_hidden": false
    }
   },
   "outputs": [],
   "source": [
    "N = 2 #cavity states\n",
    "Nvib1 = 2 #qubit 1 vibrational states\n",
    "Nvib2 = Nvib1 #qubit 2 vibrational states\n",
    "pi =  np.pi\n",
    "w1 = 0.8365513706206968 #electronic excitation enegy of HF (from HF_excitation_energy.ipynb)\n",
    "w2 = w1 #both qubits are HF\n",
    "wv1 = 0.018335911729858174 #ground state vibration frequency of HF (from HF_DFT_potential_energy_surface.ipynb)\n",
    "wv2 = wv1 #both qubits are the HF\n",
    "S = 1.0 #63.36098382523666 #Huang-Rhys factor of HF (from HF_Huang_Rhys.ipynb)\n",
    "wc = 5 * pi\n",
    "\n",
    "g1 = 0.01 * 2 * pi\n",
    "g2 = g1\n",
    "\n",
    "tlist = np.linspace(0, 150, 500)\n",
    "\n",
    "width = 0.5\n",
    "\n",
    "\n",
    "# resonant SQRT iSWAP gate\n",
    "T0_1 = 20\n",
    "T_gate_1 = (1*pi)/(4 * g1)\n",
    "\n",
    "# resonant iSWAP gate\n",
    "T0_2 = 60\n",
    "T_gate_2 = (2*pi)/(4 * g2)\n"
   ]
  },
  {
   "cell_type": "markdown",
   "id": "7b135e45",
   "metadata": {},
   "source": [
    "### Operators, Hamiltonian and initial state "
   ]
  },
  {
   "cell_type": "markdown",
   "id": "1022b875-47d2-4017-99de-c1c324b97370",
   "metadata": {},
   "source": [
    "dipole operator for the atom has the form\n",
    "\n",
    "-6.43777131e-01 atomic units, the excited state has a dipole moment of 4.20099337e-01 atomic units, and the transition dipole moment is -7.60294804e-01 (all along z) as computed at the FCI/cc-pVTZ level of theory.\n",
    "\n",
    "Next block will build the $\\lambda \\cdot \\mu$ matrices for each system (consistent with their g values) for the model that includes \n",
    "the full bilinear coupling and dipole self energy"
   ]
  },
  {
   "cell_type": "code",
   "execution_count": 4,
   "id": "c06718f8-6a57-4b46-9e37-2008a9208fc8",
   "metadata": {},
   "outputs": [],
   "source": [
    "# lamda value s.t. the original mu_12 * lam = g1 -> 0.026919208248238624\n",
    "lam = 0.026919208248238624 \n",
    "\n",
    "# scaling of dipole moment for system 2 s.t. original g2 is scaled appropriately -> 1.2247448713915894\n",
    "tdm_fac = np.sqrt(3/2)"
   ]
  },
  {
   "cell_type": "markdown",
   "id": "eeeda6c7-c647-40dd-93cf-012e4a7023c2",
   "metadata": {},
   "source": [
    "$\\hat\\mu_1$ is the dipole operator for HF and d_1 and d_2 are the scaled dipole operators for qubit 1 and 2 respectively."
   ]
  },
  {
   "cell_type": "code",
   "execution_count": 5,
   "id": "f4711a3b-b1b6-439e-b791-7054354b5fbf",
   "metadata": {},
   "outputs": [],
   "source": [
    "#dipole moments in e a0, from HF_CASCI_TDM.ipynb\n",
    "mu_1 = -0.7275466054308762 * sigmap() * sigmam() #ground dipole moment\n",
    "mu_1 += 0.7751862316027126 * sigmam() * sigmap() #excited dipole moment\n",
    "mu_1 += 0.8142093557243336 * (sigmap() + sigmam()) #transition dipole moment\n",
    "\n",
    "\n",
    "d_1 = lam * mu_1\n",
    "d_2 = tdm_fac * d_1\n",
    "\n",
    "# define g1 and g2 in terms of sqrt(w/2) * d[0,1] terms\n",
    "_g1 = np.abs(np.sqrt(w1/2) * d_1[0,1])\n",
    "_g2 = np.abs(np.sqrt(w2/2) * d_2[0,1])\n",
    "\n",
    "# resonant SQRT iSWAP gate \n",
    "### JJF Note: These have been recomputed using the actual coupling strengths for qubit 1 and 2\n",
    "### based on $\\lambda$ and $\\mu_{01}$/\n",
    "T0_1 = 20\n",
    "T_gate_1 = (1*pi)/(4 * _g1)\n",
    "\n",
    "# resonant iSWAP gate\n",
    "T0_2 = 60\n",
    "T_gate_2 = (2*pi)/(4 * _g2)"
   ]
  },
  {
   "cell_type": "code",
   "execution_count": 6,
   "id": "3937a3f7-ca53-4382-978f-9b788c53521a",
   "metadata": {},
   "outputs": [
    {
     "data": {
      "text/latex": [
       "Quantum object: dims=[[2], [2]], shape=(2, 2), type='oper', dtype=CSR, isherm=True$$\\left(\\begin{array}{cc}-0.020 & 0.022\\\\0.022 & 0.021\\end{array}\\right)$$"
      ],
      "text/plain": [
       "Quantum object: dims=[[2], [2]], shape=(2, 2), type='oper', dtype=CSR, isherm=True\n",
       "Qobj data =\n",
       "[[-0.01958498  0.02191787]\n",
       " [ 0.02191787  0.0208674 ]]"
      ]
     },
     "execution_count": 6,
     "metadata": {},
     "output_type": "execute_result"
    }
   ],
   "source": [
    "d_1"
   ]
  },
  {
   "cell_type": "code",
   "execution_count": 7,
   "id": "61096f7f-13f6-4d15-a89c-4d5077064139",
   "metadata": {},
   "outputs": [
    {
     "data": {
      "text/latex": [
       "Quantum object: dims=[[2], [2]], shape=(2, 2), type='oper', dtype=CSR, isherm=True$$\\left(\\begin{array}{cc}-0.024 & 0.027\\\\0.027 & 0.026\\end{array}\\right)$$"
      ],
      "text/plain": [
       "Quantum object: dims=[[2], [2]], shape=(2, 2), type='oper', dtype=CSR, isherm=True\n",
       "Qobj data =\n",
       "[[-0.0239866   0.0268438 ]\n",
       " [ 0.0268438   0.02555724]]"
      ]
     },
     "execution_count": 7,
     "metadata": {},
     "output_type": "execute_result"
    }
   ],
   "source": [
    "d_2"
   ]
  },
  {
   "cell_type": "markdown",
   "id": "2681f5d9-139b-4cdf-b6e4-75ce92e19f81",
   "metadata": {},
   "source": [
    "## Basis Order of Operators\n",
    "\n",
    "- cav = fock states of the cavity = variable \"N\" in code\n",
    "- q1 = fock states of qubit 1 = 2\n",
    "- q2 = fock states of qubit 2 = 2\n",
    "- Nvib1 = qubit 1 vibrational modes\n",
    "- Nvib2 = qubit 2 vibrational modes\n",
    "\n",
    "The basis order for all operators follows the order:\n",
    "\n",
    "$$ \\hat{H} = basis_{cav} \\otimes basis_{q1} \\otimes basis_{q2} \\otimes basis_{Nvib1} \\otimes basis_{Nvib2} $$\n",
    "\n",
    "The cavity operator $\\hat{a}$, qubit 1 operator $\\sigma^{-}_1$, qubit 2 operator $\\sigma^{-}_2$, qubit 1 vibrational operator $\\hat{b}_1$, and qubit 2 vibrational operator $\\hat{b}_2$ are by using their respective basis' annihilation matrix and the identity for the other bases.\n",
    "\n",
    "The $\\sigma_z$ operators for qubit 1 and 2, $\\sigma_{z1}$ and $\\sigma_{z2}$ respectively, were created by\n",
    "\n",
    "$$ \\sigma_{z1} = \\mathcal{I}_{cav} \\otimes \\sigma_z \\otimes \\mathcal{I}_2 \\otimes \\mathcal{I}_{Nvib1} \\otimes \\mathcal{I}_{Nvib2} $$\n",
    "\n",
    "$$ \\sigma_{z1} = \\mathcal{I}_{cav} \\otimes \\mathcal{I}_2 \\otimes \\sigma_z \\otimes \\mathcal{I}_{Nvib1} \\otimes \\mathcal{I}_{Nvib2} $$\n",
    "\n",
    "The dipole operators of qubit 1 and 2, $\\hat{d}_1$ and $\\hat{d}_2$, are created by:\n",
    "\n",
    "$$ \\hat{d}_1 = \\mathcal{I}_{cav} \\otimes \\lambda \\hat\\mu_1 \\otimes \\mathcal{I}_2 \\otimes \\mathcal{I}_{Nvib1} \\otimes \\mathcal{I}_{Nvib2} $$\n",
    "$$ \\hat{d}_2 = \\mathcal{I}_{cav} \\otimes \\mathcal{I}_2 \\otimes \\sqrt{\\frac{3}{2}} \\lambda \\hat\\mu_1 \\otimes \\mathcal{I}_{Nvib1} \\otimes \\mathcal{I}_{Nvib2} $$\n",
    "\n",
    "The dipole self energy operator $\\hat{d}_{se}$ was created by:\n",
    "$$ \\hat{d}_{se} = \\mathcal{I}_{cav} \\otimes \\frac{1}{2} (\\lambda \\hat\\mu_1 \\otimes \\mathcal{I}_2 + \\mathcal{I}_2 \\otimes \\sqrt{\\frac{3}{2}} \\lambda \\hat\\mu_1)^2 \\otimes \\mathcal{I}_{Nvib1} \\otimes \\mathcal{I}_{Nvib2} $$\n",
    "\n",
    "**JJF Note**\n",
    "The way I might naturally think of the dipole self energy operator in the composite space is as follows:\n",
    "\n",
    "1. Define a total $\\hat{d}$ operator as\n",
    "\n",
    "\\begin{align}\n",
    "\\hat{d} &= \\hat{d}_1 + \\hat{d}_2 \\\\\n",
    "        &=  \\mathcal{I}_{cav} \\otimes \\lambda \\hat\\mu_1 \\otimes \\mathcal{I}_2 \\otimes \\mathcal{I}_{Nvib1} \\otimes \\mathcal{I}_{Nvib2} + \\mathcal{I}_{cav} \\otimes \\mathcal{I}_2 \\otimes \\sqrt{\\frac{3}{2}} \\lambda \\hat\\mu_1 \\otimes \\mathcal{I}_{Nvib1} \\otimes \\mathcal{I}_{Nvib2}\n",
    "\\end{align}\n",
    "\n",
    "2. Define the dipole self energy operator as \n",
    "\n",
    "\\begin{align}\n",
    "\\hat{H}_{\\rm dse} &= \\frac{1}{2} \\hat{d} ^2 \\\\\n",
    "                  &= (\\mathcal{I}_{cav} \\otimes \\lambda \\hat\\mu_1 \\otimes \\mathcal{I}_2 \\otimes \\mathcal{I}_{Nvib1} \\otimes \\mathcal{I}_{Nvib2})^2 \\\\\n",
    "                  & + (\\mathcal{I}_{cav} \\otimes \\mathcal{I}_2 \\otimes \\sqrt{\\frac{3}{2}} \\lambda \\hat\\mu_1 \\otimes \\mathcal{I}_{Nvib1} \\otimes \\mathcal{I}_{Nvib2})^2 \\\\\n",
    "                  & + (\\mathcal{I}_{cav} \\otimes \\lambda \\hat\\mu_1 \\otimes \\mathcal{I}_2 \\otimes \\mathcal{I}_{Nvib1} \\otimes \\mathcal{I}_{Nvib2}) @ (\\mathcal{I}_{cav} \\otimes \\mathcal{I}_2 \\otimes \\sqrt{\\frac{3}{2}} \\lambda \\hat\\mu_1 \\otimes \\mathcal{I}_{Nvib1} \\otimes \\mathcal{I}_{Nvib2}) \\\\\n",
    "                  & + (\\mathcal{I}_{cav} \\otimes \\mathcal{I}_2 \\otimes \\sqrt{\\frac{3}{2}} \\lambda \\hat\\mu_1 \\otimes \\mathcal{I}_{Nvib1} \\otimes \\mathcal{I}_{Nvib2}) @ (\\mathcal{I}_{cav} \\otimes \\lambda \\hat\\mu_1 \\otimes \\mathcal{I}_2 \\otimes \\mathcal{I}_{Nvib1} \\otimes \\mathcal{I}_{Nvib2})\n",
    "\\end{align}\n",
    "\n",
    "Please double check that building the operators in this way matches the way you approached it by building both ways and using `np.allclose(dse_approach_1, dse_approach_2)`\n",
    "\n",
    "**NOTE:** both approaches are equal\n",
    "\n",
    "**Also** Make sure the matrix multiplications are performed using `@`, the `*` can perform element-by-element multiplication with some types of matrices (like numpy arrays).  This applies to the squared terms in the DSE as well:\n",
    "\n",
    "**NOTE:** `*` and `@` perform the same function in QuTip\n",
    "\n",
    "$$ (\\mathcal{I}_{cav} \\otimes \\lambda \\hat\\mu_1 \\otimes \\mathcal{I}_2 \\otimes \\mathcal{I}_{Nvib1} \\otimes \\mathcal{I}_{Nvib2})^2 = (\\mathcal{I}_{cav} \\otimes \\lambda \\hat\\mu_1 \\otimes \\mathcal{I}_2 \\otimes \\mathcal{I}_{Nvib1} \\otimes \\mathcal{I}_{Nvib2}) @ (\\mathcal{I}_{cav} \\otimes \\lambda \\hat\\mu_1 \\otimes \\mathcal{I}_2 \\otimes \\mathcal{I}_{Nvib1} \\otimes \\mathcal{I}_{Nvib2}) $$"
   ]
  },
  {
   "cell_type": "code",
   "execution_count": 8,
   "id": "252fbf63",
   "metadata": {
    "collapsed": false,
    "jupyter": {
     "outputs_hidden": false
    }
   },
   "outputs": [],
   "source": [
    "#order for operators cavity basis, qubit1 basis, qubit2 basis, vib1 basis, vib2 basis\n",
    "# cavity operators\n",
    "a = tensor(destroy(N), qeye(2), qeye(2), qeye(Nvib1), qeye(Nvib2))\n",
    "b1 = tensor(qeye(N), qeye(2), qeye(2), destroy(Nvib1), qeye(Nvib2))\n",
    "b2 = tensor(qeye(N), qeye(2), qeye(2), qeye(Nvib1), destroy(Nvib2))\n",
    "n = a.dag() * a\n",
    "\n",
    "# operators for qubit 1\n",
    "sm1 = tensor(qeye(N), destroy(2), qeye(2), qeye(Nvib1), qeye(Nvib2))\n",
    "sz1 = tensor(qeye(N), sigmaz(), qeye(2), qeye(Nvib1), qeye(Nvib2))\n",
    "n1 = sm1.dag() * sm1\n",
    "\n",
    "# oeprators for qubit 2\n",
    "sm2 = tensor(qeye(N), qeye(2), destroy(2), qeye(Nvib1), qeye(Nvib2))\n",
    "sz2 = tensor(qeye(N), qeye(2), sigmaz(), qeye(Nvib1), qeye(Nvib2))\n",
    "n2 = sm2.dag() * sm2\n",
    "\n",
    "# dipole self energy for qubit 1 and 2\n",
    "_d1 = tensor(d_1, qeye(2))\n",
    "_d2 = tensor(qeye(2), d_2)\n",
    "# d1 = tensor(qeye(N), _d1)\n",
    "# d2 = tensor(qeye(N), _d2)\n",
    "d1 = tensor(qeye(N), _d1, qeye(Nvib1), qeye(Nvib2))\n",
    "d2 = tensor(qeye(N), _d2, qeye(Nvib1), qeye(Nvib2))\n",
    "\n",
    "### JJF Note - replace this * with @ operator -> _dse = 1/2 * (_d1 + _d2) @ (_d1 + _d2)\n",
    "_dse = 1/2 * (_d1 + _d2) * (_d1 + _d2)\n",
    "#dse = tensor(qeye(N), _dse)\n",
    "dse = tensor(qeye(N), _dse, qeye(Nvib1), qeye(Nvib2))\n",
    "\n",
    "d = d1 + d2\n",
    "\n",
    "dse_new = 0.5 * d **2\n",
    "\n",
    "dse_new1 = d1 **2 + d2 **2 + d1 * d2 + d2 * d1"
   ]
  },
  {
   "cell_type": "code",
   "execution_count": 9,
   "id": "6b3162d0-6cab-4590-85c2-059cb5e4cd90",
   "metadata": {},
   "outputs": [
    {
     "data": {
      "text/latex": [
       "Quantum object: dims=[[2, 2, 2, 2, 2], [2, 2, 2, 2, 2]], shape=(32, 32), type='oper', dtype=CSR, isherm=True$$\\left(\\begin{array}{cc}0.002 & 0 & 0 & 0 & -5.047\\times10^{ -4 } & \\cdots & 0 & 0 & 0 & 0 & 0\\\\0 & 0.002 & 0 & 0 & 0 & \\cdots & 0 & 0 & 0 & 0 & 0\\\\0 & 0 & 0.002 & 0 & 0 & \\cdots & 0 & 0 & 0 & 0 & 0\\\\0 & 0 & 0 & 0.002 & 0 & \\cdots & 0 & 0 & 0 & 0 & 0\\\\-5.047\\times10^{ -4 } & 0 & 0 & 0 & 6.183\\times10^{ -4 } & \\cdots & 0 & 0 & 0 & 0 & 0\\\\\\vdots & \\vdots & \\vdots & \\vdots & \\vdots & \\ddots & \\vdots & \\vdots & \\vdots & \\vdots & \\vdots\\\\0 & 0 & 0 & 0 & 0 & \\cdots & 6.054\\times10^{ -4 } & 0 & 0 & 0 & 5.812\\times10^{ -4 }\\\\0 & 0 & 0 & 0 & 0 & \\cdots & 0 & 0.002 & 0 & 0 & 0\\\\0 & 0 & 0 & 0 & 0 & \\cdots & 0 & 0 & 0.002 & 0 & 0\\\\0 & 0 & 0 & 0 & 0 & \\cdots & 0 & 0 & 0 & 0.002 & 0\\\\0 & 0 & 0 & 0 & 0 & \\cdots & 5.812\\times10^{ -4 } & 0 & 0 & 0 & 0.002\\end{array}\\right)$$"
      ],
      "text/plain": [
       "Quantum object: dims=[[2, 2, 2, 2, 2], [2, 2, 2, 2, 2]], shape=(32, 32), type='oper', dtype=CSR, isherm=True\n",
       "Qobj data =\n",
       "[[0.00154973 0.         0.         ... 0.         0.         0.        ]\n",
       " [0.         0.00154973 0.         ... 0.         0.         0.        ]\n",
       " [0.         0.         0.00154973 ... 0.         0.         0.        ]\n",
       " ...\n",
       " [0.         0.         0.         ... 0.00167811 0.         0.        ]\n",
       " [0.         0.         0.         ... 0.         0.00167811 0.        ]\n",
       " [0.         0.         0.         ... 0.         0.         0.00167811]]"
      ]
     },
     "execution_count": 9,
     "metadata": {},
     "output_type": "execute_result"
    }
   ],
   "source": [
    "dse"
   ]
  },
  {
   "cell_type": "code",
   "execution_count": 10,
   "id": "31f09150-8e0e-42aa-b7c0-7b35204047d0",
   "metadata": {},
   "outputs": [
    {
     "data": {
      "text/latex": [
       "Quantum object: dims=[[2, 2, 2, 2, 2], [2, 2, 2, 2, 2]], shape=(32, 32), type='oper', dtype=CSR, isherm=True$$\\left(\\begin{array}{cc}0.002 & 0 & 0 & 0 & -5.047\\times10^{ -4 } & \\cdots & 0 & 0 & 0 & 0 & 0\\\\0 & 0.002 & 0 & 0 & 0 & \\cdots & 0 & 0 & 0 & 0 & 0\\\\0 & 0 & 0.002 & 0 & 0 & \\cdots & 0 & 0 & 0 & 0 & 0\\\\0 & 0 & 0 & 0.002 & 0 & \\cdots & 0 & 0 & 0 & 0 & 0\\\\-5.047\\times10^{ -4 } & 0 & 0 & 0 & 6.183\\times10^{ -4 } & \\cdots & 0 & 0 & 0 & 0 & 0\\\\\\vdots & \\vdots & \\vdots & \\vdots & \\vdots & \\ddots & \\vdots & \\vdots & \\vdots & \\vdots & \\vdots\\\\0 & 0 & 0 & 0 & 0 & \\cdots & 6.054\\times10^{ -4 } & 0 & 0 & 0 & 5.812\\times10^{ -4 }\\\\0 & 0 & 0 & 0 & 0 & \\cdots & 0 & 0.002 & 0 & 0 & 0\\\\0 & 0 & 0 & 0 & 0 & \\cdots & 0 & 0 & 0.002 & 0 & 0\\\\0 & 0 & 0 & 0 & 0 & \\cdots & 0 & 0 & 0 & 0.002 & 0\\\\0 & 0 & 0 & 0 & 0 & \\cdots & 5.812\\times10^{ -4 } & 0 & 0 & 0 & 0.002\\end{array}\\right)$$"
      ],
      "text/plain": [
       "Quantum object: dims=[[2, 2, 2, 2, 2], [2, 2, 2, 2, 2]], shape=(32, 32), type='oper', dtype=CSR, isherm=True\n",
       "Qobj data =\n",
       "[[0.00154973 0.         0.         ... 0.         0.         0.        ]\n",
       " [0.         0.00154973 0.         ... 0.         0.         0.        ]\n",
       " [0.         0.         0.00154973 ... 0.         0.         0.        ]\n",
       " ...\n",
       " [0.         0.         0.         ... 0.00167811 0.         0.        ]\n",
       " [0.         0.         0.         ... 0.         0.00167811 0.        ]\n",
       " [0.         0.         0.         ... 0.         0.         0.00167811]]"
      ]
     },
     "execution_count": 10,
     "metadata": {},
     "output_type": "execute_result"
    }
   ],
   "source": [
    "dse_new"
   ]
  },
  {
   "cell_type": "code",
   "execution_count": 11,
   "id": "6a4e477d-2974-482b-b9b3-60ce2840e24b",
   "metadata": {},
   "outputs": [
    {
     "data": {
      "text/latex": [
       "Quantum object: dims=[[2, 2, 2, 2, 2], [2, 2, 2, 2, 2]], shape=(32, 32), type='oper', dtype=CSR, isherm=True$$\\left(\\begin{array}{cc}0.003 & 0 & 0 & 0 & -0.001 & \\cdots & 0 & 0 & 0 & 0 & 0\\\\0 & 0.003 & 0 & 0 & 0 & \\cdots & 0 & 0 & 0 & 0 & 0\\\\0 & 0 & 0.003 & 0 & 0 & \\cdots & 0 & 0 & 0 & 0 & 0\\\\0 & 0 & 0 & 0.003 & 0 & \\cdots & 0 & 0 & 0 & 0 & 0\\\\-0.001 & 0 & 0 & 0 & 0.001 & \\cdots & 0 & 0 & 0 & 0 & 0\\\\\\vdots & \\vdots & \\vdots & \\vdots & \\vdots & \\ddots & \\vdots & \\vdots & \\vdots & \\vdots & \\vdots\\\\0 & 0 & 0 & 0 & 0 & \\cdots & 0.001 & 0 & 0 & 0 & 0.001\\\\0 & 0 & 0 & 0 & 0 & \\cdots & 0 & 0.003 & 0 & 0 & 0\\\\0 & 0 & 0 & 0 & 0 & \\cdots & 0 & 0 & 0.003 & 0 & 0\\\\0 & 0 & 0 & 0 & 0 & \\cdots & 0 & 0 & 0 & 0.003 & 0\\\\0 & 0 & 0 & 0 & 0 & \\cdots & 0.001 & 0 & 0 & 0 & 0.003\\end{array}\\right)$$"
      ],
      "text/plain": [
       "Quantum object: dims=[[2, 2, 2, 2, 2], [2, 2, 2, 2, 2]], shape=(32, 32), type='oper', dtype=CSR, isherm=True\n",
       "Qobj data =\n",
       "[[0.00309947 0.         0.         ... 0.         0.         0.        ]\n",
       " [0.         0.00309947 0.         ... 0.         0.         0.        ]\n",
       " [0.         0.         0.00309947 ... 0.         0.         0.        ]\n",
       " ...\n",
       " [0.         0.         0.         ... 0.00335623 0.         0.        ]\n",
       " [0.         0.         0.         ... 0.         0.00335623 0.        ]\n",
       " [0.         0.         0.         ... 0.         0.         0.00335623]]"
      ]
     },
     "execution_count": 11,
     "metadata": {},
     "output_type": "execute_result"
    }
   ],
   "source": [
    "dse_new1"
   ]
  },
  {
   "cell_type": "code",
   "execution_count": 12,
   "id": "ea82ef04-5804-43cc-9c7a-93c98f1906a8",
   "metadata": {},
   "outputs": [
    {
     "name": "stdout",
     "output_type": "stream",
     "text": [
      "True\n"
     ]
    }
   ],
   "source": [
    "print(np.allclose(dse.full(), dse_new.full()))"
   ]
  },
  {
   "cell_type": "code",
   "execution_count": 13,
   "id": "8946fb0b-a35a-4fba-be4d-082ba11cab65",
   "metadata": {},
   "outputs": [
    {
     "data": {
      "text/latex": [
       "Quantum object: dims=[[2, 2, 2, 2, 2], [2, 2, 2, 2, 2]], shape=(32, 32), type='oper', dtype=CSR, isherm=True$$\\left(\\begin{array}{cc}4.698\\times10^{ -4 } & 0 & 0 & 0 & -5.257\\times10^{ -4 } & \\cdots & 0 & 0 & 0 & 0 & 0\\\\0 & 4.698\\times10^{ -4 } & 0 & 0 & 0 & \\cdots & 0 & 0 & 0 & 0 & 0\\\\0 & 0 & 4.698\\times10^{ -4 } & 0 & 0 & \\cdots & 0 & 0 & 0 & 0 & 0\\\\0 & 0 & 0 & 4.698\\times10^{ -4 } & 0 & \\cdots & 0 & 0 & 0 & 0 & 0\\\\-5.257\\times10^{ -4 } & 0 & 0 & 0 & -5.005\\times10^{ -4 } & \\cdots & 0 & 0 & 0 & 0 & 0\\\\\\vdots & \\vdots & \\vdots & \\vdots & \\vdots & \\ddots & \\vdots & \\vdots & \\vdots & \\vdots & \\vdots\\\\0 & 0 & 0 & 0 & 0 & \\cdots & -5.005\\times10^{ -4 } & 0 & 0 & 0 & 5.602\\times10^{ -4 }\\\\0 & 0 & 0 & 0 & 0 & \\cdots & 0 & 5.333\\times10^{ -4 } & 0 & 0 & 0\\\\0 & 0 & 0 & 0 & 0 & \\cdots & 0 & 0 & 5.333\\times10^{ -4 } & 0 & 0\\\\0 & 0 & 0 & 0 & 0 & \\cdots & 0 & 0 & 0 & 5.333\\times10^{ -4 } & 0\\\\0 & 0 & 0 & 0 & 0 & \\cdots & 5.602\\times10^{ -4 } & 0 & 0 & 0 & 5.333\\times10^{ -4 }\\end{array}\\right)$$"
      ],
      "text/plain": [
       "Quantum object: dims=[[2, 2, 2, 2, 2], [2, 2, 2, 2, 2]], shape=(32, 32), type='oper', dtype=CSR, isherm=True\n",
       "Qobj data =\n",
       "[[0.00046978 0.         0.         ... 0.         0.         0.        ]\n",
       " [0.         0.00046978 0.         ... 0.         0.         0.        ]\n",
       " [0.         0.         0.00046978 ... 0.         0.         0.        ]\n",
       " ...\n",
       " [0.         0.         0.         ... 0.00053331 0.         0.        ]\n",
       " [0.         0.         0.         ... 0.         0.00053331 0.        ]\n",
       " [0.         0.         0.         ... 0.         0.         0.00053331]]"
      ]
     },
     "execution_count": 13,
     "metadata": {},
     "output_type": "execute_result"
    }
   ],
   "source": [
    "### JJF Comment - this looks like what I was describing in the markdown block above; it does not\n",
    "###               match the DSE operator above, so this needs some troubleshooting.\n",
    "dse_1 = tensor(qeye(N), (1/2 * _d1 * _d1), qeye(Nvib1), qeye(Nvib2))\n",
    "dse_2 = tensor(qeye(N), (1/2 * _d2 * _d2), qeye(Nvib1), qeye(Nvib2))\n",
    "dse_12 = tensor(qeye(N), (1/2 * _d1 * _d2 + 1/2 * _d2 * _d1), qeye(Nvib1), qeye(Nvib2))\n",
    "dse_12"
   ]
  },
  {
   "cell_type": "markdown",
   "id": "ee884a9c-60aa-4eb4-b82a-2d0e6bc7eb09",
   "metadata": {},
   "source": [
    "The Hamiltonian is created by:\n",
    "$$ \\hat{H}_c = \\hbar \\omega_c \\hat{a}^\\dagger \\hat{a}  $$\n",
    "$$ \\hat{H}_1 = - \\hbar \\omega_1 \\frac{1}{2} \\sigma_{z1} $$\n",
    "$$ \\hat{H}_2 = - \\hbar \\omega_2 \\frac{1}{2} \\sigma_{z2} $$\n",
    "$$ \\hat{H}_{bprod1} = \\hbar \\omega_{v1} \\hat{b}_1^\\dagger \\hat{b}_1 $$\n",
    "$$ \\hat{H}_{bprod2} = \\hbar \\omega{v2} \\hat{b}_2^\\dagger \\hat{b}_2 $$\n",
    "$$ \\hat{H}_{b1} = - \\hbar \\omega_{v1} S (\\hat{b}_1^\\dagger + \\hat{b}_1) \\sigma^+_1 \\sigma^-_1 $$\n",
    "$$ \\hat{H}_{b2} = - \\hbar \\omega_{v2} S (\\hat{b}_2^\\dagger + \\hat{b}_2) \\sigma^+_2 \\sigma^-_2 $$\n",
    "\n",
    "For simple coupling\n",
    "\n",
    "$$ \\hat{H}_{c1} = g_1 (\\hat{a}^\\dagger \\sigma^-_1 + \\hat{a} \\sigma^+_1) $$\n",
    "$$ \\hat{H}_{c2} = g_2 (\\hat{a}^\\dagger \\sigma^-_2 + \\hat{a} \\sigma^+_2) $$\n",
    "\n",
    "$$ \\hat{H}_{simple} = \\hat{H}_c + \\hat{H}_1 + \\hat{H}_2 + \\hat{H}_{c1} + \\hat{H}_{c2} + \\hat{H}_{bprod1} + \\hat{H}_{bprod2} + \\hat{H}_{b1} + \\hat{H}_{b2} $$\n",
    "\n",
    "For notsimple coupling\n",
    "\n",
    "$$\\hat{H}_{c1} = \\sqrt\\frac{\\omega_1}{2} (\\hat{a}^\\dagger \\hat{d}_1 + \\hat{a} \\hat{d}_1) $$\n",
    "$$\\hat{H}_{c2} = \\sqrt\\frac{\\omega_2}{2} (\\hat{a}^\\dagger \\hat{d}_2 + \\hat{a} \\hat{d}_2) $$\n",
    "\n",
    "$$ \\hat{H}_{notsimple} = \\hat{H}_c + \\hat{H}_1 + \\hat{H}_2 + \\hat{H}_{c1} + \\hat{H}_{c2} + \\hat{H}_{bprod1} + \\hat{H}_{bprod2} + \\hat{H}_{b1} + \\hat{H}_{b2} + \\hat{d}_{se} $$\n",
    "\n",
    "**NOTE**: in the equation of Hc, H1, H2, brpod1, and bprod2, the omega is left out to be a time dependent variable later on\n",
    "\n",
    "\n",
    "**JJF Note** I think you want to include the $\\omega$ factors in Hc, H1, H2, bprod1, bprod2, the time-dependent terms just shift the $\\omega$ values from some initial value to be in resonance with Hc."
   ]
  },
  {
   "cell_type": "code",
   "execution_count": 14,
   "id": "003f98d4",
   "metadata": {
    "collapsed": false,
    "jupyter": {
     "outputs_hidden": false
    }
   },
   "outputs": [],
   "source": [
    "# Hamiltonian using QuTiP\n",
    "coupling=\"notsimple\"\n",
    "\n",
    "Hc = a.dag() * a\n",
    "H1 = - 0.5 * sz1\n",
    "H2 = - 0.5 * sz2\n",
    "bprod1 = wv1 * b1.dag() * b1\n",
    "bprod2 = wv2 * b2.dag() * b2\n",
    "\n",
    "#Hb1 = - wv1 * S * (b1.dag() + b1) * sm1.dag() * sm1\n",
    "#Hb2 = - wv2 * S * (b2.dag() + b2) * sm2.dag() * sm2\n",
    "Hb1 = - wv1 * S * (b1.dag() + b1) * 0.5 * sz1\n",
    "Hb2 = - wv2 * S * (b2.dag() + b2) * 0.5 * sz2\n",
    "\n",
    "if coupling==\"simple\":\n",
    "    Hc1 = _g1 * (a.dag() * sm1 + a * sm1.dag())\n",
    "    Hc2 = _g2 * (a.dag() * sm2 + a * sm2.dag())\n",
    "    Hi = wc * Hc + w1 * H1 + w2 * H2 + Hc1 + Hc2 #Hi\n",
    "    H = Hi + bprod1 + Hb1 + bprod2 + Hb2\n",
    "\n",
    "else:\n",
    "    Hc1 = np.sqrt(w1/2) * (a.dag() * d1 + a * d1)\n",
    "    Hc2 = np.sqrt(w2/2) * (a.dag() * d2 + a * d2)\n",
    "    Hi = wc * Hc + w1 * H1 + w2 * H2 + Hc1 + Hc2 + dse\n",
    "    H = Hi + bprod1 + Hb1 + bprod2 + Hb2"
   ]
  },
  {
   "cell_type": "code",
   "execution_count": 15,
   "id": "ed802b6b",
   "metadata": {
    "collapsed": false,
    "jupyter": {
     "outputs_hidden": false
    }
   },
   "outputs": [
    {
     "data": {
      "text/latex": [
       "Quantum object: dims=[[2, 2, 2, 2, 2], [2, 2, 2, 2, 2]], shape=(32, 32), type='oper', dtype=CSR, isherm=True$$\\left(\\begin{array}{cc}-0.835 & -0.009 & -0.009 & 0 & -5.047\\times10^{ -4 } & \\cdots & 0 & 0 & 0 & 0 & 0\\\\-0.009 & -0.817 & 0 & -0.009 & 0 & \\cdots & 0 & 0 & 0 & 0 & 0\\\\-0.009 & 0 & -0.817 & -0.009 & 0 & \\cdots & 0 & 0 & 0 & 0 & 0\\\\0 & -0.009 & -0.009 & -0.798 & 0 & \\cdots & 0.014 & 0 & 0 & 0 & 0\\\\-5.047\\times10^{ -4 } & 0 & 0 & 0 & 6.183\\times10^{ -4 } & \\cdots & 0 & 0.014 & 0 & 0 & 0\\\\\\vdots & \\vdots & \\vdots & \\vdots & \\vdots & \\ddots & \\vdots & \\vdots & \\vdots & \\vdots & \\vdots\\\\0 & 0 & 0 & 0.014 & 0 & \\cdots & 15.745 & 0 & 0 & 0 & 5.812\\times10^{ -4 }\\\\0 & 0 & 0 & 0 & 0.014 & \\cdots & 0 & 16.546 & 0.009 & 0.009 & 0\\\\0 & 0 & 0 & 0 & 0 & \\cdots & 0 & 0.009 & 16.565 & 0 & 0.009\\\\0 & 0 & 0 & 0 & 0 & \\cdots & 0 & 0.009 & 0 & 16.565 & 0.009\\\\0 & 0 & 0 & 0 & 0 & \\cdots & 5.812\\times10^{ -4 } & 0 & 0.009 & 0.009 & 16.583\\end{array}\\right)$$"
      ],
      "text/plain": [
       "Quantum object: dims=[[2, 2, 2, 2, 2], [2, 2, 2, 2, 2]], shape=(32, 32), type='oper', dtype=CSR, isherm=True\n",
       "Qobj data =\n",
       "[[-8.35001638e-01 -9.16795586e-03 -9.16795586e-03 ...  0.00000000e+00\n",
       "   0.00000000e+00  0.00000000e+00]\n",
       " [-9.16795586e-03 -8.16665726e-01  0.00000000e+00 ...  0.00000000e+00\n",
       "   0.00000000e+00  0.00000000e+00]\n",
       " [-9.16795586e-03  0.00000000e+00 -8.16665726e-01 ...  0.00000000e+00\n",
       "   0.00000000e+00  0.00000000e+00]\n",
       " ...\n",
       " [ 0.00000000e+00  0.00000000e+00  0.00000000e+00 ...  1.65645287e+01\n",
       "   0.00000000e+00  9.16795586e-03]\n",
       " [ 0.00000000e+00  0.00000000e+00  0.00000000e+00 ...  0.00000000e+00\n",
       "   1.65645287e+01  9.16795586e-03]\n",
       " [ 0.00000000e+00  0.00000000e+00  0.00000000e+00 ...  9.16795586e-03\n",
       "   9.16795586e-03  1.65828646e+01]]"
      ]
     },
     "execution_count": 15,
     "metadata": {},
     "output_type": "execute_result"
    }
   ],
   "source": [
    "H"
   ]
  },
  {
   "cell_type": "code",
   "execution_count": 16,
   "id": "4b050d70",
   "metadata": {
    "collapsed": false,
    "jupyter": {
     "outputs_hidden": false
    }
   },
   "outputs": [
    {
     "data": {
      "text/latex": [
       "Quantum object: dims=[[2, 2, 2, 2, 2], [1, 1, 1, 1, 1]], shape=(32, 1), type='ket', dtype=Dense$$\\left(\\begin{array}{cc}0\\\\0\\\\0\\\\0\\\\0\\\\\\vdots\\\\0\\\\0\\\\0\\\\0\\\\0\\end{array}\\right)$$"
      ],
      "text/plain": [
       "Quantum object: dims=[[2, 2, 2, 2, 2], [1, 1, 1, 1, 1]], shape=(32, 1), type='ket', dtype=Dense\n",
       "Qobj data =\n",
       "[[0.]\n",
       " [0.]\n",
       " [0.]\n",
       " [0.]\n",
       " [0.]\n",
       " [0.]\n",
       " [0.]\n",
       " [0.]\n",
       " [1.]\n",
       " [0.]\n",
       " [0.]\n",
       " [0.]\n",
       " [0.]\n",
       " [0.]\n",
       " [0.]\n",
       " [0.]\n",
       " [0.]\n",
       " [0.]\n",
       " [0.]\n",
       " [0.]\n",
       " [0.]\n",
       " [0.]\n",
       " [0.]\n",
       " [0.]\n",
       " [0.]\n",
       " [0.]\n",
       " [0.]\n",
       " [0.]\n",
       " [0.]\n",
       " [0.]\n",
       " [0.]\n",
       " [0.]]"
      ]
     },
     "execution_count": 16,
     "metadata": {},
     "output_type": "execute_result"
    }
   ],
   "source": [
    "# initial state: start with one of the qubits in its excited state\n",
    "psi0 = tensor(basis(N,0),basis(2,1),basis(2,0),basis(Nvib1,0),basis(Nvib2,0))\n",
    "psi0"
   ]
  },
  {
   "cell_type": "markdown",
   "id": "6d11e55f",
   "metadata": {},
   "source": [
    "# Ideal two-qubit iSWAP gate"
   ]
  },
  {
   "cell_type": "code",
   "execution_count": 17,
   "id": "5cf32c40",
   "metadata": {
    "collapsed": false,
    "jupyter": {
     "outputs_hidden": false
    }
   },
   "outputs": [
    {
     "data": {
      "image/png": "[encoded data removed]",
      "text/plain": [
       "<Figure size 800x200 with 1 Axes>"
      ]
     },
     "metadata": {},
     "output_type": "display_data"
    }
   ],
   "source": [
    "def step_t(w1, w2, t0, width, t):\n",
    "    \"\"\"\n",
    "    Step function that goes from w1 to w2 at time t0\n",
    "    as a function of t. \n",
    "    \"\"\"\n",
    "    return w1 + (w2 - w1) * (t > t0)\n",
    "\n",
    "\n",
    "fig, axes = plt.subplots(1, 1, figsize=(8,2))\n",
    "axes.plot(tlist, [step_t(0.5, 1.5, 50, 0.0, t) for t in tlist], 'k')\n",
    "axes.set_ylim(0, 2)\n",
    "fig.tight_layout()"
   ]
  },
  {
   "cell_type": "code",
   "execution_count": 18,
   "id": "c14607cf",
   "metadata": {
    "collapsed": false,
    "jupyter": {
     "outputs_hidden": false
    }
   },
   "outputs": [],
   "source": [
    "def wc_t(t, args=None):\n",
    "    return wc\n",
    "\n",
    "def w1_t(t, args=None):\n",
    "    return w1 + step_t(0.0, wc-w1, T0_1, width, t) - step_t(0.0, wc-w1, T0_1+T_gate_1, width, t)\n",
    "\n",
    "def w2_t(t, args=None):\n",
    "    return w2 + step_t(0.0, wc-w2, T0_2, width, t) - step_t(0.0, wc-w2, T0_2+T_gate_2, width, t)\n",
    "\n",
    "def wv1_t(t, args=None):\n",
    "    return wv1\n",
    "\n",
    "def wv2_t(t, args=None):\n",
    "    return wv2\n",
    "\n",
    "#H_t_orig =  [[Hc, wc_t], [H1, w1_t], [H2, w2_t], Hc1+Hc2+Hb1+Hb2+bprod1+bprod2]\n",
    "#H_t_new =   [[Hc, wc_t], [H1, w1_t], [H2, w2_t], Hb1, Hb2, bprod1, bprod2, H1+H2+Hc+Hc1+Hc2+Hb1+Hb2+bprod1+bprod2+dse]\n",
    "H_t_orig =  [[Hc, wc_t], [H1, w1_t], [H2, w2_t], Hc1+Hc2+Hb1+Hb2+bprod1+bprod2]\n",
    "H_t_new =   [[Hc, wc_t], [H1, w1_t], [H2, w2_t], Hc1+Hc2+Hb1+Hb2+bprod1+bprod2+dse]\n",
    "#H_t_new =   [[Hc, wc_t], [H1, w1_t], [H2, w2_t], [Hb1, wv1_t], [Hb2, wv2_t], [bprod1, wv1_t], [bprod2, wv2_t], H1+H2+Hc+Hc1+bprod1+bprod2+Hb1+Hb2+Hc2+dse]\n",
    "#H_t_orig =  [[Hc, wc_t], [H1, w1_t], [H2, w2_t], Hc1+Hc2]\n",
    "#H_t_new =   [[Hc, wc_t], [H1, w1_t], [H2, w2_t], H1+H2+Hc+Hc1+Hc2+dse]"
   ]
  },
  {
   "cell_type": "markdown",
   "id": "638a7790",
   "metadata": {},
   "source": [
    "### Evolve the system"
   ]
  },
  {
   "cell_type": "code",
   "execution_count": 19,
   "id": "0ce2d8ab",
   "metadata": {
    "collapsed": false,
    "jupyter": {
     "outputs_hidden": false
    }
   },
   "outputs": [],
   "source": [
    "res = mesolve(H_t_new, psi0, tlist, [], e_ops=[])"
   ]
  },
  {
   "cell_type": "markdown",
   "id": "3166d8eb",
   "metadata": {},
   "source": [
    "### Plot the results"
   ]
  },
  {
   "cell_type": "code",
   "execution_count": 20,
   "id": "bbec0028",
   "metadata": {
    "collapsed": false,
    "jupyter": {
     "outputs_hidden": false
    }
   },
   "outputs": [
    {
     "data": {
      "image/png": "[encoded data removed]",
      "text/plain": [
       "<Figure size 1200x800 with 2 Axes>"
      ]
     },
     "metadata": {},
     "output_type": "display_data"
    }
   ],
   "source": [
    "fig, axes = plt.subplots(2, 1, sharex=True, figsize=(12,8))\n",
    "\n",
    "axes[0].plot(tlist, np.array(list(map(wc_t, tlist))) / (2*pi), 'r', linewidth=2, label=\"cavity\")\n",
    "axes[0].plot(tlist, np.array(list(map(w1_t, tlist))) / (2*pi), 'b', linewidth=2, label=\"qubit 1\")\n",
    "axes[0].plot(tlist, np.array(list(map(w2_t, tlist))) / (2*pi), 'g', linewidth=2, label=\"qubit 2\")\n",
    "#axes[0].set_ylim(1, 6)\n",
    "axes[0].set_ylabel(\"Energy (GHz)\", fontsize=16) #energy is in Hartrees, so the (2pi)^-1 conversion factor does not give giga hertz\n",
    "axes[0].legend()\n",
    "\n",
    "axes[1].plot(tlist, np.real(expect(n, res.states)), 'r', linewidth=2, label=\"cavity\")\n",
    "axes[1].plot(tlist, np.real(expect(n1, res.states)), 'b', linewidth=2, label=\"qubit 1\")\n",
    "axes[1].plot(tlist, np.real(expect(n2, res.states)), 'g', linewidth=2, label=\"qubit 2\")\n",
    "axes[1].set_ylim(0, 1)\n",
    "#axes[1].set_xlim(60,100)\n",
    "\n",
    "axes[1].set_xlabel(\"Time (ns)\", fontsize=16)\n",
    "axes[1].set_ylabel(\"Occupation probability\", fontsize=16)\n",
    "axes[1].legend()\n",
    "\n",
    "fig.tight_layout()"
   ]
  },
  {
   "cell_type": "markdown",
   "id": "dd9fe458",
   "metadata": {},
   "source": [
    "### Inspect the final state"
   ]
  },
  {
   "cell_type": "code",
   "execution_count": null,
   "id": "282ddd20",
   "metadata": {
    "collapsed": false,
    "jupyter": {
     "outputs_hidden": false
    }
   },
   "outputs": [],
   "source": [
    "# extract the final state from the result of the simulation\n",
    "rho_final = res.states[-1]"
   ]
  },
  {
   "cell_type": "code",
   "execution_count": null,
   "id": "25451199",
   "metadata": {
    "collapsed": false,
    "jupyter": {
     "outputs_hidden": false
    }
   },
   "outputs": [],
   "source": [
    "# trace out the resonator mode and print the two-qubit density matrix\n",
    "rho_qubits = ptrace(rho_final, [1,2])\n",
    "rho_qubits"
   ]
  },
  {
   "cell_type": "code",
   "execution_count": null,
   "id": "5a6d0474",
   "metadata": {
    "collapsed": false,
    "jupyter": {
     "outputs_hidden": false
    }
   },
   "outputs": [],
   "source": [
    "\n",
    "# compare to the ideal result of the sqrtiswap gate (plus phase correction) for the current initial state\n",
    "from qutip.core.gates import *\n",
    "rho_qubits_ideal = ket2dm(tensor(phasegate(0), phasegate(-pi/2)) * sqrtiswap() * tensor(basis(2,1), basis(2,0)))\n",
    "rho_qubits_ideal"
   ]
  },
  {
   "cell_type": "markdown",
   "id": "6fc5a3d7",
   "metadata": {},
   "source": [
    "### Fidelity and concurrence"
   ]
  },
  {
   "cell_type": "code",
   "execution_count": null,
   "id": "2eb66b37",
   "metadata": {
    "collapsed": false,
    "jupyter": {
     "outputs_hidden": false
    }
   },
   "outputs": [],
   "source": [
    "fidelity(rho_qubits, rho_qubits_ideal)"
   ]
  },
  {
   "cell_type": "code",
   "execution_count": null,
   "id": "569c9a0f",
   "metadata": {
    "collapsed": false,
    "jupyter": {
     "outputs_hidden": false
    }
   },
   "outputs": [],
   "source": [
    "concurrence(rho_qubits)"
   ]
  },
  {
   "cell_type": "markdown",
   "id": "b2032b25",
   "metadata": {},
   "source": [
    "# Dissipative two-qubit iSWAP gate"
   ]
  },
  {
   "cell_type": "markdown",
   "id": "6c5a87f2",
   "metadata": {},
   "source": [
    "### Define collapse operators that describe dissipation\n",
    "\n"
   ]
  },
  {
   "cell_type": "code",
   "execution_count": null,
   "id": "b856905c",
   "metadata": {
    "collapsed": false,
    "jupyter": {
     "outputs_hidden": false
    }
   },
   "outputs": [],
   "source": [
    "kappa = 0.0001\n",
    "gamma1 = 0.005\n",
    "gamma2 = 0.005\n",
    "\n",
    "c_ops = [np.sqrt(kappa) * a, np.sqrt(gamma1) * sm1, np.sqrt(gamma2) * sm2]"
   ]
  },
  {
   "cell_type": "markdown",
   "id": "1e4ad0d1",
   "metadata": {},
   "source": [
    "### Evolve the system"
   ]
  },
  {
   "cell_type": "code",
   "execution_count": null,
   "id": "ed8296d9",
   "metadata": {
    "collapsed": false,
    "jupyter": {
     "outputs_hidden": false
    }
   },
   "outputs": [],
   "source": [
    "res = mesolve(H_t_new, psi0, tlist, c_ops, [])"
   ]
  },
  {
   "cell_type": "markdown",
   "id": "01d29263",
   "metadata": {},
   "source": [
    "### Plot the results"
   ]
  },
  {
   "cell_type": "code",
   "execution_count": null,
   "id": "5c72ca97",
   "metadata": {
    "collapsed": false,
    "jupyter": {
     "outputs_hidden": false
    }
   },
   "outputs": [],
   "source": [
    "fig, axes = plt.subplots(2, 1, sharex=True, figsize=(12,8))\n",
    "\n",
    "axes[0].plot(tlist, np.array(list(map(wc_t, tlist))) / (2*pi), 'r', linewidth=2, label=\"cavity\")\n",
    "axes[0].plot(tlist, np.array(list(map(w1_t, tlist))) / (2*pi), 'b', linewidth=2, label=\"qubit 1\")\n",
    "axes[0].plot(tlist, np.array(list(map(w2_t, tlist))) / (2*pi), 'g', linewidth=2, label=\"qubit 2\")\n",
    "axes[0].set_ylim(1, 6)\n",
    "axes[0].set_ylabel(\"Energy (GHz)\", fontsize=16)\n",
    "axes[0].legend()\n",
    "\n",
    "axes[1].plot(tlist, np.real(expect(n, res.states)), 'r', linewidth=2, label=\"cavity\")\n",
    "axes[1].plot(tlist, np.real(expect(n1, res.states)), 'b', linewidth=2, label=\"qubit 1\")\n",
    "axes[1].plot(tlist, np.real(expect(n2, res.states)), 'g', linewidth=2, label=\"qubit 2\")\n",
    "axes[1].set_ylim(0, 1)\n",
    "\n",
    "axes[1].set_xlabel(\"Time (ns)\", fontsize=16)\n",
    "axes[1].set_ylabel(\"Occupation probability\", fontsize=16)\n",
    "axes[1].legend()\n",
    "\n",
    "fig.tight_layout()\n",
    "fig"
   ]
  },
  {
   "cell_type": "markdown",
   "id": "4120f4fd",
   "metadata": {},
   "source": [
    "### Fidelity and concurrence"
   ]
  },
  {
   "cell_type": "code",
   "execution_count": null,
   "id": "4762c6b1",
   "metadata": {
    "collapsed": false,
    "jupyter": {
     "outputs_hidden": false
    }
   },
   "outputs": [],
   "source": [
    "rho_final = res.states[-1]\n",
    "rho_qubits = ptrace(rho_final, [1,2])"
   ]
  },
  {
   "cell_type": "code",
   "execution_count": null,
   "id": "ad5aba36",
   "metadata": {
    "collapsed": false,
    "jupyter": {
     "outputs_hidden": false
    }
   },
   "outputs": [],
   "source": [
    "fidelity(rho_qubits, rho_qubits_ideal)"
   ]
  },
  {
   "cell_type": "code",
   "execution_count": null,
   "id": "85fff9f8",
   "metadata": {
    "collapsed": false,
    "jupyter": {
     "outputs_hidden": false
    }
   },
   "outputs": [],
   "source": [
    "concurrence(rho_qubits)"
   ]
  },
  {
   "cell_type": "markdown",
   "id": "0c62cf1e",
   "metadata": {},
   "source": [
    "# Two-qubit iSWAP gate: Finite pulse rise time"
   ]
  },
  {
   "cell_type": "code",
   "execution_count": null,
   "id": "df6625cd",
   "metadata": {
    "collapsed": false,
    "jupyter": {
     "outputs_hidden": false
    }
   },
   "outputs": [],
   "source": [
    "def step_t(w1, w2, t0, width, t):\n",
    "    \"\"\"\n",
    "    Step function that goes from w1 to w2 at time t0\n",
    "    as a function of t, with finite rise time defined\n",
    "    by the parameter width.\n",
    "    \"\"\"\n",
    "    return w1 + (w2 - w1) / (1 + np.exp(-(t-t0)/width))\n",
    "\n",
    "\n",
    "fig, axes = plt.subplots(1, 1, figsize=(8,2))\n",
    "axes.plot(tlist, [step_t(0.5, 1.5, 50, width, t) for t in tlist], 'k')\n",
    "axes.set_ylim(0, 2)\n",
    "fig.tight_layout()"
   ]
  },
  {
   "cell_type": "markdown",
   "id": "1ed78d6e",
   "metadata": {},
   "source": [
    "### Evolve the system"
   ]
  },
  {
   "cell_type": "code",
   "execution_count": null,
   "id": "6dbfbb5b",
   "metadata": {
    "collapsed": false,
    "jupyter": {
     "outputs_hidden": false
    }
   },
   "outputs": [],
   "source": [
    "res = mesolve(H_t_new, psi0, tlist, [], [])"
   ]
  },
  {
   "cell_type": "markdown",
   "id": "d8d32c50",
   "metadata": {},
   "source": [
    "### Plot the results"
   ]
  },
  {
   "cell_type": "code",
   "execution_count": null,
   "id": "333f3b60",
   "metadata": {
    "collapsed": false,
    "jupyter": {
     "outputs_hidden": false
    }
   },
   "outputs": [],
   "source": [
    "fig, axes = plt.subplots(2, 1, sharex=True, figsize=(12,8))\n",
    "\n",
    "axes[0].plot(tlist, np.array(list(map(wc_t, tlist))) / (2*pi), 'r', linewidth=2, label=\"cavity\")\n",
    "axes[0].plot(tlist, np.array(list(map(w1_t, tlist))) / (2*pi), 'b', linewidth=2, label=\"qubit 1\")\n",
    "axes[0].plot(tlist, np.array(list(map(w2_t, tlist))) / (2*pi), 'g', linewidth=2, label=\"qubit 2\")\n",
    "axes[0].set_ylim(1, 6)\n",
    "axes[0].set_ylabel(\"Energy (GHz)\", fontsize=16)\n",
    "axes[0].legend()\n",
    "\n",
    "axes[1].plot(tlist, np.real(expect(n, res.states)), 'r', linewidth=2, label=\"cavity\")\n",
    "axes[1].plot(tlist, np.real(expect(n1, res.states)), 'b', linewidth=2, label=\"qubit 1\")\n",
    "axes[1].plot(tlist, np.real(expect(n2, res.states)), 'g', linewidth=2, label=\"qubit 2\")\n",
    "axes[1].set_ylim(0, 1)\n",
    "\n",
    "axes[1].set_xlabel(\"Time (ns)\", fontsize=16)\n",
    "axes[1].set_ylabel(\"Occupation probability\", fontsize=16)\n",
    "axes[1].legend()\n",
    "\n",
    "fig.tight_layout()\n",
    "fig"
   ]
  },
  {
   "cell_type": "markdown",
   "id": "b022da16",
   "metadata": {},
   "source": [
    "### Fidelity and concurrence"
   ]
  },
  {
   "cell_type": "code",
   "execution_count": null,
   "id": "838cc78f",
   "metadata": {
    "collapsed": false,
    "jupyter": {
     "outputs_hidden": false
    }
   },
   "outputs": [],
   "source": [
    "rho_final = res.states[-1]\n",
    "rho_qubits = ptrace(rho_final, [1,2])"
   ]
  },
  {
   "cell_type": "code",
   "execution_count": null,
   "id": "3239021a",
   "metadata": {
    "collapsed": false,
    "jupyter": {
     "outputs_hidden": false
    }
   },
   "outputs": [],
   "source": [
    "fidelity(rho_qubits, rho_qubits_ideal)"
   ]
  },
  {
   "cell_type": "code",
   "execution_count": null,
   "id": "475b9de4",
   "metadata": {
    "collapsed": false,
    "jupyter": {
     "outputs_hidden": false
    }
   },
   "outputs": [],
   "source": [
    "concurrence(rho_qubits)"
   ]
  },
  {
   "cell_type": "markdown",
   "id": "47ef59fd",
   "metadata": {},
   "source": [
    "# Two-qubit iSWAP gate: Finite rise time with overshoot"
   ]
  },
  {
   "cell_type": "code",
   "execution_count": null,
   "id": "aa86d1f0",
   "metadata": {
    "collapsed": false,
    "jupyter": {
     "outputs_hidden": false
    }
   },
   "outputs": [],
   "source": [
    "from scipy.special import sici\n",
    "\n",
    "def step_t(w1, w2, t0, width, t):\n",
    "    \"\"\"\n",
    "    Step function that goes from w1 to w2 at time t0\n",
    "    as a function of t, with finite rise time and \n",
    "    and overshoot defined by the parameter width.\n",
    "    \"\"\"\n",
    "\n",
    "    return w1 + (w2-w1) * (0.5 + sici((t-t0)/width)[0]/(pi))\n",
    "\n",
    "\n",
    "fig, axes = plt.subplots(1, 1, figsize=(8,2))\n",
    "axes.plot(tlist, [step_t(0.5, 1.5, 50, width, t) for t in tlist], 'k')\n",
    "axes.set_ylim(0, 2)\n",
    "fig.tight_layout()"
   ]
  },
  {
   "cell_type": "markdown",
   "id": "9ee7b196",
   "metadata": {},
   "source": [
    "### Evolve the system"
   ]
  },
  {
   "cell_type": "code",
   "execution_count": null,
   "id": "80134409",
   "metadata": {
    "collapsed": false,
    "jupyter": {
     "outputs_hidden": false
    }
   },
   "outputs": [],
   "source": [
    "res = mesolve(H_t_new, psi0, tlist, [], [])"
   ]
  },
  {
   "cell_type": "markdown",
   "id": "c7e4db83",
   "metadata": {},
   "source": [
    "### Plot the results"
   ]
  },
  {
   "cell_type": "code",
   "execution_count": null,
   "id": "d1f37b14",
   "metadata": {
    "collapsed": false,
    "jupyter": {
     "outputs_hidden": false
    }
   },
   "outputs": [],
   "source": [
    "fig, axes = plt.subplots(2, 1, sharex=True, figsize=(12,8))\n",
    "\n",
    "axes[0].plot(tlist, np.array(list(map(wc_t, tlist))) / (2*pi), 'r', linewidth=2, label=\"cavity\")\n",
    "axes[0].plot(tlist, np.array(list(map(w1_t, tlist))) / (2*pi), 'b', linewidth=2, label=\"qubit 1\")\n",
    "axes[0].plot(tlist, np.array(list(map(w2_t, tlist))) / (2*pi), 'g', linewidth=2, label=\"qubit 2\")\n",
    "axes[0].set_ylim(1, 6)\n",
    "axes[0].set_ylabel(\"Energy (GHz)\", fontsize=16)\n",
    "axes[0].legend()\n",
    "\n",
    "axes[1].plot(tlist, np.real(expect(n, res.states)), 'r', linewidth=2, label=\"cavity\")\n",
    "axes[1].plot(tlist, np.real(expect(n1, res.states)), 'b', linewidth=2, label=\"qubit 1\")\n",
    "axes[1].plot(tlist, np.real(expect(n2, res.states)), 'g', linewidth=2, label=\"qubit 2\")\n",
    "axes[1].set_ylim(0, 1)\n",
    "\n",
    "axes[1].set_xlabel(\"Time (ns)\", fontsize=16)\n",
    "axes[1].set_ylabel(\"Occupation probability\", fontsize=16)\n",
    "axes[1].legend()\n",
    "\n",
    "fig.tight_layout()\n",
    "fig"
   ]
  },
  {
   "cell_type": "markdown",
   "id": "a2232c4e",
   "metadata": {},
   "source": [
    "### Fidelity and concurrence"
   ]
  },
  {
   "cell_type": "code",
   "execution_count": null,
   "id": "3e36d5ea",
   "metadata": {
    "collapsed": false,
    "jupyter": {
     "outputs_hidden": false
    }
   },
   "outputs": [],
   "source": [
    "rho_final = res.states[-1]\n",
    "rho_qubits = ptrace(rho_final, [1,2])"
   ]
  },
  {
   "cell_type": "code",
   "execution_count": null,
   "id": "38cff58a",
   "metadata": {
    "collapsed": false,
    "jupyter": {
     "outputs_hidden": false
    }
   },
   "outputs": [],
   "source": [
    "fidelity(rho_qubits, rho_qubits_ideal)"
   ]
  },
  {
   "cell_type": "code",
   "execution_count": null,
   "id": "ddb5b189",
   "metadata": {
    "collapsed": false,
    "jupyter": {
     "outputs_hidden": false
    }
   },
   "outputs": [],
   "source": [
    "concurrence(rho_qubits)"
   ]
  },
  {
   "cell_type": "markdown",
   "id": "e45a22c3",
   "metadata": {},
   "source": [
    "# Two-qubit iSWAP gate: Finite pulse rise time and dissipation"
   ]
  },
  {
   "cell_type": "code",
   "execution_count": null,
   "id": "71efd92c",
   "metadata": {
    "collapsed": false,
    "jupyter": {
     "outputs_hidden": false
    }
   },
   "outputs": [],
   "source": [
    "# increase the pulse rise time a bit\n",
    "width = 0.6\n",
    "\n",
    "# high-Q resonator but dissipative qubits\n",
    "kappa  = 0.00001\n",
    "gamma1 = 0.005\n",
    "gamma2 = 0.005\n",
    "\n",
    "c_ops = [np.sqrt(kappa) * a, np.sqrt(gamma1) * sm1, np.sqrt(gamma2) * sm2]"
   ]
  },
  {
   "cell_type": "markdown",
   "id": "44bed78a",
   "metadata": {},
   "source": [
    "### Evolve the system"
   ]
  },
  {
   "cell_type": "code",
   "execution_count": null,
   "id": "8e9d9086",
   "metadata": {
    "collapsed": false,
    "jupyter": {
     "outputs_hidden": false
    }
   },
   "outputs": [],
   "source": [
    "res = mesolve(H_t_new, psi0, tlist, c_ops, [])"
   ]
  },
  {
   "cell_type": "markdown",
   "id": "595cf10e",
   "metadata": {},
   "source": [
    "### Plot results"
   ]
  },
  {
   "cell_type": "code",
   "execution_count": null,
   "id": "886bfcdd",
   "metadata": {
    "collapsed": false,
    "jupyter": {
     "outputs_hidden": false
    }
   },
   "outputs": [],
   "source": [
    "fig, axes = plt.subplots(2, 1, sharex=True, figsize=(12,8))\n",
    "\n",
    "axes[0].plot(tlist, np.array(list(map(wc_t, tlist))) / (2*pi), 'r', linewidth=2, label=\"cavity\")\n",
    "axes[0].plot(tlist, np.array(list(map(w1_t, tlist))) / (2*pi), 'b', linewidth=2, label=\"qubit 1\")\n",
    "axes[0].plot(tlist, np.array(list(map(w2_t, tlist))) / (2*pi), 'g', linewidth=2, label=\"qubit 2\")\n",
    "axes[0].set_ylim(1, 6)\n",
    "axes[0].set_ylabel(\"Energy (GHz)\", fontsize=16)\n",
    "axes[0].legend()\n",
    "\n",
    "axes[1].plot(tlist, np.real(expect(n, res.states)), 'r', linewidth=2, label=\"cavity\")\n",
    "axes[1].plot(tlist, np.real(expect(n1, res.states)), 'b', linewidth=2, label=\"qubit 1\")\n",
    "axes[1].plot(tlist, np.real(expect(n2, res.states)), 'g', linewidth=2, label=\"qubit 2\")\n",
    "axes[1].set_ylim(0, 1)\n",
    "\n",
    "axes[1].set_xlabel(\"Time (ns)\", fontsize=16)\n",
    "axes[1].set_ylabel(\"Occupation probability\", fontsize=16)\n",
    "axes[1].legend()\n",
    "\n",
    "fig.tight_layout()\n",
    "fig"
   ]
  },
  {
   "cell_type": "markdown",
   "id": "ba0ae7a5",
   "metadata": {},
   "source": [
    "### Fidelity and concurrence"
   ]
  },
  {
   "cell_type": "code",
   "execution_count": null,
   "id": "bf14385a",
   "metadata": {
    "collapsed": false,
    "jupyter": {
     "outputs_hidden": false
    }
   },
   "outputs": [],
   "source": [
    "rho_final = res.states[-1]\n",
    "rho_qubits = ptrace(rho_final, [1,2])"
   ]
  },
  {
   "cell_type": "code",
   "execution_count": null,
   "id": "163bc940",
   "metadata": {
    "collapsed": false,
    "jupyter": {
     "outputs_hidden": false
    }
   },
   "outputs": [],
   "source": [
    "fidelity(rho_qubits, rho_qubits_ideal)"
   ]
  },
  {
   "cell_type": "code",
   "execution_count": null,
   "id": "05e6a85a",
   "metadata": {
    "collapsed": false,
    "jupyter": {
     "outputs_hidden": false
    }
   },
   "outputs": [],
   "source": [
    "concurrence(rho_qubits)"
   ]
  },
  {
   "cell_type": "markdown",
   "id": "6acce7ed",
   "metadata": {},
   "source": [
    "# Two-qubit iSWAP gate: Using tunable resonator and fixed-frequency qubits"
   ]
  },
  {
   "cell_type": "code",
   "execution_count": null,
   "id": "017f3641",
   "metadata": {
    "collapsed": false,
    "jupyter": {
     "outputs_hidden": false
    }
   },
   "outputs": [],
   "source": [
    "# reduce the rise time\n",
    "width = 0.25\n",
    "\n",
    "def wc_t(t, args=None):\n",
    "    return wc - step_t(0.0, wc-w1, T0_1, width, t) + step_t(0.0, wc-w1, T0_1+T_gate_1, width, t) \\\n",
    "              - step_t(0.0, wc-w2, T0_2, width, t) + step_t(0.0, wc-w2, T0_2+T_gate_2, width, t)\n",
    "\n",
    "H_t = [[Hc, wc_t], H1 * w1 + H2 * w2 + Hc1+Hc2]"
   ]
  },
  {
   "cell_type": "markdown",
   "id": "987685d1",
   "metadata": {},
   "source": [
    "### Evolve the system"
   ]
  },
  {
   "cell_type": "code",
   "execution_count": null,
   "id": "189da5c9",
   "metadata": {
    "collapsed": false,
    "jupyter": {
     "outputs_hidden": false
    }
   },
   "outputs": [],
   "source": [
    "res = mesolve(H_t, psi0, tlist, c_ops, [])"
   ]
  },
  {
   "cell_type": "markdown",
   "id": "78e2cbdc",
   "metadata": {},
   "source": [
    "### Plot the results"
   ]
  },
  {
   "cell_type": "code",
   "execution_count": null,
   "id": "a300603c",
   "metadata": {
    "collapsed": false,
    "jupyter": {
     "outputs_hidden": false
    }
   },
   "outputs": [],
   "source": [
    "fig, axes = plt.subplots(2, 1, sharex=True, figsize=(12,8))\n",
    "\n",
    "axes[0].plot(tlist, np.array(list(map(wc_t, tlist))) / (2*pi), 'r', linewidth=2, label=\"cavity\")\n",
    "axes[0].plot(tlist, np.array(list(map(w1_t, tlist))) / (2*pi), 'b', linewidth=2, label=\"qubit 1\")\n",
    "axes[0].plot(tlist, np.array(list(map(w2_t, tlist))) / (2*pi), 'g', linewidth=2, label=\"qubit 2\")\n",
    "axes[0].set_ylim(1, 6)\n",
    "axes[0].set_ylabel(\"Energy (GHz)\", fontsize=16)\n",
    "axes[0].legend()\n",
    "\n",
    "axes[1].plot(tlist, np.real(expect(n, res.states)), 'r', linewidth=2, label=\"cavity\")\n",
    "axes[1].plot(tlist, np.real(expect(n1, res.states)), 'b', linewidth=2, label=\"qubit 1\")\n",
    "axes[1].plot(tlist, np.real(expect(n2, res.states)), 'g', linewidth=2, label=\"qubit 2\")\n",
    "axes[1].set_ylim(0, 1)\n",
    "\n",
    "axes[1].set_xlabel(\"Time (ns)\", fontsize=16)\n",
    "axes[1].set_ylabel(\"Occupation probability\", fontsize=16)\n",
    "axes[1].legend()\n",
    "\n",
    "fig.tight_layout()\n",
    "fig"
   ]
  },
  {
   "cell_type": "markdown",
   "id": "0c6ad3c6",
   "metadata": {},
   "source": [
    "### Fidelity and concurrence"
   ]
  },
  {
   "cell_type": "code",
   "execution_count": null,
   "id": "dfd0f1c7",
   "metadata": {
    "collapsed": false,
    "jupyter": {
     "outputs_hidden": false
    }
   },
   "outputs": [],
   "source": [
    "rho_final = res.states[-1]\n",
    "rho_qubits = ptrace(rho_final, [1,2])"
   ]
  },
  {
   "cell_type": "code",
   "execution_count": null,
   "id": "e444454a",
   "metadata": {
    "collapsed": false,
    "jupyter": {
     "outputs_hidden": false
    }
   },
   "outputs": [],
   "source": [
    "fidelity(rho_qubits, rho_qubits_ideal)"
   ]
  },
  {
   "cell_type": "code",
   "execution_count": null,
   "id": "f82f218e",
   "metadata": {
    "collapsed": false,
    "jupyter": {
     "outputs_hidden": false
    }
   },
   "outputs": [],
   "source": [
    "concurrence(rho_qubits)"
   ]
  },
  {
   "cell_type": "markdown",
   "id": "99030a39",
   "metadata": {},
   "source": [
    "### Software versions"
   ]
  },
  {
   "cell_type": "code",
   "execution_count": null,
   "id": "3fb99a1e",
   "metadata": {
    "collapsed": false,
    "jupyter": {
     "outputs_hidden": false
    }
   },
   "outputs": [],
   "source": [
    "from qutip.ipynbtools import version_table\n",
    "\n",
    "version_table()"
   ]
  },
  {
   "cell_type": "code",
   "execution_count": null,
   "id": "b32de4b1-3995-4227-8d66-ac6a3dac127e",
   "metadata": {},
   "outputs": [],
   "source": []
  }
 ],
 "metadata": {
  "kernelspec": {
   "display_name": "Python 3 (ipykernel)",
   "language": "python",
   "name": "python3"
  },
  "language_info": {
   "codemirror_mode": {
    "name": "ipython",
    "version": 3
   },
   "file_extension": ".py",
   "mimetype": "text/x-python",
   "name": "python",
   "nbconvert_exporter": "python",
   "pygments_lexer": "ipython3",
   "version": "3.11.0"
  }
 },
 "nbformat": 4,
 "nbformat_minor": 5
}
