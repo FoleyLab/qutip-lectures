{
 "cells": [
  {
   "cell_type": "markdown",
   "id": "217e760f",
   "metadata": {},
   "source": [
    "# QuTiP lecture: simulation of a two-qubit gate using a resonator as coupler\n",
    "\n",
    "Author: J.R. Johansson, robert@riken.jp\n",
    "\n",
    "http://dml.riken.jp/~rob/\n",
    "\n",
    "Latest version of this ipython notebook lecture are available at: http://github.com/jrjohansson/qutip-lectures"
   ]
  },
  {
   "cell_type": "code",
   "execution_count": 1,
   "id": "f5c6c883",
   "metadata": {
    "collapsed": false,
    "jupyter": {
     "outputs_hidden": false
    }
   },
   "outputs": [],
   "source": [
    "#%matplotlib inline\n",
    "import matplotlib.pyplot as plt\n",
    "import numpy as np"
   ]
  },
  {
   "cell_type": "code",
   "execution_count": 2,
   "id": "e7754f1a",
   "metadata": {
    "collapsed": false,
    "jupyter": {
     "outputs_hidden": false
    }
   },
   "outputs": [],
   "source": [
    "from qutip import *"
   ]
  },
  {
   "cell_type": "markdown",
   "id": "63b4d5dc",
   "metadata": {},
   "source": [
    "## Parameters"
   ]
  },
  {
   "cell_type": "code",
   "execution_count": 3,
   "id": "6d17e63c",
   "metadata": {
    "collapsed": false,
    "jupyter": {
     "outputs_hidden": false
    }
   },
   "outputs": [
    {
     "name": "stdout",
     "output_type": "stream",
     "text": [
      "0.06283185307179587\n",
      "0.07853981633974483\n"
     ]
    }
   ],
   "source": [
    "N = 10\n",
    "pi =  np.pi\n",
    "wc = 5.0 * 2 * pi\n",
    "w1 = 3.0 * 2 * pi\n",
    "w2 = 2.0 * 2 * pi\n",
    "\n",
    "g1 = 0.01 * 2 * pi\n",
    "g2 = 0.0125 * 2 * pi\n",
    "print(g1)\n",
    "print(g2)\n",
    "\n",
    "tlist = np.linspace(0, 100, 500)\n",
    "\n",
    "width = 0.5\n",
    "\n",
    "# resonant SQRT iSWAP gate\n",
    "T0_1 = 20\n",
    "T_gate_1 = (1*pi)/(4 * g1)\n",
    "\n",
    "# resonant iSWAP gate\n",
    "T0_2 = 60\n",
    "T_gate_2 = (2*pi)/(4 * g2)"
   ]
  },
  {
   "cell_type": "markdown",
   "id": "7b135e45",
   "metadata": {},
   "source": [
    "### Operators, Hamiltonian and initial state "
   ]
  },
  {
   "cell_type": "markdown",
   "id": "1022b875-47d2-4017-99de-c1c324b97370",
   "metadata": {},
   "source": [
    "dipole operator for the atom has the form\n",
    "\n",
    "-6.43777131e-01 atomic units, the excited state has a dipole moment of 4.20099337e-01 atomic units, and the transition dipole moment is -7.60294804e-01 (all along z) as computed at the FCI/cc-pVTZ level of theory.\n",
    "\n",
    "Next block will build the $\\lambda \\cdot \\mu$ matrices for each system (consistent with their g values) for the model that includes \n",
    "the full bilinear coupling and dipole self energy"
   ]
  },
  {
   "cell_type": "code",
   "execution_count": 4,
   "id": "c06718f8-6a57-4b46-9e37-2008a9208fc8",
   "metadata": {},
   "outputs": [],
   "source": [
    "# lamda value s.t. the original mu_12 * lam = g1 -> 0.026919208248238624\n",
    "lam = 0.026919208248238624 \n",
    "\n",
    "# scaling of dipole moment for system 2 s.t. original g2 is scaled appropriately -> 1.2247448713915894\n",
    "tdm_fac = 1.2247448713915894"
   ]
  },
  {
   "cell_type": "code",
   "execution_count": 5,
   "id": "f4711a3b-b1b6-439e-b791-7054354b5fbf",
   "metadata": {},
   "outputs": [],
   "source": [
    "\n",
    "mu_1 = -6.43777131e-01 * sigmap() * sigmam()\n",
    "mu_1 += 4.20099337e-01 * sigmam() * sigmap()\n",
    "mu_1 += -7.60294804e-01 * (sigmap() + sigmam())\n",
    "\n",
    "\n",
    "d_1 = lam * mu_1\n",
    "d_2 = tdm_fac * d_1\n",
    "\n",
    "# define g1 and g2 in terms of sqrt(w/2) * d[0,1] terms\n",
    "_g1 = np.abs(np.sqrt(w1/2) * d_1[0,1])\n",
    "_g2 = np.abs(np.sqrt(w2/2) * d_2[0,1])\n",
    "\n",
    "# resonant SQRT iSWAP gate\n",
    "T0_1 = 20\n",
    "T_gate_1 = (1*pi)/(4 * _g1)\n",
    "\n",
    "# resonant iSWAP gate\n",
    "T0_2 = 60\n",
    "T_gate_2 = (2*pi)/(4 * _g2)\n",
    "\n"
   ]
  },
  {
   "cell_type": "code",
   "execution_count": 6,
   "id": "3937a3f7-ca53-4382-978f-9b788c53521a",
   "metadata": {},
   "outputs": [
    {
     "data": {
      "text/latex": [
       "Quantum object: dims=[[2], [2]], shape=(2, 2), type='oper', dtype=CSR, isherm=True$$\\left(\\begin{array}{cc}-0.017 & -0.020\\\\-0.020 & 0.011\\end{array}\\right)$$"
      ],
      "text/plain": [
       "Quantum object: dims=[[2], [2]], shape=(2, 2), type='oper', dtype=CSR, isherm=True\n",
       "Qobj data =\n",
       "[[-0.01732997 -0.02046653]\n",
       " [-0.02046653  0.01130874]]"
      ]
     },
     "execution_count": 6,
     "metadata": {},
     "output_type": "execute_result"
    }
   ],
   "source": [
    "d_1"
   ]
  },
  {
   "cell_type": "code",
   "execution_count": 7,
   "id": "61096f7f-13f6-4d15-a89c-4d5077064139",
   "metadata": {},
   "outputs": [
    {
     "data": {
      "text/latex": [
       "Quantum object: dims=[[2], [2]], shape=(2, 2), type='oper', dtype=CSR, isherm=True$$\\left(\\begin{array}{cc}-0.021 & -0.025\\\\-0.025 & 0.014\\end{array}\\right)$$"
      ],
      "text/plain": [
       "Quantum object: dims=[[2], [2]], shape=(2, 2), type='oper', dtype=CSR, isherm=True\n",
       "Qobj data =\n",
       "[[-0.02122479 -0.02506628]\n",
       " [-0.02506628  0.01385032]]"
      ]
     },
     "execution_count": 7,
     "metadata": {},
     "output_type": "execute_result"
    }
   ],
   "source": [
    "d_2"
   ]
  },
  {
   "cell_type": "code",
   "execution_count": 8,
   "id": "252fbf63",
   "metadata": {
    "collapsed": false,
    "jupyter": {
     "outputs_hidden": false
    }
   },
   "outputs": [
    {
     "data": {
      "text/latex": [
       "Quantum object: dims=[[2, 2], [2, 2]], shape=(4, 4), type='oper', dtype=CSR, isherm=True$$\\left(\\begin{array}{cc}0.001 & 5.268\\times10^{ -4 } & 4.960\\times10^{ -4 } & 5.130\\times10^{ -4 }\\\\5.268\\times10^{ -4 } & 5.297\\times10^{ -4 } & 5.130\\times10^{ -4 } & -2.219\\times10^{ -4 }\\\\4.960\\times10^{ -4 } & 5.130\\times10^{ -4 } & 5.728\\times10^{ -4 } & -1.910\\times10^{ -4 }\\\\5.130\\times10^{ -4 } & -2.219\\times10^{ -4 } & -1.910\\times10^{ -4 } & 8.401\\times10^{ -4 }\\end{array}\\right)$$"
      ],
      "text/plain": [
       "Quantum object: dims=[[2, 2], [2, 2]], shape=(4, 4), type='oper', dtype=CSR, isherm=True\n",
       "Qobj data =\n",
       "[[ 0.00126683  0.00052682  0.00049601  0.00051302]\n",
       " [ 0.00052682  0.00052965  0.00051302 -0.00022185]\n",
       " [ 0.00049601  0.00051302  0.00057276 -0.00019104]\n",
       " [ 0.00051302 -0.00022185 -0.00019104  0.00084009]]"
      ]
     },
     "execution_count": 8,
     "metadata": {},
     "output_type": "execute_result"
    }
   ],
   "source": [
    "# cavity operators\n",
    "a = tensor(destroy(N), qeye(2), qeye(2))\n",
    "n = a.dag() * a\n",
    "\n",
    "# operators for qubit 1\n",
    "sm1 = tensor(qeye(N), destroy(2), qeye(2))\n",
    "sz1 = tensor(qeye(N), sigmaz(), qeye(2))\n",
    "n1 = sm1.dag() * sm1\n",
    "\n",
    "# oeprators for qubit 2\n",
    "sm2 = tensor(qeye(N), qeye(2), destroy(2))\n",
    "sz2 = tensor(qeye(N), qeye(2), sigmaz())\n",
    "n2 = sm2.dag() * sm2\n",
    "\n",
    "# dipole self energy for qubit 1 and 2\n",
    "_d1 = tensor(d_1, qeye(2))\n",
    "_d2 = tensor(qeye(2), d_2)\n",
    "d1 = tensor(qeye(N), _d1)\n",
    "d2 = tensor(qeye(N), _d2)\n",
    "\n",
    "_dse = 1/2 * (_d1 + _d2) @ (_d1 + _d2)\n",
    "dse = tensor(qeye(N), _dse)\n",
    "\n",
    "_dse"
   ]
  },
  {
   "cell_type": "code",
   "execution_count": 9,
   "id": "8946fb0b-a35a-4fba-be4d-082ba11cab65",
   "metadata": {},
   "outputs": [],
   "source": [
    "dse_1 = tensor(qeye(N), (1/2 * _d1 @ _d1))\n",
    "dse_2 = tensor(qeye(N), (1/2 * _d2 @ _d2))\n",
    "dse_12 = tensor(qeye(N), (1/2 * _d1 @ _d2 + 1/2 * _d2 @ _d1))\n"
   ]
  },
  {
   "cell_type": "code",
   "execution_count": null,
   "id": "ed44af67-f4d6-4a88-bb49-6291b7f3d62a",
   "metadata": {},
   "outputs": [],
   "source": []
  },
  {
   "cell_type": "markdown",
   "id": "023dba37",
   "metadata": {},
   "source": [
    "Some more information about the time-dependent syntax from an exchange with Claude:\n",
    "\n",
    "Question Prompt:  \n",
    "\n",
    "I am working through a tutorial that implements a sqrt(iswap) gate for two qubits coupled to a cavity mode.  \n",
    "\n",
    "Here are some of the details of the system:\n",
    "\n",
    "# number of cavity Fock states\n",
    "N = 10\n",
    "\n",
    "# frequency of the cavity, qubit 1, qubit 2 at t=0\n",
    "wc = 5.0 *  * 2   pi\n",
    "w1 = 3.0 *  * 2   pi\n",
    "w2 = 2.0 * * 2  ** pi\n",
    "\n",
    "# coupling strength between qubit 1 and the cavity (g1) and qubit 2 and the cavity (g2)\n",
    "g1 = 0.01 *  2 ** pi \n",
    "g2 = 0.0125 * 2  * * pi\n",
    "\n",
    "# times for resonant SQRT iSWAP gate \n",
    "T0_1 = 20 \n",
    "T_gate_1 = (1*pi)/(4 * *g1) *\n",
    "\n",
    "*# resonant iSWAP gate *\n",
    "*T0_2 = 60 *\n",
    "*T_gate_2 = (2**pi)/(4 * g2)\n",
    "\n",
    "# Building the Hamiltonian for the system at t=0\n",
    "# cavity operators \n",
    "a = tensor(destroy(N), qeye(2), qeye(2))\n",
    "n = a.dag() * a\n",
    "\n",
    "# operators for qubit 1\n",
    "sm1 = tensor(qeye(N), destroy(2), qeye(2))\n",
    "sz1 = tensor(qeye(N), sigmaz(), qeye(2))\n",
    "n1 = sm1.dag() * sm1\n",
    "\n",
    "# operators for qubit 2\n",
    "sm2 = tensor(qeye(N), qeye(2), destroy(2))\n",
    "sz2 = tensor(qeye(N), qeye(2), sigmaz())\n",
    "n2 = sm2.dag() * sm2\n",
    "\n",
    "# Hamiltonian using QuTiP\n",
    "Hc = a.dag() * a\n",
    "H1 = - 0.5 * sz1\n",
    "H2 = - 0.5 * sz2\n",
    "Hc1 = g1 * (a.dag() * sm1 + a * sm1.dag())\n",
    "Hc2 = g2 * (a.dag() * sm2 + a * sm2.dag())\n",
    "\n",
    "H = wc * * Hc + w1  **H1 + w2 * H2 + Hc1 + Hc2\n",
    "\n",
    "I feel good about the syntax up to this point, but the next section is where I am getting confused.\n",
    "\n",
    "First,  a general step function in time that is defined for two different frequencies and some time value.  Here is the function definition:\n",
    "\n",
    "def step_t(w1, w2, t0, width, t):\n",
    "    \"\"\"\n",
    "    Step function that goes from w1 to w2 at time t0\n",
    "    as a function of t. \n",
    "    \"\"\"\n",
    "    return w1 + (w2 - w1) * (t > t0)\n",
    "\n",
    "Then, I believe this is used to define three specific step functions are defined for the cavity, qubit 1, and qubit 2:\n",
    "\n",
    "def wc_t(t, args=None):\n",
    "    return wc\n",
    "\n",
    "def w1_t(t, args=None):\n",
    "    return w1 + step_t(0.0, wc-w1, T0_1, width, t) - step_t(0.0, wc-w1, T0_1+T_gate_1, width, t)\n",
    "\n",
    "def w2_t(t, args=None):\n",
    "    return w2 + step_t(0.0, wc-w2, T0_2, width, t) - step_t(0.0, wc-w2, T0_2+T_gate_2, width, t)\n",
    "\n",
    "Then finally, these step functions are used to define a time-dependent Hamiltonian as follows:\n",
    "\n",
    "H_t = [[Hc, wc_t], [H1, w1_t], [H2, w2_t], Hc1+Hc2]\n",
    "\n",
    "This last line is very confusing to me.  It appears to have commutators, e.g. [Hc, wc_t], but how are those interpreted by QuTip?  I have not been introduced to that QuTip syntax yet.  Also, how are wc_t, w1_t, and w2_t functioning?  Hc is an operator (or a matrix representation of one), but what kind of object is wc_t?"
   ]
  },
  {
   "cell_type": "markdown",
   "id": "5afc59df",
   "metadata": {},
   "source": [
    "Answer from Claude:\n",
    "Great questions! This is a really important part of QuTiP that can be confusing at first. Let me break down what's happening here.\n",
    "Time-Dependent Hamiltonians in QuTiP\n",
    "The syntax H_t = [[Hc, wc_t], [H1, w1_t], [H2, w2_t], Hc1+Hc2] is not using commutators. Those square brackets have a completely different meaning in QuTiP's time-dependent Hamiltonian format.\n",
    "In QuTiP, when you have a time-dependent Hamiltonian, you specify it as a list where each element can be either:\n",
    "\n",
    "A static operator (like Hc1+Hc2)\n",
    "A list [operator, coefficient_function] where the operator gets multiplied by the time-dependent coefficient\n",
    "\n",
    "So your Hamiltonian is actually:\n",
    "H(t) = wc_t(t) * Hc + w1_t(t) * H1 + w2_t(t) * H2 + (Hc1 + Hc2)\n",
    "What are wc_t, w1_t, w2_t?\n",
    "These are Python functions that return scalar values (frequencies) as a function of time. QuTiP will call these functions during the time evolution to get the current coefficient values.\n",
    "\n",
    "wc_t(t) always returns the constant wc (cavity frequency doesn't change)\n",
    "w1_t(t) and w2_t(t) return time-dependent frequencies that change in steps\n",
    "\n",
    "The Step Functions Logic\n",
    "Let's trace through w1_t(t):\n",
    "pythondef w1_t(t, args=None):\n",
    "    return w1 + step_t(0.0, wc-w1, T0_1, width, t) - step_t(0.0, wc-w1, T0_1+T_gate_1, width, t)\n",
    "\n",
    "At t < T0_1: both step functions return 0, so w1_t(t) = w1 (original frequency)\n",
    "At T0_1 < t < T0_1+T_gate_1: first step is (wc-w1), second is 0, so w1_t(t) = w1 + (wc-w1) = wc (resonant with cavity)\n",
    "At t > T0_1+T_gate_1: both steps are (wc-w1), so w1_t(t) = w1 + (wc-w1) - (wc-w1) = w1 (back to original)\n",
    "\n",
    "This creates a frequency pulse that brings qubit 1 into resonance with the cavity for the gate duration, then returns it to its original frequency.\n",
    "Does this clarify the time-dependent Hamiltonian syntax and what those functions are doing?RetryClaude does not have the ability to run the code it generates yet.Claude can make mistakes. Please double-check responses. Sonnet 4"
   ]
  },
  {
   "cell_type": "code",
   "execution_count": null,
   "id": "76f95770",
   "metadata": {},
   "outputs": [],
   "source": []
  },
  {
   "cell_type": "code",
   "execution_count": 10,
   "id": "003f98d4",
   "metadata": {
    "collapsed": false,
    "jupyter": {
     "outputs_hidden": false
    }
   },
   "outputs": [],
   "source": [
    "# Hamiltonian using QuTiP\n",
    "coupling=\"notsimple\"\n",
    "\n",
    "Hc = a.dag() * a\n",
    "H1 = - 0.5 * sz1\n",
    "H2 = - 0.5 * sz2\n",
    "\n",
    "if coupling==\"simple\":\n",
    "    Hc1 = _g1 * (a.dag() * sm1 + a * sm1.dag())\n",
    "    Hc2 = _g2 * (a.dag() * sm2 + a * sm2.dag())\n",
    "    H = wc * Hc + w1 * H1 + w2 * H2 + Hc1 + Hc2\n",
    "\n",
    "else:\n",
    "    Hc1 = np.sqrt(w1/2) * (a.dag() @ d1 + a @ d1)\n",
    "    Hc2 = np.sqrt(w2/2) * (a.dag() @ d2 + a @ d2)\n",
    "    H = wc * Hc + w1 * H1 + w2 * H2 + Hc1 + Hc2 + dse"
   ]
  },
  {
   "cell_type": "code",
   "execution_count": null,
   "id": "57afdd71",
   "metadata": {},
   "outputs": [],
   "source": []
  },
  {
   "cell_type": "code",
   "execution_count": 11,
   "id": "ed802b6b",
   "metadata": {
    "collapsed": false,
    "jupyter": {
     "outputs_hidden": false
    }
   },
   "outputs": [
    {
     "data": {
      "text/latex": [
       "Quantum object: dims=[[10, 2, 2], [10, 2, 2]], shape=(40, 40), type='oper', dtype=CSR, isherm=True$$\\left(\\begin{array}{cc}-15.707 & 5.268\\times10^{ -4 } & 4.960\\times10^{ -4 } & 5.130\\times10^{ -4 } & -0.106 & \\cdots & 0 & 0 & 0 & 0 & 0\\\\5.268\\times10^{ -4 } & -3.141 & 5.130\\times10^{ -4 } & -2.219\\times10^{ -4 } & -0.063 & \\cdots & 0 & 0 & 0 & 0 & 0\\\\4.960\\times10^{ -4 } & 5.130\\times10^{ -4 } & 3.142 & -1.910\\times10^{ -4 } & -0.063 & \\cdots & 0 & 0 & 0 & 0 & 0\\\\5.130\\times10^{ -4 } & -2.219\\times10^{ -4 } & -1.910\\times10^{ -4 } & 15.709 & 0 & \\cdots & 0 & 0 & 0 & 0 & 0\\\\-0.106 & -0.063 & -0.063 & 0 & 15.709 & \\cdots & 0 & 0 & 0 & 0 & 0\\\\\\vdots & \\vdots & \\vdots & \\vdots & \\vdots & \\ddots & \\vdots & \\vdots & \\vdots & \\vdots & \\vdots\\\\0 & 0 & 0 & 0 & 0 & \\cdots & 267.036 & 0 & -0.188 & -0.188 & 0.208\\\\0 & 0 & 0 & 0 & 0 & \\cdots & 0 & 267.037 & 5.268\\times10^{ -4 } & 4.960\\times10^{ -4 } & 5.130\\times10^{ -4 }\\\\0 & 0 & 0 & 0 & 0 & \\cdots & -0.188 & 5.268\\times10^{ -4 } & 279.602 & 5.130\\times10^{ -4 } & -2.219\\times10^{ -4 }\\\\0 & 0 & 0 & 0 & 0 & \\cdots & -0.188 & 4.960\\times10^{ -4 } & 5.130\\times10^{ -4 } & 285.886 & -1.910\\times10^{ -4 }\\\\0 & 0 & 0 & 0 & 0 & \\cdots & 0.208 & 5.130\\times10^{ -4 } & -2.219\\times10^{ -4 } & -1.910\\times10^{ -4 } & 298.452\\end{array}\\right)$$"
      ],
      "text/plain": [
       "Quantum object: dims=[[10, 2, 2], [10, 2, 2]], shape=(40, 40), type='oper', dtype=CSR, isherm=True\n",
       "Qobj data =\n",
       "[[-1.57066964e+01  5.26823213e-04  4.96014790e-04 ...  0.00000000e+00\n",
       "   0.00000000e+00  0.00000000e+00]\n",
       " [ 5.26823213e-04 -3.14106300e+00  5.13019932e-04 ...  0.00000000e+00\n",
       "   0.00000000e+00  0.00000000e+00]\n",
       " [ 4.96014790e-04  5.13019932e-04  3.14216542e+00 ...  0.00000000e+00\n",
       "   0.00000000e+00  0.00000000e+00]\n",
       " ...\n",
       " [ 0.00000000e+00  0.00000000e+00  0.00000000e+00 ...  2.79602276e+02\n",
       "   5.13019932e-04 -2.21851267e-04]\n",
       " [ 0.00000000e+00  0.00000000e+00  0.00000000e+00 ...  5.13019932e-04\n",
       "   2.85885504e+02 -1.91042844e-04]\n",
       " [ 0.00000000e+00  0.00000000e+00  0.00000000e+00 ... -2.21851267e-04\n",
       "  -1.91042844e-04  2.98452142e+02]]"
      ]
     },
     "execution_count": 11,
     "metadata": {},
     "output_type": "execute_result"
    }
   ],
   "source": [
    "H"
   ]
  },
  {
   "cell_type": "code",
   "execution_count": 12,
   "id": "4b050d70",
   "metadata": {
    "collapsed": false,
    "jupyter": {
     "outputs_hidden": false
    }
   },
   "outputs": [],
   "source": [
    "# initial state: start with one of the qubits in its excited state\n",
    "psi0 = tensor(basis(N,0),basis(2,1),basis(2,0))\n"
   ]
  },
  {
   "cell_type": "markdown",
   "id": "6d11e55f",
   "metadata": {},
   "source": [
    "# Ideal two-qubit iSWAP gate"
   ]
  },
  {
   "cell_type": "code",
   "execution_count": 13,
   "id": "5cf32c40",
   "metadata": {
    "collapsed": false,
    "jupyter": {
     "outputs_hidden": false
    }
   },
   "outputs": [
    {
     "data": {
      "image/png": "[encoded data removed]",
      "text/plain": [
       "<Figure size 800x200 with 1 Axes>"
      ]
     },
     "metadata": {},
     "output_type": "display_data"
    }
   ],
   "source": [
    "def step_t(w1, w2, t0, width, t):\n",
    "    \"\"\"\n",
    "    Step function that goes from w1 to w2 at time t0\n",
    "    as a function of t. \n",
    "    \"\"\"\n",
    "    return w1 + (w2 - w1) * (t > t0)\n",
    "\n",
    "\n",
    "fig, axes = plt.subplots(1, 1, figsize=(8,2))\n",
    "axes.plot(tlist, [step_t(0.5, 1.5, 50, 0.0, t) for t in tlist], 'k')\n",
    "axes.set_ylim(0, 2)\n",
    "fig.tight_layout()"
   ]
  },
  {
   "cell_type": "code",
   "execution_count": 14,
   "id": "c14607cf",
   "metadata": {
    "collapsed": false,
    "jupyter": {
     "outputs_hidden": false
    }
   },
   "outputs": [],
   "source": [
    "def wc_t(t, args=None):\n",
    "    return wc\n",
    "\n",
    "def w1_t(t, args=None):\n",
    "    return w1 + step_t(0.0, wc-w1, T0_1, width, t) - step_t(0.0, wc-w1, T0_1+T_gate_1, width, t)\n",
    "\n",
    "def w2_t(t, args=None):\n",
    "    return w2 + step_t(0.0, wc-w2, T0_2, width, t) - step_t(0.0, wc-w2, T0_2+T_gate_2, width, t)\n",
    "\n",
    "\n",
    "H_t_orig =  [[Hc, wc_t], [H1, w1_t], [H2, w2_t], Hc1+Hc2]\n",
    "H_t_new =   [[Hc, wc_t], [H1, w1_t], [H2, w2_t], H1+H2+Hc+Hc1+Hc2+dse]"
   ]
  },
  {
   "cell_type": "markdown",
   "id": "638a7790",
   "metadata": {},
   "source": [
    "### Evolve the system"
   ]
  },
  {
   "cell_type": "code",
   "execution_count": 15,
   "id": "0ce2d8ab",
   "metadata": {
    "collapsed": false,
    "jupyter": {
     "outputs_hidden": false
    }
   },
   "outputs": [
    {
     "name": "stderr",
     "output_type": "stream",
     "text": [
      "/Users/jfoley19/miniconda3/envs/qtip/lib/python3.11/site-packages/qutip/solver/solver_base.py:576: FutureWarning: e_ops will be keyword only from qutip 5.3 for all solver\n",
      "  warnings.warn(\n"
     ]
    }
   ],
   "source": [
    "res = mesolve(H_t_orig, psi0, tlist, [], [])"
   ]
  },
  {
   "cell_type": "markdown",
   "id": "3166d8eb",
   "metadata": {},
   "source": [
    "### Plot the results"
   ]
  },
  {
   "cell_type": "code",
   "execution_count": 16,
   "id": "bbec0028",
   "metadata": {
    "collapsed": false,
    "jupyter": {
     "outputs_hidden": false
    }
   },
   "outputs": [
    {
     "data": {
      "image/png": "[encoded data removed]",
      "text/plain": [
       "<Figure size 1200x800 with 2 Axes>"
      ]
     },
     "metadata": {},
     "output_type": "display_data"
    }
   ],
   "source": [
    "fig, axes = plt.subplots(2, 1, sharex=True, figsize=(12,8))\n",
    "\n",
    "axes[0].plot(tlist, np.array(list(map(wc_t, tlist))) / (2*pi), 'r', linewidth=2, label=\"cavity\")\n",
    "axes[0].plot(tlist, np.array(list(map(w1_t, tlist))) / (2*pi), 'b', linewidth=2, label=\"qubit 1\")\n",
    "axes[0].plot(tlist, np.array(list(map(w2_t, tlist))) / (2*pi), 'g', linewidth=2, label=\"qubit 2\")\n",
    "axes[0].set_ylim(1, 6)\n",
    "axes[0].set_ylabel(\"Energy (GHz)\", fontsize=16)\n",
    "axes[0].legend()\n",
    "\n",
    "axes[1].plot(tlist, np.real(expect(n, res.states)), 'r', linewidth=2, label=\"cavity\")\n",
    "axes[1].plot(tlist, np.real(expect(n1, res.states)), 'b', linewidth=2, label=\"qubit 1\")\n",
    "axes[1].plot(tlist, np.real(expect(n2, res.states)), 'g', linewidth=2, label=\"qubit 2\")\n",
    "axes[1].set_ylim(0, 1)\n",
    "#axes[1].set_xlim(60,100)\n",
    "\n",
    "axes[1].set_xlabel(\"Time (ns)\", fontsize=16)\n",
    "axes[1].set_ylabel(\"Occupation probability\", fontsize=16)\n",
    "axes[1].legend()\n",
    "\n",
    "fig.tight_layout()"
   ]
  },
  {
   "cell_type": "markdown",
   "id": "dd9fe458",
   "metadata": {},
   "source": [
    "### Inspect the final state"
   ]
  },
  {
   "cell_type": "code",
   "execution_count": 17,
   "id": "282ddd20",
   "metadata": {
    "collapsed": false,
    "jupyter": {
     "outputs_hidden": false
    }
   },
   "outputs": [],
   "source": [
    "# extract the final state from the result of the simulation\n",
    "rho_final = res.states[-1]"
   ]
  },
  {
   "cell_type": "code",
   "execution_count": 18,
   "id": "25451199",
   "metadata": {
    "collapsed": false,
    "jupyter": {
     "outputs_hidden": false
    }
   },
   "outputs": [
    {
     "data": {
      "text/latex": [
       "Quantum object: dims=[[2, 2], [2, 2]], shape=(4, 4), type='oper', dtype=Dense, isherm=True$$\\left(\\begin{array}{cc}2.088\\times10^{ -5 } & 1.159\\times10^{ -5 } & -9.462\\times10^{ -6 } & 1.011\\times10^{ -6 }\\\\1.159\\times10^{ -5 } & 0.500 & (-0.500+0.005j) & 2.383\\times10^{ -6 }\\\\-9.462\\times10^{ -6 } & (-0.500-0.005j) & 0.500 & -4.076\\times10^{ -6 }\\\\1.011\\times10^{ -6 } & 2.383\\times10^{ -6 } & -4.076\\times10^{ -6 } & 1.146\\times10^{ -5 }\\end{array}\\right)$$"
      ],
      "text/plain": [
       "Quantum object: dims=[[2, 2], [2, 2]], shape=(4, 4), type='oper', dtype=Dense, isherm=True\n",
       "Qobj data =\n",
       "[[ 2.08762949e-05+0.00000000e+00j  1.15879991e-05-8.74928540e-09j\n",
       "  -9.46164797e-06+3.43216043e-07j  1.01067055e-06-1.22105629e-07j]\n",
       " [ 1.15879991e-05+8.74928540e-09j  4.99983274e-01+0.00000000e+00j\n",
       "  -4.99958264e-01+5.02495125e-03j  2.38278848e-06-1.84652315e-04j]\n",
       " [-9.46164797e-06-3.43216043e-07j -4.99958264e-01-5.02495125e-03j\n",
       "   4.99984385e-01+0.00000000e+00j -4.07592751e-06+1.84586044e-04j]\n",
       " [ 1.01067055e-06+1.22105629e-07j  2.38278848e-06+1.84652315e-04j\n",
       "  -4.07592751e-06-1.84586044e-04j  1.14647201e-05+0.00000000e+00j]]"
      ]
     },
     "execution_count": 18,
     "metadata": {},
     "output_type": "execute_result"
    }
   ],
   "source": [
    "# trace out the resonator mode and print the two-qubit density matrix\n",
    "rho_qubits = ptrace(rho_final, [1,2])\n",
    "rho_qubits"
   ]
  },
  {
   "cell_type": "code",
   "execution_count": 19,
   "id": "5a6d0474",
   "metadata": {
    "collapsed": false,
    "jupyter": {
     "outputs_hidden": false
    }
   },
   "outputs": [
    {
     "ename": "NameError",
     "evalue": "name 'phasegate' is not defined",
     "output_type": "error",
     "traceback": [
      "\u001b[0;31m---------------------------------------------------------------------------\u001b[0m",
      "\u001b[0;31mNameError\u001b[0m                                 Traceback (most recent call last)",
      "Cell \u001b[0;32mIn[19], line 2\u001b[0m\n\u001b[1;32m      1\u001b[0m \u001b[38;5;66;03m# compare to the ideal result of the sqrtiswap gate (plus phase correction) for the current initial state\u001b[39;00m\n\u001b[0;32m----> 2\u001b[0m rho_qubits_ideal \u001b[38;5;241m=\u001b[39m ket2dm(tensor(phasegate(\u001b[38;5;241m0\u001b[39m), phasegate(\u001b[38;5;241m-\u001b[39mpi\u001b[38;5;241m/\u001b[39m\u001b[38;5;241m2\u001b[39m)) \u001b[38;5;241m*\u001b[39m sqrtiswap() \u001b[38;5;241m*\u001b[39m tensor(basis(\u001b[38;5;241m2\u001b[39m,\u001b[38;5;241m1\u001b[39m), basis(\u001b[38;5;241m2\u001b[39m,\u001b[38;5;241m0\u001b[39m)))\n\u001b[1;32m      3\u001b[0m rho_qubits_ideal\n",
      "\u001b[0;31mNameError\u001b[0m: name 'phasegate' is not defined"
     ]
    }
   ],
   "source": [
    "\n",
    "# compare to the ideal result of the sqrtiswap gate (plus phase correction) for the current initial state\n",
    "rho_qubits_ideal = ket2dm(tensor(phasegate(0), phasegate(-pi/2)) * sqrtiswap() * tensor(basis(2,1), basis(2,0)))\n",
    "rho_qubits_ideal"
   ]
  },
  {
   "cell_type": "markdown",
   "id": "6fc5a3d7",
   "metadata": {},
   "source": [
    "### Fidelity and concurrence"
   ]
  },
  {
   "cell_type": "code",
   "execution_count": null,
   "id": "2eb66b37",
   "metadata": {
    "collapsed": false,
    "jupyter": {
     "outputs_hidden": false
    }
   },
   "outputs": [],
   "source": [
    "fidelity(rho_qubits, rho_qubits_ideal)"
   ]
  },
  {
   "cell_type": "code",
   "execution_count": null,
   "id": "569c9a0f",
   "metadata": {
    "collapsed": false,
    "jupyter": {
     "outputs_hidden": false
    }
   },
   "outputs": [],
   "source": [
    "concurrence(rho_qubits)"
   ]
  },
  {
   "cell_type": "markdown",
   "id": "b2032b25",
   "metadata": {},
   "source": [
    "# Dissipative two-qubit iSWAP gate"
   ]
  },
  {
   "cell_type": "markdown",
   "id": "6c5a87f2",
   "metadata": {},
   "source": [
    "### Define collapse operators that describe dissipation\n",
    "\n"
   ]
  },
  {
   "cell_type": "code",
   "execution_count": null,
   "id": "b856905c",
   "metadata": {
    "collapsed": false,
    "jupyter": {
     "outputs_hidden": false
    }
   },
   "outputs": [],
   "source": [
    "kappa = 0.0001\n",
    "gamma1 = 0.005\n",
    "gamma2 = 0.005\n",
    "\n",
    "c_ops = [np.sqrt(kappa) * a, np.sqrt(gamma1) * sm1, np.sqrt(gamma2) * sm2]"
   ]
  },
  {
   "cell_type": "markdown",
   "id": "1e4ad0d1",
   "metadata": {},
   "source": [
    "### Evolve the system"
   ]
  },
  {
   "cell_type": "code",
   "execution_count": null,
   "id": "ed8296d9",
   "metadata": {
    "collapsed": false,
    "jupyter": {
     "outputs_hidden": false
    }
   },
   "outputs": [],
   "source": [
    "res = mesolve(H_t, psi0, tlist, c_ops, [])"
   ]
  },
  {
   "cell_type": "markdown",
   "id": "01d29263",
   "metadata": {},
   "source": [
    "### Plot the results"
   ]
  },
  {
   "cell_type": "code",
   "execution_count": null,
   "id": "5c72ca97",
   "metadata": {
    "collapsed": false,
    "jupyter": {
     "outputs_hidden": false
    }
   },
   "outputs": [],
   "source": [
    "fig, axes = plt.subplots(2, 1, sharex=True, figsize=(12,8))\n",
    "\n",
    "axes[0].plot(tlist, np.array(list(map(wc_t, tlist))) / (2*pi), 'r', linewidth=2, label=\"cavity\")\n",
    "axes[0].plot(tlist, np.array(list(map(w1_t, tlist))) / (2*pi), 'b', linewidth=2, label=\"qubit 1\")\n",
    "axes[0].plot(tlist, np.array(list(map(w2_t, tlist))) / (2*pi), 'g', linewidth=2, label=\"qubit 2\")\n",
    "axes[0].set_ylim(1, 6)\n",
    "axes[0].set_ylabel(\"Energy (GHz)\", fontsize=16)\n",
    "axes[0].legend()\n",
    "\n",
    "axes[1].plot(tlist, np.real(expect(n, res.states)), 'r', linewidth=2, label=\"cavity\")\n",
    "axes[1].plot(tlist, np.real(expect(n1, res.states)), 'b', linewidth=2, label=\"qubit 1\")\n",
    "axes[1].plot(tlist, np.real(expect(n2, res.states)), 'g', linewidth=2, label=\"qubit 2\")\n",
    "axes[1].set_ylim(0, 1)\n",
    "\n",
    "axes[1].set_xlabel(\"Time (ns)\", fontsize=16)\n",
    "axes[1].set_ylabel(\"Occupation probability\", fontsize=16)\n",
    "axes[1].legend()\n",
    "\n",
    "fig.tight_layout()"
   ]
  },
  {
   "cell_type": "markdown",
   "id": "4120f4fd",
   "metadata": {},
   "source": [
    "### Fidelity and concurrence"
   ]
  },
  {
   "cell_type": "code",
   "execution_count": null,
   "id": "4762c6b1",
   "metadata": {
    "collapsed": false,
    "jupyter": {
     "outputs_hidden": false
    }
   },
   "outputs": [],
   "source": [
    "rho_final = res.states[-1]\n",
    "rho_qubits = ptrace(rho_final, [1,2])"
   ]
  },
  {
   "cell_type": "code",
   "execution_count": null,
   "id": "ad5aba36",
   "metadata": {
    "collapsed": false,
    "jupyter": {
     "outputs_hidden": false
    }
   },
   "outputs": [],
   "source": [
    "fidelity(rho_qubits, rho_qubits_ideal)"
   ]
  },
  {
   "cell_type": "code",
   "execution_count": null,
   "id": "85fff9f8",
   "metadata": {
    "collapsed": false,
    "jupyter": {
     "outputs_hidden": false
    }
   },
   "outputs": [],
   "source": [
    "concurrence(rho_qubits)"
   ]
  },
  {
   "cell_type": "markdown",
   "id": "0c62cf1e",
   "metadata": {},
   "source": [
    "# Two-qubit iSWAP gate: Finite pulse rise time"
   ]
  },
  {
   "cell_type": "code",
   "execution_count": null,
   "id": "df6625cd",
   "metadata": {
    "collapsed": false,
    "jupyter": {
     "outputs_hidden": false
    }
   },
   "outputs": [],
   "source": [
    "def step_t(w1, w2, t0, width, t):\n",
    "    \"\"\"\n",
    "    Step function that goes from w1 to w2 at time t0\n",
    "    as a function of t, with finite rise time defined\n",
    "    by the parameter width.\n",
    "    \"\"\"\n",
    "    return w1 + (w2 - w1) / (1 + exp(-(t-t0)/width))\n",
    "\n",
    "\n",
    "fig, axes = plt.subplots(1, 1, figsize=(8,2))\n",
    "axes.plot(tlist, [step_t(0.5, 1.5, 50, width, t) for t in tlist], 'k')\n",
    "axes.set_ylim(0, 2)\n",
    "fig.tight_layout()"
   ]
  },
  {
   "cell_type": "markdown",
   "id": "1ed78d6e",
   "metadata": {},
   "source": [
    "### Evolve the system"
   ]
  },
  {
   "cell_type": "code",
   "execution_count": null,
   "id": "6dbfbb5b",
   "metadata": {
    "collapsed": false,
    "jupyter": {
     "outputs_hidden": false
    }
   },
   "outputs": [],
   "source": [
    "res = mesolve(H_t, psi0, tlist, [], [])"
   ]
  },
  {
   "cell_type": "markdown",
   "id": "d8d32c50",
   "metadata": {},
   "source": [
    "### Plot the results"
   ]
  },
  {
   "cell_type": "code",
   "execution_count": null,
   "id": "333f3b60",
   "metadata": {
    "collapsed": false,
    "jupyter": {
     "outputs_hidden": false
    }
   },
   "outputs": [],
   "source": [
    "fig, axes = plt.subplots(2, 1, sharex=True, figsize=(12,8))\n",
    "\n",
    "axes[0].plot(tlist, array(list(map(wc_t, tlist))) / (2*pi), 'r', linewidth=2, label=\"cavity\")\n",
    "axes[0].plot(tlist, array(list(map(w1_t, tlist))) / (2*pi), 'b', linewidth=2, label=\"qubit 1\")\n",
    "axes[0].plot(tlist, array(list(map(w2_t, tlist))) / (2*pi), 'g', linewidth=2, label=\"qubit 2\")\n",
    "axes[0].set_ylim(1, 6)\n",
    "axes[0].set_ylabel(\"Energy (GHz)\", fontsize=16)\n",
    "axes[0].legend()\n",
    "\n",
    "axes[1].plot(tlist, real(expect(n, res.states)), 'r', linewidth=2, label=\"cavity\")\n",
    "axes[1].plot(tlist, real(expect(n1, res.states)), 'b', linewidth=2, label=\"qubit 1\")\n",
    "axes[1].plot(tlist, real(expect(n2, res.states)), 'g', linewidth=2, label=\"qubit 2\")\n",
    "axes[1].set_ylim(0, 1)\n",
    "\n",
    "axes[1].set_xlabel(\"Time (ns)\", fontsize=16)\n",
    "axes[1].set_ylabel(\"Occupation probability\", fontsize=16)\n",
    "axes[1].legend()\n",
    "\n",
    "fig.tight_layout()"
   ]
  },
  {
   "cell_type": "markdown",
   "id": "b022da16",
   "metadata": {},
   "source": [
    "### Fidelity and concurrence"
   ]
  },
  {
   "cell_type": "code",
   "execution_count": null,
   "id": "838cc78f",
   "metadata": {
    "collapsed": false,
    "jupyter": {
     "outputs_hidden": false
    }
   },
   "outputs": [],
   "source": [
    "rho_final = res.states[-1]\n",
    "rho_qubits = ptrace(rho_final, [1,2])"
   ]
  },
  {
   "cell_type": "code",
   "execution_count": null,
   "id": "3239021a",
   "metadata": {
    "collapsed": false,
    "jupyter": {
     "outputs_hidden": false
    }
   },
   "outputs": [],
   "source": [
    "fidelity(rho_qubits, rho_qubits_ideal)"
   ]
  },
  {
   "cell_type": "code",
   "execution_count": null,
   "id": "475b9de4",
   "metadata": {
    "collapsed": false,
    "jupyter": {
     "outputs_hidden": false
    }
   },
   "outputs": [],
   "source": [
    "concurrence(rho_qubits)"
   ]
  },
  {
   "cell_type": "markdown",
   "id": "47ef59fd",
   "metadata": {},
   "source": [
    "# Two-qubit iSWAP gate: Finite rise time with overshoot"
   ]
  },
  {
   "cell_type": "code",
   "execution_count": null,
   "id": "aa86d1f0",
   "metadata": {
    "collapsed": false,
    "jupyter": {
     "outputs_hidden": false
    }
   },
   "outputs": [],
   "source": [
    "from scipy.special import sici\n",
    "\n",
    "def step_t(w1, w2, t0, width, t):\n",
    "    \"\"\"\n",
    "    Step function that goes from w1 to w2 at time t0\n",
    "    as a function of t, with finite rise time and \n",
    "    and overshoot defined by the parameter width.\n",
    "    \"\"\"\n",
    "\n",
    "    return w1 + (w2-w1) * (0.5 + sici((t-t0)/width)[0]/(pi))\n",
    "\n",
    "\n",
    "fig, axes = plt.subplots(1, 1, figsize=(8,2))\n",
    "axes.plot(tlist, [step_t(0.5, 1.5, 50, width, t) for t in tlist], 'k')\n",
    "axes.set_ylim(0, 2)\n",
    "fig.tight_layout()"
   ]
  },
  {
   "cell_type": "markdown",
   "id": "9ee7b196",
   "metadata": {},
   "source": [
    "### Evolve the system"
   ]
  },
  {
   "cell_type": "code",
   "execution_count": null,
   "id": "80134409",
   "metadata": {
    "collapsed": false,
    "jupyter": {
     "outputs_hidden": false
    }
   },
   "outputs": [],
   "source": [
    "res = mesolve(H_t, psi0, tlist, [], [])"
   ]
  },
  {
   "cell_type": "markdown",
   "id": "c7e4db83",
   "metadata": {},
   "source": [
    "### Plot the results"
   ]
  },
  {
   "cell_type": "code",
   "execution_count": null,
   "id": "d1f37b14",
   "metadata": {
    "collapsed": false,
    "jupyter": {
     "outputs_hidden": false
    }
   },
   "outputs": [],
   "source": [
    "fig, axes = plt.subplots(2, 1, sharex=True, figsize=(12,8))\n",
    "\n",
    "axes[0].plot(tlist, array(list(map(wc_t, tlist))) / (2*pi), 'r', linewidth=2, label=\"cavity\")\n",
    "axes[0].plot(tlist, array(list(map(w1_t, tlist))) / (2*pi), 'b', linewidth=2, label=\"qubit 1\")\n",
    "axes[0].plot(tlist, array(list(map(w2_t, tlist))) / (2*pi), 'g', linewidth=2, label=\"qubit 2\")\n",
    "axes[0].set_ylim(1, 6)\n",
    "axes[0].set_ylabel(\"Energy (GHz)\", fontsize=16)\n",
    "axes[0].legend()\n",
    "\n",
    "axes[1].plot(tlist, real(expect(n, res.states)), 'r', linewidth=2, label=\"cavity\")\n",
    "axes[1].plot(tlist, real(expect(n1, res.states)), 'b', linewidth=2, label=\"qubit 1\")\n",
    "axes[1].plot(tlist, real(expect(n2, res.states)), 'g', linewidth=2, label=\"qubit 2\")\n",
    "axes[1].set_ylim(0, 1)\n",
    "\n",
    "axes[1].set_xlabel(\"Time (ns)\", fontsize=16)\n",
    "axes[1].set_ylabel(\"Occupation probability\", fontsize=16)\n",
    "axes[1].legend()\n",
    "\n",
    "fig.tight_layout()"
   ]
  },
  {
   "cell_type": "markdown",
   "id": "a2232c4e",
   "metadata": {},
   "source": [
    "### Fidelity and concurrence"
   ]
  },
  {
   "cell_type": "code",
   "execution_count": null,
   "id": "3e36d5ea",
   "metadata": {
    "collapsed": false,
    "jupyter": {
     "outputs_hidden": false
    }
   },
   "outputs": [],
   "source": [
    "rho_final = res.states[-1]\n",
    "rho_qubits = ptrace(rho_final, [1,2])"
   ]
  },
  {
   "cell_type": "code",
   "execution_count": null,
   "id": "38cff58a",
   "metadata": {
    "collapsed": false,
    "jupyter": {
     "outputs_hidden": false
    }
   },
   "outputs": [],
   "source": [
    "fidelity(rho_qubits, rho_qubits_ideal)"
   ]
  },
  {
   "cell_type": "code",
   "execution_count": null,
   "id": "ddb5b189",
   "metadata": {
    "collapsed": false,
    "jupyter": {
     "outputs_hidden": false
    }
   },
   "outputs": [],
   "source": [
    "concurrence(rho_qubits)"
   ]
  },
  {
   "cell_type": "markdown",
   "id": "e45a22c3",
   "metadata": {},
   "source": [
    "# Two-qubit iSWAP gate: Finite pulse rise time and dissipation"
   ]
  },
  {
   "cell_type": "code",
   "execution_count": null,
   "id": "71efd92c",
   "metadata": {
    "collapsed": false,
    "jupyter": {
     "outputs_hidden": false
    }
   },
   "outputs": [],
   "source": [
    "# increase the pulse rise time a bit\n",
    "width = 0.6\n",
    "\n",
    "# high-Q resonator but dissipative qubits\n",
    "kappa  = 0.00001\n",
    "gamma1 = 0.005\n",
    "gamma2 = 0.005\n",
    "\n",
    "c_ops = [sqrt(kappa) * a, sqrt(gamma1) * sm1, sqrt(gamma2) * sm2]"
   ]
  },
  {
   "cell_type": "markdown",
   "id": "44bed78a",
   "metadata": {},
   "source": [
    "### Evolve the system"
   ]
  },
  {
   "cell_type": "code",
   "execution_count": null,
   "id": "8e9d9086",
   "metadata": {
    "collapsed": false,
    "jupyter": {
     "outputs_hidden": false
    }
   },
   "outputs": [],
   "source": [
    "res = mesolve(H_t, psi0, tlist, c_ops, [])"
   ]
  },
  {
   "cell_type": "markdown",
   "id": "595cf10e",
   "metadata": {},
   "source": [
    "### Plot results"
   ]
  },
  {
   "cell_type": "code",
   "execution_count": null,
   "id": "886bfcdd",
   "metadata": {
    "collapsed": false,
    "jupyter": {
     "outputs_hidden": false
    }
   },
   "outputs": [],
   "source": [
    "fig, axes = plt.subplots(2, 1, sharex=True, figsize=(12,8))\n",
    "\n",
    "axes[0].plot(tlist, array(list(map(wc_t, tlist))) / (2*pi), 'r', linewidth=2, label=\"cavity\")\n",
    "axes[0].plot(tlist, array(list(map(w1_t, tlist))) / (2*pi), 'b', linewidth=2, label=\"qubit 1\")\n",
    "axes[0].plot(tlist, array(list(map(w2_t, tlist))) / (2*pi), 'g', linewidth=2, label=\"qubit 2\")\n",
    "axes[0].set_ylim(1, 6)\n",
    "axes[0].set_ylabel(\"Energy (GHz)\", fontsize=16)\n",
    "axes[0].legend()\n",
    "\n",
    "axes[1].plot(tlist, real(expect(n, res.states)), 'r', linewidth=2, label=\"cavity\")\n",
    "axes[1].plot(tlist, real(expect(n1, res.states)), 'b', linewidth=2, label=\"qubit 1\")\n",
    "axes[1].plot(tlist, real(expect(n2, res.states)), 'g', linewidth=2, label=\"qubit 2\")\n",
    "axes[1].set_ylim(0, 1)\n",
    "\n",
    "axes[1].set_xlabel(\"Time (ns)\", fontsize=16)\n",
    "axes[1].set_ylabel(\"Occupation probability\", fontsize=16)\n",
    "axes[1].legend()\n",
    "\n",
    "fig.tight_layout()"
   ]
  },
  {
   "cell_type": "markdown",
   "id": "ba0ae7a5",
   "metadata": {},
   "source": [
    "### Fidelity and concurrence"
   ]
  },
  {
   "cell_type": "code",
   "execution_count": null,
   "id": "bf14385a",
   "metadata": {
    "collapsed": false,
    "jupyter": {
     "outputs_hidden": false
    }
   },
   "outputs": [],
   "source": [
    "rho_final = res.states[-1]\n",
    "rho_qubits = ptrace(rho_final, [1,2])"
   ]
  },
  {
   "cell_type": "code",
   "execution_count": null,
   "id": "163bc940",
   "metadata": {
    "collapsed": false,
    "jupyter": {
     "outputs_hidden": false
    }
   },
   "outputs": [],
   "source": [
    "fidelity(rho_qubits, rho_qubits_ideal)"
   ]
  },
  {
   "cell_type": "code",
   "execution_count": null,
   "id": "05e6a85a",
   "metadata": {
    "collapsed": false,
    "jupyter": {
     "outputs_hidden": false
    }
   },
   "outputs": [],
   "source": [
    "concurrence(rho_qubits)"
   ]
  },
  {
   "cell_type": "markdown",
   "id": "6acce7ed",
   "metadata": {},
   "source": [
    "# Two-qubit iSWAP gate: Using tunable resonator and fixed-frequency qubits"
   ]
  },
  {
   "cell_type": "code",
   "execution_count": null,
   "id": "017f3641",
   "metadata": {
    "collapsed": false,
    "jupyter": {
     "outputs_hidden": false
    }
   },
   "outputs": [],
   "source": [
    "# reduce the rise time\n",
    "width = 0.25\n",
    "\n",
    "def wc_t(t, args=None):\n",
    "    return wc - step_t(0.0, wc-w1, T0_1, width, t) + step_t(0.0, wc-w1, T0_1+T_gate_1, width, t) \\\n",
    "              - step_t(0.0, wc-w2, T0_2, width, t) + step_t(0.0, wc-w2, T0_2+T_gate_2, width, t)\n",
    "\n",
    "H_t = [[Hc, wc_t], H1 * w1 + H2 * w2 + Hc1+Hc2]"
   ]
  },
  {
   "cell_type": "markdown",
   "id": "987685d1",
   "metadata": {},
   "source": [
    "### Evolve the system"
   ]
  },
  {
   "cell_type": "code",
   "execution_count": null,
   "id": "189da5c9",
   "metadata": {
    "collapsed": false,
    "jupyter": {
     "outputs_hidden": false
    }
   },
   "outputs": [],
   "source": [
    "res = mesolve(H_t, psi0, tlist, c_ops, [])"
   ]
  },
  {
   "cell_type": "markdown",
   "id": "78e2cbdc",
   "metadata": {},
   "source": [
    "### Plot the results"
   ]
  },
  {
   "cell_type": "code",
   "execution_count": null,
   "id": "a300603c",
   "metadata": {
    "collapsed": false,
    "jupyter": {
     "outputs_hidden": false
    }
   },
   "outputs": [],
   "source": [
    "fig, axes = plt.subplots(2, 1, sharex=True, figsize=(12,8))\n",
    "\n",
    "axes[0].plot(tlist, array(list(map(wc_t, tlist))) / (2*pi), 'r', linewidth=2, label=\"cavity\")\n",
    "axes[0].plot(tlist, array(list(map(w1_t, tlist))) / (2*pi), 'b', linewidth=2, label=\"qubit 1\")\n",
    "axes[0].plot(tlist, array(list(map(w2_t, tlist))) / (2*pi), 'g', linewidth=2, label=\"qubit 2\")\n",
    "axes[0].set_ylim(1, 6)\n",
    "axes[0].set_ylabel(\"Energy (GHz)\", fontsize=16)\n",
    "axes[0].legend()\n",
    "\n",
    "axes[1].plot(tlist, real(expect(n, res.states)), 'r', linewidth=2, label=\"cavity\")\n",
    "axes[1].plot(tlist, real(expect(n1, res.states)), 'b', linewidth=2, label=\"qubit 1\")\n",
    "axes[1].plot(tlist, real(expect(n2, res.states)), 'g', linewidth=2, label=\"qubit 2\")\n",
    "axes[1].set_ylim(0, 1)\n",
    "\n",
    "axes[1].set_xlabel(\"Time (ns)\", fontsize=16)\n",
    "axes[1].set_ylabel(\"Occupation probability\", fontsize=16)\n",
    "axes[1].legend()\n",
    "\n",
    "fig.tight_layout()"
   ]
  },
  {
   "cell_type": "markdown",
   "id": "0c6ad3c6",
   "metadata": {},
   "source": [
    "### Fidelity and concurrence"
   ]
  },
  {
   "cell_type": "code",
   "execution_count": null,
   "id": "dfd0f1c7",
   "metadata": {
    "collapsed": false,
    "jupyter": {
     "outputs_hidden": false
    }
   },
   "outputs": [],
   "source": [
    "rho_final = res.states[-1]\n",
    "rho_qubits = ptrace(rho_final, [1,2])"
   ]
  },
  {
   "cell_type": "code",
   "execution_count": null,
   "id": "e444454a",
   "metadata": {
    "collapsed": false,
    "jupyter": {
     "outputs_hidden": false
    }
   },
   "outputs": [],
   "source": [
    "fidelity(rho_qubits, rho_qubits_ideal)"
   ]
  },
  {
   "cell_type": "code",
   "execution_count": null,
   "id": "f82f218e",
   "metadata": {
    "collapsed": false,
    "jupyter": {
     "outputs_hidden": false
    }
   },
   "outputs": [],
   "source": [
    "concurrence(rho_qubits)"
   ]
  },
  {
   "cell_type": "markdown",
   "id": "99030a39",
   "metadata": {},
   "source": [
    "### Software versions"
   ]
  },
  {
   "cell_type": "code",
   "execution_count": null,
   "id": "3fb99a1e",
   "metadata": {
    "collapsed": false,
    "jupyter": {
     "outputs_hidden": false
    }
   },
   "outputs": [],
   "source": [
    "from qutip.ipynbtools import version_table\n",
    "\n",
    "version_table()"
   ]
  }
 ],
 "metadata": {
  "kernelspec": {
   "display_name": "Python 3 (ipykernel)",
   "language": "python",
   "name": "python3"
  },
  "language_info": {
   "codemirror_mode": {
    "name": "ipython",
    "version": 3
   },
   "file_extension": ".py",
   "mimetype": "text/x-python",
   "name": "python",
   "nbconvert_exporter": "python",
   "pygments_lexer": "ipython3",
   "version": "3.11.0"
  }
 },
 "nbformat": 4,
 "nbformat_minor": 5
}
