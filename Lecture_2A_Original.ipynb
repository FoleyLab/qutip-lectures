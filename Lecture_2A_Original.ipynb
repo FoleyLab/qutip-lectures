{
 "cells": [
  {
   "cell_type": "code",
   "execution_count": 10,
   "id": "9c53fb93-4f23-49a9-a66f-8ecec5c3757b",
   "metadata": {},
   "outputs": [],
   "source": [
    "import matplotlib.pyplot as plt\n",
    "import numpy as np"
   ]
  },
  {
   "cell_type": "code",
   "execution_count": 11,
   "id": "eabb021c-b9b0-45d8-914d-8d3b5035e41f",
   "metadata": {},
   "outputs": [],
   "source": [
    "from qutip import *\n"
   ]
  },
  {
   "cell_type": "code",
   "execution_count": 12,
   "id": "204a3c17-6031-4c14-90df-d0c12b7c298f",
   "metadata": {},
   "outputs": [],
   "source": [
    "pi = np.pi\n",
    "N = 2\n",
    "\n",
    "wc = 5.0 * 2 * pi\n",
    "w1 = 3.0 * 2 * pi\n",
    "w2 = 2.0 * 2 * pi\n",
    "\n",
    "g1 = 0.01 * 2 * pi\n",
    "g2 = 0.0125 * 2 * pi\n",
    "\n",
    "tlist = np.linspace(0, 100, 500)\n",
    "\n",
    "width = 0.5\n",
    "\n",
    "# resonant SQRT iSWAP gate\n",
    "T0_1 = 20\n",
    "T_gate_1 = (1*pi)/(4 * g1)\n",
    "\n",
    "# resonant iSWAP gate\n",
    "T0_2 = 60\n",
    "T_gate_2 = (2*pi)/(4 * g2)"
   ]
  },
  {
   "cell_type": "code",
   "execution_count": 13,
   "id": "3bd955e6-4328-41e7-9cd8-7452abf06479",
   "metadata": {},
   "outputs": [],
   "source": [
    "\n",
    "# cavity operators\n",
    "a = tensor(destroy(N), qeye(2), qeye(2))\n",
    "n = a.dag() * a\n",
    "\n",
    "# operators for qubit 1\n",
    "sm1 = tensor(qeye(N), destroy(2), qeye(2))\n",
    "sz1 = tensor(qeye(N), sigmaz(), qeye(2))\n",
    "n1 = sm1.dag() * sm1\n",
    "\n",
    "# oeprators for qubit 2\n",
    "sm2 = tensor(qeye(N), qeye(2), destroy(2))\n",
    "sz2 = tensor(qeye(N), qeye(2), sigmaz())\n",
    "n2 = sm2.dag() * sm2\n",
    "     "
   ]
  },
  {
   "cell_type": "code",
   "execution_count": 14,
   "id": "a419e8f7-5cd7-4751-a96d-878d3e8ad61f",
   "metadata": {},
   "outputs": [
    {
     "data": {
      "text/plain": [
       "array([-15.70796327,  -3.14191991,   3.14127853,  15.70732189,\n",
       "        15.70860465,  28.27464801,  34.55784644,  47.1238898 ])"
      ]
     },
     "execution_count": 14,
     "metadata": {},
     "output_type": "execute_result"
    }
   ],
   "source": [
    "\n",
    "# Hamiltonian using QuTiP\n",
    "Hc = a.dag() * a\n",
    "H1 = - 0.5 * sz1\n",
    "H2 = - 0.5 * sz2\n",
    "Hc1 = g1 * (a.dag() * sm1 + a * sm1.dag())\n",
    "Hc2 = g2 * (a.dag() * sm2 + a * sm2.dag())\n",
    "\n",
    "H = wc * Hc + w1 * H1 + w2 * H2 + Hc1 + Hc2 \n",
    "H.eigenenergies()\n",
    "     "
   ]
  },
  {
   "cell_type": "code",
   "execution_count": 15,
   "id": "13577f68-4530-41f3-8bf4-832fe538d0f8",
   "metadata": {},
   "outputs": [],
   "source": [
    "\n",
    "\n",
    "# initial state: start with one of the qubits in its excited state\n",
    "psi0 = tensor(basis(N,0),basis(2,1),basis(2,0))"
   ]
  },
  {
   "cell_type": "code",
   "execution_count": 16,
   "id": "d8c1b29a-2474-4238-b319-fee972fd2ea4",
   "metadata": {},
   "outputs": [
    {
     "data": {
      "image/png": "[encoded data removed]",
      "text/plain": [
       "<Figure size 800x200 with 1 Axes>"
      ]
     },
     "metadata": {},
     "output_type": "display_data"
    }
   ],
   "source": [
    "\n",
    "def step_t(w1, w2, t0, width, t):\n",
    "    \"\"\"\n",
    "    Step function that goes from w1 to w2 at time t0\n",
    "    as a function of t. \n",
    "    \"\"\"\n",
    "    return w1 + (w2 - w1) * (t > t0)\n",
    "\n",
    "\n",
    "fig, axes = plt.subplots(1, 1, figsize=(8,2))\n",
    "axes.plot(tlist, [step_t(0.5, 1.5, 50, 0.0, t) for t in tlist], 'k')\n",
    "axes.set_ylim(0, 2)\n",
    "fig.tight_layout()"
   ]
  },
  {
   "cell_type": "code",
   "execution_count": 17,
   "id": "4bdcd1e5-ddc0-4e8f-bc17-26d9119d58c0",
   "metadata": {},
   "outputs": [],
   "source": [
    "\n",
    "\n",
    "def wc_t(t, args=None):\n",
    "    return wc\n",
    "\n",
    "def w1_t(t, args=None):\n",
    "    return w1 + step_t(0.0, wc-w1, T0_1, width, t) - step_t(0.0, wc-w1, T0_1+T_gate_1, width, t)\n",
    "\n",
    "def w2_t(t, args=None):\n",
    "    return w2 + step_t(0.0, wc-w2, T0_2, width, t) - step_t(0.0, wc-w2, T0_2+T_gate_2, width, t)\n",
    "\n",
    "\n",
    "H_t = [[Hc, wc_t], [H1, w1_t], [H2, w2_t], Hc1+Hc2]"
   ]
  },
  {
   "cell_type": "code",
   "execution_count": 28,
   "id": "066e378e-ca64-46f2-baca-7c54e317934d",
   "metadata": {},
   "outputs": [
    {
     "data": {
      "text/plain": [
       "[Quantum object: dims=[[2, 2, 2], [2, 2, 2]], shape=(8, 8), type='oper', dtype=Dia, isherm=True\n",
       " Qobj data =\n",
       " [[0. 0. 0. 0. 0. 0. 0. 0.]\n",
       "  [0. 0. 0. 0. 0. 0. 0. 0.]\n",
       "  [0. 0. 0. 0. 0. 0. 0. 0.]\n",
       "  [0. 0. 0. 0. 0. 0. 0. 0.]\n",
       "  [0. 0. 0. 0. 1. 0. 0. 0.]\n",
       "  [0. 0. 0. 0. 0. 1. 0. 0.]\n",
       "  [0. 0. 0. 0. 0. 0. 1. 0.]\n",
       "  [0. 0. 0. 0. 0. 0. 0. 1.]],\n",
       " <function __main__.wc_t(t, args=None)>]"
      ]
     },
     "execution_count": 28,
     "metadata": {},
     "output_type": "execute_result"
    }
   ],
   "source": [
    "H_t[0]"
   ]
  },
  {
   "cell_type": "code",
   "execution_count": 29,
   "id": "c68680d1-6c29-4deb-831c-8a4f3bf05d06",
   "metadata": {},
   "outputs": [
    {
     "data": {
      "text/plain": [
       "[Quantum object: dims=[[2, 2, 2], [2, 2, 2]], shape=(8, 8), type='oper', dtype=CSR, isherm=True\n",
       " Qobj data =\n",
       " [[-0.5  0.   0.   0.   0.   0.   0.   0. ]\n",
       "  [ 0.  -0.5  0.   0.   0.   0.   0.   0. ]\n",
       "  [ 0.   0.   0.5  0.   0.   0.   0.   0. ]\n",
       "  [ 0.   0.   0.   0.5  0.   0.   0.   0. ]\n",
       "  [ 0.   0.   0.   0.  -0.5  0.   0.   0. ]\n",
       "  [ 0.   0.   0.   0.   0.  -0.5  0.   0. ]\n",
       "  [ 0.   0.   0.   0.   0.   0.   0.5  0. ]\n",
       "  [ 0.   0.   0.   0.   0.   0.   0.   0.5]],\n",
       " <function __main__.w1_t(t, args=None)>]"
      ]
     },
     "execution_count": 29,
     "metadata": {},
     "output_type": "execute_result"
    }
   ],
   "source": [
    "H_t[1]"
   ]
  },
  {
   "cell_type": "code",
   "execution_count": 30,
   "id": "698a4945-b83e-40b5-bcd1-659b354ea46f",
   "metadata": {},
   "outputs": [
    {
     "data": {
      "text/plain": [
       "[Quantum object: dims=[[2, 2, 2], [2, 2, 2]], shape=(8, 8), type='oper', dtype=CSR, isherm=True\n",
       " Qobj data =\n",
       " [[-0.5  0.   0.   0.   0.   0.   0.   0. ]\n",
       "  [ 0.   0.5  0.   0.   0.   0.   0.   0. ]\n",
       "  [ 0.   0.  -0.5  0.   0.   0.   0.   0. ]\n",
       "  [ 0.   0.   0.   0.5  0.   0.   0.   0. ]\n",
       "  [ 0.   0.   0.   0.  -0.5  0.   0.   0. ]\n",
       "  [ 0.   0.   0.   0.   0.   0.5  0.   0. ]\n",
       "  [ 0.   0.   0.   0.   0.   0.  -0.5  0. ]\n",
       "  [ 0.   0.   0.   0.   0.   0.   0.   0.5]],\n",
       " <function __main__.w2_t(t, args=None)>]"
      ]
     },
     "execution_count": 30,
     "metadata": {},
     "output_type": "execute_result"
    }
   ],
   "source": [
    "H_t[2]"
   ]
  },
  {
   "cell_type": "code",
   "execution_count": 33,
   "id": "bd21a1d1-1dee-4c27-b9f3-a7df4f1333b6",
   "metadata": {},
   "outputs": [
    {
     "name": "stdout",
     "output_type": "stream",
     "text": [
      "Quantum object: dims=[[2, 2, 2], [2, 2, 2]], shape=(8, 8), type='oper', dtype=Dia, isherm=True\n",
      "Qobj data =\n",
      "[[0.         0.         0.         0.         0.         0.\n",
      "  0.         0.        ]\n",
      " [0.         0.         0.         0.         0.07853982 0.\n",
      "  0.         0.        ]\n",
      " [0.         0.         0.         0.         0.06283185 0.\n",
      "  0.         0.        ]\n",
      " [0.         0.         0.         0.         0.         0.06283185\n",
      "  0.07853982 0.        ]\n",
      " [0.         0.07853982 0.06283185 0.         0.         0.\n",
      "  0.         0.        ]\n",
      " [0.         0.         0.         0.06283185 0.         0.\n",
      "  0.         0.        ]\n",
      " [0.         0.         0.         0.07853982 0.         0.\n",
      "  0.         0.        ]\n",
      " [0.         0.         0.         0.         0.         0.\n",
      "  0.         0.        ]]\n"
     ]
    }
   ],
   "source": [
    "print(H_t[3])"
   ]
  },
  {
   "cell_type": "code",
   "execution_count": 37,
   "id": "ba14c13b-67f7-4615-8804-61c6320aca60",
   "metadata": {},
   "outputs": [],
   "source": [
    "\n",
    "res = mesolve(H_t, psi0, tlist, [], [])"
   ]
  },
  {
   "cell_type": "code",
   "execution_count": 38,
   "id": "3fea799d-d074-44ed-8d2b-9b72ee518475",
   "metadata": {},
   "outputs": [
    {
     "data": {
      "image/png": "[encoded data removed]",
      "text/plain": [
       "<Figure size 1200x800 with 2 Axes>"
      ]
     },
     "metadata": {},
     "output_type": "display_data"
    }
   ],
   "source": [
    "from numpy import array\n",
    "from numpy import real\n",
    "\n",
    "fig, axes = plt.subplots(2, 1, sharex=True, figsize=(12,8))\n",
    "\n",
    "axes[0].plot(tlist, array(list(map(wc_t, tlist))) / (2*pi), 'r', linewidth=2, label=\"cavity\")\n",
    "axes[0].plot(tlist, array(list(map(w1_t, tlist))) / (2*pi), 'b', linewidth=2, label=\"qubit 1\")\n",
    "axes[0].plot(tlist, array(list(map(w2_t, tlist))) / (2*pi), 'g', linewidth=2, label=\"qubit 2\")\n",
    "axes[0].set_ylim(1, 6)\n",
    "axes[0].set_ylabel(\"Energy (GHz)\", fontsize=16)\n",
    "axes[0].legend()\n",
    "\n",
    "axes[1].plot(tlist, real(expect(n, res.states)), 'r', linewidth=2, label=\"cavity\")\n",
    "axes[1].plot(tlist, real(expect(n1, res.states)), 'b', linewidth=2, label=\"qubit 1\")\n",
    "axes[1].plot(tlist, real(expect(n2, res.states)), 'g', linewidth=2, label=\"qubit 2\")\n",
    "axes[1].set_ylim(0, 1)\n",
    "\n",
    "axes[1].set_xlabel(\"Time (ns)\", fontsize=16)\n",
    "axes[1].set_ylabel(\"Occupation probability\", fontsize=16)\n",
    "axes[1].legend()\n",
    "\n",
    "fig.tight_layout()"
   ]
  },
  {
   "cell_type": "code",
   "execution_count": 39,
   "id": "e88b6ac0-4912-417b-8d55-3877426c2d75",
   "metadata": {},
   "outputs": [],
   "source": [
    "\n",
    "# extract the final state from the result of the simulation\n",
    "rho_final = res.states[-1]"
   ]
  },
  {
   "cell_type": "code",
   "execution_count": 40,
   "id": "7227dc07-db0e-4344-9a4d-09f6e1631925",
   "metadata": {},
   "outputs": [
    {
     "data": {
      "text/latex": [
       "Quantum object: dims=[[2, 2], [2, 2]], shape=(4, 4), type='oper', dtype=Dense, isherm=True$$\\left(\\begin{array}{cc}6.169\\times10^{ -5 } & 0 & 0 & 0\\\\0 & 0.500 & (-0.500+0.020j) & 0\\\\0 & (-0.500-0.020j) & 0.500 & 0\\\\0 & 0 & 0 & 0\\end{array}\\right)$$"
      ],
      "text/plain": [
       "Quantum object: dims=[[2, 2], [2, 2]], shape=(4, 4), type='oper', dtype=Dense, isherm=True\n",
       "Qobj data =\n",
       "[[ 6.16909641e-05+0.j         0.00000000e+00+0.j\n",
       "   0.00000000e+00+0.j         0.00000000e+00+0.j       ]\n",
       " [ 0.00000000e+00+0.j         4.99792760e-01+0.j\n",
       "  -4.99575076e-01+0.0198461j  0.00000000e+00+0.j       ]\n",
       " [ 0.00000000e+00+0.j        -4.99575076e-01-0.0198461j\n",
       "   5.00145549e-01+0.j         0.00000000e+00+0.j       ]\n",
       " [ 0.00000000e+00+0.j         0.00000000e+00+0.j\n",
       "   0.00000000e+00+0.j         0.00000000e+00+0.j       ]]"
      ]
     },
     "execution_count": 40,
     "metadata": {},
     "output_type": "execute_result"
    }
   ],
   "source": [
    "\n",
    "# trace out the resonator mode and print the two-qubit density matrix\n",
    "rho_qubits = ptrace(rho_final, [1,2])\n",
    "rho_qubits\n",
    "     "
   ]
  },
  {
   "cell_type": "code",
   "execution_count": 41,
   "id": "f0a6a148-0b30-4c6a-93fc-fbafeaee27c7",
   "metadata": {},
   "outputs": [
    {
     "data": {
      "text/latex": [
       "Quantum object: dims=[[2, 2], [2, 2]], shape=(4, 4), type='oper', dtype=Dense, isherm=True$$\\left(\\begin{array}{cc}0 & 0 & 0 & 0\\\\0 & 0.500 & 0.500 & 0\\\\0 & 0.500 & 0.500 & 0\\\\0 & 0 & 0 & 0\\end{array}\\right)$$"
      ],
      "text/plain": [
       "Quantum object: dims=[[2, 2], [2, 2]], shape=(4, 4), type='oper', dtype=Dense, isherm=True\n",
       "Qobj data =\n",
       "[[0.  0.  0.  0. ]\n",
       " [0.  0.5 0.5 0. ]\n",
       " [0.  0.5 0.5 0. ]\n",
       " [0.  0.  0.  0. ]]"
      ]
     },
     "execution_count": 41,
     "metadata": {},
     "output_type": "execute_result"
    }
   ],
   "source": [
    "from qutip.core.gates import *\n",
    "# compare to the ideal result of the sqrtiswap gate (plus phase correction) for the current initial state\n",
    "rho_qubits_ideal = ket2dm(tensor(phasegate(0), phasegate(-pi/2)) * sqrtiswap() * tensor(basis(2,1), basis(2,0)))\n",
    "rho_qubits_ideal"
   ]
  },
  {
   "cell_type": "code",
   "execution_count": 42,
   "id": "159059f6-b2f0-4204-8a45-bddd22764af0",
   "metadata": {},
   "outputs": [
    {
     "data": {
      "text/plain": [
       "np.float64(0.019851409318636885)"
      ]
     },
     "execution_count": 42,
     "metadata": {},
     "output_type": "execute_result"
    }
   ],
   "source": [
    "\n",
    "\n",
    "fidelity(rho_qubits, rho_qubits_ideal)"
   ]
  },
  {
   "cell_type": "code",
   "execution_count": 43,
   "id": "b79e8f03-1d40-4a06-bbf5-74de237e2d50",
   "metadata": {},
   "outputs": [
    {
     "data": {
      "text/plain": [
       "np.float64(0.999938241706284)"
      ]
     },
     "execution_count": 43,
     "metadata": {},
     "output_type": "execute_result"
    }
   ],
   "source": [
    "\n",
    "concurrence(rho_qubits)"
   ]
  },
  {
   "cell_type": "code",
   "execution_count": null,
   "id": "4d838808-0bc5-4f43-b430-2cd5f4eee01b",
   "metadata": {},
   "outputs": [],
   "source": []
  }
 ],
 "metadata": {
  "kernelspec": {
   "display_name": "Python 3 (ipykernel)",
   "language": "python",
   "name": "python3"
  },
  "language_info": {
   "codemirror_mode": {
    "name": "ipython",
    "version": 3
   },
   "file_extension": ".py",
   "mimetype": "text/x-python",
   "name": "python",
   "nbconvert_exporter": "python",
   "pygments_lexer": "ipython3",
   "version": "3.11.0"
  }
 },
 "nbformat": 4,
 "nbformat_minor": 5
}
