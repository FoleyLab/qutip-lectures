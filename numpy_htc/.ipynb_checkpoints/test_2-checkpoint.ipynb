{
 "cells": [
  {
   "cell_type": "code",
   "execution_count": 4,
   "id": "d5ce6feb-709a-47de-a01a-9abd58bebc9e",
   "metadata": {},
   "outputs": [
    {
     "name": "stdout",
     "output_type": "stream",
     "text": [
      "Total Hilbert space dimension: 32\n",
      "cavity coupling λ: 1.0, qubit-vib λ: 0.01\n"
     ]
    }
   ],
   "source": [
    "from htc_numpy import HTC_Numpy\n",
    "import numpy as np\n",
    "\n",
    "params = {\n",
    "    # --- Hilbert space truncations ---\n",
    "    \"dim_cavity\": 2,             # truncate cavity to 2 photon levels\n",
    "    \"dim_vib\": 2,                # truncate each vibrational mode to 2 levels\n",
    "    \"n_qubits\": 2,               # number of qubits\n",
    "    \"n_vib_per_qubit\": 1,        # each qubit has 1 vibrational mode\n",
    "\n",
    "    # --- Uncoupled basis parameters ---\n",
    "    \"lambda_value\" : 1.0,  #  fundamental cavity coupling strength λ\n",
    "    \"freq_cavity\": 1.0,             # ω_cavity\n",
    "    \"freq_qubit\": 1.0,              # ω_qubit\n",
    "    \"freq_vib_qubit\": 0.1,          # ω_v (qubit vibrational mode)\n",
    "    \"coupling_qubit_vib\": 0.01,     # Huang–Rhys factor λ (qubit–vibration coupling)\n",
    "    \"qubit_dipole_values\": [1.0, 1.0, 1.0], # [μ_gg, μ_eg, μ_ee] dipole matrix elements\n",
    "\n",
    "    # --- Polaritonic basis parameters ---\n",
    "    \"polariton_energies\": [-0.16771931,  0.74784896,  1.34518339,  4.07468696],    # E_pol states\n",
    "    \"polariton_vib_frequencies\": [0.1, 0.1, 0.1, 0.1],  # vib freq per polariton\n",
    "    \"polariton_vib_couplings\": [0.01, 0.01, 0.01],     # λ per polariton surface\n",
    "}\n",
    "\n",
    "\n",
    "# Example: 1 cavity, 2 qubits, 2 vib modes, truncation=2\n",
    "model = HTC_Numpy(params)\n",
    "\n",
    "\n",
    "np.set_printoptions(threshold=np.inf)\n"
   ]
  },
  {
   "cell_type": "code",
   "execution_count": 15,
   "id": "f0657e32-6b03-430d-8d9a-8c880051ba03",
   "metadata": {},
   "outputs": [
    {
     "name": "stdout",
     "output_type": "stream",
     "text": [
      "Pauli-Fierz Hamiltonian:\n",
      " [[ 0.5         1.         -0.70710678 -0.70710678]\n",
      " [ 1.          1.5        -0.70710678 -0.70710678]\n",
      " [-0.70710678 -0.70710678  1.5         1.        ]\n",
      " [-0.70710678 -0.70710678  1.          2.5       ]]\n",
      "[-0.16771931  0.74784896  1.34518339  4.07468696]\n",
      "[0.15170869 0.85528118 0.12616059 0.47912637]\n"
     ]
    }
   ],
   "source": [
    "# bosonic operators for the cavity\n",
    "a = model.annihilation(model.dim_cavity)\n",
    "a_dag = model.creation(model.dim_cavity)\n",
    "\n",
    "# identity for cavity mode\n",
    "I_cav = np.eye(model.dim_cavity)\n",
    "# identity for qubit\n",
    "I_qubit = np.eye(model.dim_qubit)\n",
    "\n",
    "# d for the Pauli-Fierz Hamiltonian\n",
    "d = model.lambda_value * model.qubit_dipole_matrix\n",
    "\n",
    "# Pauli-Fierz Hamiltonian - might want to re-order the basis so cavity is first\n",
    "H_PF = -0.5 * model.freq_qubit * np.kron(I_cav, model.sigma_z()) \n",
    "H_PF += model.freq_cavity * np.kron(a_dag @ a, I_qubit,)\n",
    "H_PF += - np.sqrt(model.freq_cavity / 2) * np.kron((a_dag + a), d)\n",
    "H_PF += 0.5 * np.kron(I_cav, (d @ d)) \n",
    "print(\"Pauli-Fierz Hamiltonian:\\n\", H_PF)\n",
    "\n",
    "vals, vecs = np.linalg.eigh(H_PF)\n",
    "print(vals)\n",
    "\n",
    "# this is the transformation from \n",
    "init_state_pol = vecs[2,:]\n",
    "print(init_state_pol)\n",
    "\n",
    "# initial_state in uncoupled basis\n",
    "init_rho_uncoupled = model.bu\n"
   ]
  },
  {
   "cell_type": "markdown",
   "id": "58386ae3",
   "metadata": {},
   "source": [
    "Build Polariton Hamiltonian with the following form:\n",
    "\n",
    "$$ H = H_{pol} \\otimes \\mathcal{I}_2 + H_{pol-vib} + H_{pol_vib_coup} $$\n",
    "\n",
    "where \n",
    "\n",
    "$$ H_{pol} = \\sum_{i=1}^4 \\epsilon_i |i\\rangle \\langle i| $$\n",
    "\n",
    "$$ H_{pol-vib} = \\sum_{i=1}^4 \\omega_i |i\\rangle \\langle i| \\otimes \\left( \\hat{b}^{\\dagger} \\hat{b} \\right)$$\n",
    "\n",
    "$$ H_{pol-vib-coup} = \\sum_{i\\neq j}^4 \\lambda_{ij} \\frac{\\omega_i + \\omega_j}{2} |i\\rangle \\langle i| \\otimes \\left( \\hat{b}^{\\dagger} + \\hat{b} \\right)$$\n",
    "\n",
    "Here these quantities will come from a QED-CI calculation of some sort!"
   ]
  },
  {
   "cell_type": "code",
   "execution_count": 6,
   "id": "08703538",
   "metadata": {},
   "outputs": [
    {
     "name": "stdout",
     "output_type": "stream",
     "text": [
      "Polaritonic Hamiltonian:\n",
      " [[-0.16771931  0.          0.          0.        ]\n",
      " [ 0.          0.74784896  0.          0.        ]\n",
      " [ 0.          0.          1.34518339  0.        ]\n",
      " [ 0.          0.          0.          4.07468696]]\n",
      "Polaritonic + Vibrational Hamiltonian:\n",
      " [[0.  0.  0.  0.  0.  0.  0.  0. ]\n",
      " [0.  0.1 0.  0.  0.  0.  0.  0. ]\n",
      " [0.  0.  0.  0.  0.  0.  0.  0. ]\n",
      " [0.  0.  0.  0.1 0.  0.  0.  0. ]\n",
      " [0.  0.  0.  0.  0.  0.  0.  0. ]\n",
      " [0.  0.  0.  0.  0.  0.1 0.  0. ]\n",
      " [0.  0.  0.  0.  0.  0.  0.  0. ]\n",
      " [0.  0.  0.  0.  0.  0.  0.  0.1]]\n",
      "Polaritonic + Vibrational + Coupling Hamiltonian:\n",
      " [[0.   0.   0.   0.01 0.   0.01 0.   0.01]\n",
      " [0.   0.   0.01 0.   0.01 0.   0.01 0.  ]\n",
      " [0.   0.01 0.   0.   0.   0.   0.   0.  ]\n",
      " [0.01 0.   0.   0.   0.   0.   0.   0.  ]\n",
      " [0.   0.01 0.   0.   0.   0.   0.   0.  ]\n",
      " [0.01 0.   0.   0.   0.   0.   0.   0.  ]\n",
      " [0.   0.01 0.   0.   0.   0.   0.   0.  ]\n",
      " [0.01 0.   0.   0.   0.   0.   0.   0.  ]]\n",
      "Total Hamiltonian:\n",
      " [[-0.16771931  0.          0.          0.01        0.          0.01\n",
      "   0.          0.01      ]\n",
      " [ 0.         -0.06771931  0.01        0.          0.01        0.\n",
      "   0.01        0.        ]\n",
      " [ 0.          0.01        0.74784896  0.          0.          0.\n",
      "   0.          0.        ]\n",
      " [ 0.01        0.          0.          0.84784896  0.          0.\n",
      "   0.          0.        ]\n",
      " [ 0.          0.01        0.          0.          1.34518339  0.\n",
      "   0.          0.        ]\n",
      " [ 0.01        0.          0.          0.          0.          1.44518339\n",
      "   0.          0.        ]\n",
      " [ 0.          0.01        0.          0.          0.          0.\n",
      "   4.07468696  0.        ]\n",
      " [ 0.01        0.          0.          0.          0.          0.\n",
      "   0.          4.17468696]]\n"
     ]
    }
   ],
   "source": [
    "H_pol = model.build_polariton_hamiltonian()\n",
    "print(\"Polaritonic Hamiltonian:\\n\", H_pol)\n",
    "\n",
    "H_polvib = model.build_polariton_vibrational_hamiltonian()\n",
    "print(\"Polaritonic + Vibrational Hamiltonian:\\n\", H_polvib)\n",
    "\n",
    "H_polvib_coupling = model.build_polariton_vib_coupling()\n",
    "print(\"Polaritonic + Vibrational + Coupling Hamiltonian:\\n\", H_polvib_coupling)\n",
    "\n",
    "H = np.kron(H_pol, np.eye(model.dim_vib)) + H_polvib + H_polvib_coupling\n",
    "print(\"Total Hamiltonian:\\n\", H)"
   ]
  },
  {
   "cell_type": "markdown",
   "id": "91c7131c",
   "metadata": {},
   "source": [
    "We next want to build the Pauli-Fierz Hamiltonian that corresponds to $H_{pol}$ in the following way:\n",
    "\n",
    "$$ \\hat{U}^{\\dagger} H_{\\rm PF} \\hat{U} = H_{pol} $$\n",
    "\n",
    "with \n",
    "\n",
    "$$ H_{\\rm PF} = -\\frac{\\omega}{2} \\sigma_z \\otimes \\mathcal{I}_{2} + \\omega \\mathcal{I}_{2} \\otimes \\hat{a}^{\\dagger} \\hat{a} - \\sqrt{\\frac{\\omega}{2}} \\lambda \\cdot \\hat{\\mu} \\otimes \\left(\\hat{a}^{\\dagger} + \\hat{a}  \\right) + \\frac{1}{2} (\\lambda \\cdot \\hat{\\mu})^2 \\otimes \\mathcal{I}_2 $$"
   ]
  },
  {
   "cell_type": "code",
   "execution_count": null,
   "id": "dcf187d9",
   "metadata": {},
   "outputs": [
    {
     "name": "stdout",
     "output_type": "stream",
     "text": [
      "Pauli-Fierz Hamiltonian:\n",
      " [[ 0.5        -0.70710678  1.         -0.70710678]\n",
      " [-0.70710678  1.5        -0.70710678  1.        ]\n",
      " [ 1.         -0.70710678  1.5        -0.70710678]\n",
      " [-0.70710678  1.         -0.70710678  2.5       ]]\n",
      "DSE Term:\n",
      " [[1. 0. 1. 0.]\n",
      " [0. 1. 0. 1.]\n",
      " [1. 0. 1. 0.]\n",
      " [0. 1. 0. 1.]]\n"
     ]
    }
   ],
   "source": [
    "# bosonic operators for the cavity\n",
    "a = model.annihilation(model.dim_cavity)\n",
    "a_dag = model.creation(model.dim_cavity)\n",
    "\n",
    "# identity for cavity mode\n",
    "I_cav = np.eye(model.dim_cavity)\n",
    "# identity for qubit\n",
    "I_qubit = np.eye(model.dim_qubit)\n",
    "\n",
    "# d for the Pauli-Fierz Hamiltonian\n",
    "d = model.lambda_value * model.qubit_dipole_matrix\n",
    "\n",
    "# Pauli-Fierz Hamiltonian - might want to re-order the basis so cavity is first\n",
    "H_PF = -0.5 * model.freq_qubit * np.kron(model.sigma_z(), I_cav) \n",
    "H_PF += model.freq_cavity * np.kron(I_qubit, a_dag @ a)\n",
    "H_PF += - np.sqrt(model.freq_cavity / 2) * np.kron(d, (a_dag + a))\n",
    "H_PF += 0.5 * np.kron((d @ d),  I_cav) \n",
    "print(\"Pauli-Fierz Hamiltonian:\\n\", H_PF)\n"
   ]
  },
  {
   "cell_type": "markdown",
   "id": "322daf45",
   "metadata": {},
   "source": [
    "Get the transformation matrix $$\\hat{U}$$ by diagonalizing $H_{PF}$"
   ]
  },
  {
   "cell_type": "code",
   "execution_count": 6,
   "id": "ec01190a",
   "metadata": {},
   "outputs": [
    {
     "name": "stdout",
     "output_type": "stream",
     "text": [
      "Transformation matrix U:\n",
      " [[ 0.8832374   0.08470876  0.29731553 -0.35258984]\n",
      " [ 0.15170869  0.85528118 -0.12616059  0.47912637]\n",
      " [-0.4395301   0.42648448  0.64909188 -0.45122501]\n",
      " [ 0.06074093 -0.28183242  0.68874285  0.66521749]]\n"
     ]
    }
   ],
   "source": [
    "eigs, U = np.linalg.eigh(H_PF)\n",
    "print(\"Transformation matrix U:\\n\", U)"
   ]
  },
  {
   "cell_type": "code",
   "execution_count": null,
   "id": "859d5018-8562-457a-86ad-f59ea95fce89",
   "metadata": {},
   "outputs": [
    {
     "ename": "AttributeError",
     "evalue": "'HTC_Numpy' object has no attribute 'cav_dim'",
     "output_type": "error",
     "traceback": [
      "\u001b[0;31m---------------------------------------------------------------------------\u001b[0m",
      "\u001b[0;31mAttributeError\u001b[0m                            Traceback (most recent call last)",
      "Cell \u001b[0;32mIn[3], line 4\u001b[0m\n\u001b[1;32m      1\u001b[0m \u001b[38;5;66;03m# build subspace operators\u001b[39;00m\n\u001b[1;32m      2\u001b[0m \n\u001b[1;32m      3\u001b[0m \u001b[38;5;66;03m# bosonic operators\u001b[39;00m\n\u001b[0;32m----> 4\u001b[0m lowering \u001b[38;5;241m=\u001b[39m model\u001b[38;5;241m.\u001b[39mannihilation(model\u001b[38;5;241m.\u001b[39mcav_dim)\n\u001b[1;32m      5\u001b[0m raising \u001b[38;5;241m=\u001b[39m model\u001b[38;5;241m.\u001b[39mcreation(model\u001b[38;5;241m.\u001b[39mcav_dim)\n\u001b[1;32m      7\u001b[0m \u001b[38;5;66;03m# qubit operators\u001b[39;00m\n",
      "\u001b[0;31mAttributeError\u001b[0m: 'HTC_Numpy' object has no attribute 'cav_dim'"
     ]
    }
   ],
   "source": [
    "# build subspace operators\n",
    "\n",
    "# bosonic operators\n",
    "lowering = model.annihilation(model.dim_cavity)\n",
    "raising = model.creation(model.dim_cavity)\n",
    "\n",
    "# qubit operators\n",
    "sigma_plus = model.sigma_plus()\n",
    "sigma_minus = model.sigma_minus()\n",
    "sigma_z = model.sigma_z()\n",
    "\n",
    "\n",
    "# embed operators into full hilbert space\n",
    "am = model.embed_operator(lowering, position=0)   # position=0 is cavity\n",
    "ap = model.embed_operator(raising, position=0) \n",
    "\n",
    "bm1 = model.embed_operator(lowering, position=2) # position=2 is vib 1\n",
    "bp1 = model.embed_operator(raising, position=2) \n",
    "\n",
    "\n",
    "sp1 = model.embed_operator(sigma_plus, position=1) # position=1 is qubit 1\n",
    "sm1 = model.embed_operator(sigma_minus, position=1) \n",
    "sz1 = model.embed_operator(sigma_z, position=1)\n"
   ]
  },
  {
   "cell_type": "markdown",
   "id": "318f6515-797d-4563-b748-20b8ae2e80e8",
   "metadata": {},
   "source": [
    "\\begin{equation}\n",
    "H = \\sum_i -\\frac{\\hbar \\omega_i}{2} \\sigma_{z,i} + \\hbar \\omega \\hat{a}^\\dagger \\hat{a} +  \\sum_i \\hbar g_i ( \\hat{a}  \\sigma_{+,i} + \\hat{a}^\\dagger \\sigma_{-,i} ) + \\lambda \\omega \\sigma^+ \\sigma^-( \\hat{b}^{\\dagger} + \\hat{b} ) + \\hbar \\omega_v \\hat{b}^{\\dagger} \\hat{b}\n",
    "\\end{equation}\n"
   ]
  },
  {
   "cell_type": "code",
   "execution_count": null,
   "id": "4658a279-03ca-4022-a478-ffec1ec4a72b",
   "metadata": {},
   "outputs": [],
   "source": [
    "# build Hamiltonian where qubit 1 is coupled to the cavity\n",
    "H1 = -model.omega_qubit / 2 * sz1   # qubit 1 energy \n",
    "H1 += model.omega_cav * ap @ am     # cavity energy\n",
    "H1 += model.g * (am @ sp1 + ap @ sm1) # qubit 1 - cavity coupling\n",
    "\n",
    "# get the polariton Hamiltonian\n",
    "# diagonalize H1    \n",
    "evals, evecs = np.linalg.eigh(H1)\n",
    "\n",
    "H1 += model.omega_vib * bp1 @ bm1   # vib 1 energy\n",
    "H1 += model.omega_vib * model.lambda_vib * sp1 @ sm1 @ (bp1 + bm1) # qubit 1 - vib 1 coupling\n",
    "\n",
    "\n",
    "# diagonalize"
   ]
  },
  {
   "cell_type": "code",
   "execution_count": null,
   "id": "f0b5337c-bdeb-4bcb-85aa-04bebb256228",
   "metadata": {},
   "outputs": [],
   "source": [
    "N_state = 8\n",
    "# diagonalize H1\n",
    "eigenvalues_1, polariton_1 = np.linalg.eigh(H1)\n",
    "\n",
    "# express H1 in polariton basis\n",
    "Hpol1 = polariton_1.T @ H1 @ polariton_1\n",
    "\n",
    "# compute expectation value of state |0,e,0,g,0> in uncoupled basis\n",
    "psi = model.basis_state(N_state)\n",
    "#print(psi)\n",
    "\n",
    "E_exp_uncoupled = psi.T @ H1 @ psi\n",
    "\n",
    "psi_pol = polariton_1[N_state,:].reshape(32,1)\n",
    "#print(psi_pol)\n",
    "E_exp_pol = psi_pol.T @ Hpol1 @ psi_pol\n",
    "\n",
    "print(E_exp_uncoupled)\n",
    "print(E_exp_pol)\n",
    "#print(F\"Expectation value in uncoupled basis is {E_exp_uncoupled:12.10f}\")\n",
    "#print(F\"Expectation value in polariton basis is {E_exp_pol:12.10f}\")\n",
    "\n",
    "\n"
   ]
  },
  {
   "cell_type": "code",
   "execution_count": null,
   "id": "33419185-8684-4436-93c6-d693e1d37306",
   "metadata": {},
   "outputs": [],
   "source": [
    "#target_basis_state = model.labels\n",
    "\n",
    "model.represent_basis_in_eigenbasis(model.labels, polariton_1, energies=eigenvalues_1)"
   ]
  },
  {
   "cell_type": "code",
   "execution_count": null,
   "id": "30568d46-bb3e-4bcc-983b-4598a7b52a7e",
   "metadata": {},
   "outputs": [],
   "source": [
    "# Get a basis vector\n",
    "psi = model.basis_state(8)\n",
    "print(\"Basis[8] =\", model.labels[8], psi.T)\n",
    "\n",
    "rho_init =  psi @ psi.T\n"
   ]
  },
  {
   "cell_type": "code",
   "execution_count": null,
   "id": "9ffda956-1931-4e79-ba2d-a4417654c1ff",
   "metadata": {},
   "outputs": [],
   "source": [
    "n_time_1 = np.pi / (4 * model.g)\n",
    "n_time_2 = np.pi / (2 * model.g)\n",
    "\n",
    "print(f\"n_time_1 = {np.floor(n_time_1)}\")\n",
    "print(f\"n_time_2 = {np.floor(n_time_2)}\")\n",
    "\n",
    "\n"
   ]
  },
  {
   "cell_type": "code",
   "execution_count": null,
   "id": "8e5488b1-5a93-4d6e-a913-21c6fcdb4663",
   "metadata": {},
   "outputs": [],
   "source": [
    "\n",
    "\n",
    "dt = 0.01\n",
    "\n",
    "n_time = int(40 / dt) # make sure we get to 40 a.u. of time\n",
    "\n",
    "# arrays to store the populations at each time-step\n",
    "pops_uncoupled = np.zeros((n_time,rho_init.shape[0]))\n",
    "\n",
    "t = []\n",
    "\n",
    "\n",
    "for i in range(n_time):\n",
    "    if i * dt<n_time_1:\n",
    "        # evolve in uncoupled basis\n",
    "        rho_new = model.rk4_step(H1, rho_init, dt, hbar=1.0)\n",
    "\n",
    "    elif i * dt < n_time_1 + n_time_2:\n",
    "        rho_new = model.rk4_step(H2, rho_init, dt, hbar=1)\n",
    "\n",
    "    else: \n",
    "        rho_new = model.rk4_step(H_un, rho_init, dt, hbar=1.0)\n",
    "\n",
    "\n",
    "    t.append(i * dt)\n",
    "    for k in range(rho_init.shape[0]):\n",
    "        # store all populations\n",
    "        pops_uncoupled[i,k] = np.real(rho_new[k,k])\n",
    "\n",
    "\n",
    "    # copy updated rhos in each basis to the rho_init and rho_pol_init for next step\n",
    "    rho_init = np.copy(rho_new)\n"
   ]
  },
  {
   "cell_type": "code",
   "execution_count": null,
   "id": "745dc4c4-fa52-4457-977b-77f6c4275988",
   "metadata": {},
   "outputs": [],
   "source": [
    "print(pops_uncoupled)"
   ]
  },
  {
   "cell_type": "code",
   "execution_count": null,
   "id": "18a63e39-ae07-4fd2-9a63-d0a13a089801",
   "metadata": {},
   "outputs": [],
   "source": [
    "from matplotlib import pyplot as plt\n",
    "plt.plot(t, pops_uncoupled[:,8], label=\"$p_{99}$ uncoupled\")\n",
    "plt.plot(t, pops_uncoupled[:,16], label=\"$p_{1616}$ uncoupled\")\n",
    "plt.plot(t, pops_uncoupled[:,2], label=\"$p_{22}$ uncoupled\")\n",
    "plt.grid()\n",
    "#plt.xlim(10,20)\n",
    "plt.legend()\n",
    "plt.show()"
   ]
  },
  {
   "cell_type": "code",
   "execution_count": null,
   "id": "f2fd53a6-f450-4d36-a82c-b31ccd494f8b",
   "metadata": {},
   "outputs": [],
   "source": []
  },
  {
   "cell_type": "code",
   "execution_count": null,
   "id": "b6087216-808d-4728-b1f7-2fe274191600",
   "metadata": {},
   "outputs": [],
   "source": []
  }
 ],
 "metadata": {
  "kernelspec": {
   "display_name": "Python 3 (ipykernel)",
   "language": "python",
   "name": "python3"
  },
  "language_info": {
   "codemirror_mode": {
    "name": "ipython",
    "version": 3
   },
   "file_extension": ".py",
   "mimetype": "text/x-python",
   "name": "python",
   "nbconvert_exporter": "python",
   "pygments_lexer": "ipython3",
   "version": "3.11.0"
  }
 },
 "nbformat": 4,
 "nbformat_minor": 5
}
