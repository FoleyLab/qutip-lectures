{
 "cells": [
  {
   "cell_type": "code",
   "execution_count": 1,
   "id": "d5ce6feb-709a-47de-a01a-9abd58bebc9e",
   "metadata": {},
   "outputs": [
    {
     "name": "stdout",
     "output_type": "stream",
     "text": [
      "Total Hilbert space dimension: 32\n",
      "coupling strength g: 0.1\n",
      "Hilbert space dimension: 32\n",
      "First 5 labels: ['|0, g, 0, g, 0>', '|0, g, 0, g, 1>', '|0, g, 0, e, 0>', '|0, g, 0, e, 1>', '|0, g, 1, g, 0>']\n",
      "Basis[0] = |0, g, 0, g, 0> [[1. 0. 0. 0. 0. 0. 0. 0. 0. 0. 0. 0. 0. 0. 0. 0. 0. 0. 0. 0. 0. 0. 0. 0.\n",
      "  0. 0. 0. 0. 0. 0. 0. 0.]]\n"
     ]
    }
   ],
   "source": [
    "from htc_numpy import HTC_Numpy\n",
    "import numpy as np\n",
    "\n",
    "params = {\n",
    "'cav_dim' : 2,\n",
    "'vib_dim' : 2,\n",
    "'n_qubits' : 2,\n",
    "'n_vib' : 2, # 1 vibrational mode per qubit\n",
    "'g' : 0.1,\n",
    "'omega_cav' : 1.0,\n",
    "'omega_vib' : 0.1,\n",
    "'omega_qubit' : 1.0,\n",
    "'lambda_vib' : 0.1,\n",
    "}\n",
    "\n",
    "# Example: 1 cavity, 2 qubits, 2 vib modes, truncation=2\n",
    "model = HTC_Numpy(params)\n",
    "\n",
    "print(\"Hilbert space dimension:\", model.dim)   # 32\n",
    "print(\"First 5 labels:\", model.labels[:5])\n",
    "\n",
    "# Get a basis vector\n",
    "psi = model.basis_state(0)\n",
    "print(\"Basis[0] =\", model.labels[0], psi.T)\n",
    "\n"
   ]
  },
  {
   "cell_type": "code",
   "execution_count": 4,
   "id": "859d5018-8562-457a-86ad-f59ea95fce89",
   "metadata": {},
   "outputs": [],
   "source": [
    "# build subspace operators\n",
    "\n",
    "# bosonic operators\n",
    "lowering = model.annihilation(model.cav_dim)\n",
    "raising = model.creation(model.cav_dim)\n",
    "\n",
    "# qubit operators\n",
    "sigma_plus = model.sigma_plus()\n",
    "sigma_minus = model.sigma_minus()\n",
    "sigma_z = model.sigma_z()\n",
    "\n",
    "\n",
    "# embed operators into full hilbert space\n",
    "am = model.embed_operator(lowering, position=0)   # position=0 is cavity\n",
    "ap = model.embed_operator(raising, position=0) \n",
    "\n",
    "bm1 = model.embed_operator(lowering, position=2) # position=2 is vib 1\n",
    "bp1 = model.embed_operator(raising, position=2) \n",
    "\n",
    "bm2 = model.embed_operator(lowering, position=4) # position=4 is vib 2\n",
    "bp2 = model.embed_operator(raising, position=4) \n",
    "\n",
    "sp1 = model.embed_operator(sigma_plus, position=1) # position=1 is qubit 1\n",
    "sm1 = model.embed_operator(sigma_minus, position=1) \n",
    "sz1 = model.embed_operator(sigma_z, position=1)\n",
    "\n",
    "sp2 = model.embed_operator(sigma_plus, position=3) # position=3 is qubit 2\n",
    "sm2 = model.embed_operator(sigma_minus, position=3) \n",
    "sz2 = model.embed_operator(sigma_z, position=3)\n"
   ]
  },
  {
   "cell_type": "markdown",
   "id": "318f6515-797d-4563-b748-20b8ae2e80e8",
   "metadata": {},
   "source": [
    "\\begin{equation}\n",
    "H = \\sum_i -\\frac{\\hbar \\omega_i}{2} \\sigma_{z,i} + \\hbar \\omega \\hat{a}^\\dagger \\hat{a} +  \\sum_i \\hbar g_i ( \\hat{a}  \\sigma_{+,i} + \\hat{a}^\\dagger \\sigma_{-,i} ) + \\lambda \\omega \\sigma^+ \\sigma^-( \\hat{b}^{\\dagger} + \\hat{b} ) + \\hbar \\omega_v \\hat{b}^{\\dagger} \\hat{b}\n",
    "\\end{equation}\n"
   ]
  },
  {
   "cell_type": "code",
   "execution_count": 5,
   "id": "4658a279-03ca-4022-a478-ffec1ec4a72b",
   "metadata": {},
   "outputs": [],
   "source": [
    "# build Hamiltonian where qubit 1 is coupled to the cavity\n",
    "H1 = -model.omega_qubit / 2 * sz1   # qubit 1 energy \n",
    "H1 -= model.omega_qubit / 2 * sz2   # qubit 2 energy\n",
    "H1 += model.omega_cav * ap @ am     # cavity energy\n",
    "H1 += model.omega_vib * bp1 @ bm1   # vib 1 energy\n",
    "H1 += model.omega_vib * bp2 @ bm2   # vib 2 energy\n",
    "H1 += model.g * (am @ sp1 + ap @ sm1) # qubit 1 - cavity coupling\n",
    "H1 += model.omega_vib * model.lambda_vib * sp1 @ sm1 @ (bp1 + bm1) # qubit 1 - vib 1 coupling\n",
    "H1 += model.omega_vib * model.lambda_vib * sp2 @ sm2 @ (bp2 + bm2) # qubit 2 - vib 2 coupling\n",
    "\n",
    "# build Hamiltonian where qubit 2 is coupled to the cavity\n",
    "H2 = np.copy(H1)\n",
    "H2 -= model.g * (am @ sp1 + ap @ sm1)\n",
    "H2 += model.g * (am @ sp2 + ap @ sm2)\n",
    "\n",
    "\n",
    "H_un = np.copy(H2)\n",
    "H2 -= model.g * (am @ sp2 + ap @ sm2)"
   ]
  },
  {
   "cell_type": "code",
   "execution_count": 15,
   "id": "f0b5337c-bdeb-4bcb-85aa-04bebb256228",
   "metadata": {},
   "outputs": [
    {
     "name": "stdout",
     "output_type": "stream",
     "text": [
      "[[0.]]\n",
      "[[-6.9388939e-17]]\n"
     ]
    }
   ],
   "source": [
    "N_state = 8\n",
    "# diagonalize H1\n",
    "eigenvalues_1, polariton_1 = np.linalg.eigh(H1)\n",
    "\n",
    "# express H1 in polariton basis\n",
    "Hpol1 = polariton_1.T @ H1 @ polariton_1\n",
    "\n",
    "# compute expectation value of state |0,e,0,g,0> in uncoupled basis\n",
    "psi = model.basis_state(N_state)\n",
    "#print(psi)\n",
    "\n",
    "E_exp_uncoupled = psi.T @ H1 @ psi\n",
    "\n",
    "psi_pol = polariton_1[N_state,:].reshape(32,1)\n",
    "#print(psi_pol)\n",
    "E_exp_pol = psi_pol.T @ Hpol1 @ psi_pol\n",
    "\n",
    "print(E_exp_uncoupled)\n",
    "print(E_exp_pol)\n",
    "#print(F\"Expectation value in uncoupled basis is {E_exp_uncoupled:12.10f}\")\n",
    "#print(F\"Expectation value in polariton basis is {E_exp_pol:12.10f}\")\n",
    "\n",
    "\n"
   ]
  },
  {
   "cell_type": "code",
   "execution_count": null,
   "id": "33419185-8684-4436-93c6-d693e1d37306",
   "metadata": {},
   "outputs": [],
   "source": [
    "#target_basis_state = model.labels\n",
    "\n",
    "model.represent_basis_in_eigenbasis(model.labels, polariton_1, energies=eigenvalues_1)"
   ]
  },
  {
   "cell_type": "code",
   "execution_count": null,
   "id": "30568d46-bb3e-4bcc-983b-4598a7b52a7e",
   "metadata": {},
   "outputs": [],
   "source": [
    "# Get a basis vector\n",
    "psi = model.basis_state(8)\n",
    "print(\"Basis[8] =\", model.labels[8], psi.T)\n",
    "\n",
    "rho_init =  psi @ psi.T\n"
   ]
  },
  {
   "cell_type": "code",
   "execution_count": null,
   "id": "9ffda956-1931-4e79-ba2d-a4417654c1ff",
   "metadata": {},
   "outputs": [],
   "source": [
    "n_time_1 = np.pi / (4 * model.g)\n",
    "n_time_2 = np.pi / (2 * model.g)\n",
    "\n",
    "print(f\"n_time_1 = {np.floor(n_time_1)}\")\n",
    "print(f\"n_time_2 = {np.floor(n_time_2)}\")\n",
    "\n",
    "\n"
   ]
  },
  {
   "cell_type": "code",
   "execution_count": null,
   "id": "8e5488b1-5a93-4d6e-a913-21c6fcdb4663",
   "metadata": {},
   "outputs": [],
   "source": [
    "\n",
    "\n",
    "dt = 0.01\n",
    "\n",
    "n_time = int(40 / dt) # make sure we get to 40 a.u. of time\n",
    "\n",
    "# arrays to store the populations at each time-step\n",
    "pops_uncoupled = np.zeros((n_time,rho_init.shape[0]))\n",
    "\n",
    "t = []\n",
    "\n",
    "\n",
    "for i in range(n_time):\n",
    "    if i * dt<n_time_1:\n",
    "        # evolve in uncoupled basis\n",
    "        rho_new = model.rk4_step(H1, rho_init, dt, hbar=1.0)\n",
    "\n",
    "    elif i * dt < n_time_1 + n_time_2:\n",
    "        rho_new = model.rk4_step(H2, rho_init, dt, hbar=1)\n",
    "\n",
    "    else: \n",
    "        rho_new = model.rk4_step(H_un, rho_init, dt, hbar=1.0)\n",
    "\n",
    "\n",
    "    t.append(i * dt)\n",
    "    for k in range(rho_init.shape[0]):\n",
    "        # store all populations\n",
    "        pops_uncoupled[i,k] = np.real(rho_new[k,k])\n",
    "\n",
    "\n",
    "    # copy updated rhos in each basis to the rho_init and rho_pol_init for next step\n",
    "    rho_init = np.copy(rho_new)\n"
   ]
  },
  {
   "cell_type": "code",
   "execution_count": null,
   "id": "745dc4c4-fa52-4457-977b-77f6c4275988",
   "metadata": {},
   "outputs": [],
   "source": [
    "print(pops_uncoupled)"
   ]
  },
  {
   "cell_type": "code",
   "execution_count": null,
   "id": "18a63e39-ae07-4fd2-9a63-d0a13a089801",
   "metadata": {},
   "outputs": [],
   "source": [
    "from matplotlib import pyplot as plt\n",
    "plt.plot(t, pops_uncoupled[:,8], label=\"$p_{99}$ uncoupled\")\n",
    "plt.plot(t, pops_uncoupled[:,16], label=\"$p_{1616}$ uncoupled\")\n",
    "plt.plot(t, pops_uncoupled[:,2], label=\"$p_{22}$ uncoupled\")\n",
    "plt.grid()\n",
    "#plt.xlim(10,20)\n",
    "plt.legend()\n",
    "plt.show()"
   ]
  },
  {
   "cell_type": "code",
   "execution_count": null,
   "id": "f2fd53a6-f450-4d36-a82c-b31ccd494f8b",
   "metadata": {},
   "outputs": [],
   "source": []
  },
  {
   "cell_type": "code",
   "execution_count": null,
   "id": "b6087216-808d-4728-b1f7-2fe274191600",
   "metadata": {},
   "outputs": [],
   "source": []
  }
 ],
 "metadata": {
  "kernelspec": {
   "display_name": "Python 3 (ipykernel)",
   "language": "python",
   "name": "python3"
  },
  "language_info": {
   "codemirror_mode": {
    "name": "ipython",
    "version": 3
   },
   "file_extension": ".py",
   "mimetype": "text/x-python",
   "name": "python",
   "nbconvert_exporter": "python",
   "pygments_lexer": "ipython3",
   "version": "3.12.8"
  }
 },
 "nbformat": 4,
 "nbformat_minor": 5
}
