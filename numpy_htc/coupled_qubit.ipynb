{
 "cells": [
  {
   "cell_type": "markdown",
   "id": "bee6628f-d915-4bdf-8558-3b9a33fb76e2",
   "metadata": {},
   "source": [
    "# Description of the physical system\n",
    "We have two molecules ($q_1$ and $q_2$) that each have a ground and excited state, $|g\\rangle, |e\\rangle$.\n",
    "Each molecule also has one vibrational mode ($v_1$ and $v_2$) with occupation states $|0\\rangle, |1\\rangle$.  The molecules can be coupled to a single photonic (cavity) mode, $c$ with occupation states $|0\\rangle, |1\\rangle$.  One important note which is counter-intuitive is that we must give the cavity vibrational states and coupling as well.  In the case that one (or more) qubits are strongly coupled to the cavity, then we end up with polariton states that have different vibronic coupling than the bare molecular states.  The vibronic coupling exists in the tensor product space between the qubit, the cavity, and the vibrations.\n",
    "\n",
    "We are going to work in an uncoupled basis with states\n",
    "\n",
    "$$ |q_1, c, q_2, v_1, v_c, v_2\\rangle $$\n",
    "\n",
    "We will consider evolving the initial state\n",
    "\n",
    "$|\\psi(t=0)\\rangle = |e, 0, g, 0, 0, 0\\rangle$ subject to coupling between $q_1$ and $c$ with vibronic coupling that\n",
    "we parameterize from a QED-CI calculation.  The second qubit will not be coupled to the cavity, but will have vibronic coupling that we parameterize from a CI calculation.\n",
    "\n",
    "In the uncoupled basis, we can write the Hamiltonian as follows:\n",
    "\n",
    "\\begin{align}\n",
    "\\hat{H} = \\hat{H}_{q_1} + \\hat{H}_{c} + \\hat{H}_{q_1-c} + \\hat{H}_{q_1-c-v_1-v_c} + \\hat{H}_{q_2} + \\hat{H}_{v_2} + \\hat{H}_{q_2-v_2} \n",
    "\\end{align}\n",
    "\n",
    "with the Hamiltonian terms that act only on a single subspace given by\n",
    "\\begin{align}\n",
    " \\hat{H}_{q_1} &= \\mathcal{H}_{q_1} \\otimes \\mathcal{I}_c \\otimes \\mathcal{I}_{q_2} \\otimes \\mathcal{I}_{v_1} \\otimes \\mathcal{I}_{v_c} \\otimes \\mathcal{I}_{v_2} \\\\\n",
    "  \\hat{H}_{c} &= \\mathcal{I}_{q_1} \\otimes \\mathcal{H}_c \\otimes \\mathcal{I}_{q_2} \\otimes \\mathcal{I}_{v_1} \\otimes \\mathcal{I}_{v_c} \\otimes \\mathcal{I}_{v_2} \\\\\n",
    "\\hat{H}_{q_2} &= \\mathcal{I}_{q_1} \\otimes \\mathcal{I}_c \\otimes \\mathcal{H}_{q_2} \\otimes \\mathcal{I}_{v_1} \\otimes \\mathcal{I}_{v_c} \\otimes \\mathcal{I}_{v_2} \\\\\n",
    "\\hat{H}_{v_2} &= \\mathcal{I}_{q_1} \\otimes \\mathcal{I}_c \\otimes \\mathcal{I}_{q_2} \\otimes \\mathcal{I}_{v_1} \\otimes \\mathcal{I}_{v_c} \\otimes \\mathcal{H}_{v_2} \\\\\n",
    " \\end{align}\n",
    "\n",
    " with \n",
    "\\begin{align} \n",
    "\\mathcal{H}_{q_1} &= \\mathcal{H}_{q_2} = -\\frac{\\omega_q}{2} \\sigma_z \\\\\n",
    "\\mathcal{H}_{c} &= \\omega_c b^{\\dagger} b \\\\\n",
    "\\mathcal{H}_{v_2} &= \\omega_{v2} b^{\\dagger} b.\n",
    "\\end{align}\n",
    "The qubit-cavity coupling is given by the Pauli-Fierz Hamiltonian truncated to 2 levels for the qubit and 2 photonic Fock states for the cavity:\n",
    "\\begin{align}\n",
    "\\hat{H}_{q_1-c} &= -\\sqrt{ \\frac{\\omega_c}{2}} \\mathcal{d} \\otimes \\left(\\mathcal{b}^{\\dagger} + \\mathcal{ b} \\right) \\otimes \\mathcal{I}_{q_2}  \\otimes \\mathcal{I}_{v_1} \\otimes \\mathcal{I}_{v_c} \\otimes \\mathcal{I}_{v_2} \\\\\n",
    "                &+ \\frac{1}{2} \\mathcal{d}^2 \\otimes \\mathcal{I}_{c} \\otimes \\mathcal{I}_{q_2}  \\otimes \\mathcal{I}_{v_1} \\otimes \\mathcal{I}_{v_c} \\otimes \\mathcal{I}_{v_2}\n",
    "\\end{align}\n",
    "where $\\mathcal{d} = \\lambda \\cdot \\left(\\mu_{gg} \\sigma^- \\sigma^+ + \\mu_{ee} \\sigma^+ \\sigma^-  + \\mu_{eg} \\sigma_x \\right)$\n",
    "and the vibronic coupling for qubit 2 is given by the Holstein term\n",
    "\\begin{equation}\n",
    "\\hat{H}_{q_2-v_2} = \\sqrt{S} \\omega_{v_2} \\mathcal{I}_{q_1} \\otimes \\mathcal{I}_{c}  \\otimes \\mathcal{\\sigma}^+ \\mathcal{\\sigma}^- \\otimes \n",
    "\\mathcal{I}_{v_1} \\otimes \\mathcal{I}_{v_c} \\otimes\n",
    "\\left(\\mathcal{b}^{\\dagger} + \\mathcal{b}\\right) \n",
    "\\end{equation}\n",
    "where $S$ is the Huang-Rhys factor associated with the transition for qubit 2 and $\\omega_{v_2} = \\frac{\\omega + \\omega'}{2}$ is the average of the vibrational frequency on the ground and excited state of qubit 2.\n",
    "\n",
    "Importantly, we do not know a simple form for $\\hat{H}_{q_1-c-v_1-v_c}$.  However, we can parameterize a polaritonic-vibronic Hamiltonian term from QED-CI calculations as follows.  \n",
    "\n",
    "**Note 1** Each polaritonic state from a QED-CI calculation ($pol1 \\rightarrow$ lowest energy eigenstate, $pol2 \\rightarrow$ lower polariton state, $pol3 \\rightarrow$ upper-polariton state, $pol4 \\rightarrow$ highest energy eigenstate) will have an equilibrium geometry and fundamental vibrational frequency.  We can also identify Huang-Rhys factors for the transitions between each polariton state.  With this information together, we can write a Hamiltonian that contains the polaritonic vibrational states and their couplings as follows:\n",
    "\n",
    "$$ \\hat{H}_{pol-vib} = \\sum_{i=1}^4  \\omega_i |i\\rangle \\langle i| \\otimes \\mathcal{I}_{q_2} \\otimes \\mathcal{b}^{\\dagger} \\mathcal{b} \\otimes \\mathcal{I}_{v_2} + \\sum_{i \\neq j}^4 \\sqrt{S_{ij}} \\frac{\\omega_i + \\omega_j}{2} |i\\rangle \\langle j| \\otimes \\mathcal{I}_{q_2} \\otimes \\left( \\mathcal{b}^{\\dagger} + \\mathcal{b} \\right) \\otimes \\mathcal{I}_{v_2} $$\n",
    "\n",
    "where the projection operator $|i\\rangle\\langle j|$ is defined in terms of polariton states $i$ and $j$.\n",
    "\n",
    "We can define a transformation matrix from the uncoupled basis to the polariton basis by diagonalizing the PF term:\n",
    "\n",
    "$$ \\hat{H}_{pol} = \\mathcal{U}^{\\dagger} \\hat{H}_{q_1-c} \\mathcal{U} $$\n",
    "\n",
    "such that we can define $\\hat{H}_{q_1-c-v_1-v_c}$ as a related transformation on $\\hat{H}_{pol-vib}$:\n",
    "\n",
    "$$ \\hat{H}_{q_1-c-v_1-v_c} = \\mathcal{U} \\hat{H}_{pol-vib} \\mathcal{U}^{\\dagger} $$\n",
    "\n",
    "**Note 2** We build $\\hat{H}_{q_1-c}$ utilizing the same $\\lambda$, $\\omega_c$ we used for the QED-CI calculations, and we parameterize $mathcal{d}$ and $\\omega_q$ from CI calculations on the bare molecular system.  We diagonalize this matrix to generate $\\mathcal{U}$.\n",
    "\n",
    "**Note 3** All terms besides $\\hat{H}_{q_1-c-v_1-v_c}$ can be build directly in the uncoupled basis using $\\lambda$, $\\omega_c$ from the QED-CI calculation, $\\omega_q$, $\\omega$, $\\omega'$, and $S$ from a CI calculation on the qubit system.  $\\hat{H}_{pol-vib}$ can be build directly from the QED-CI calculation, and then transformed to build $\\hat{H}_{q_1-c-v_1-v_c}$.\n",
    "\n",
    "**Note 4** We propagate with the total Hamiltonian in the uncoupled basis.\n"
   ]
  },
  {
   "cell_type": "markdown",
   "id": "96690a45",
   "metadata": {},
   "source": [
    "Some details about MgH+ coupled to a cavity at "
   ]
  },
  {
   "cell_type": "code",
   "execution_count": null,
   "id": "d5ce6feb-709a-47de-a01a-9abd58bebc9e",
   "metadata": {},
   "outputs": [
    {
     "name": "stdout",
     "output_type": "stream",
     "text": [
      "Total Hilbert space dimension: 32\n",
      "cavity coupling λ: 1.0, qubit-vib λ: 0.01\n"
     ]
    }
   ],
   "source": [
    "from htc_numpy import HTC_Numpy\n",
    "import numpy as np\n",
    "\n",
    "params = {\n",
    "    # --- Hilbert space truncations ---\n",
    "    \"dim_cavity\": 2,             # truncate cavity to 2 photon levels\n",
    "    \"dim_vib\": 2,                # truncate each vibrational mode to 2 levels\n",
    "    \"n_qubits\": 2,               # number of qubits\n",
    "    \"n_vib_per_qubit\": 1,        # each qubit has 1 vibrational mode\n",
    "\n",
    "    # --- Uncoupled basis parameters ---\n",
    "    \"lambda_value\" : 0.1,           #  fundamental cavity coupling strength λ\n",
    "    \"freq_cavity\": 0.135973,        # ω_cavity for MgH+\n",
    "    \"freq_qubit\": 1.0,              # ω_qubit\n",
    "    \"freq_vib_qubit\": 0.1,          # ω_v (qubit vibrational mode)\n",
    "    \"coupling_qubit_vib\": 0.01,     # Huang–Rhys factor λ (qubit–vibration coupling)\n",
    "    \"qubit_dipole_values\": [1.0, 1.0, 1.0], # [μ_gg, μ_eg, μ_ee] dipole matrix elements\n",
    "\n",
    "    # --- Polaritonic basis parameters ---\n",
    "    \"polariton_energies\": [-0.16771931,  0.74784896,  1.34518339,  4.07468696],    # E_pol states\n",
    "    \"polariton_vib_frequencies\": [0.1, 0.1, 0.1, 0.1],  # vib freq per polariton\n",
    "    \"polariton_vib_couplings\": [0.01, 0.01, 0.01],     # λ per polariton surface\n",
    "}\n",
    "\n",
    "### some parameters for MgH+ at r = 1.65 Angstroms\n",
    "\n",
    "mu_gg = -2.753928108005\n",
    "\n",
    "   0 ->    0      -0.000000000000      -0.000000000000      -2.753928108005\n",
    "   0 ->    1      -0.000000000000      -0.000000000000       0.000000000001\n",
    "   0 ->    2       0.000000000001       0.000000000000      -0.784657504495\n",
    "   0 ->    3      -0.000000000000      -0.000000000000       1.460663962807\n",
    "   0 ->    4      -0.000000000107       0.000000001875      -0.000000000000\n",
    "   0 ->    5       0.000000496820      -0.000008720599       0.000000000000\n",
    "   1 ->    1      -0.000000000000       0.000000000000      -0.374872606348\n",
    "   1 ->    2      -0.000000000000       0.000000000000      -0.000000000001\n",
    "   1 ->    3      -0.000000000000      -0.000000000000      -0.000000000001\n",
    "   1 ->    4      -1.652969115801      -0.094527784842       0.000000000000\n",
    "   1 ->    5      -0.094527784463       1.652969109120       0.000000000000\n",
    "   2 ->    2      -0.000000000000       0.000000000000      -2.316729450526\n",
    "   2 ->    3       0.000000000000       0.000000000000      -0.945457923713\n",
    "   2 ->    4       0.000000000040      -0.000000000698      -0.000000000000\n",
    "   2 ->    5      -0.000000185031       0.000003247821       0.000000000000\n",
    "   3 ->    3      -0.000000000000      -0.000000000000      -1.218679897112\n",
    "\n",
    "# Example: 1 cavity, 2 qubits, 2 vib modes, truncation=2\n",
    "model = HTC_Numpy(params)\n",
    "\n",
    "\n",
    "np.set_printoptions(threshold=np.inf)\n"
   ]
  },
  {
   "cell_type": "code",
   "execution_count": 15,
   "id": "f0657e32-6b03-430d-8d9a-8c880051ba03",
   "metadata": {},
   "outputs": [
    {
     "name": "stdout",
     "output_type": "stream",
     "text": [
      "Pauli-Fierz Hamiltonian:\n",
      " [[ 0.5         1.         -0.70710678 -0.70710678]\n",
      " [ 1.          1.5        -0.70710678 -0.70710678]\n",
      " [-0.70710678 -0.70710678  1.5         1.        ]\n",
      " [-0.70710678 -0.70710678  1.          2.5       ]]\n",
      "[-0.16771931  0.74784896  1.34518339  4.07468696]\n",
      "[0.15170869 0.85528118 0.12616059 0.47912637]\n"
     ]
    }
   ],
   "source": [
    "# bosonic operators for the cavity\n",
    "a = model.annihilation(model.dim_cavity)\n",
    "a_dag = model.creation(model.dim_cavity)\n",
    "\n",
    "# identity for cavity mode\n",
    "I_cav = np.eye(model.dim_cavity)\n",
    "# identity for qubit\n",
    "I_qubit = np.eye(model.dim_qubit)\n",
    "\n",
    "# d for the Pauli-Fierz Hamiltonian\n",
    "d = model.lambda_value * model.qubit_dipole_matrix\n",
    "\n",
    "# Pauli-Fierz Hamiltonian - might want to re-order the basis so cavity is first\n",
    "H_PF = -0.5 * model.freq_qubit * np.kron(I_cav, model.sigma_z()) \n",
    "H_PF += model.freq_cavity * np.kron(a_dag @ a, I_qubit,)\n",
    "H_PF += - np.sqrt(model.freq_cavity / 2) * np.kron((a_dag + a), d)\n",
    "H_PF += 0.5 * np.kron(I_cav, (d @ d)) \n",
    "print(\"Pauli-Fierz Hamiltonian:\\n\", H_PF)\n",
    "\n",
    "vals, vecs = np.linalg.eigh(H_PF)\n",
    "print(vals)\n",
    "\n",
    "# this is the transformation from \n",
    "init_state_pol = vecs[2,:]\n",
    "print(init_state_pol)\n",
    "\n",
    "# initial_state in uncoupled basis\n",
    "init_rho_uncoupled = model.bu\n"
   ]
  },
  {
   "cell_type": "markdown",
   "id": "58386ae3",
   "metadata": {},
   "source": [
    "Build Polariton Hamiltonian with the following form:\n",
    "\n",
    "$$ H = H_{pol} \\otimes \\mathcal{I}_2 + H_{pol-vib} + H_{pol_vib_coup} $$\n",
    "\n",
    "where \n",
    "\n",
    "$$ H_{pol} = \\sum_{i=1}^4 \\epsilon_i |i\\rangle \\langle i| $$\n",
    "\n",
    "$$ H_{pol-vib} = \\sum_{i=1}^4 \\omega_i |i\\rangle \\langle i| \\otimes \\left( \\hat{b}^{\\dagger} \\hat{b} \\right)$$\n",
    "\n",
    "$$ H_{pol-vib-coup} = \\sum_{i\\neq j}^4 \\lambda_{ij} \\frac{\\omega_i + \\omega_j}{2} |i\\rangle \\langle i| \\otimes \\left( \\hat{b}^{\\dagger} + \\hat{b} \\right)$$\n",
    "\n",
    "Here these quantities will come from a QED-CI calculation of some sort!"
   ]
  },
  {
   "cell_type": "code",
   "execution_count": 6,
   "id": "08703538",
   "metadata": {},
   "outputs": [
    {
     "name": "stdout",
     "output_type": "stream",
     "text": [
      "Polaritonic Hamiltonian:\n",
      " [[-0.16771931  0.          0.          0.        ]\n",
      " [ 0.          0.74784896  0.          0.        ]\n",
      " [ 0.          0.          1.34518339  0.        ]\n",
      " [ 0.          0.          0.          4.07468696]]\n",
      "Polaritonic + Vibrational Hamiltonian:\n",
      " [[0.  0.  0.  0.  0.  0.  0.  0. ]\n",
      " [0.  0.1 0.  0.  0.  0.  0.  0. ]\n",
      " [0.  0.  0.  0.  0.  0.  0.  0. ]\n",
      " [0.  0.  0.  0.1 0.  0.  0.  0. ]\n",
      " [0.  0.  0.  0.  0.  0.  0.  0. ]\n",
      " [0.  0.  0.  0.  0.  0.1 0.  0. ]\n",
      " [0.  0.  0.  0.  0.  0.  0.  0. ]\n",
      " [0.  0.  0.  0.  0.  0.  0.  0.1]]\n",
      "Polaritonic + Vibrational + Coupling Hamiltonian:\n",
      " [[0.   0.   0.   0.01 0.   0.01 0.   0.01]\n",
      " [0.   0.   0.01 0.   0.01 0.   0.01 0.  ]\n",
      " [0.   0.01 0.   0.   0.   0.   0.   0.  ]\n",
      " [0.01 0.   0.   0.   0.   0.   0.   0.  ]\n",
      " [0.   0.01 0.   0.   0.   0.   0.   0.  ]\n",
      " [0.01 0.   0.   0.   0.   0.   0.   0.  ]\n",
      " [0.   0.01 0.   0.   0.   0.   0.   0.  ]\n",
      " [0.01 0.   0.   0.   0.   0.   0.   0.  ]]\n",
      "Total Hamiltonian:\n",
      " [[-0.16771931  0.          0.          0.01        0.          0.01\n",
      "   0.          0.01      ]\n",
      " [ 0.         -0.06771931  0.01        0.          0.01        0.\n",
      "   0.01        0.        ]\n",
      " [ 0.          0.01        0.74784896  0.          0.          0.\n",
      "   0.          0.        ]\n",
      " [ 0.01        0.          0.          0.84784896  0.          0.\n",
      "   0.          0.        ]\n",
      " [ 0.          0.01        0.          0.          1.34518339  0.\n",
      "   0.          0.        ]\n",
      " [ 0.01        0.          0.          0.          0.          1.44518339\n",
      "   0.          0.        ]\n",
      " [ 0.          0.01        0.          0.          0.          0.\n",
      "   4.07468696  0.        ]\n",
      " [ 0.01        0.          0.          0.          0.          0.\n",
      "   0.          4.17468696]]\n"
     ]
    }
   ],
   "source": [
    "H_pol = model.build_polariton_hamiltonian()\n",
    "print(\"Polaritonic Hamiltonian:\\n\", H_pol)\n",
    "\n",
    "H_polvib = model.build_polariton_vibrational_hamiltonian()\n",
    "print(\"Polaritonic + Vibrational Hamiltonian:\\n\", H_polvib)\n",
    "\n",
    "H_polvib_coupling = model.build_polariton_vib_coupling()\n",
    "print(\"Polaritonic + Vibrational + Coupling Hamiltonian:\\n\", H_polvib_coupling)\n",
    "\n",
    "H = np.kron(H_pol, np.eye(model.dim_vib)) + H_polvib + H_polvib_coupling\n",
    "print(\"Total Hamiltonian:\\n\", H)"
   ]
  },
  {
   "cell_type": "markdown",
   "id": "91c7131c",
   "metadata": {},
   "source": [
    "We next want to build the Pauli-Fierz Hamiltonian that corresponds to $H_{pol}$ in the following way:\n",
    "\n",
    "$$ \\hat{U}^{\\dagger} H_{\\rm PF} \\hat{U} = H_{pol} $$\n",
    "\n",
    "with \n",
    "\n",
    "$$ H_{\\rm PF} = -\\frac{\\omega}{2} \\sigma_z \\otimes \\mathcal{I}_{2} + \\omega \\mathcal{I}_{2} \\otimes \\hat{a}^{\\dagger} \\hat{a} - \\sqrt{\\frac{\\omega}{2}} \\lambda \\cdot \\hat{\\mu} \\otimes \\left(\\hat{a}^{\\dagger} + \\hat{a}  \\right) + \\frac{1}{2} (\\lambda \\cdot \\hat{\\mu})^2 \\otimes \\mathcal{I}_2 $$"
   ]
  },
  {
   "cell_type": "code",
   "execution_count": null,
   "id": "dcf187d9",
   "metadata": {},
   "outputs": [
    {
     "name": "stdout",
     "output_type": "stream",
     "text": [
      "Pauli-Fierz Hamiltonian:\n",
      " [[ 0.5        -0.70710678  1.         -0.70710678]\n",
      " [-0.70710678  1.5        -0.70710678  1.        ]\n",
      " [ 1.         -0.70710678  1.5        -0.70710678]\n",
      " [-0.70710678  1.         -0.70710678  2.5       ]]\n",
      "DSE Term:\n",
      " [[1. 0. 1. 0.]\n",
      " [0. 1. 0. 1.]\n",
      " [1. 0. 1. 0.]\n",
      " [0. 1. 0. 1.]]\n"
     ]
    }
   ],
   "source": [
    "# bosonic operators for the cavity\n",
    "a = model.annihilation(model.dim_cavity)\n",
    "a_dag = model.creation(model.dim_cavity)\n",
    "\n",
    "# identity for cavity mode\n",
    "I_cav = np.eye(model.dim_cavity)\n",
    "# identity for qubit\n",
    "I_qubit = np.eye(model.dim_qubit)\n",
    "\n",
    "# d for the Pauli-Fierz Hamiltonian\n",
    "d = model.lambda_value * model.qubit_dipole_matrix\n",
    "\n",
    "# Pauli-Fierz Hamiltonian - might want to re-order the basis so cavity is first\n",
    "H_PF = -0.5 * model.freq_qubit * np.kron(model.sigma_z(), I_cav) \n",
    "H_PF += model.freq_cavity * np.kron(I_qubit, a_dag @ a)\n",
    "H_PF += - np.sqrt(model.freq_cavity / 2) * np.kron(d, (a_dag + a))\n",
    "H_PF += 0.5 * np.kron((d @ d),  I_cav) \n",
    "print(\"Pauli-Fierz Hamiltonian:\\n\", H_PF)\n"
   ]
  },
  {
   "cell_type": "markdown",
   "id": "322daf45",
   "metadata": {},
   "source": [
    "Get the transformation matrix $$\\hat{U}$$ by diagonalizing $H_{PF}$"
   ]
  },
  {
   "cell_type": "code",
   "execution_count": 6,
   "id": "ec01190a",
   "metadata": {},
   "outputs": [
    {
     "name": "stdout",
     "output_type": "stream",
     "text": [
      "Transformation matrix U:\n",
      " [[ 0.8832374   0.08470876  0.29731553 -0.35258984]\n",
      " [ 0.15170869  0.85528118 -0.12616059  0.47912637]\n",
      " [-0.4395301   0.42648448  0.64909188 -0.45122501]\n",
      " [ 0.06074093 -0.28183242  0.68874285  0.66521749]]\n"
     ]
    }
   ],
   "source": [
    "eigs, U = np.linalg.eigh(H_PF)\n",
    "print(\"Transformation matrix U:\\n\", U)"
   ]
  },
  {
   "cell_type": "code",
   "execution_count": null,
   "id": "859d5018-8562-457a-86ad-f59ea95fce89",
   "metadata": {},
   "outputs": [
    {
     "ename": "AttributeError",
     "evalue": "'HTC_Numpy' object has no attribute 'cav_dim'",
     "output_type": "error",
     "traceback": [
      "\u001b[0;31m---------------------------------------------------------------------------\u001b[0m",
      "\u001b[0;31mAttributeError\u001b[0m                            Traceback (most recent call last)",
      "Cell \u001b[0;32mIn[3], line 4\u001b[0m\n\u001b[1;32m      1\u001b[0m \u001b[38;5;66;03m# build subspace operators\u001b[39;00m\n\u001b[1;32m      2\u001b[0m \n\u001b[1;32m      3\u001b[0m \u001b[38;5;66;03m# bosonic operators\u001b[39;00m\n\u001b[0;32m----> 4\u001b[0m lowering \u001b[38;5;241m=\u001b[39m model\u001b[38;5;241m.\u001b[39mannihilation(model\u001b[38;5;241m.\u001b[39mcav_dim)\n\u001b[1;32m      5\u001b[0m raising \u001b[38;5;241m=\u001b[39m model\u001b[38;5;241m.\u001b[39mcreation(model\u001b[38;5;241m.\u001b[39mcav_dim)\n\u001b[1;32m      7\u001b[0m \u001b[38;5;66;03m# qubit operators\u001b[39;00m\n",
      "\u001b[0;31mAttributeError\u001b[0m: 'HTC_Numpy' object has no attribute 'cav_dim'"
     ]
    }
   ],
   "source": [
    "# build subspace operators\n",
    "\n",
    "# bosonic operators\n",
    "lowering = model.annihilation(model.dim_cavity)\n",
    "raising = model.creation(model.dim_cavity)\n",
    "\n",
    "# qubit operators\n",
    "sigma_plus = model.sigma_plus()\n",
    "sigma_minus = model.sigma_minus()\n",
    "sigma_z = model.sigma_z()\n",
    "\n",
    "\n",
    "# embed operators into full hilbert space\n",
    "am = model.embed_operator(lowering, position=0)   # position=0 is cavity\n",
    "ap = model.embed_operator(raising, position=0) \n",
    "\n",
    "bm1 = model.embed_operator(lowering, position=2) # position=2 is vib 1\n",
    "bp1 = model.embed_operator(raising, position=2) \n",
    "\n",
    "\n",
    "sp1 = model.embed_operator(sigma_plus, position=1) # position=1 is qubit 1\n",
    "sm1 = model.embed_operator(sigma_minus, position=1) \n",
    "sz1 = model.embed_operator(sigma_z, position=1)\n"
   ]
  },
  {
   "cell_type": "markdown",
   "id": "318f6515-797d-4563-b748-20b8ae2e80e8",
   "metadata": {},
   "source": [
    "\\begin{equation}\n",
    "H = \\sum_i -\\frac{\\hbar \\omega_i}{2} \\sigma_{z,i} + \\hbar \\omega \\hat{a}^\\dagger \\hat{a} +  \\sum_i \\hbar g_i ( \\hat{a}  \\sigma_{+,i} + \\hat{a}^\\dagger \\sigma_{-,i} ) + \\lambda \\omega \\sigma^+ \\sigma^-( \\hat{b}^{\\dagger} + \\hat{b} ) + \\hbar \\omega_v \\hat{b}^{\\dagger} \\hat{b}\n",
    "\\end{equation}\n"
   ]
  },
  {
   "cell_type": "code",
   "execution_count": null,
   "id": "4658a279-03ca-4022-a478-ffec1ec4a72b",
   "metadata": {},
   "outputs": [],
   "source": [
    "# build Hamiltonian where qubit 1 is coupled to the cavity\n",
    "H1 = -model.omega_qubit / 2 * sz1   # qubit 1 energy \n",
    "H1 += model.omega_cav * ap @ am     # cavity energy\n",
    "H1 += model.g * (am @ sp1 + ap @ sm1) # qubit 1 - cavity coupling\n",
    "\n",
    "# get the polariton Hamiltonian\n",
    "# diagonalize H1    \n",
    "evals, evecs = np.linalg.eigh(H1)\n",
    "\n",
    "H1 += model.omega_vib * bp1 @ bm1   # vib 1 energy\n",
    "H1 += model.omega_vib * model.lambda_vib * sp1 @ sm1 @ (bp1 + bm1) # qubit 1 - vib 1 coupling\n",
    "\n",
    "\n",
    "# diagonalize"
   ]
  },
  {
   "cell_type": "code",
   "execution_count": null,
   "id": "f0b5337c-bdeb-4bcb-85aa-04bebb256228",
   "metadata": {},
   "outputs": [],
   "source": [
    "N_state = 8\n",
    "# diagonalize H1\n",
    "eigenvalues_1, polariton_1 = np.linalg.eigh(H1)\n",
    "\n",
    "# express H1 in polariton basis\n",
    "Hpol1 = polariton_1.T @ H1 @ polariton_1\n",
    "\n",
    "# compute expectation value of state |0,e,0,g,0> in uncoupled basis\n",
    "psi = model.basis_state(N_state)\n",
    "#print(psi)\n",
    "\n",
    "E_exp_uncoupled = psi.T @ H1 @ psi\n",
    "\n",
    "psi_pol = polariton_1[N_state,:].reshape(32,1)\n",
    "#print(psi_pol)\n",
    "E_exp_pol = psi_pol.T @ Hpol1 @ psi_pol\n",
    "\n",
    "print(E_exp_uncoupled)\n",
    "print(E_exp_pol)\n",
    "#print(F\"Expectation value in uncoupled basis is {E_exp_uncoupled:12.10f}\")\n",
    "#print(F\"Expectation value in polariton basis is {E_exp_pol:12.10f}\")\n",
    "\n",
    "\n"
   ]
  },
  {
   "cell_type": "code",
   "execution_count": null,
   "id": "33419185-8684-4436-93c6-d693e1d37306",
   "metadata": {},
   "outputs": [],
   "source": [
    "#target_basis_state = model.labels\n",
    "\n",
    "model.represent_basis_in_eigenbasis(model.labels, polariton_1, energies=eigenvalues_1)"
   ]
  },
  {
   "cell_type": "code",
   "execution_count": null,
   "id": "30568d46-bb3e-4bcc-983b-4598a7b52a7e",
   "metadata": {},
   "outputs": [],
   "source": [
    "# Get a basis vector\n",
    "psi = model.basis_state(8)\n",
    "print(\"Basis[8] =\", model.labels[8], psi.T)\n",
    "\n",
    "rho_init =  psi @ psi.T\n"
   ]
  },
  {
   "cell_type": "code",
   "execution_count": null,
   "id": "9ffda956-1931-4e79-ba2d-a4417654c1ff",
   "metadata": {},
   "outputs": [],
   "source": [
    "n_time_1 = np.pi / (4 * model.g)\n",
    "n_time_2 = np.pi / (2 * model.g)\n",
    "\n",
    "print(f\"n_time_1 = {np.floor(n_time_1)}\")\n",
    "print(f\"n_time_2 = {np.floor(n_time_2)}\")\n",
    "\n",
    "\n"
   ]
  },
  {
   "cell_type": "code",
   "execution_count": null,
   "id": "8e5488b1-5a93-4d6e-a913-21c6fcdb4663",
   "metadata": {},
   "outputs": [],
   "source": [
    "\n",
    "\n",
    "dt = 0.01\n",
    "\n",
    "n_time = int(40 / dt) # make sure we get to 40 a.u. of time\n",
    "\n",
    "# arrays to store the populations at each time-step\n",
    "pops_uncoupled = np.zeros((n_time,rho_init.shape[0]))\n",
    "\n",
    "t = []\n",
    "\n",
    "\n",
    "for i in range(n_time):\n",
    "    if i * dt<n_time_1:\n",
    "        # evolve in uncoupled basis\n",
    "        rho_new = model.rk4_step(H1, rho_init, dt, hbar=1.0)\n",
    "\n",
    "    elif i * dt < n_time_1 + n_time_2:\n",
    "        rho_new = model.rk4_step(H2, rho_init, dt, hbar=1)\n",
    "\n",
    "    else: \n",
    "        rho_new = model.rk4_step(H_un, rho_init, dt, hbar=1.0)\n",
    "\n",
    "\n",
    "    t.append(i * dt)\n",
    "    for k in range(rho_init.shape[0]):\n",
    "        # store all populations\n",
    "        pops_uncoupled[i,k] = np.real(rho_new[k,k])\n",
    "\n",
    "\n",
    "    # copy updated rhos in each basis to the rho_init and rho_pol_init for next step\n",
    "    rho_init = np.copy(rho_new)\n"
   ]
  },
  {
   "cell_type": "code",
   "execution_count": null,
   "id": "745dc4c4-fa52-4457-977b-77f6c4275988",
   "metadata": {},
   "outputs": [],
   "source": [
    "print(pops_uncoupled)"
   ]
  },
  {
   "cell_type": "code",
   "execution_count": null,
   "id": "18a63e39-ae07-4fd2-9a63-d0a13a089801",
   "metadata": {},
   "outputs": [],
   "source": [
    "from matplotlib import pyplot as plt\n",
    "plt.plot(t, pops_uncoupled[:,8], label=\"$p_{99}$ uncoupled\")\n",
    "plt.plot(t, pops_uncoupled[:,16], label=\"$p_{1616}$ uncoupled\")\n",
    "plt.plot(t, pops_uncoupled[:,2], label=\"$p_{22}$ uncoupled\")\n",
    "plt.grid()\n",
    "#plt.xlim(10,20)\n",
    "plt.legend()\n",
    "plt.show()"
   ]
  },
  {
   "cell_type": "code",
   "execution_count": null,
   "id": "f2fd53a6-f450-4d36-a82c-b31ccd494f8b",
   "metadata": {},
   "outputs": [],
   "source": []
  },
  {
   "cell_type": "code",
   "execution_count": null,
   "id": "b6087216-808d-4728-b1f7-2fe274191600",
   "metadata": {},
   "outputs": [],
   "source": []
  }
 ],
 "metadata": {
  "kernelspec": {
   "display_name": "Python 3 (ipykernel)",
   "language": "python",
   "name": "python3"
  },
  "language_info": {
   "codemirror_mode": {
    "name": "ipython",
    "version": 3
   },
   "file_extension": ".py",
   "mimetype": "text/x-python",
   "name": "python",
   "nbconvert_exporter": "python",
   "pygments_lexer": "ipython3",
   "version": "3.12.8"
  }
 },
 "nbformat": 4,
 "nbformat_minor": 5
}
