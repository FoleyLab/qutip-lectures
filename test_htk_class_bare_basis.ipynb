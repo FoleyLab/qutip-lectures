{
 "cells": [
  {
   "cell_type": "code",
   "execution_count": 1,
   "id": "dfe5211f-9093-4d70-88f2-ce0ebcf7fc99",
   "metadata": {},
   "outputs": [],
   "source": [
    "from htc_class_testing import HolsteinTavisCummings\n",
    "import numpy as np\n",
    "from qutip import *\n",
    "from qutip.core.gates import *\n",
    "from numpy import array\n",
    "from numpy import real\n",
    "import matplotlib.pyplot as plt\n",
    "pi = np.pi\n",
    "hf_params = {\n",
    "    'w_q1': 0.8365513706206968,         # Qubit 1 frequency (e.g., in GHz)\n",
    "    'w_q2': 0.8365513706206968,         # Qubit 2 frequency\n",
    "    'w_vib1': 0.018335911729858174,       # Vibrational mode 1 frequency\n",
    "    'w_vib2': 0.018335911729858174,      # Vibrational mode 2 frequency\n",
    "    'w_cav': 5 * np.pi,        # Cavity frequency\n",
    "    'S_1': 1.0,         # Huang-Rhys factor for qubit 1 and vib 1\n",
    "    'S_2': 1.0,         # Huang-Rhys factor for qubit 2 and vib 2\n",
    "    'lambda_1': 0.026919208248238624,     # Cavity coupling strength for qubit 1\n",
    "    'lambda_2': 0.026919208248238624,    # Cavity coupling strength for qubit 2\n",
    "    'N_vib': 2,         # Number of vibrational states to include\n",
    "    'N_cav': 2,          # Cavity truncation level\n",
    "    #'sigma_z_Hq' : True, # formulate qubit Hamiltonians as -w / 2 * sigma_z\n",
    "    'qubit_1_dipole_moments' : \n",
    "    { \n",
    "        'mu_g': -0.7275466054308762, #ground dipole moment\n",
    "        'mu_e': 0.7751862316027126, #excited dipole moment\n",
    "        'mu_eg': 0.8142093557243336 #transition dipole moment\n",
    "    },\n",
    "    'qubit_2_dipole_moments' : \n",
    "    { \n",
    "        'mu_g': -0.7275466054308762, #ground dipole moment\n",
    "        'mu_e': 0.7751862316027126, #excited dipole moment\n",
    "        'mu_eg': 0.8142093557243336 #transition dipole moment\n",
    "    }\n",
    "}\n",
    "\n",
    "# using the same paramters as the tutorial for now!\n",
    "tutorial_params = {\n",
    "\n",
    "    'w_q1': 3 * 2 * np.pi,         # Qubit 1 frequency (e.g., in GHz)\n",
    "    'w_q2': 2 * 2 * np.pi,         # Qubit 2 frequency\n",
    "    'w_vib1': 0.1 * 2 * np.pi, #18335911729858174,       # Vibrational mode 1 frequency\n",
    "    'w_vib2': 0.1 * 2 * np.pi, #18335911729858174,      # Vibrational mode 2 frequency\n",
    "    'w_cav': 5 * 2 * np.pi,        # Cavity frequency\n",
    "    'S_1': 0.1,         # Huang-Rhys factor for qubit 1 and vib 1\n",
    "    'S_2': 0.1,         # Huang-Rhys factor for qubit 2 and vib 2\n",
    "    'lambda_1': 0.02,     # Cavity coupling strength for qubit 1\n",
    "    'lambda_2': 0.02,    # Cavity coupling strength for qubit 2\n",
    "    'N_vib': 2,         # Number of vibrational states to include\n",
    "    'N_cav': 2,          # Cavity truncation level\n",
    "    'simple_g' : True,\n",
    "    'sigma_z_Hq' : True, # formulate qubit Hamiltonians as -w / 2 * sigma_z\n",
    "    'g1' : 0.01 * 2 * np.pi,\n",
    "    'g2' : 0.0125 * 2 * np.pi\n",
    "}\n",
    "\n",
    "\n",
    "# Example parameters\n",
    "system = HolsteinTavisCummings( tutorial_params )\n",
    "g1 = system.g1\n",
    "g2 = system.g2\n",
    "\n",
    "\n",
    "tlist = np.linspace(0, 100, 500)\n",
    "\n",
    "width = 0.5\n",
    "\n",
    "# resonant SQRT iSWAP gate\n",
    "# T0_1 = 20\n",
    "# T_gate_1 = (1*pi)/(4 * g1)\n",
    "\n",
    "# # resonant iSWAP gate\n",
    "# T0_2 = 60\n",
    "# T_gate_2 = (2 *pi)/(4 * g2)\n"
   ]
  },
  {
   "cell_type": "code",
   "execution_count": 2,
   "id": "2373babd-e8e4-4c81-983e-b9eaeeec4ffc",
   "metadata": {},
   "outputs": [
    {
     "name": "stdout",
     "output_type": "stream",
     "text": [
      "Using Tavis-Cummings coupling\n",
      "Using simple g coupling\n",
      "g1: 0.06283185307179587, g2: 0.07853981633974483\n"
     ]
    }
   ],
   "source": [
    "system.build_hamiltonian()\n",
    "g1 = system._g1\n",
    "g2 = system._g2\n",
    "\n",
    "# resonant SQRT iSWAP gate\n",
    "T0_1 = 20\n",
    "T_gate_1 = (1*pi)/(4 * g1)\n",
    "\n",
    "# resonant iSWAP gate\n",
    "T0_2 = 60\n",
    "T_gate_2 = (2 *pi)/(4 * g2)\n",
    "\n",
    "# the following attributes store the different contributions to the Hamiltonian (all on the full Hilbert space)\n",
    "### Bare Hamiltonians\n",
    "# .H_q1 -> qubit 1 Hamiltonian\n",
    "# .H_q2 -> qubit 2 Hamiltonian\n",
    "# .H_qubit -> qubit 1 + qubit 2 Hamiltonian \n",
    "# .H_vib1 -> vibrational Hamiltonian for qubit 1\n",
    "# .H_vib2 -> vibrational Hamiltonian for qubit 2\n",
    "# .H_vibrational -> vibrational Hamiltonians for qubit 1 + qubit 2\n",
    "# .H_cav -> cavity Hamiltonian\n",
    "\n",
    "# Coupling Hamiltonians\n",
    "# Note on qubit - cavity coupling - several flavors available:\n",
    "#  a. Tavis-Cummings (parameterized by `g1` and `g2` or by `sqrt(w1/2) * lambda * mu1_{eg}` and  `sqrt(w2/2) * lambda * mu2_{eg}`  \n",
    "#  b. Pauli-Fierz (sqrt(w1/2) * lambda * mu1, sqrt(w2/2) * lambda * mu2 using full operators)\n",
    "#  c. If Pauli-Fierz, may also include dipole self energy if requested\n",
    "\n",
    "# .H_q1_cav -> coupling between qubit 1 and cavity\n",
    "# .H_q2_cav -> coupling between qubit 2 and cavity\n",
    "# .H_qubit_cavity_coupling -> coupling between qubits 1 and 2 and cavity\n",
    "\n",
    "# .H_q1_vib1 -> vibronic coupling for qubit 1\n",
    "# .H_q2_vib2 -> vibronic coupling for qubit 2\n",
    "# .H_qubit_vibrational_coupling -> vibronic couplings for qubit 1 and qubit 2"
   ]
  },
  {
   "cell_type": "code",
   "execution_count": 3,
   "id": "0474df79-5836-4b18-b3a4-22edccb68896",
   "metadata": {},
   "outputs": [],
   "source": [
    "wc = system.w_cav\n",
    "w1 = system.w_q1\n",
    "w2 = system.w_q2\n",
    "def step_t(w1, w2, t0, width, t):\n",
    "    \"\"\"\n",
    "    Step function that goes from w1 to w2 at time t0\n",
    "    as a function of t. \n",
    "    \"\"\"\n",
    "    return w1 + (w2 - w1) * (t > t0)\n",
    "    #return w1 + (w2 - w1) * (0 > np.sin(t * pi/t0))\n",
    "\n",
    "def wc_t(t, args=None):\n",
    "    return wc\n",
    "\n",
    "def w1_t(t, args=None):\n",
    "    return w1 + step_t(0.0, wc-w1, T0_1, width, t) - step_t(0.0, wc-w1, T0_1+T_gate_1, width, t)\n",
    "    #return step_t(w1,wc,T_gate_1,width,t)\n",
    "\n",
    "def w2_t(t, args=None):\n",
    "    return w2 + step_t(0.0, wc-w2, T0_2, width, t) - step_t(0.0, wc-w2, T0_2+T_gate_2, width, t)\n",
    "    #return step_t(w2,wc,T_gate_2,width,t)\n",
    "\n",
    "def time_dependent_bare_basis(t, args=None):\n",
    "    return system.build_time_dependent_bare_Hamiltonian(t, T0_1, T_gate_1, T0_2, T_gate_2)"
   ]
  },
  {
   "cell_type": "code",
   "execution_count": 4,
   "id": "446c3379-d0a4-4e37-a592-ecd830f2edb5",
   "metadata": {},
   "outputs": [],
   "source": [
    "def step_t(w1, w2, t0, t):\n",
    "    \"\"\"\n",
    "    Step function that goes from w1 to w2 at time t0\n",
    "    as a function of t. \n",
    "    \"\"\"\n",
    "    return w1 + (w2 - w1) * (t > t0)\n",
    "\n",
    "def w1_t(t, args=None):\n",
    "    return system.w_q1 + system.step_t(0.0, system.w_cav-system.w_q1, T0_1, t) - system.step_t(0.0, system.w_cav-system.w_q1, T0_1+T_gate_1, t)\n",
    "\n",
    "def w2_t(t, args=None):\n",
    "    return system.w_q2 + system.step_t(0.0, system.w_cav-system.w_q2, T0_2, t) - system.step_t(0.0, system.w_cav-system.w_q2, T0_2+T_gate_2, t)"
   ]
  },
  {
   "cell_type": "markdown",
   "id": "703b7acd-5c90-47d3-8939-ea4b0d1f4564",
   "metadata": {},
   "source": [
    "$H(t) = (w1 + \\text{pulse for qubit 1}) \\cdot (-0.5 \\cdot sz1) + (w2 + \\text{pulse for qubit 2}) \\cdot (-0.5 \\cdot sz2) + wc \\cdot (a^{\\dagger} a) + g1 (a^{\\dagger} sm1 + a sm1^{\\dagger}) + g2 (a^{\\dagger} sm2 + a sm2^{\\dagger})$"
   ]
  },
  {
   "cell_type": "code",
   "execution_count": 5,
   "id": "a1c830a7-94c1-4165-bc6a-fe1235a01d63",
   "metadata": {},
   "outputs": [],
   "source": [
    "H_t = [time_dependent_bare_basis]"
   ]
  },
  {
   "cell_type": "code",
   "execution_count": 6,
   "id": "327491ee-40e0-4971-a7cd-b2b3aaed2e78",
   "metadata": {},
   "outputs": [],
   "source": [
    "# initial state: start with one of the qubits in its excited state - note we need to reorder basis\n",
    "# the qutip had cavity basis first, we have it last \n",
    "# qutip tutorial: psi0 = tensor(basis(N,0),basis(2,1),basis(2,0))\n",
    "# equivalent in our basis: psi0 = tensor(basis(2,1), basis(2,0))\n",
    "psi0 = tensor(basis(2,1), basis(2,0),basis(system.N_vib,0),basis(system.N_vib,0), basis(system.N_cav,0))"
   ]
  },
  {
   "cell_type": "code",
   "execution_count": 7,
   "id": "13c42abc-791d-488e-a51a-ad8475d93f88",
   "metadata": {},
   "outputs": [
    {
     "data": {
      "text/latex": [
       "Quantum object: dims=[[2, 2, 2, 2, 2], [1]], shape=(32, 1), type='ket', dtype=Dense$$\\left(\\begin{array}{cc}0\\\\0\\\\0\\\\0\\\\0\\\\\\vdots\\\\0\\\\0\\\\0\\\\0\\\\0\\end{array}\\right)$$"
      ],
      "text/plain": [
       "Quantum object: dims=[[2, 2, 2, 2, 2], [1]], shape=(32, 1), type='ket', dtype=Dense\n",
       "Qobj data =\n",
       "[[0.]\n",
       " [0.]\n",
       " [0.]\n",
       " [0.]\n",
       " [0.]\n",
       " [0.]\n",
       " [0.]\n",
       " [0.]\n",
       " [0.]\n",
       " [0.]\n",
       " [0.]\n",
       " [0.]\n",
       " [0.]\n",
       " [0.]\n",
       " [0.]\n",
       " [0.]\n",
       " [1.]\n",
       " [0.]\n",
       " [0.]\n",
       " [0.]\n",
       " [0.]\n",
       " [0.]\n",
       " [0.]\n",
       " [0.]\n",
       " [0.]\n",
       " [0.]\n",
       " [0.]\n",
       " [0.]\n",
       " [0.]\n",
       " [0.]\n",
       " [0.]\n",
       " [0.]]"
      ]
     },
     "execution_count": 7,
     "metadata": {},
     "output_type": "execute_result"
    }
   ],
   "source": [
    "psi0"
   ]
  },
  {
   "cell_type": "code",
   "execution_count": 8,
   "id": "30b83f48-9ab1-45c4-8292-f878325eaba3",
   "metadata": {},
   "outputs": [],
   "source": [
    "res = mesolve(H_t, psi0, tlist, [], e_ops=[])"
   ]
  },
  {
   "cell_type": "code",
   "execution_count": 9,
   "id": "c725e0ce-5fd7-4e35-a4f2-5f8224cb4ec0",
   "metadata": {},
   "outputs": [],
   "source": [
    "#qubit cavity coupling\n",
    "# first build the individual coupling terms\n",
    "_qubit_excitation = system.sp * system.sm\n",
    "_vib_excitation = system.ap + system.a\n",
    "\n",
    "# qubit 1 coupling constant is squared Huang-Rhys factor\n",
    "_lambda_1 = np.sqrt(system.S_1) \n",
    "_lambda_2 = np.sqrt(system.S_2)\n",
    "\n",
    "# these operators need to be defined for the plot below\n",
    "\n",
    "nv_i = system.ap * system.a + system.vibrational_zero_point\n",
    "\n",
    "# cavity operators on the full Hilbert space\n",
    "a = tensor( qeye(2), qeye(2), qeye(system.N_vib), qeye(system.N_vib), destroy(system.N_cav) )\n",
    "n_ = a.dag() * a\n",
    "\n",
    "# operators for qubit 1\n",
    "sm1 = tensor( destroy(2), qeye(2), qeye(system.N_vib), qeye(system.N_vib), qeye(system.N_cav) ) \n",
    "sz1 = tensor(sigmaz(), qeye(2), qeye(system.N_vib), qeye(system.N_vib), qeye(system.N_cav))\n",
    "nv1 = tensor(qeye(2), qeye(2), nv_i, qeye(system.N_vib), qeye(system.N_cav))\n",
    "# nqv1 = - _lambda_1 * tensor(_qubit_excitation, qeye(2), _vib_excitation, qeye(system.N_vib), qeye(system.N_cav))\n",
    "nqv1 = - tensor(_qubit_excitation, qeye(2), _vib_excitation, qeye(system.N_vib), qeye(system.N_cav))\n",
    "nq1 = sm1.dag() * sm1\n",
    "# nq1 = -0.5 * sz1\n",
    "n1_ = nq1 + nqv1 + nv1\n",
    "\n",
    "# oeprators for qubit 2\n",
    "sm2 = tensor(qeye(2), destroy(2), qeye(system.N_vib), qeye(system.N_vib), qeye(system.N_cav))\n",
    "sz2 = tensor(qeye(2), sigmaz(), qeye(system.N_vib),qeye(system.N_vib), qeye(system.N_cav) )\n",
    "nv2 = tensor(qeye(2), qeye(2), qeye(system.N_vib), nv_i, qeye(system.N_cav))\n",
    "# nqv2 = - _lambda_2 * tensor(qeye(2), _qubit_excitation, qeye(system.N_vib), _vib_excitation, qeye(system.N_cav))\n",
    "nqv2 = - tensor(qeye(2), _qubit_excitation, qeye(system.N_vib), _vib_excitation, qeye(system.N_cav))\n",
    "nq2 = sm2.dag() * sm2\n",
    "# nq2 = -0.5 * sz2\n",
    "n2_ = nq2 + nqv2 + nv2"
   ]
  },
  {
   "cell_type": "code",
   "execution_count": 10,
   "id": "aeb5b0c5-c4b1-4a65-84f6-a86b629b0255",
   "metadata": {},
   "outputs": [],
   "source": [
    "n = []\n",
    "n1 = []\n",
    "n2 = []\n",
    "n11 = []\n",
    "n12 = []\n",
    "\n",
    "i = 0\n",
    "\n",
    "while i < len(res.states):\n",
    "    res_i = res.states[i]\n",
    "    \n",
    "    n_0 = n_\n",
    "    n1_0 = n1_\n",
    "    n2_0 = n2_\n",
    "\n",
    "    # n1_0 = nqv1\n",
    "    # n2_0 = nqv2\n",
    "\n",
    "    n1_1 = nq1\n",
    "    n2_1 = nq2\n",
    "\n",
    "    n0 = real(expect(n_0, res_i))\n",
    "    n01 = real(expect(n1_0, res_i))\n",
    "    n02 = real(expect(n2_0, res_i))\n",
    "    n011 = real(expect(n1_1, res_i))\n",
    "    n012 = real(expect(n2_1, res_i))\n",
    "\n",
    "    n.append(n0)\n",
    "    n1.append(n01)\n",
    "    n2.append(n02)\n",
    "    n11.append(n011)\n",
    "    n12.append(n012)\n",
    "\n",
    "    i += 1\n"
   ]
  },
  {
   "cell_type": "code",
   "execution_count": 11,
   "id": "f65d20f2-90ab-45ff-bc8e-a86bbc534e9c",
   "metadata": {},
   "outputs": [
    {
     "data": {
      "image/png": "[encoded data removed]",
      "text/plain": [
       "<Figure size 1200x800 with 2 Axes>"
      ]
     },
     "metadata": {},
     "output_type": "display_data"
    }
   ],
   "source": [
    "#plot\n",
    "fig, axes = plt.subplots(2, 1, sharex=True, figsize=(12,8))\n",
    "\n",
    "axes[0].plot(tlist, array(list(map(wc_t, tlist))) / (2*pi), 'r', linewidth=2, label=\"cavity\")\n",
    "axes[0].plot(tlist, array(list(map(w1_t, tlist))) / (2*pi), 'b', linewidth=2, label=\"qubit 1\")\n",
    "axes[0].plot(tlist, array(list(map(w2_t, tlist))) / (2*pi), 'g', linewidth=2, label=\"qubit 2\")\n",
    "#axes[0].set_ylim(1, 6)\n",
    "axes[0].set_ylabel(\"Energy (GHz)\", fontsize=16)\n",
    "axes[0].legend()\n",
    "\n",
    "axes[1].plot(tlist, n, 'r', linewidth=2, label=\"cavity\")\n",
    "axes[1].plot(tlist, n11, 'b', linewidth=2, label=\"qubit 1\")\n",
    "axes[1].plot(tlist, n12, 'g', linewidth=2, label=\"qubit 2\")\n",
    "#axes[1].set_ylim(0, 1)\n",
    "\n",
    "axes[1].set_xlabel(\"Time (ns)\", fontsize=16)\n",
    "axes[1].set_ylabel(\"Occupation probability\", fontsize=16)\n",
    "axes[1].legend()\n",
    "\n",
    "fig.tight_layout()"
   ]
  },
  {
   "cell_type": "code",
   "execution_count": 12,
   "id": "859a1377-2b17-48bd-b849-9907bad6532f",
   "metadata": {},
   "outputs": [
    {
     "data": {
      "text/latex": [
       "Quantum object: dims=[[2, 2, 2, 2, 2], [1]], shape=(32, 1), type='ket', dtype=Dense$$\\left(\\begin{array}{cc}0\\\\(-0.086+0.214j)\\\\0\\\\(-0.003-0.036j)\\\\0\\\\\\vdots\\\\0\\\\0\\\\0\\\\0\\\\0\\end{array}\\right)$$"
      ],
      "text/plain": [
       "Quantum object: dims=[[2, 2, 2, 2, 2], [1]], shape=(32, 1), type='ket', dtype=Dense\n",
       "Qobj data =\n",
       "[[ 0.00000000e+00+0.00000000e+00j]\n",
       " [-8.57526519e-02+2.14056250e-01j]\n",
       " [ 0.00000000e+00+0.00000000e+00j]\n",
       " [-2.87525334e-03-3.60578440e-02j]\n",
       " [ 0.00000000e+00+0.00000000e+00j]\n",
       " [-4.28886584e-02+6.28930423e-02j]\n",
       " [ 0.00000000e+00+0.00000000e+00j]\n",
       " [ 1.42418597e-03-1.18329168e-02j]\n",
       " [-5.64792747e-01-6.88141196e-02j]\n",
       " [ 0.00000000e+00+0.00000000e+00j]\n",
       " [-1.58262575e-01-9.09054129e-03j]\n",
       " [ 0.00000000e+00+0.00000000e+00j]\n",
       " [-1.77971038e-01-5.90256771e-02j]\n",
       " [ 0.00000000e+00+0.00000000e+00j]\n",
       " [-5.05351702e-02-1.32471675e-02j]\n",
       " [ 0.00000000e+00+0.00000000e+00j]\n",
       " [-6.81963336e-01+2.44404032e-01j]\n",
       " [ 0.00000000e+00+0.00000000e+00j]\n",
       " [-7.62772116e-06-1.77769953e-04j]\n",
       " [ 0.00000000e+00+0.00000000e+00j]\n",
       " [ 1.24298482e-03+1.67419015e-01j]\n",
       " [ 0.00000000e+00+0.00000000e+00j]\n",
       " [ 9.45065772e-06-5.71945546e-05j]\n",
       " [ 0.00000000e+00+0.00000000e+00j]\n",
       " [ 0.00000000e+00+0.00000000e+00j]\n",
       " [ 0.00000000e+00+0.00000000e+00j]\n",
       " [ 0.00000000e+00+0.00000000e+00j]\n",
       " [ 0.00000000e+00+0.00000000e+00j]\n",
       " [ 0.00000000e+00+0.00000000e+00j]\n",
       " [ 0.00000000e+00+0.00000000e+00j]\n",
       " [ 0.00000000e+00+0.00000000e+00j]\n",
       " [ 0.00000000e+00+0.00000000e+00j]]"
      ]
     },
     "execution_count": 12,
     "metadata": {},
     "output_type": "execute_result"
    }
   ],
   "source": [
    "rho_final = res.states[-1]\n",
    "rho_final"
   ]
  },
  {
   "cell_type": "code",
   "execution_count": 13,
   "id": "ae7f34bb-73c1-45c4-ae96-4cf31f28ca3e",
   "metadata": {},
   "outputs": [
    {
     "data": {
      "text/latex": [
       "Quantum object: dims=[[2, 2], [2, 2]], shape=(4, 4), type='oper', dtype=Dense, isherm=True$$\\left(\\begin{array}{cc}0.060 & 0 & 0 & 0\\\\0 & 0.387 & (0.358+0.215j) & 0\\\\0 & (0.358-0.215j) & 0.553 & 0\\\\0 & 0 & 0 & 0\\end{array}\\right)$$"
      ],
      "text/plain": [
       "Quantum object: dims=[[2, 2], [2, 2]], shape=(4, 4), type='oper', dtype=Dense, isherm=True\n",
       "Qobj data =\n",
       "[[0.06041905-1.09320367e-18j 0.        +0.00000000e+00j\n",
       "  0.        +0.00000000e+00j 0.        +0.00000000e+00j]\n",
       " [0.        +0.00000000e+00j 0.38674292-1.53132397e-18j\n",
       "  0.35824936+2.14657619e-01j 0.        +0.00000000e+00j]\n",
       " [0.        +0.00000000e+00j 0.35824936-2.14657619e-01j\n",
       "  0.55283803-2.47562840e-18j 0.        +0.00000000e+00j]\n",
       " [0.        +0.00000000e+00j 0.        +0.00000000e+00j\n",
       "  0.        +0.00000000e+00j 0.        +0.00000000e+00j]]"
      ]
     },
     "execution_count": 13,
     "metadata": {},
     "output_type": "execute_result"
    }
   ],
   "source": [
    "# trace out the resonator mode and print the two-qubit density matrix\n",
    "rho_qubits = ptrace(rho_final, [0,1])\n",
    "rho_qubits"
   ]
  },
  {
   "cell_type": "code",
   "execution_count": 14,
   "id": "37de5cf1-ba2d-4924-b55b-20522fe1f034",
   "metadata": {},
   "outputs": [],
   "source": [
    "rho_qubits_ideal1 = ket2dm(tensor(phasegate(0), phasegate(pi/2)) * sqrtiswap() * tensor(basis(2,1), basis(2,0)))\n",
    "rho_qubits_ideal2 = ket2dm(tensor(phasegate(0), phasegate(-pi/2)) * sqrtiswap() * tensor(basis(2,1), basis(2,0)))"
   ]
  },
  {
   "cell_type": "code",
   "execution_count": 15,
   "id": "1e330d7b-5d08-4555-b987-e0156e7b3248",
   "metadata": {},
   "outputs": [
    {
     "data": {
      "text/plain": [
       "np.float64(0.3339777168921783)"
      ]
     },
     "execution_count": 15,
     "metadata": {},
     "output_type": "execute_result"
    }
   ],
   "source": [
    "fidelity(rho_qubits, rho_qubits_ideal1)"
   ]
  },
  {
   "cell_type": "code",
   "execution_count": 16,
   "id": "de2f48ab-5c2c-40fa-951b-ab4cdd608ae0",
   "metadata": {},
   "outputs": [
    {
     "data": {
      "text/plain": [
       "np.float64(0.9099669537744152)"
      ]
     },
     "execution_count": 16,
     "metadata": {},
     "output_type": "execute_result"
    }
   ],
   "source": [
    "fidelity(rho_qubits, rho_qubits_ideal2)"
   ]
  },
  {
   "cell_type": "code",
   "execution_count": 17,
   "id": "cc6fe68b-4598-4476-a553-05eb897b7545",
   "metadata": {},
   "outputs": [
    {
     "data": {
      "text/plain": [
       "np.float64(0.8352736090642999)"
      ]
     },
     "execution_count": 17,
     "metadata": {},
     "output_type": "execute_result"
    }
   ],
   "source": [
    "concurrence(rho_qubits)"
   ]
  },
  {
   "cell_type": "code",
   "execution_count": 18,
   "id": "ae5868fd-a432-4bdc-9ded-765c601aa90e",
   "metadata": {},
   "outputs": [],
   "source": [
    "# rho_q_cav = ptrace(rho_final, [0,4])\n",
    "# fid1 = fidelity(rho_q_cav, rho"
   ]
  },
  {
   "cell_type": "code",
   "execution_count": 19,
   "id": "5e3ab999-e5e8-46f7-b485-683513a09853",
   "metadata": {
    "scrolled": true
   },
   "outputs": [],
   "source": [
    "# test = system.H_cav.eigenenergies().tolist()\n",
    "# test.sort()\n",
    "# test"
   ]
  },
  {
   "cell_type": "code",
   "execution_count": null,
   "id": "9bd59f6f-019d-481f-b0dc-2c65935de5a0",
   "metadata": {},
   "outputs": [],
   "source": []
  }
 ],
 "metadata": {
  "kernelspec": {
   "display_name": "Python 3 (ipykernel)",
   "language": "python",
   "name": "python3"
  },
  "language_info": {
   "codemirror_mode": {
    "name": "ipython",
    "version": 3
   },
   "file_extension": ".py",
   "mimetype": "text/x-python",
   "name": "python",
   "nbconvert_exporter": "python",
   "pygments_lexer": "ipython3",
   "version": "3.12.11"
  }
 },
 "nbformat": 4,
 "nbformat_minor": 5
}
