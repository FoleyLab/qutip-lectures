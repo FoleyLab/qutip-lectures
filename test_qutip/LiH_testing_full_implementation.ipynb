{
 "cells": [
  {
   "cell_type": "code",
   "execution_count": 11,
   "id": "03138f5a-23dd-4b22-9ce6-49e265bbe173",
   "metadata": {},
   "outputs": [],
   "source": [
    "from htc_class_testing import HolsteinTavisCummings\n",
    "import numpy as np\n",
    "from qutip import *\n",
    "from qutip.core.gates import *\n",
    "from numpy import array\n",
    "from numpy import real\n",
    "import matplotlib.pyplot as plt\n",
    "pi = np.pi\n",
    "LiH_params = {\n",
    "    'w_q1': 0.12086,         # Qubit 1 frequency in a.u.\n",
    "    'w_q2': 0.12086,         # Qubit 2 frequency\n",
    "    'w_vib1': 0.00622913,       # Vibrational mode 1 frequency\n",
    "    'w_vib2': 0.00622913,      # Vibrational mode 2 frequency\n",
    "    'w_cav': 0.12086,        # Cavity frequency\n",
    "    'S_1':  10.5615447 * 0 ,         # Huang-Rhys factor for qubit 1 and vib 1\n",
    "    'S_2':  10.5615447 * 0,         # Huang-Rhys factor for qubit 2 and vib 2\n",
    "    'lambda_1': 0.01,     # Cavity coupling strength for qubit 1\n",
    "    'lambda_2': 0.01,    # Cavity coupling strength for qubit 2\n",
    "    'N_vib': 2,         # Number of vibrational states to include\n",
    "    'N_cav': 2,          # Cavity truncation level\n",
    "    'qubit_1_dipole_moments' : \n",
    "    { \n",
    "        'mu_g': -2.354965266795868, #ground dipole moment\n",
    "        'mu_e': 2.0510843691207983, #excited dipole moment\n",
    "        'mu_eg': 1.0338263686725813 #transition dipole moment\n",
    "    },\n",
    "    'qubit_2_dipole_moments' : \n",
    "    { \n",
    "        'mu_g': -2.354965266795868, #ground dipole moment\n",
    "        'mu_e': 2.0510843691207983, #excited dipole moment\n",
    "        'mu_eg': 1.0338263686725813 #transition dipole moment\n",
    "    }\n",
    "}"
   ]
  },
  {
   "cell_type": "code",
   "execution_count": 12,
   "id": "baeffbfd-241f-4a26-b022-61f67ffbf00f",
   "metadata": {},
   "outputs": [],
   "source": [
    "# define variables\n",
    "w1 = LiH_params['w_q1']\n",
    "w2 = LiH_params['w_q2']\n",
    "wc = LiH_params['w_cav']\n",
    "v1 = LiH_params['w_vib1']\n",
    "v2 = LiH_params['w_vib2']\n",
    "_lambda_1 = np.sqrt(LiH_params['S_1'])\n",
    "_lambda_2 = np.sqrt(LiH_params['S_2'])\n",
    "lambda_1 = LiH_params['lambda_1']\n",
    "lambda_2 = LiH_params['lambda_2']\n",
    "mu_1 = LiH_params['qubit_1_dipole_moments']\n",
    "mu_2 = LiH_params['qubit_2_dipole_moments']\n",
    "vibrational_zero_point = 0.0\n",
    "qubit_zero_point = 0.0 \n",
    "cavity_zero_point = 0.0\n",
    "\n",
    "n_vib = LiH_params['N_vib']\n",
    "n_cav = LiH_params['N_cav']\n"
   ]
  },
  {
   "cell_type": "code",
   "execution_count": 13,
   "id": "5ecb4681-e2d1-421e-a0ae-603e363330a1",
   "metadata": {},
   "outputs": [],
   "source": [
    "# operators for qubit sub systems\n",
    "sx = sigmax()\n",
    "sy = sigmay()\n",
    "sz = sigmaz()\n",
    "sm = destroy(2) # qubit lowering operator\n",
    "sp = sm.dag() # qubit raising operator\n",
    "a = destroy(n_vib)\n",
    "ap = a.dag()\n",
    "\n",
    "# cavity operators\n",
    "b = destroy(n_cav)\n",
    "bp = b.dag()\n",
    "\n",
    "# identity operators\n",
    "Iq = qeye(2)      # qubit identity\n",
    "Ic = qeye(n_cav)  # cavity idebtity\n",
    "Iv = qeye(n_vib)  # vibration identity\n",
    "\n",
    "# full space base operators\n",
    "sigmaz_1 = tensor(sz, Iq, Iv, Iv, Ic)\n",
    "sigmaz_2 = tensor(Iq, sz, Iv, Iv, Ic)\n",
    "number_cavity = tensor(Iq, Iq, Iv, Iv, bp * b)\n",
    "\n",
    "# dipole operators\n",
    "qubit_1_dipole_operator = mu_1['mu_g'] * sp * sm\n",
    "qubit_1_dipole_operator += mu_1['mu_e'] * sm * sp\n",
    "qubit_1_dipole_operator += mu_1['mu_eg'] * (sp + sm)\n",
    "\n",
    "qubit_2_dipole_operator = mu_2['mu_g'] * sp * sm\n",
    "qubit_2_dipole_operator += mu_2['mu_e'] * sm * sp\n",
    "qubit_2_dipole_operator += mu_2['mu_eg'] * (sp + sm)\n",
    "\n",
    "dipole_operator_q1 = tensor(qubit_1_dipole_operator, Iq, Iv, Iv, Ic)\n",
    "dipole_operator_q2 = tensor(Iq, qubit_2_dipole_operator, Iv, Iv, Ic)\n",
    "\n",
    "# qubit operators\n",
    "H_q1_i = - w1 / 2 * sz\n",
    "H_q2_i = - w2 / 2 * sz\n",
    "\n",
    "H_q1 = tensor(H_q1_i, Iq, Iv, Iv, Ic)\n",
    "H_q2 = tensor(Iq, H_q2_i, Iv, Iv, Ic)\n",
    "\n",
    "H_qubit = H_q1 + H_q2\n",
    "\n",
    "# vibrational Hamiltonians\n",
    "H_vib1_i = v1 * (ap * a + vibrational_zero_point)\n",
    "H_vib2_i = v2 * (ap * a + vibrational_zero_point)\n",
    "H_vib1 = tensor(Iq, Iq, H_vib1_i, Iv, Ic)\n",
    "H_vib2 = tensor(Iq, Iq, Iv, H_vib2_i, Ic)\n",
    "\n",
    "H_vibrational = H_vib1 + H_vib2\n",
    "\n",
    "# cavity operaotr\n",
    "H_cav_i = wc * (bp * b + cavity_zero_point)\n",
    "\n",
    "H_cav = tensor(Iq, Iq, Iv, Iv, H_cav_i)\n",
    "\n",
    "# qubit-vibrational coupling\n",
    "_qubit_excitation = sp * sm\n",
    "_vib_excitation = ap + a\n",
    "\n",
    "# qubit 1 coupling constant is squared Huang-Rhys factor\n",
    "\n",
    "# now scale by the Huang-Rhys factors and build on the full Hilbert space\n",
    "H_q1_vib1 = - _lambda_1 * v1 * tensor(_qubit_excitation, Iq, _vib_excitation, Iv, Ic)\n",
    "\n",
    "H_q2_vib2 = - _lambda_2 * v2 * tensor(Iq, _qubit_excitation, Iv, _vib_excitation, Ic)\n",
    "#Combine the two coupling terms\n",
    "H_qubit_vibrational_coupling = H_q1_vib1 + H_q2_vib2\n",
    "\n",
    "# qubit-cavity coupling\n",
    "_g1 = np.sqrt(w1/2) * lambda_1 * qubit_1_dipole_operator[0,1]\n",
    "_g2 = np.sqrt(w2/2) * lambda_2 * qubit_2_dipole_operator[0,1]\n",
    "\n",
    "_t1a = tensor(_g1 * sp, Iq, Iv, Iv, b)\n",
    "_t1b = tensor(_g1 * sm, Iq, Iv, Iv, bp)\n",
    "_t2a = tensor(Iq, _g2 * sp, Iv, Iv, b)\n",
    "_t2b = tensor(Iq, _g2 * sm, Iv, Iv, bp)\n",
    "\n",
    "H_q1_cav = _t1a + _t1b\n",
    "H_q2_cav = _t2a + _t2b\n",
    "\n",
    "# build full Hamiltonian and modulated Hamiltonian\n",
    "H_total = H_qubit_vibrational_coupling + H_cav + H_vibrational + H_qubit"
   ]
  },
  {
   "cell_type": "code",
   "execution_count": 14,
   "id": "0efd581e-a846-4d39-862b-19a2c3102223",
   "metadata": {},
   "outputs": [
    {
     "name": "stdout",
     "output_type": "stream",
     "text": [
      "309.040913727014\n",
      "618.081827454028\n"
     ]
    }
   ],
   "source": [
    "tlist = np.linspace(0, 1400, 5000)\n",
    "\n",
    "\n",
    "# resonant SQRT iSWAP gate\n",
    "T0_1 = 20\n",
    "T_gate_1 = (1*pi)/(4 * np.abs(_g1))\n",
    "\n",
    "# resonant iSWAP gate\n",
    "T0_2 = T0_1 + T_gate_1\n",
    "T_gate_2 = (2 *pi)/(4 * np.abs(_g2))\n",
    "\n",
    "print(T_gate_1)\n",
    "print(T_gate_2)"
   ]
  },
  {
   "cell_type": "code",
   "execution_count": 15,
   "id": "3ee8baaa-68b2-422f-983f-cd881a8f66f1",
   "metadata": {},
   "outputs": [],
   "source": [
    "def wc_t(t, args=None):\n",
    "    return 1\n",
    "\n",
    "def w1_t(t, args=None):\n",
    "    if t > T0_1 and t <= T0_1 + T_gate_1:\n",
    "        return 1\n",
    "    else:\n",
    "        return 0\n",
    "\n",
    "def w2_t(t, args=None):\n",
    "    if t > T0_2 and t <= T0_2 + T_gate_2:\n",
    "        return 1\n",
    "    else:\n",
    "        return 0"
   ]
  },
  {
   "cell_type": "code",
   "execution_count": 16,
   "id": "30b912e6-3ca3-4be3-a76a-aa31cbb21248",
   "metadata": {},
   "outputs": [],
   "source": [
    "# time-dependent H; H_q1 + H_q2 + H_cav on at all times, H_q1_cav on until T1, H_q2_cav on from T1 to T1+T2\n",
    "H_t = [[H_total, wc_t], [H_q1_cav, w1_t], [H_q2_cav, w2_t]]\n",
    "\n",
    "# operators in composite space for expectation values\n",
    "nq = sp * sm\n",
    "nc = bp * b\n",
    "\n",
    "nq1  = tensor(nq, Iq, Iv, Iv, Ic)\n",
    "nq2  = tensor(Iq, nq, Iv, Iv, Ic)\n",
    "ncav = tensor(Iq, Iq, Iv, Iv, nc)"
   ]
  },
  {
   "cell_type": "code",
   "execution_count": 17,
   "id": "1e594d8c-131f-4728-98b5-c599fb6b6f33",
   "metadata": {},
   "outputs": [
    {
     "data": {
      "text/latex": [
       "Quantum object: dims=[[2, 2, 2, 2, 2], [1, 1, 1, 1, 1]], shape=(32, 1), type='ket', dtype=Dense$$\\left(\\begin{array}{cc}0\\\\0\\\\0\\\\0\\\\0\\\\\\vdots\\\\0\\\\0\\\\0\\\\0\\\\0\\end{array}\\right)$$"
      ],
      "text/plain": [
       "Quantum object: dims=[[2, 2, 2, 2, 2], [1, 1, 1, 1, 1]], shape=(32, 1), type='ket', dtype=Dense\n",
       "Qobj data =\n",
       "[[0.]\n",
       " [0.]\n",
       " [0.]\n",
       " [0.]\n",
       " [0.]\n",
       " [0.]\n",
       " [0.]\n",
       " [0.]\n",
       " [0.]\n",
       " [0.]\n",
       " [0.]\n",
       " [0.]\n",
       " [0.]\n",
       " [0.]\n",
       " [0.]\n",
       " [0.]\n",
       " [1.]\n",
       " [0.]\n",
       " [0.]\n",
       " [0.]\n",
       " [0.]\n",
       " [0.]\n",
       " [0.]\n",
       " [0.]\n",
       " [0.]\n",
       " [0.]\n",
       " [0.]\n",
       " [0.]\n",
       " [0.]\n",
       " [0.]\n",
       " [0.]\n",
       " [0.]]"
      ]
     },
     "execution_count": 17,
     "metadata": {},
     "output_type": "execute_result"
    }
   ],
   "source": [
    "psi0 = tensor( basis(2,1), basis(2,0),basis(2,0), basis(2,0), basis(2,0))\n",
    "psi0"
   ]
  },
  {
   "cell_type": "code",
   "execution_count": 18,
   "id": "62a26c51-bb00-4d90-8934-c46ac4a9b430",
   "metadata": {},
   "outputs": [],
   "source": [
    "res = mesolve(H_t, psi0, tlist, [], e_ops=[])"
   ]
  },
  {
   "cell_type": "code",
   "execution_count": 19,
   "id": "b0a5e5db-a384-4685-aec0-334de5185f3d",
   "metadata": {},
   "outputs": [
    {
     "data": {
      "image/png": "[encoded data removed]",
      "text/plain": [
       "<Figure size 1200x800 with 2 Axes>"
      ]
     },
     "metadata": {},
     "output_type": "display_data"
    }
   ],
   "source": [
    "from numpy import real\n",
    "fig, axes = plt.subplots(2, 1, sharex=True, figsize=(12,8))\n",
    "\n",
    "axes[0].plot(tlist, array(list(map(wc_t, tlist))), 'r', linewidth=2, label=\"cavity\")\n",
    "axes[0].plot(tlist, array(list(map(w1_t, tlist))), 'b', linewidth=2, label=\"qubit 1\")\n",
    "axes[0].plot(tlist, array(list(map(w2_t, tlist))), 'g', linewidth=2, label=\"qubit 2\")\n",
    "#axes[0].set_ylim(1, 6)\n",
    "axes[0].set_ylabel(\"Energy (a.u.)\", fontsize=16)\n",
    "axes[0].legend()\n",
    "\n",
    "axes[1].plot(tlist, real(expect(ncav, res.states)), 'r', linewidth=2, label=\"cavity\")\n",
    "axes[1].plot(tlist, real(expect(nq1, res.states)), 'b', linewidth=2, label=\"qubit 1\")\n",
    "axes[1].plot(tlist, real(expect(nq2, res.states)), 'g', linewidth=2, label=\"qubit 2\")\n",
    "axes[1].set_xlabel(\"Time (a.u.)\", fontsize=16)\n",
    "axes[1].set_ylabel(\"Occupation probability\", fontsize=16)\n",
    "axes[1].legend()\n",
    "\n",
    "fig.tight_layout()"
   ]
  },
  {
   "cell_type": "code",
   "execution_count": 20,
   "id": "c3773b39-d8d9-4f76-b268-08d7d63ccd55",
   "metadata": {},
   "outputs": [
    {
     "data": {
      "text/latex": [
       "Quantum object: dims=[[2, 2, 2, 2, 2], [1, 1, 1, 1, 1]], shape=(32, 1), type='ket', dtype=Dense$$\\left(\\begin{array}{cc}0\\\\0\\\\0\\\\0\\\\0\\\\\\vdots\\\\0\\\\0\\\\0\\\\0\\\\0\\end{array}\\right)$$"
      ],
      "text/plain": [
       "Quantum object: dims=[[2, 2, 2, 2, 2], [1, 1, 1, 1, 1]], shape=(32, 1), type='ket', dtype=Dense\n",
       "Qobj data =\n",
       "[[ 0.        +0.00000000e+00j]\n",
       " [ 0.        -6.13711392e-06j]\n",
       " [ 0.        +0.00000000e+00j]\n",
       " [ 0.        +0.00000000e+00j]\n",
       " [ 0.        +0.00000000e+00j]\n",
       " [ 0.        +0.00000000e+00j]\n",
       " [ 0.        +0.00000000e+00j]\n",
       " [ 0.        +0.00000000e+00j]\n",
       " [-0.70710906+0.00000000e+00j]\n",
       " [ 0.        +0.00000000e+00j]\n",
       " [ 0.        +0.00000000e+00j]\n",
       " [ 0.        +0.00000000e+00j]\n",
       " [ 0.        +0.00000000e+00j]\n",
       " [ 0.        +0.00000000e+00j]\n",
       " [ 0.        +0.00000000e+00j]\n",
       " [ 0.        +0.00000000e+00j]\n",
       " [ 0.7071045 +0.00000000e+00j]\n",
       " [ 0.        +0.00000000e+00j]\n",
       " [ 0.        +0.00000000e+00j]\n",
       " [ 0.        +0.00000000e+00j]\n",
       " [ 0.        +0.00000000e+00j]\n",
       " [ 0.        +0.00000000e+00j]\n",
       " [ 0.        +0.00000000e+00j]\n",
       " [ 0.        +0.00000000e+00j]\n",
       " [ 0.        +0.00000000e+00j]\n",
       " [ 0.        +0.00000000e+00j]\n",
       " [ 0.        +0.00000000e+00j]\n",
       " [ 0.        +0.00000000e+00j]\n",
       " [ 0.        +0.00000000e+00j]\n",
       " [ 0.        +0.00000000e+00j]\n",
       " [ 0.        +0.00000000e+00j]\n",
       " [ 0.        +0.00000000e+00j]]"
      ]
     },
     "execution_count": 20,
     "metadata": {},
     "output_type": "execute_result"
    }
   ],
   "source": [
    "rho_final = res.states[-1]\n",
    "rho_final"
   ]
  },
  {
   "cell_type": "code",
   "execution_count": 21,
   "id": "6337a06a-7e1e-4d91-a43d-51604c436074",
   "metadata": {},
   "outputs": [
    {
     "data": {
      "text/latex": [
       "Quantum object: dims=[[2, 2], [2, 2]], shape=(4, 4), type='oper', dtype=Dense, isherm=True$$\\left(\\begin{array}{cc}3.766\\times10^{ -11 } & 0 & 0 & 0\\\\0 & 0.500 & -0.500 & 0\\\\0 & -0.500 & 0.500 & 0\\\\0 & 0 & 0 & 0\\end{array}\\right)$$"
      ],
      "text/plain": [
       "Quantum object: dims=[[2, 2], [2, 2]], shape=(4, 4), type='oper', dtype=Dense, isherm=True\n",
       "Qobj data =\n",
       "[[ 3.76641673e-11  0.00000000e+00  0.00000000e+00  0.00000000e+00]\n",
       " [ 0.00000000e+00  5.00003219e-01 -5.00000000e-01  0.00000000e+00]\n",
       " [ 0.00000000e+00 -5.00000000e-01  4.99996781e-01  0.00000000e+00]\n",
       " [ 0.00000000e+00  0.00000000e+00  0.00000000e+00  0.00000000e+00]]"
      ]
     },
     "execution_count": 21,
     "metadata": {},
     "output_type": "execute_result"
    }
   ],
   "source": [
    "# trace out the resonator mode and print the two-qubit density matrix\n",
    "rho_qubits = ptrace(rho_final, [0,1])\n",
    "rho_qubits"
   ]
  },
  {
   "cell_type": "code",
   "execution_count": 22,
   "id": "50491fa7-cd35-4018-8bbe-e73c5b0c4d14",
   "metadata": {},
   "outputs": [],
   "source": [
    "rho_qubits_ideal1 = ket2dm(tensor(phasegate(0), phasegate(pi/2)) * sqrtiswap() * tensor(basis(2,1), basis(2,0)))\n",
    "rho_qubits_ideal2 = ket2dm(tensor(phasegate(0), phasegate(-pi/2)) * sqrtiswap() * tensor(basis(2,1), basis(2,0)))"
   ]
  },
  {
   "cell_type": "code",
   "execution_count": 23,
   "id": "d79febb4-54c4-4f3c-b1b1-9afc50da5ec1",
   "metadata": {},
   "outputs": [
    {
     "data": {
      "text/plain": [
       "np.float64(0.9999999999759864)"
      ]
     },
     "execution_count": 23,
     "metadata": {},
     "output_type": "execute_result"
    }
   ],
   "source": [
    "fidelity(rho_qubits, rho_qubits_ideal1)"
   ]
  },
  {
   "cell_type": "code",
   "execution_count": 24,
   "id": "d2c09390-f57e-47bd-a555-464459857141",
   "metadata": {},
   "outputs": [
    {
     "data": {
      "text/plain": [
       "np.float64(3.2191040339250527e-06)"
      ]
     },
     "execution_count": 24,
     "metadata": {},
     "output_type": "execute_result"
    }
   ],
   "source": [
    "fidelity(rho_qubits, rho_qubits_ideal2)"
   ]
  },
  {
   "cell_type": "code",
   "execution_count": 25,
   "id": "1eb24a59-eeb2-4bfd-b1b8-d18278df4beb",
   "metadata": {},
   "outputs": [
    {
     "data": {
      "text/plain": [
       "np.float64(0.9999999936765148)"
      ]
     },
     "execution_count": 25,
     "metadata": {},
     "output_type": "execute_result"
    }
   ],
   "source": [
    "concurrence(rho_qubits)"
   ]
  },
  {
   "cell_type": "code",
   "execution_count": null,
   "id": "22fe5062-57af-4b86-8852-4eb5043172b6",
   "metadata": {},
   "outputs": [],
   "source": []
  }
 ],
 "metadata": {
  "kernelspec": {
   "display_name": "qutip",
   "language": "python",
   "name": "python3"
  },
  "language_info": {
   "codemirror_mode": {
    "name": "ipython",
    "version": 3
   },
   "file_extension": ".py",
   "mimetype": "text/x-python",
   "name": "python",
   "nbconvert_exporter": "python",
   "pygments_lexer": "ipython3",
   "version": "3.12.8"
  }
 },
 "nbformat": 4,
 "nbformat_minor": 5
}
