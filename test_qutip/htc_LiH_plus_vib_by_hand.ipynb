{
 "cells": [
  {
   "cell_type": "code",
   "execution_count": 115,
   "id": "dfe5211f-9093-4d70-88f2-ce0ebcf7fc99",
   "metadata": {},
   "outputs": [
    {
     "name": "stdout",
     "output_type": "stream",
     "text": [
      "G is  -0.012707025647924667\n",
      "lambda_v is  0.004404660063892559\n"
     ]
    }
   ],
   "source": [
    "from htc_class_testing import HolsteinTavisCummings\n",
    "import numpy as np\n",
    "from qutip import *\n",
    "from qutip.core.gates import *\n",
    "from numpy import array\n",
    "from numpy import real\n",
    "import matplotlib.pyplot as plt\n",
    "pi = np.pi\n",
    "import json \n",
    "LiH_params = {\n",
    "    'w_q1': 0.12086,         # Qubit 1 frequency in a.u.\n",
    "    'w_q2': 0.12086,         # Qubit 2 frequency\n",
    "    'w_vib1': 0.00622913,       # Vibrational mode 1 frequency\n",
    "    'w_vib2': 0.00622913,      # Vibrational mode 2 frequency\n",
    "    'w_cav': 0.12086,        # Cavity frequency\n",
    "    'S_1':  10.5615447,         # Huang-Rhys factor for qubit 1 and vib 1\n",
    "    'S_2': 10.5615447,         # Huang-Rhys factor for qubit 2 and vib 2\n",
    "    'lambda_1': 0.05,     # Cavity coupling strength for qubit 1\n",
    "    'lambda_2': 0.05,    # Cavity coupling strength for qubit 2\n",
    "    'N_vib': 2,         # Number of vibrational states to include\n",
    "    'N_cav': 2,          # Cavity truncation level\n",
    "    'qubit_1_dipole_moments' : \n",
    "    { \n",
    "        'mu_g': -2.354965266795868, #ground dipole moment\n",
    "        'mu_e': 2.0510843691207983, #excited dipole moment\n",
    "        'mu_eg': 1.0338263686725813 #transition dipole moment\n",
    "    },\n",
    "    'qubit_2_dipole_moments' : \n",
    "    { \n",
    "        'mu_g': -2.354965266795868, #ground dipole moment\n",
    "        'mu_e': 2.0510843691207983, #excited dipole moment\n",
    "        'mu_eg': 1.0338263686725813 #transition dipole moment\n",
    "    }\n",
    "}\n",
    "\n",
    "import json\n",
    "\n",
    "#def write_dict_to_json(data: dict, filename: str) -> None:\n",
    "#    \"\"\"\n",
    "#    Writes a dictionary to a JSON file.\n",
    "#    \n",
    "#    Parameters:\n",
    "#    - data (dict): Dictionary to be written.\n",
    "#    - filename (str): Path to the output JSON file.\n",
    "##    \"\"\"\n",
    "#    with open(filename, 'w') as f:\n",
    "#        json.dump(data, f, indent=4)  # indent for readability\n",
    "\n",
    "#write_dict_to_json(LiH_params, 'LiH_params.json')\n",
    "\n",
    "# local qubit operators\n",
    "sz = sigmaz()\n",
    "sm = destroy(2)\n",
    "sp = sm.dag()\n",
    "# qubit number operator\n",
    "nq = sp * sm\n",
    "\n",
    "# local cavity/vibration operators\n",
    "am = destroy(2)\n",
    "ap = am.dag()\n",
    "# local cavity number operator, also works for local vibrations\n",
    "nc = ap * am\n",
    "\n",
    "# identities\n",
    "Iq = qeye(2)\n",
    "Ic = qeye(2)\n",
    "Iv = qeye(2)\n",
    "\n",
    "# frequencies\n",
    "omega_q = LiH_params[\"w_q1\"]\n",
    "omega_c = LiH_params[\"w_cav\"]\n",
    "omega_v = LiH_params[\"w_vib1\"]\n",
    "\n",
    "# qubit transition dipole moment\n",
    "mu_eg = LiH_params[\"qubit_1_dipole_moments\"][\"mu_eg\"]\n",
    "\n",
    "# field-squared dipole moment\n",
    "d_eg = LiH_params[\"lambda_1\"] * mu_eg\n",
    "\n",
    "# qubit-cavity coupling \n",
    "g = -np.sqrt(omega_c / 2 ) * d_eg\n",
    "\n",
    "print(\"G is \", g)\n",
    "# qubit-vib coupling strength\n",
    "lambda_v = omega_v * np.sqrt(0.5) # np.sqrt(LiH_params[\"S_1\"])\n",
    "print(\"lambda_v is \", lambda_v)\n",
    "\n",
    "# local qubit 1 Hamiltonian\n",
    "H_q1_local = -omega_q / 2 * sz\n",
    "\n",
    "# local qubit 2 Hamiltonian\n",
    "H_q2_local = -omega_q / 2 * sz\n",
    "\n",
    "# local qubit 1 vibration\n",
    "H_v1_local = omega_v * nc\n",
    "\n",
    "# local qubit 2 vibration\n",
    "H_v2_local = omega_v * nc\n",
    "\n",
    "# local cavity Hamiltonian\n",
    "H_cav_local = omega_q * nc\n",
    "\n",
    "# bare Hamiltonians in composite space\n",
    "H_q1 = tensor(H_q1_local, Iq, Iv, Iv, Ic)\n",
    "H_q2 = tensor(Iq, H_q2_local, Iv, Iv, Ic)\n",
    "\n",
    "H_v1 = tensor(Iq, Iq, H_v1_local, Iv, Ic)\n",
    "H_v2 = tensor(Iq, Iq, Iv, H_v2_local, Ic)\n",
    "\n",
    "H_cav = tensor(Iq, Iq, Iv, Iv, H_cav_local)\n",
    "\n",
    "# define H_bare_total as the sum of the three bare Hamiltonians for qubit 1, qubit 2, and cavity\n",
    "# all on the composite space\n",
    "H_bare_total = H_q1 + H_q2 + H_v1 + H_v2 + H_cav \n",
    "\n",
    "# qubit1 - cavity interaction in order q1 x q2 x cav\n",
    "H_q1_cav = g * tensor(sp, Iq, Iv, Iv, am) + g * tensor(sm, Iq, Iv, Iv, ap)\n",
    "H_q2_cav = g * tensor(Iq, sp, Iv, Iv, am) + g * tensor(Iq, sm, Iv, Iv, ap)\n",
    "\n",
    "# qubit1 - vibration interaction in order q1 x q2 x vib1 x vib2 x cav\n",
    "H_q1_vib1 = lambda_v * tensor(sp * sm, Iq, (am + ap), Iv, Ic)\n",
    "H_q2_vib2 = lambda_v * tensor(Iq, sp * sm, Iv, (am + ap), Ic)\n",
    "\n",
    "\n",
    "# H_bare_total + vibronic coupling\n",
    "H_bare_vc = H_bare_total + H_q1_vib1 + H_q2_vib2\n",
    "\n",
    "tlist = np.linspace(0, 2*1400, 2*5000)\n",
    "\n"
   ]
  },
  {
   "cell_type": "code",
   "execution_count": 116,
   "id": "2373babd-e8e4-4c81-983e-b9eaeeec4ffc",
   "metadata": {},
   "outputs": [
    {
     "name": "stdout",
     "output_type": "stream",
     "text": [
      "61.8081827454028\n",
      "123.6163654908056\n"
     ]
    }
   ],
   "source": [
    "# resonant SQRT iSWAP gate\n",
    "T0_1 = 20\n",
    "g_eff = g #* np.exp(-np.sqrt(0.5) / 2.0)\n",
    "T_gate_1 = (1*pi)/(4 * np.abs(g_eff))\n",
    "\n",
    "# resonant iSWAP gate\n",
    "T0_2 = T0_1 + T_gate_1\n",
    "T_gate_2 = (2 *pi)/(4 * np.abs(g_eff)) \n",
    "\n",
    "print(T_gate_1)\n",
    "print(T_gate_2)"
   ]
  },
  {
   "cell_type": "code",
   "execution_count": 117,
   "id": "0474df79-5836-4b18-b3a4-22edccb68896",
   "metadata": {},
   "outputs": [],
   "source": [
    "def wc_t(t, args=None):\n",
    "    return 1\n",
    "\n",
    "def w1_t(t, args=None):\n",
    "    if t > T0_1 and t <= T0_1 + T_gate_1:\n",
    "        return 1\n",
    "    else:\n",
    "        return 0\n",
    "\n",
    "def w2_t(t, args=None):\n",
    "    if t > T0_2 and t <= T0_2 + T_gate_2:\n",
    "        return 1\n",
    "    else:\n",
    "        return 0\n",
    "\n"
   ]
  },
  {
   "cell_type": "code",
   "execution_count": 118,
   "id": "a1c830a7-94c1-4165-bc6a-fe1235a01d63",
   "metadata": {},
   "outputs": [],
   "source": [
    "# time-dependent H; H_q1 + H_q2 + H_cav on at all times, H_q1_cav on until T1, H_q2_cav on from T1 to T1+T2\n",
    "H_t = [[H_bare_vc, wc_t], [H_q1_cav, w1_t], [H_q2_cav, w2_t]]\n",
    "\n",
    "# operators in composite space for expectation values\n",
    "nq1  = tensor(nq, Iq, Iv, Iv, Ic)\n",
    "nq2  = tensor(Iq, nq, Iv, Iv, Ic)\n",
    "ncav = tensor(Iq, Iq, Iv, Iv, nc)"
   ]
  },
  {
   "cell_type": "code",
   "execution_count": 119,
   "id": "327491ee-40e0-4971-a7cd-b2b3aaed2e78",
   "metadata": {},
   "outputs": [],
   "source": [
    "psi0 = tensor( basis(2,1), basis(2,0),basis(2,0), basis(2,0), basis(2,0))"
   ]
  },
  {
   "cell_type": "code",
   "execution_count": 120,
   "id": "13c42abc-791d-488e-a51a-ad8475d93f88",
   "metadata": {},
   "outputs": [
    {
     "data": {
      "text/latex": [
       "Quantum object: dims=[[2, 2, 2, 2, 2], [1, 1, 1, 1, 1]], shape=(32, 1), type='ket', dtype=Dense$$\\left(\\begin{array}{cc}0\\\\0\\\\0\\\\0\\\\0\\\\\\vdots\\\\0\\\\0\\\\0\\\\0\\\\0\\end{array}\\right)$$"
      ],
      "text/plain": [
       "Quantum object: dims=[[2, 2, 2, 2, 2], [1, 1, 1, 1, 1]], shape=(32, 1), type='ket', dtype=Dense\n",
       "Qobj data =\n",
       "[[0.]\n",
       " [0.]\n",
       " [0.]\n",
       " [0.]\n",
       " [0.]\n",
       " [0.]\n",
       " [0.]\n",
       " [0.]\n",
       " [0.]\n",
       " [0.]\n",
       " [0.]\n",
       " [0.]\n",
       " [0.]\n",
       " [0.]\n",
       " [0.]\n",
       " [0.]\n",
       " [1.]\n",
       " [0.]\n",
       " [0.]\n",
       " [0.]\n",
       " [0.]\n",
       " [0.]\n",
       " [0.]\n",
       " [0.]\n",
       " [0.]\n",
       " [0.]\n",
       " [0.]\n",
       " [0.]\n",
       " [0.]\n",
       " [0.]\n",
       " [0.]\n",
       " [0.]]"
      ]
     },
     "execution_count": 120,
     "metadata": {},
     "output_type": "execute_result"
    }
   ],
   "source": [
    "psi0"
   ]
  },
  {
   "cell_type": "code",
   "execution_count": 121,
   "id": "30b83f48-9ab1-45c4-8292-f878325eaba3",
   "metadata": {},
   "outputs": [],
   "source": [
    "res = mesolve(H_t, psi0, tlist, [], e_ops=[])"
   ]
  },
  {
   "cell_type": "code",
   "execution_count": 122,
   "id": "f65d20f2-90ab-45ff-bc8e-a86bbc534e9c",
   "metadata": {},
   "outputs": [
    {
     "data": {
      "image/png": "[encoded data removed]",
      "text/plain": [
       "<Figure size 1200x800 with 2 Axes>"
      ]
     },
     "metadata": {},
     "output_type": "display_data"
    }
   ],
   "source": [
    "from numpy import real\n",
    "fig, axes = plt.subplots(2, 1, sharex=True, figsize=(12,8))\n",
    "\n",
    "axes[0].plot(tlist, array(list(map(wc_t, tlist))), 'r', linewidth=2, label=\"cavity\")\n",
    "axes[0].plot(tlist, array(list(map(w1_t, tlist))), 'b', linewidth=2, label=\"qubit 1\")\n",
    "axes[0].plot(tlist, array(list(map(w2_t, tlist))), 'g', linewidth=2, label=\"qubit 2\")\n",
    "#axes[0].set_ylim(1, 6)\n",
    "axes[0].set_ylabel(\"Energy (a.u.)\", fontsize=16)\n",
    "axes[0].legend()\n",
    "\n",
    "axes[1].plot(tlist, real(expect(ncav, res.states)), 'r', linewidth=2, label=\"cavity\")\n",
    "axes[1].plot(tlist, real(expect(nq1, res.states)), 'b', linewidth=2, label=\"qubit 1\")\n",
    "axes[1].plot(tlist, real(expect(nq2, res.states)), 'g', linewidth=2, label=\"qubit 2\")\n",
    "axes[1].set_xlabel(\"Time (a.u.)\", fontsize=16)\n",
    "axes[1].set_ylabel(\"Occupation probability\", fontsize=16)\n",
    "axes[1].legend()\n",
    "\n",
    "fig.tight_layout()"
   ]
  },
  {
   "cell_type": "code",
   "execution_count": 123,
   "id": "859a1377-2b17-48bd-b849-9907bad6532f",
   "metadata": {},
   "outputs": [
    {
     "data": {
      "text/latex": [
       "Quantum object: dims=[[2, 2, 2, 2, 2], [1, 1, 1, 1, 1]], shape=(32, 1), type='ket', dtype=Dense$$\\left(\\begin{array}{cc}0\\\\(0.002+0.016j)\\\\0\\\\(0.078-0.086j)\\\\0\\\\\\vdots\\\\0\\\\0\\\\0\\\\0\\\\0\\end{array}\\right)$$"
      ],
      "text/plain": [
       "Quantum object: dims=[[2, 2, 2, 2, 2], [1, 1, 1, 1, 1]], shape=(32, 1), type='ket', dtype=Dense\n",
       "Qobj data =\n",
       "[[ 0.00000000e+00+0.j        ]\n",
       " [ 2.24531521e-03+0.01575568j]\n",
       " [ 0.00000000e+00+0.j        ]\n",
       " [ 7.76468570e-02-0.08581778j]\n",
       " [ 0.00000000e+00+0.j        ]\n",
       " [ 4.74608905e-04+0.00357174j]\n",
       " [ 0.00000000e+00+0.j        ]\n",
       " [ 1.77604728e-02-0.019263j  ]\n",
       " [-4.08708786e-01+0.03768319j]\n",
       " [ 0.00000000e+00+0.j        ]\n",
       " [ 4.93990679e-01-0.21550983j]\n",
       " [ 0.00000000e+00+0.j        ]\n",
       " [-9.26140103e-02+0.00765774j]\n",
       " [ 0.00000000e+00+0.j        ]\n",
       " [ 1.12286892e-01-0.04773868j]\n",
       " [ 0.00000000e+00+0.j        ]\n",
       " [ 6.01173754e-01+0.21266551j]\n",
       " [ 0.00000000e+00+0.j        ]\n",
       " [ 0.00000000e+00+0.j        ]\n",
       " [ 0.00000000e+00+0.j        ]\n",
       " [-1.90437189e-01+0.24554671j]\n",
       " [ 0.00000000e+00+0.j        ]\n",
       " [ 0.00000000e+00+0.j        ]\n",
       " [ 0.00000000e+00+0.j        ]\n",
       " [ 0.00000000e+00+0.j        ]\n",
       " [ 0.00000000e+00+0.j        ]\n",
       " [ 0.00000000e+00+0.j        ]\n",
       " [ 0.00000000e+00+0.j        ]\n",
       " [ 0.00000000e+00+0.j        ]\n",
       " [ 0.00000000e+00+0.j        ]\n",
       " [ 0.00000000e+00+0.j        ]\n",
       " [ 0.00000000e+00+0.j        ]]"
      ]
     },
     "execution_count": 123,
     "metadata": {},
     "output_type": "execute_result"
    }
   ],
   "source": [
    "rho_final = res.states[-1]\n",
    "rho_final"
   ]
  },
  {
   "cell_type": "code",
   "execution_count": 124,
   "id": "ae7f34bb-73c1-45c4-ae96-4cf31f28ca3e",
   "metadata": {},
   "outputs": [
    {
     "data": {
      "text/latex": [
       "Quantum object: dims=[[2, 2], [2, 2]], shape=(4, 4), type='oper', dtype=Dense, isherm=True$$\\left(\\begin{array}{cc}0.014 & 0 & 0 & 0\\\\0 & 0.482 & (-0.218+0.131j) & 0\\\\0 & (-0.218-0.131j) & 0.503 & 0\\\\0 & 0 & 0 & 0\\end{array}\\right)$$"
      ],
      "text/plain": [
       "Quantum object: dims=[[2, 2], [2, 2]], shape=(4, 4), type='oper', dtype=Dense, isherm=True\n",
       "Qobj data =\n",
       "[[ 0.01434649+0.j          0.        +0.j          0.        +0.j\n",
       "   0.        +0.j        ]\n",
       " [ 0.        +0.j          0.4824575 +0.j         -0.2181736 +0.13085516j\n",
       "   0.        +0.j        ]\n",
       " [ 0.        +0.j         -0.2181736 -0.13085516j  0.50319601+0.j\n",
       "   0.        +0.j        ]\n",
       " [ 0.        +0.j          0.        +0.j          0.        +0.j\n",
       "   0.        +0.j        ]]"
      ]
     },
     "execution_count": 124,
     "metadata": {},
     "output_type": "execute_result"
    }
   ],
   "source": [
    "# trace out the resonator mode and print the two-qubit density matrix\n",
    "rho_qubits = ptrace(rho_final, [0,1])\n",
    "rho_qubits"
   ]
  },
  {
   "cell_type": "code",
   "execution_count": 125,
   "id": "37de5cf1-ba2d-4924-b55b-20522fe1f034",
   "metadata": {},
   "outputs": [],
   "source": [
    "rho_qubits_ideal = ket2dm(tensor(phasegate(0), phasegate(pi/2)) * sqrtiswap() * tensor(basis(2,1), basis(2,0)))\n"
   ]
  },
  {
   "cell_type": "code",
   "execution_count": 126,
   "id": "1e330d7b-5d08-4555-b987-e0156e7b3248",
   "metadata": {},
   "outputs": [
    {
     "data": {
      "text/plain": [
       "np.float64(0.8432083789794019)"
      ]
     },
     "execution_count": 126,
     "metadata": {},
     "output_type": "execute_result"
    }
   ],
   "source": [
    "fidelity(rho_qubits, rho_qubits_ideal)"
   ]
  },
  {
   "cell_type": "code",
   "execution_count": null,
   "id": "de2f48ab-5c2c-40fa-951b-ab4cdd608ae0",
   "metadata": {},
   "outputs": [],
   "source": []
  },
  {
   "cell_type": "code",
   "execution_count": 93,
   "id": "cc6fe68b-4598-4476-a553-05eb897b7545",
   "metadata": {},
   "outputs": [
    {
     "data": {
      "text/plain": [
       "np.float64(0.5312461197674232)"
      ]
     },
     "execution_count": 93,
     "metadata": {},
     "output_type": "execute_result"
    }
   ],
   "source": [
    "concurrence(rho_qubits)"
   ]
  },
  {
   "cell_type": "code",
   "execution_count": 68,
   "id": "ae5868fd-a432-4bdc-9ded-765c601aa90e",
   "metadata": {},
   "outputs": [],
   "source": [
    "# rho_q_cav = ptrace(rho_final, [0,4])\n",
    "# fid1 = fidelity(rho_q_cav, rho"
   ]
  },
  {
   "cell_type": "code",
   "execution_count": null,
   "id": "5e3ab999-e5e8-46f7-b485-683513a09853",
   "metadata": {
    "scrolled": true
   },
   "outputs": [],
   "source": [
    "# test = system.H_cav.eigenenergies().tolist()\n",
    "# test.sort()\n",
    "# test"
   ]
  },
  {
   "cell_type": "code",
   "execution_count": 14,
   "id": "9bd59f6f-019d-481f-b0dc-2c65935de5a0",
   "metadata": {},
   "outputs": [],
   "source": [
    "\n",
    "\n",
    "fid_data = np.array([\n",
    "    [0.0000, 1.0000000000, 0.9999999937],\n",
    "    [0.1000, 0.9560588735, 0.9123191161],\n",
    "    [0.2000, 0.9002483797, 0.8374089678],\n",
    "    [0.3000, 0.8096217850, 0.6867068736],\n",
    "    [0.4000, 0.7082383063, 0.6030696897],\n",
    "    [0.5000, 0.6317772776, 0.6196607842],\n",
    "    [0.6000, 0.5978952700, 0.6274098702],\n",
    "    [0.7000, 0.5949017889, 0.5707803172],\n",
    "    [0.8000, 0.5976894839, 0.4566930967],\n",
    "    [0.9000, 0.5883310061, 0.3222956962],\n",
    "    [1.0000, 0.5615936563, 0.2348917956],\n",
    "    [1.1000, 0.5223013194, 0.2546278767],\n",
    "    [1.2000, 0.4813117127, 0.3225396428],\n",
    "    [1.3000, 0.4518933370, 0.3736938853],\n",
    "    [1.4000, 0.4440390435, 0.3909695333],\n",
    "    [1.5000, 0.4590942827, 0.3750705832],\n",
    "    [1.6000, 0.4899042310, 0.3305513938],\n",
    "    [1.7000, 0.5265181802, 0.2621351724],\n",
    "    [1.8000, 0.5608429474, 0.1765422745],\n",
    "    [1.9000, 0.5881326356, 0.0880720350],\n",
    "    [2.0000, 0.6065765194, 0.0662810587],\n",
    "    [2.1000, 0.6165270314, 0.1368405944],\n",
    "    [2.2000, 0.6197278250, 0.2033078268],\n",
    "    [2.3000, 0.6186414179, 0.2463729302],\n",
    "    [2.4000, 0.6158465257, 0.2621968191],\n",
    "    [2.5000, 0.6135369419, 0.2525354810],\n",
    "    [2.6000, 0.6131557335, 0.2227869490],\n",
    "    [2.7000, 0.6152166701, 0.1804394627],\n",
    "    [2.8000, 0.6194308305, 0.1334323357],\n",
    "    [2.9000, 0.6249050279, 0.0888807372],\n",
    "    [3.0000, 0.6305323997, 0.0521528717],\n",
    "    [3.1000, 0.6352835221, 0.0263204271],\n",
    "    [3.2000, 0.6383891580, 0.0128547196],\n",
    "    [3.3000, 0.6394904283, 0.0119111567],\n",
    "    [3.4000, 0.6386336199, 0.0190569682],\n",
    "    [3.5000, 0.6362097546, 0.0308386357],\n",
    "    [3.6000, 0.6329065455, 0.0447791457],\n",
    "    [3.7000, 0.6295131335, 0.0582938526],\n",
    "    [3.8000, 0.6268136057, 0.0693437526],\n",
    "    [3.9000, 0.6254869186, 0.0766180782],\n",
    "    [4.0000, 0.6260355782, 0.0794779788],\n",
    "    [4.1000, 0.6285575111, 0.0781602585],\n",
    "    [4.2000, 0.6329457868, 0.0732123566],\n",
    "    [4.3000, 0.6388191734, 0.0655019903],\n",
    "    [4.4000, 0.6456266587, 0.0559598944],\n",
    "    [4.5000, 0.6527531115, 0.0455395557],\n",
    "    [4.6000, 0.6595763570, 0.0350140317],\n",
    "    [4.7000, 0.6655782354, 0.0251063409],\n",
    "    [4.8000, 0.6703602334, 0.0164804513],\n",
    "    [4.9000, 0.6736822341, 0.0100367762],\n",
    "    [5.0000, 0.6754702016, 0.0075843224],\n",
    "    [5.1000, 0.6757939649, 0.0094794913],\n",
    "    [5.2000, 0.6748781394, 0.0130588150],\n",
    "    [5.3000, 0.6730213356, 0.0174723766],\n",
    "    [5.4000, 0.6706155316, 0.0230365047],\n",
    "    [5.5000, 0.6680659798, 0.0300299897],\n",
    "    [5.6000, 0.6657751591, 0.0383271242],\n",
    "    [5.7000, 0.6640837034, 0.0474754179],\n",
    "    [5.8000, 0.6632659584, 0.0568615512],\n",
    "    [5.9000, 0.6634808215, 0.0658201918],\n",
    "    [6.0000, 0.6648181526, 0.0736537528],\n",
    "    [6.1000, 0.6671934187, 0.0798766976],\n",
    "    [6.2000, 0.6704737669, 0.0840683445],\n",
    "    [6.3000, 0.6744421090, 0.0860003956],\n",
    "    [6.4000, 0.6788219808, 0.0855712022],\n",
    "    [6.5000, 0.6833360407, 0.0828639775],\n",
    "    [6.6000, 0.6877021511, 0.0781011957],\n",
    "    [6.7000, 0.6916628976, 0.0715753183],\n",
    "    [6.8000, 0.6950105344, 0.0636633360],\n",
    "    [6.9000, 0.6975763161, 0.0547227296],\n",
    "    [7.0000, 0.6992640394, 0.0451265057],\n",
    "    [7.1000, 0.7000275052, 0.0352002056],\n",
    "    [7.2000, 0.6998801775, 0.0252619524],\n",
    "    [7.3000, 0.6988913407, 0.0157810229],\n",
    "    [7.4000, 0.6971591380, 0.0084134421],\n",
    "    [7.5000, 0.6948346547, 0.0097675810],\n",
    "    [7.6000, 0.6920873494, 0.0174991476],\n",
    "    [7.7000, 0.6890916257, 0.0260994962],\n",
    "    [7.8000, 0.6860547873, 0.0344323281],\n",
    "    [7.9000, 0.6830893365, 0.0423124663],\n",
    "    [8.0000, 0.6804156441, 0.0493533372],\n",
    "    [8.1000, 0.6781506899, 0.0553963306],\n",
    "    [8.2000, 0.6763993562, 0.0602611871],\n",
    "    [8.3000, 0.6752188353, 0.0638260819],\n",
    "    [8.4000, 0.6746527862, 0.0659786773],\n",
    "    [8.5000, 0.6746989636, 0.0666746570],\n",
    "    [8.6000, 0.6753336512, 0.0659115221],\n",
    "    [8.7000, 0.6764908833, 0.0637877726],\n",
    "    [8.8000, 0.6780997548, 0.0604187840],\n",
    "    [8.9000, 0.6800684718, 0.0559873277],\n",
    "    [9.0000, 0.6822990436, 0.0507145520],\n",
    "    [9.1000, 0.6846903552, 0.0448402077],\n",
    "    [9.2000, 0.6871422819, 0.0386597460],\n",
    "    [9.3000, 0.6895719525, 0.0324155474],\n",
    "    [9.4000, 0.6919000611, 0.0263839809],\n",
    "    [9.5000, 0.6940606675, 0.0208326028],\n",
    "    [9.6000, 0.6960032227, 0.0160219880],\n",
    "    [9.7000, 0.6976922231, 0.0122042555],\n",
    "    [9.8000, 0.6991013449, 0.0096057781],\n",
    "    [9.9000, 0.7002272906, 0.0082146041],\n",
    "    [10.0000, 0.7010692923, 0.0076739636],\n",
    "    [10.1000, 0.7016378017, 0.0074141556],\n",
    "    [10.2000, 0.7019570176, 0.0070447762],\n",
    "    [10.3000, 0.7020501277, 0.0064328810],\n",
    "    [10.4000, 0.7019494273, 0.0056791507]\n",
    "])\n"
   ]
  },
  {
   "cell_type": "code",
   "execution_count": 16,
   "id": "7fac9574",
   "metadata": {},
   "outputs": [
    {
     "data": {
      "image/png": "[encoded data removed]",
      "text/plain": [
       "<Figure size 640x480 with 1 Axes>"
      ]
     },
     "metadata": {},
     "output_type": "display_data"
    }
   ],
   "source": [
    "plt.plot(fid_data[:,0], fid_data[:,1], 'bo-', label='fidelity vs S')\n",
    "plt.plot(fid_data[:,0], fid_data[:,2], 'ro-', label='concurrence vs S')\n",
    "plt.xlabel('Huang-Rhys factor S', fontsize=16)\n",
    "plt.ylabel('Fidelity / Concurrence', fontsize=16)\n",
    "plt.legend()\n",
    "plt.show()"
   ]
  },
  {
   "cell_type": "code",
   "execution_count": null,
   "id": "45ddaf92",
   "metadata": {},
   "outputs": [],
   "source": []
  }
 ],
 "metadata": {
  "kernelspec": {
   "display_name": "qutip",
   "language": "python",
   "name": "python3"
  },
  "language_info": {
   "codemirror_mode": {
    "name": "ipython",
    "version": 3
   },
   "file_extension": ".py",
   "mimetype": "text/x-python",
   "name": "python",
   "nbconvert_exporter": "python",
   "pygments_lexer": "ipython3",
   "version": "3.12.8"
  }
 },
 "nbformat": 4,
 "nbformat_minor": 5
}
