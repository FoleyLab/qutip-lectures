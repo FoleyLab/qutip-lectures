{
 "cells": [
  {
   "cell_type": "code",
   "execution_count": 1,
   "id": "dfe5211f-9093-4d70-88f2-ce0ebcf7fc99",
   "metadata": {},
   "outputs": [],
   "source": [
    "from htc_class import HolsteinTavisCummings\n",
    "import numpy as np\n",
    "hf_params = {\n",
    "    'w_q1': 0.8365513706206968,         # Qubit 1 frequency (e.g., in GHz)\n",
    "    'w_q2': 0.8365513706206968,         # Qubit 2 frequency\n",
    "    'w_vib1': 0.018335911729858174,       # Vibrational mode 1 frequency\n",
    "    'w_vib2': 0.018335911729858174,      # Vibrational mode 2 frequency\n",
    "    'w_cav': 5 * np.pi,        # Cavity frequency\n",
    "    'S_1': 1.0,         # Huang-Rhys factor for qubit 1 and vib 1\n",
    "    'S_2': 1.0,         # Huang-Rhys factor for qubit 2 and vib 2\n",
    "    'lambda_1': 0.026919208248238624,     # Cavity coupling strength for qubit 1\n",
    "    'lambda_2': 0.026919208248238624,    # Cavity coupling strength for qubit 2\n",
    "    'N_vib': 2,         # Number of vibrational states to include\n",
    "    'N_cav': 2,          # Cavity truncation level\n",
    "    'qubit_1_dipole_moments' : \n",
    "    { \n",
    "        'mu_g': 0, \n",
    "        'mu_e': 0, \n",
    "        'mu_eg': 1\n",
    "    },\n",
    "    'qubit_2_dipole_moments' : \n",
    "    { \n",
    "        'mu_g': 0, \n",
    "        'mu_e': 0, \n",
    "        'mu_eg': 1.5\n",
    "    }\n",
    "}\n",
    "\n",
    "tutorial_params = {\n",
    "\n",
    "    'w_q1': 3 * 2 * np.pi,         # Qubit 1 frequency (e.g., in GHz)\n",
    "    'w_q2': 2 * 2 * np.pi,         # Qubit 2 frequency\n",
    "    'w_vib1': 0.0, #18335911729858174,       # Vibrational mode 1 frequency\n",
    "    'w_vib2': 0.0, #18335911729858174,      # Vibrational mode 2 frequency\n",
    "    'w_cav': 5 * 2 * np.pi,        # Cavity frequency\n",
    "    'S_1': 0,         # Huang-Rhys factor for qubit 1 and vib 1\n",
    "    'S_2': 0,         # Huang-Rhys factor for qubit 2 and vib 2\n",
    "    'lambda_1': 0.0,     # Cavity coupling strength for qubit 1\n",
    "    'lambda_2': 0.0,    # Cavity coupling strength for qubit 2\n",
    "    'N_vib': 2,         # Number of vibrational states to include\n",
    "    'N_cav': 2,          # Cavity truncation level\n",
    "    'simple_g' : True,\n",
    "    'g1' : 0.01 * 2 * np.pi,\n",
    "    'g2' : 0.0125 * 2 * np.pi\n",
    "}\n",
    "\n",
    "\n",
    "# Example parameters\n",
    "system = HolsteinTavisCummings( tutorial_params )\n",
    "g1 = system.g1\n",
    "g2 = system.g2\n",
    "\n",
    "\n",
    "tlist = np.linspace(0, 100, 500)\n",
    "\n",
    "width = 0.5\n",
    "\n",
    "# resonant SQRT iSWAP gate\n",
    "T0_1 = 20\n",
    "T_gate_1 = (1*np.pi)/(4 * g1)\n",
    "\n",
    "# resonant iSWAP gate\n",
    "T0_2 = 60\n",
    "T_gate_2 = (2*np.pi)/(4 * g2)\n",
    "\n",
    "\n",
    "\n",
    "\n",
    "\n"
   ]
  },
  {
   "cell_type": "code",
   "execution_count": 3,
   "id": "2373babd-e8e4-4c81-983e-b9eaeeec4ffc",
   "metadata": {},
   "outputs": [
    {
     "name": "stdout",
     "output_type": "stream",
     "text": [
      "Using Tavis-Cummings coupling\n",
      "Using simple g coupling\n",
      "g1: 0.06283185307179587, g2: 0.07853981633974483\n"
     ]
    },
    {
     "data": {
      "text/plain": [
       "array([-1.00580040e-01, -1.00580040e-01, -1.00580040e-01, -1.00580040e-01,\n",
       "       -1.00580040e-01, -1.00580040e-01, -1.00580040e-01, -1.00580040e-01,\n",
       "       -1.34821732e-17, -1.34821732e-17, -1.34821732e-17, -1.34821732e-17,\n",
       "        0.00000000e+00,  0.00000000e+00,  0.00000000e+00,  0.00000000e+00,\n",
       "        0.00000000e+00,  0.00000000e+00,  0.00000000e+00,  0.00000000e+00,\n",
       "        0.00000000e+00,  0.00000000e+00,  0.00000000e+00,  0.00000000e+00,\n",
       "        1.00580040e-01,  1.00580040e-01,  1.00580040e-01,  1.00580040e-01,\n",
       "        1.00580040e-01,  1.00580040e-01,  1.00580040e-01,  1.00580040e-01])"
      ]
     },
     "execution_count": 3,
     "metadata": {},
     "output_type": "execute_result"
    }
   ],
   "source": [
    "system.build_hamiltonian()\n",
    "system.H_qubit_cavity_coupling.eigenenergies()"
   ]
  },
  {
   "cell_type": "code",
   "execution_count": null,
   "id": "fcc73e51-5618-4246-a5ed-a7f17d1ac94b",
   "metadata": {},
   "outputs": [],
   "source": [
    "print(system.eigenvalues)"
   ]
  },
  {
   "cell_type": "code",
   "execution_count": null,
   "id": "0474df79-5836-4b18-b3a4-22edccb68896",
   "metadata": {},
   "outputs": [],
   "source": [
    "def step(w1, w2, t0, width, t):\n",
    "    \"\"\"\n",
    "    Step function that goes from w1 to w2 at time t0\n",
    "    as a function of t.\n",
    "    \"\"\"\n",
    "    return w1 + (w2 - w1) * (t > t0)\n",
    "\n",
    "def wc_t(t, args=None):\n",
    "    return wc\n",
    "\n",
    "def w1_t(t, args=None):\n",
    "    return w1 + step_t(0.0, wc-w1, T0_1, width, t) - step_t(0.0, wc-w1, T0_1+T_gate_1, width, t)\n",
    "\n",
    "def w2_t(t, args=None):\n",
    "    return w2 + step_t(0.0, wc-w2, T0_2, width, t) - step_t(0.0, wc-w2, T0_2+T_gate_2, width, t)\n",
    "\n",
    "\n",
    "H_t = [[Hc, wc_t], [H1, w1_t], [H2, w2_t], Hc1+Hc2]"
   ]
  }
 ],
 "metadata": {
  "kernelspec": {
   "display_name": "Python 3 (ipykernel)",
   "language": "python",
   "name": "python3"
  },
  "language_info": {
   "codemirror_mode": {
    "name": "ipython",
    "version": 3
   },
   "file_extension": ".py",
   "mimetype": "text/x-python",
   "name": "python",
   "nbconvert_exporter": "python",
   "pygments_lexer": "ipython3",
   "version": "3.11.0"
  }
 },
 "nbformat": 4,
 "nbformat_minor": 5
}
