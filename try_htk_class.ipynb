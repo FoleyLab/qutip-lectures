{
 "cells": [
  {
   "cell_type": "code",
   "execution_count": 1,
   "id": "dfe5211f-9093-4d70-88f2-ce0ebcf7fc99",
   "metadata": {},
   "outputs": [],
   "source": [
    "from htc_class import HolsteinTavisCummings\n",
    "import numpy as np\n",
    "from qutip import *\n",
    "from qutip.core.gates import *\n",
    "from numpy import array\n",
    "from numpy import real\n",
    "import matplotlib.pyplot as plt\n",
    "pi = np.pi\n",
    "hf_params = {\n",
    "    'w_q1': 0.8365513706206968,         # Qubit 1 frequency (e.g., in GHz)\n",
    "    'w_q2': 0.8365513706206968,         # Qubit 2 frequency\n",
    "    'w_vib1': 0.018335911729858174,       # Vibrational mode 1 frequency\n",
    "    'w_vib2': 0.018335911729858174,      # Vibrational mode 2 frequency\n",
    "    'w_cav': 5 * np.pi,        # Cavity frequency\n",
    "    'S_1': 1.0,         # Huang-Rhys factor for qubit 1 and vib 1\n",
    "    'S_2': 1.0,         # Huang-Rhys factor for qubit 2 and vib 2\n",
    "    'lambda_1': 0.026919208248238624,     # Cavity coupling strength for qubit 1\n",
    "    'lambda_2': 0.026919208248238624,    # Cavity coupling strength for qubit 2\n",
    "    'N_vib': 1,         # Number of vibrational states to include\n",
    "    'N_cav': 2,          # Cavity truncation level\n",
    "    'qubit_1_dipole_moments' : \n",
    "    { \n",
    "        'mu_g': 0, \n",
    "        'mu_e': 0, \n",
    "        'mu_eg': 1\n",
    "    },\n",
    "    'qubit_2_dipole_moments' : \n",
    "    { \n",
    "        'mu_g': 0, \n",
    "        'mu_e': 0, \n",
    "        'mu_eg': 1.5\n",
    "    }\n",
    "}\n",
    "\n",
    "# using the same paramters as the tutorial for now!\n",
    "tutorial_params = {\n",
    "\n",
    "    'w_q1': 3 * 2 * np.pi,         # Qubit 1 frequency (e.g., in GHz)\n",
    "    'w_q2': 2 * 2 * np.pi,         # Qubit 2 frequency\n",
    "    'w_vib1': 0.0, #18335911729858174,       # Vibrational mode 1 frequency\n",
    "    'w_vib2': 0.0, #18335911729858174,      # Vibrational mode 2 frequency\n",
    "    'w_cav': 5 * 2 * np.pi,        # Cavity frequency\n",
    "    'S_1': 0,         # Huang-Rhys factor for qubit 1 and vib 1\n",
    "    'S_2': 0,         # Huang-Rhys factor for qubit 2 and vib 2\n",
    "    'lambda_1': 0.0,     # Cavity coupling strength for qubit 1\n",
    "    'lambda_2': 0.0,    # Cavity coupling strength for qubit 2\n",
    "    'N_vib': 1,         # Number of vibrational states to include\n",
    "    'N_cav': 2,          # Cavity truncation level\n",
    "    'simple_g' : True,\n",
    "    'sigma_z_Hq' : True, # formulate qubit Hamiltonians as -w / 2 * sigma_z\n",
    "    'g1' : 0.01 * 2 * np.pi,\n",
    "    'g2' : 0.0125 * 2 * np.pi\n",
    "}\n",
    "\n",
    "\n",
    "# Example parameters\n",
    "system = HolsteinTavisCummings( tutorial_params )\n",
    "g1 = system.g1\n",
    "g2 = system.g2\n",
    "\n",
    "\n",
    "tlist = np.linspace(0, 100, 500)\n",
    "\n",
    "width = 0.5\n",
    "\n",
    "# resonant SQRT iSWAP gate\n",
    "T0_1 = 20\n",
    "T_gate_1 = (1*np.pi)/(4 * g1)\n",
    "\n",
    "# resonant iSWAP gate\n",
    "T0_2 = 60\n",
    "T_gate_2 = (2*np.pi)/(4 * g2)\n",
    "\n",
    "\n",
    "\n",
    "\n",
    "\n"
   ]
  },
  {
   "cell_type": "code",
   "execution_count": 2,
   "id": "2373babd-e8e4-4c81-983e-b9eaeeec4ffc",
   "metadata": {},
   "outputs": [
    {
     "name": "stdout",
     "output_type": "stream",
     "text": [
      "Using Tavis-Cummings coupling\n",
      "Using simple g coupling\n",
      "g1: 0.06283185307179587, g2: 0.07853981633974483\n"
     ]
    }
   ],
   "source": [
    "system.build_hamiltonian()\n",
    "\n",
    "# the following attributes store the different contributions to the Hamiltonian (all on the full Hilbert space)\n",
    "### Bare Hamiltonians\n",
    "# .H_q1 -> qubit 1 Hamiltonian\n",
    "# .H_q2 -> qubit 2 Hamiltonian\n",
    "# .H_qubit -> qubit 1 + qubit 2 Hamiltonian \n",
    "# .H_vib1 -> vibrational Hamiltonian for qubit 1\n",
    "# .H_vib2 -> vibrational Hamiltonian for qubit 2\n",
    "# .H_vibrational -> vibrational Hamiltonians for qubit 1 + qubit 2\n",
    "# .H_cav -> cavity Hamiltonian\n",
    "\n",
    "# Coupling Hamiltonians\n",
    "# Note on qubit - cavity coupling - several flavors available:\n",
    "#  a. Tavis-Cummings (parameterized by `g1` and `g2` or by `sqrt(w1/2) * lambda * mu1_{eg}` and  `sqrt(w2/2) * lambda * mu2_{eg}`  \n",
    "#  b. Pauli-Fierz (sqrt(w1/2) * lambda * mu1, sqrt(w2/2) * lambda * mu2 using full operators)\n",
    "#  c. If Pauli-Fierz, may also include dipole self energy if requested\n",
    "\n",
    "# .H_q1_cav -> coupling between qubit 1 and cavity\n",
    "# .H_q2_cav -> coupling between qubit 2 and cavity\n",
    "# .H_qubit_cavity_coupling -> coupling between qubits 1 and 2 and cavity\n",
    "\n",
    "# .H_q1_vib1 -> vibronic coupling for qubit 1\n",
    "# .H_q2_vib2 -> vibronic coupling for qubit 2\n",
    "# .H_qubit_vibrational_coupling -> vibronic couplings for qubit 1 and qubit 2"
   ]
  },
  {
   "cell_type": "code",
   "execution_count": 3,
   "id": "0474df79-5836-4b18-b3a4-22edccb68896",
   "metadata": {},
   "outputs": [],
   "source": [
    "wc = system.w_cav\n",
    "w1 = system.w_q1\n",
    "w2 = system.w_q2\n",
    "def step_t(w1, w2, t0, width, t):\n",
    "    \"\"\"\n",
    "    Step function that goes from w1 to w2 at time t0\n",
    "    as a function of t.\n",
    "    \"\"\"\n",
    "    return w1 + (w2 - w1) * (t > t0)\n",
    "\n",
    "def wc_t(t, args=None):\n",
    "    return wc\n",
    "\n",
    "def w1_t(t, args=None):\n",
    "    return w1 + step_t(0.0, wc-w1, T0_1, width, t) - step_t(0.0, wc-w1, T0_1+T_gate_1, width, t)\n",
    "\n",
    "def w2_t(t, args=None):\n",
    "    return w2 + step_t(0.0, wc-w2, T0_2, width, t) - step_t(0.0, wc-w2, T0_2+T_gate_2, width, t)\n",
    "\n",
    "\n"
   ]
  },
  {
   "cell_type": "code",
   "execution_count": 4,
   "id": "c3f7167d-c4a5-41ef-9c7d-54698b9267ae",
   "metadata": {},
   "outputs": [],
   "source": [
    "# Qutip code looked like the following:\n",
    "# H_t = [[Hc, wc_t], [H1, w1_t], [H2, w2_t], Hc1+Hc2]\n",
    "\n",
    "# we will adapt to our class as follows:\n",
    "H_t = [[system.H_cav, wc_t], [system.H_q1, w1_t], [system.H_q2, w2_t], system.H_qubit_cavity_coupling]"
   ]
  },
  {
   "cell_type": "code",
   "execution_count": 5,
   "id": "327491ee-40e0-4971-a7cd-b2b3aaed2e78",
   "metadata": {},
   "outputs": [],
   "source": [
    "# initial state: start with one of the qubits in its excited state - note we need to reorder basis\n",
    "# the qutip had cavity basis first, we have it last \n",
    "# qutip tutorial: psi0 = tensor(basis(N,0),basis(2,1),basis(2,0)) \n",
    "# equivalent in our basis: psi0 = tensor(basis(2,1), basis(2,0), basis(N,0))\n",
    "psi0 = tensor(basis(2,1), basis(2,0), basis(1,0), basis(1,0), basis(system.N_cav,0))\n"
   ]
  },
  {
   "cell_type": "code",
   "execution_count": 6,
   "id": "30b83f48-9ab1-45c4-8292-f878325eaba3",
   "metadata": {},
   "outputs": [
    {
     "name": "stderr",
     "output_type": "stream",
     "text": [
      "/Users/jfoley19/miniforge3/envs/qutip/lib/python3.12/site-packages/qutip/solver/solver_base.py:576: FutureWarning: e_ops will be keyword only from qutip 5.3 for all solver\n",
      "  warnings.warn(\n"
     ]
    }
   ],
   "source": [
    "res = mesolve(H_t, psi0, tlist, [], [])"
   ]
  },
  {
   "cell_type": "code",
   "execution_count": 8,
   "id": "da2d7388-4029-477b-96d8-831c2e2704a7",
   "metadata": {},
   "outputs": [],
   "source": [
    "# these operators need to be defined for the plot below\n",
    "\n",
    "# cavity operators on the full Hilbert space\n",
    "a = tensor( qeye(2), qeye(2), qeye(system.N_vib), qeye(system.N_vib), destroy(system.N_cav) )\n",
    "n = a.dag() * a\n",
    "\n",
    "# operators for qubit 1\n",
    "sm1 = tensor( destroy(2), qeye(2), qeye(system.N_vib), qeye(system.N_vib), qeye(system.N_cav) ) \n",
    "n1 = sm1.dag() * sm1\n",
    "\n",
    "# oeprators for qubit 2\n",
    "sm2 = sm1 = tensor(qeye(2) , destroy(2), qeye(system.N_vib), qeye(system.N_vib), qeye(system.N_cav) ) \n",
    "sz2 = tensor(qeye(2), sigmaz(), qeye(system.N_vib), qeye(system.N_vib), qeye(system.N_cav) )\n",
    "n2 = sm2.dag() * sm2"
   ]
  },
  {
   "cell_type": "code",
   "execution_count": 9,
   "id": "13dd24df-3c81-4d70-a56a-6b6c1ee94f9d",
   "metadata": {},
   "outputs": [
    {
     "data": {
      "image/png": "[encoded data removed]",
      "text/plain": [
       "<Figure size 1200x800 with 2 Axes>"
      ]
     },
     "metadata": {},
     "output_type": "display_data"
    }
   ],
   "source": [
    "fig, axes = plt.subplots(2, 1, sharex=True, figsize=(12,8))\n",
    "\n",
    "axes[0].plot(tlist, array(list(map(wc_t, tlist))) / (2*pi), 'r', linewidth=2, label=\"cavity\")\n",
    "axes[0].plot(tlist, array(list(map(w1_t, tlist))) / (2*pi), 'b', linewidth=2, label=\"qubit 1\")\n",
    "axes[0].plot(tlist, array(list(map(w2_t, tlist))) / (2*pi), 'g', linewidth=2, label=\"qubit 2\")\n",
    "axes[0].set_ylim(1, 6)\n",
    "axes[0].set_ylabel(\"Energy (GHz)\", fontsize=16)\n",
    "axes[0].legend()\n",
    "\n",
    "axes[1].plot(tlist, real(expect(n, res.states)), 'r', linewidth=2, label=\"cavity\")\n",
    "axes[1].plot(tlist, real(expect(n1, res.states)), 'b', linewidth=2, label=\"qubit 1\")\n",
    "axes[1].plot(tlist, real(expect(n2, res.states)), 'g', linewidth=2, label=\"qubit 2\")\n",
    "axes[1].set_ylim(0, 1)\n",
    "\n",
    "axes[1].set_xlabel(\"Time (ns)\", fontsize=16)\n",
    "axes[1].set_ylabel(\"Occupation probability\", fontsize=16)\n",
    "axes[1].legend()\n",
    "\n",
    "fig.tight_layout()"
   ]
  },
  {
   "cell_type": "code",
   "execution_count": 12,
   "id": "859a1377-2b17-48bd-b849-9907bad6532f",
   "metadata": {},
   "outputs": [
    {
     "data": {
      "text/latex": [
       "Quantum object: dims=[[2, 2, 1, 1, 2], [1, 1, 1, 1, 1]], shape=(8, 1), type='ket', dtype=Dense$$\\left(\\begin{array}{cc}0\\\\3.917\\times10^{ -4 }\\\\2.127\\times10^{ -7 }\\\\0\\\\(-0.890-0.456j)\\\\0\\\\0\\\\0\\end{array}\\right)$$"
      ],
      "text/plain": [
       "Quantum object: dims=[[2, 2, 1, 1, 2], [1, 1, 1, 1, 1]], shape=(8, 1), type='ket', dtype=Dense\n",
       "Qobj data =\n",
       "[[ 0.00000000e+00+0.00000000e+00j]\n",
       " [ 3.91708416e-04-3.03572826e-05j]\n",
       " [ 2.12741588e-07-3.58600496e-07j]\n",
       " [ 0.00000000e+00+0.00000000e+00j]\n",
       " [-8.89791282e-01-4.56367527e-01j]\n",
       " [ 0.00000000e+00+0.00000000e+00j]\n",
       " [ 0.00000000e+00+0.00000000e+00j]\n",
       " [ 0.00000000e+00+0.00000000e+00j]]"
      ]
     },
     "execution_count": 12,
     "metadata": {},
     "output_type": "execute_result"
    }
   ],
   "source": [
    "rho_final = res.states[-1]\n",
    "rho_final"
   ]
  },
  {
   "cell_type": "code",
   "execution_count": 11,
   "id": "ae7f34bb-73c1-45c4-ae96-4cf31f28ca3e",
   "metadata": {},
   "outputs": [
    {
     "data": {
      "text/latex": [
       "Quantum object: dims=[[2, 2], [2, 2]], shape=(4, 4), type='oper', dtype=Dense, isherm=True$$\\left(\\begin{array}{cc}1.544\\times10^{ -7 } & 0 & 0 & 0\\\\0 & 1.739\\times10^{ -13 } & -2.564\\times10^{ -8 } & 0\\\\0 & -2.564\\times10^{ -8 } & 1.000 & 0\\\\0 & 0 & 0 & 0\\end{array}\\right)$$"
      ],
      "text/plain": [
       "Quantum object: dims=[[2, 2], [2, 2]], shape=(4, 4), type='oper', dtype=Dense, isherm=True\n",
       "Qobj data =\n",
       "[[ 1.54357048e-07+0.00000000e+00j  0.00000000e+00+0.00000000e+00j\n",
       "   0.00000000e+00+0.00000000e+00j  0.00000000e+00+0.00000000e+00j]\n",
       " [ 0.00000000e+00+0.00000000e+00j  1.73853299e-13+0.00000000e+00j\n",
       "  -2.56419894e-08+4.16167947e-07j  0.00000000e+00+0.00000000e+00j]\n",
       " [ 0.00000000e+00+0.00000000e+00j -2.56419894e-08-4.16167947e-07j\n",
       "   9.99999846e-01+0.00000000e+00j  0.00000000e+00+0.00000000e+00j]\n",
       " [ 0.00000000e+00+0.00000000e+00j  0.00000000e+00+0.00000000e+00j\n",
       "   0.00000000e+00+0.00000000e+00j  0.00000000e+00+0.00000000e+00j]]"
      ]
     },
     "execution_count": 11,
     "metadata": {},
     "output_type": "execute_result"
    }
   ],
   "source": [
    "# trace out the resonator mode and print the two-qubit density matrix\n",
    "rho_qubits = ptrace(rho_final, [0,1])\n",
    "rho_qubits"
   ]
  },
  {
   "cell_type": "code",
   "execution_count": null,
   "id": "71123112-4e79-4759-8791-23a8c9722881",
   "metadata": {},
   "outputs": [],
   "source": []
  }
 ],
 "metadata": {
  "kernelspec": {
   "display_name": "Python 3 (ipykernel)",
   "language": "python",
   "name": "python3"
  },
  "language_info": {
   "codemirror_mode": {
    "name": "ipython",
    "version": 3
   },
   "file_extension": ".py",
   "mimetype": "text/x-python",
   "name": "python",
   "nbconvert_exporter": "python",
   "pygments_lexer": "ipython3",
   "version": "3.12.8"
  }
 },
 "nbformat": 4,
 "nbformat_minor": 5
}
