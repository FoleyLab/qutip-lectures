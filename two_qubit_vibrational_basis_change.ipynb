{
 "cells": [
  {
   "cell_type": "markdown",
   "id": "f9a2c554-d605-4d48-87f6-9b5af1c52685",
   "metadata": {},
   "source": [
    "## Basis order\n",
    "\n",
    "$$\n",
    "|qubit_1\\rangle \\otimes |qubit_2\\rangle \\otimes |vib_1\\rangle \\otimes |vib_2\\rangle \\otimes |cav\\rangle\n",
    "$$"
   ]
  },
  {
   "cell_type": "code",
   "execution_count": 1,
   "id": "99df1246-2561-4e3c-8f54-3be7be5d5729",
   "metadata": {},
   "outputs": [],
   "source": [
    "import numpy as np\n",
    "import scipy.linalg as la\n",
    "import qutip\n",
    "from qutip import *\n",
    "\n",
    "#define fock states\n",
    "N_q1 = 2\n",
    "N_q2 = 2\n",
    "N_vib1 = 2\n",
    "N_vib2 = 2\n",
    "N_cav = 2\n",
    "\n",
    "wc = 1.0       # cav frequency\n",
    "w1 = 1.0       # q1 electronic frequency\n",
    "w2 = 1.0       # q2 electronic frequency\n",
    "wv1 = 0.1      # q1 vibrational frequency\n",
    "wv2 = 0.1      # q2 vibrational frequency\n",
    "g1 = 0.1       # coupling strength (in arbitrary units)\n",
    "g2 = 0.1       # coupling strength (in arbitrary units)\n",
    "lam1 = 0.1     # sqrt(Huang-Rhys) of q1\n",
    "lam2 = 0.1     # sqrt(Huang-Rhys) of q2\n",
    "\n",
    "# Define the Pauli matrices for the atom Hilbert space (N = 2)\n",
    "sigmaz = sigmaz()\n",
    "sigmap = sigmap()\n",
    "sigmam = sigmam()\n",
    "\n",
    "Iq1 = qeye(N_q1)\n",
    "Iq2 = qeye(N_q2)\n",
    "Ivib1 = qeye(N_vib1)\n",
    "Ivib2 = qeye(N_vib2)\n",
    "Icav = qeye(N_cav)\n",
    "\n",
    "#cavity operators\n",
    "am = tensor(Iq1, Iq2, Ivib1, Ivib2, destroy(N_cav))\n",
    "ap = am.dag()\n",
    "\n",
    "#vib1 operators\n",
    "bm1 = tensor(Iq1, Iq2, destroy(N_vib1), Ivib2, Icav)\n",
    "bp1 = bm1.dag()\n",
    "\n",
    "#vib2 operators\n",
    "bm2 = tensor(Iq1, Iq2, Ivib1, destroy(N_vib2), Icav)\n",
    "bp2 = bm2.dag()\n",
    "\n",
    "#q1 operators\n",
    "sm1 = tensor(sigmap, Iq2, Ivib1, Ivib2, Icav)\n",
    "sp1 = sm1.dag()\n",
    "\n",
    "#q2 operators\n",
    "sm2 = tensor(Iq1, sigmap, Ivib1, Ivib2, Icav)\n",
    "sp2 = sm2.dag()\n",
    "\n",
    "#sigma_z operators\n",
    "sz1 = tensor(sigmaz, Iq2, Ivib1, Ivib2, Icav)\n",
    "sz2 = tensor(Iq1, sigmaz, Ivib1, Ivib2, Icav)"
   ]
  },
  {
   "cell_type": "code",
   "execution_count": 2,
   "id": "c4c12a98-0ce8-4797-9cb8-82585f89bcd3",
   "metadata": {},
   "outputs": [],
   "source": [
    "# #build hamiltonians\n",
    "# H_atom = - w / 2 * sz #\n",
    "# H_vib = wv * bp * bm #\n",
    "# H_qubit_vib = - lam * wv * (sp * bm  + sm * bp) #\n",
    "# H_qubit_vib = - lam * wv * (bp + bm) * sp * sm\n",
    "# H_cav = wc * ap * am #\n",
    "# H_qubit_cav = g * (am *sp + ap * sm) #\n",
    "\n",
    "#building Hamiltonians\n",
    "H_q1 = - w1 / 2 * sz1\n",
    "H_q2 = - w2 / 2 * sz2\n",
    "H_vib1 = wv1 * bp1 * bm1\n",
    "H_vib2 = wv2 * bp2 * bm2\n",
    "# H_qubit_vib1 = - lam1 * wv1 * (sp1 * bm1 + sm1 * bp1)\n",
    "# H_qubit_vib2 = - lam2 * wv2 * (sp2 * bm2 + sm2 * bp2)\n",
    "H_qubit_vib1 = - lam1 * wv1 * (bp1 + bm1) * sp1 * sm1\n",
    "H_qubit_vib2 = - lam2 * wv2 * (bp2 + bm2) * sp2 * sm2\n",
    "H_cav = wc * ap * am\n",
    "H_qubit_cav1 = g1 * (am * sp1 + ap * sm1)\n",
    "H_qubit_cav2 = g2 * (am * sp2 + ap * sm2)"
   ]
  },
  {
   "cell_type": "code",
   "execution_count": 3,
   "id": "88625263-e242-45f8-8cac-b116b2d8ff70",
   "metadata": {},
   "outputs": [],
   "source": [
    "#build full Hamiltonians\n",
    "H_change = H_q1 + H_q2 + H_vib1 + H_vib2 + H_qubit_vib1 + H_qubit_vib2 + H_cav\n",
    "H_htc = H_change + H_qubit_cav1 + H_qubit_cav2\n",
    "\n",
    "# Compute eigenvalues and eigenvectors of the Hamiltonian\n",
    "eigenvalues, eigenvecs = H_change.eigenstates()\n",
    "\n",
    "eigenvectors = Qobj(np.column_stack([vec.full().real for vec in eigenvecs]), dims=H_change.dims)\n",
    "\n",
    "# Transform JC Hamiltonian to get H_polaron (polariton basis representation)\n",
    "H_polaron = eigenvectors.dag() * H_htc * eigenvectors\n",
    "\n",
    "#build diagonal matrix\n",
    "H_diag = Qobj(np.diag(eigenvalues),dims=H_change.dims)"
   ]
  },
  {
   "cell_type": "code",
   "execution_count": 4,
   "id": "51be0b24-442d-42e5-8c2b-dda160a17ed1",
   "metadata": {},
   "outputs": [
    {
     "data": {
      "text/latex": [
       "Quantum object: dims=[[2, 2, 2, 2, 2], [2, 2, 2, 2, 2]], shape=(32, 32), type='oper', dtype=Dense, isherm=False$$\\left(\\begin{array}{cc}1 & 0 & 0 & 0 & 0 & \\cdots & 0 & 0 & 0 & 0 & 0\\\\0 & 0 & 0 & 0 & 0 & \\cdots & 0 & 0 & 0 & 0 & 0\\\\0 & 1 & 0 & 0 & 0 & \\cdots & 0 & 0 & 0 & 0 & 0\\\\0 & 0 & 0 & 0 & 0 & \\cdots & 0 & 0 & 0 & 0 & 0\\\\0 & 0 & 1 & 0 & 0 & \\cdots & 0 & 0 & 0 & 0 & 0\\\\\\vdots & \\vdots & \\vdots & \\vdots & \\vdots & \\ddots & \\vdots & \\vdots & \\vdots & \\vdots & \\vdots\\\\0 & 0 & 0 & 0 & 0 & \\cdots & -2.519\\times10^{ -18 } & 0.098 & -0.114 & -0.984 & -0.098\\\\0 & 0 & 0 & 0 & 0 & \\cdots & 0.098 & -2.216\\times10^{ -16 } & 2.827\\times10^{ -16 } & -3.932\\times10^{ -17 } & 3.185\\times10^{ -17 }\\\\0 & 0 & 0 & 0 & 0 & \\cdots & -2.519\\times10^{ -18 } & 0.098 & -0.981 & 0.134 & -0.098\\\\0 & 0 & 0 & 0 & 0 & \\cdots & -0.990 & -5.719\\times10^{ -16 } & -4.190\\times10^{ -17 } & -3.362\\times10^{ -17 } & -3.633\\times10^{ -18 }\\\\0 & 0 & 0 & 0 & 0 & \\cdots & -5.048\\times10^{ -20 } & 0.010 & -0.110 & -0.085 & 0.990\\end{array}\\right)$$"
      ],
      "text/plain": [
       "Quantum object: dims=[[2, 2, 2, 2, 2], [2, 2, 2, 2, 2]], shape=(32, 32), type='oper', dtype=Dense, isherm=False\n",
       "Qobj data =\n",
       "[[ 1.00000000e+00  0.00000000e+00  0.00000000e+00 ...  0.00000000e+00\n",
       "   0.00000000e+00  0.00000000e+00]\n",
       " [ 0.00000000e+00  0.00000000e+00  0.00000000e+00 ...  0.00000000e+00\n",
       "   0.00000000e+00  0.00000000e+00]\n",
       " [ 0.00000000e+00  1.00000000e+00  0.00000000e+00 ...  0.00000000e+00\n",
       "   0.00000000e+00  0.00000000e+00]\n",
       " ...\n",
       " [ 0.00000000e+00  0.00000000e+00  0.00000000e+00 ... -9.81276209e-01\n",
       "   1.33664627e-01 -9.80580676e-02]\n",
       " [ 0.00000000e+00  0.00000000e+00  0.00000000e+00 ... -4.18956905e-17\n",
       "  -3.36206652e-17 -3.63276896e-18]\n",
       " [ 0.00000000e+00  0.00000000e+00  0.00000000e+00 ... -1.09567443e-01\n",
       "  -8.50043805e-02  9.90290338e-01]]"
      ]
     },
     "execution_count": 4,
     "metadata": {},
     "output_type": "execute_result"
    }
   ],
   "source": [
    "eigenvectors"
   ]
  },
  {
   "cell_type": "code",
   "execution_count": 5,
   "id": "323cf4a3-365c-4804-b230-bf8bb5b2bd9b",
   "metadata": {},
   "outputs": [
    {
     "data": {
      "text/latex": [
       "Quantum object: dims=[[2, 2, 2, 2, 2], [2, 2, 2, 2, 2]], shape=(32, 32), type='oper', dtype=Dense, isherm=True$$\\left(\\begin{array}{cc}-1 & 0 & 0 & 0 & 0 & \\cdots & 0 & 0 & 0 & 0 & 0\\\\0 & -0.900 & 0 & 0 & 0 & \\cdots & 0 & 0 & 0 & 0 & 0\\\\0 & 0 & -0.900 & 0 & 0 & \\cdots & 0 & 0 & 0 & 0 & 0\\\\0 & 0 & 0 & -0.800 & 0 & \\cdots & 0 & 0 & 0 & 0 & 0\\\\0 & 0 & 0 & 0 & -9.902\\times10^{ -4 } & \\cdots & 0 & 0 & 0 & 0 & 0\\\\\\vdots & \\vdots & \\vdots & \\vdots & \\vdots & \\ddots & \\vdots & \\vdots & \\vdots & \\vdots & \\vdots\\\\0 & 0 & 0 & 0 & 0 & \\cdots & 1.202 & 0 & 0 & 0 & 0\\\\0 & 0 & 0 & 0 & 0 & \\cdots & 0 & 1.998 & 0 & 0 & 0\\\\0 & 0 & 0 & 0 & 0 & \\cdots & 0 & 0 & 2.100 & 0 & 0\\\\0 & 0 & 0 & 0 & 0 & \\cdots & 0 & 0 & 0 & 2.100 & 0\\\\0 & 0 & 0 & 0 & 0 & \\cdots & 0 & 0 & 0 & 0 & 2.202\\end{array}\\right)$$"
      ],
      "text/plain": [
       "Quantum object: dims=[[2, 2, 2, 2, 2], [2, 2, 2, 2, 2]], shape=(32, 32), type='oper', dtype=Dense, isherm=True\n",
       "Qobj data =\n",
       "[[-1.          0.          0.         ...  0.          0.\n",
       "   0.        ]\n",
       " [ 0.         -0.9         0.         ...  0.          0.\n",
       "   0.        ]\n",
       " [ 0.          0.         -0.9        ...  0.          0.\n",
       "   0.        ]\n",
       " ...\n",
       " [ 0.          0.          0.         ...  2.1         0.\n",
       "   0.        ]\n",
       " [ 0.          0.          0.         ...  0.          2.1\n",
       "   0.        ]\n",
       " [ 0.          0.          0.         ...  0.          0.\n",
       "   2.20198039]]"
      ]
     },
     "execution_count": 5,
     "metadata": {},
     "output_type": "execute_result"
    }
   ],
   "source": [
    "H_diag"
   ]
  },
  {
   "cell_type": "code",
   "execution_count": 6,
   "id": "028a766c-5de6-4eea-b582-03db830f111c",
   "metadata": {},
   "outputs": [
    {
     "data": {
      "text/plain": [
       "True"
      ]
     },
     "execution_count": 6,
     "metadata": {},
     "output_type": "execute_result"
    }
   ],
   "source": [
    "np.allclose((eigenvectors.dag() * H_change * eigenvectors).full(), H_diag.full())"
   ]
  },
  {
   "cell_type": "code",
   "execution_count": 7,
   "id": "3760057a-c7a1-4c09-8c1d-a2e4c5f97f7f",
   "metadata": {},
   "outputs": [
    {
     "data": {
      "text/plain": [
       "array([ 0.00000000e+00,  0.00000000e+00,  0.00000000e+00,  0.00000000e+00,\n",
       "        0.00000000e+00,  0.00000000e+00,  0.00000000e+00,  0.00000000e+00,\n",
       "        0.00000000e+00,  0.00000000e+00,  0.00000000e+00,  0.00000000e+00,\n",
       "        0.00000000e+00,  0.00000000e+00,  0.00000000e+00,  0.00000000e+00,\n",
       "        0.00000000e+00,  0.00000000e+00,  0.00000000e+00,  0.00000000e+00,\n",
       "        0.00000000e+00,  0.00000000e+00,  0.00000000e+00,  0.00000000e+00,\n",
       "        6.58287054e-19,  1.09567443e-01, -3.83387695e-16, -1.14398220e-01,\n",
       "        2.82746120e-16, -9.81276209e-01, -4.18956905e-17, -1.09567443e-01])"
      ]
     },
     "execution_count": 7,
     "metadata": {},
     "output_type": "execute_result"
    }
   ],
   "source": [
    "eigenvectors.full().real[:,29]"
   ]
  },
  {
   "cell_type": "code",
   "execution_count": 8,
   "id": "025aa22f-e2ae-44bb-91e9-31ac0e08b0be",
   "metadata": {},
   "outputs": [],
   "source": [
    "basis_states = []\n",
    "\n",
    "j = 0\n",
    "for i in eigenvecs:\n",
    "    n = 0\n",
    "    while n < (N_q1 * N_q2 * N_vib1 * N_vib2 * N_cav):\n",
    "        if np.allclose(i.full().real, basis((N_q1 * N_q2 * N_vib1 * N_vib2 * N_cav), n).full().real):\n",
    "            basis_states.append([i, f\"{j}th\", f\"{n} basis\"])\n",
    "            \n",
    "        n += 1\n",
    "    j += 1"
   ]
  },
  {
   "cell_type": "code",
   "execution_count": 9,
   "id": "c1ff2234-ee69-47aa-8741-870e59c6ecd0",
   "metadata": {},
   "outputs": [
    {
     "data": {
      "text/plain": [
       "8"
      ]
     },
     "execution_count": 9,
     "metadata": {},
     "output_type": "execute_result"
    }
   ],
   "source": [
    "len(basis_states)"
   ]
  },
  {
   "cell_type": "code",
   "execution_count": 10,
   "id": "51edec5b-5f2f-4460-81d1-cda65e9d9c1e",
   "metadata": {},
   "outputs": [
    {
     "data": {
      "text/plain": [
       "True"
      ]
     },
     "execution_count": 10,
     "metadata": {},
     "output_type": "execute_result"
    }
   ],
   "source": [
    "np.allclose(( bp2 * basis_states[0][0]).full().real, basis_states[1][0].full().real)"
   ]
  },
  {
   "cell_type": "code",
   "execution_count": 11,
   "id": "968b0232-3d5b-49e8-bad2-f2f66dab0a10",
   "metadata": {
    "scrolled": true
   },
   "outputs": [
    {
     "data": {
      "text/plain": [
       "[[Quantum object: dims=[[2, 2, 2, 2, 2], [1]], shape=(32, 1), type='ket', dtype=Dense\n",
       "  Qobj data =\n",
       "  [[1.]\n",
       "   [0.]\n",
       "   [0.]\n",
       "   [0.]\n",
       "   [0.]\n",
       "   [0.]\n",
       "   [0.]\n",
       "   [0.]\n",
       "   [0.]\n",
       "   [0.]\n",
       "   [0.]\n",
       "   [0.]\n",
       "   [0.]\n",
       "   [0.]\n",
       "   [0.]\n",
       "   [0.]\n",
       "   [0.]\n",
       "   [0.]\n",
       "   [0.]\n",
       "   [0.]\n",
       "   [0.]\n",
       "   [0.]\n",
       "   [0.]\n",
       "   [0.]\n",
       "   [0.]\n",
       "   [0.]\n",
       "   [0.]\n",
       "   [0.]\n",
       "   [0.]\n",
       "   [0.]\n",
       "   [0.]\n",
       "   [0.]],\n",
       "  '0th',\n",
       "  '0 basis'],\n",
       " [Quantum object: dims=[[2, 2, 2, 2, 2], [1]], shape=(32, 1), type='ket', dtype=Dense\n",
       "  Qobj data =\n",
       "  [[0.]\n",
       "   [0.]\n",
       "   [1.]\n",
       "   [0.]\n",
       "   [0.]\n",
       "   [0.]\n",
       "   [0.]\n",
       "   [0.]\n",
       "   [0.]\n",
       "   [0.]\n",
       "   [0.]\n",
       "   [0.]\n",
       "   [0.]\n",
       "   [0.]\n",
       "   [0.]\n",
       "   [0.]\n",
       "   [0.]\n",
       "   [0.]\n",
       "   [0.]\n",
       "   [0.]\n",
       "   [0.]\n",
       "   [0.]\n",
       "   [0.]\n",
       "   [0.]\n",
       "   [0.]\n",
       "   [0.]\n",
       "   [0.]\n",
       "   [0.]\n",
       "   [0.]\n",
       "   [0.]\n",
       "   [0.]\n",
       "   [0.]],\n",
       "  '1th',\n",
       "  '2 basis'],\n",
       " [Quantum object: dims=[[2, 2, 2, 2, 2], [1]], shape=(32, 1), type='ket', dtype=Dense\n",
       "  Qobj data =\n",
       "  [[0.]\n",
       "   [0.]\n",
       "   [0.]\n",
       "   [0.]\n",
       "   [1.]\n",
       "   [0.]\n",
       "   [0.]\n",
       "   [0.]\n",
       "   [0.]\n",
       "   [0.]\n",
       "   [0.]\n",
       "   [0.]\n",
       "   [0.]\n",
       "   [0.]\n",
       "   [0.]\n",
       "   [0.]\n",
       "   [0.]\n",
       "   [0.]\n",
       "   [0.]\n",
       "   [0.]\n",
       "   [0.]\n",
       "   [0.]\n",
       "   [0.]\n",
       "   [0.]\n",
       "   [0.]\n",
       "   [0.]\n",
       "   [0.]\n",
       "   [0.]\n",
       "   [0.]\n",
       "   [0.]\n",
       "   [0.]\n",
       "   [0.]],\n",
       "  '2th',\n",
       "  '4 basis'],\n",
       " [Quantum object: dims=[[2, 2, 2, 2, 2], [1]], shape=(32, 1), type='ket', dtype=Dense\n",
       "  Qobj data =\n",
       "  [[0.]\n",
       "   [0.]\n",
       "   [0.]\n",
       "   [0.]\n",
       "   [0.]\n",
       "   [0.]\n",
       "   [1.]\n",
       "   [0.]\n",
       "   [0.]\n",
       "   [0.]\n",
       "   [0.]\n",
       "   [0.]\n",
       "   [0.]\n",
       "   [0.]\n",
       "   [0.]\n",
       "   [0.]\n",
       "   [0.]\n",
       "   [0.]\n",
       "   [0.]\n",
       "   [0.]\n",
       "   [0.]\n",
       "   [0.]\n",
       "   [0.]\n",
       "   [0.]\n",
       "   [0.]\n",
       "   [0.]\n",
       "   [0.]\n",
       "   [0.]\n",
       "   [0.]\n",
       "   [0.]\n",
       "   [0.]\n",
       "   [0.]],\n",
       "  '3th',\n",
       "  '6 basis'],\n",
       " [Quantum object: dims=[[2, 2, 2, 2, 2], [1]], shape=(32, 1), type='ket', dtype=Dense\n",
       "  Qobj data =\n",
       "  [[0.]\n",
       "   [1.]\n",
       "   [0.]\n",
       "   [0.]\n",
       "   [0.]\n",
       "   [0.]\n",
       "   [0.]\n",
       "   [0.]\n",
       "   [0.]\n",
       "   [0.]\n",
       "   [0.]\n",
       "   [0.]\n",
       "   [0.]\n",
       "   [0.]\n",
       "   [0.]\n",
       "   [0.]\n",
       "   [0.]\n",
       "   [0.]\n",
       "   [0.]\n",
       "   [0.]\n",
       "   [0.]\n",
       "   [0.]\n",
       "   [0.]\n",
       "   [0.]\n",
       "   [0.]\n",
       "   [0.]\n",
       "   [0.]\n",
       "   [0.]\n",
       "   [0.]\n",
       "   [0.]\n",
       "   [0.]\n",
       "   [0.]],\n",
       "  '6th',\n",
       "  '1 basis'],\n",
       " [Quantum object: dims=[[2, 2, 2, 2, 2], [1]], shape=(32, 1), type='ket', dtype=Dense\n",
       "  Qobj data =\n",
       "  [[0.]\n",
       "   [0.]\n",
       "   [0.]\n",
       "   [0.]\n",
       "   [0.]\n",
       "   [1.]\n",
       "   [0.]\n",
       "   [0.]\n",
       "   [0.]\n",
       "   [0.]\n",
       "   [0.]\n",
       "   [0.]\n",
       "   [0.]\n",
       "   [0.]\n",
       "   [0.]\n",
       "   [0.]\n",
       "   [0.]\n",
       "   [0.]\n",
       "   [0.]\n",
       "   [0.]\n",
       "   [0.]\n",
       "   [0.]\n",
       "   [0.]\n",
       "   [0.]\n",
       "   [0.]\n",
       "   [0.]\n",
       "   [0.]\n",
       "   [0.]\n",
       "   [0.]\n",
       "   [0.]\n",
       "   [0.]\n",
       "   [0.]],\n",
       "  '9th',\n",
       "  '5 basis'],\n",
       " [Quantum object: dims=[[2, 2, 2, 2, 2], [1]], shape=(32, 1), type='ket', dtype=Dense\n",
       "  Qobj data =\n",
       "  [[0.]\n",
       "   [0.]\n",
       "   [0.]\n",
       "   [1.]\n",
       "   [0.]\n",
       "   [0.]\n",
       "   [0.]\n",
       "   [0.]\n",
       "   [0.]\n",
       "   [0.]\n",
       "   [0.]\n",
       "   [0.]\n",
       "   [0.]\n",
       "   [0.]\n",
       "   [0.]\n",
       "   [0.]\n",
       "   [0.]\n",
       "   [0.]\n",
       "   [0.]\n",
       "   [0.]\n",
       "   [0.]\n",
       "   [0.]\n",
       "   [0.]\n",
       "   [0.]\n",
       "   [0.]\n",
       "   [0.]\n",
       "   [0.]\n",
       "   [0.]\n",
       "   [0.]\n",
       "   [0.]\n",
       "   [0.]\n",
       "   [0.]],\n",
       "  '10th',\n",
       "  '3 basis'],\n",
       " [Quantum object: dims=[[2, 2, 2, 2, 2], [1]], shape=(32, 1), type='ket', dtype=Dense\n",
       "  Qobj data =\n",
       "  [[0.]\n",
       "   [0.]\n",
       "   [0.]\n",
       "   [0.]\n",
       "   [0.]\n",
       "   [0.]\n",
       "   [0.]\n",
       "   [1.]\n",
       "   [0.]\n",
       "   [0.]\n",
       "   [0.]\n",
       "   [0.]\n",
       "   [0.]\n",
       "   [0.]\n",
       "   [0.]\n",
       "   [0.]\n",
       "   [0.]\n",
       "   [0.]\n",
       "   [0.]\n",
       "   [0.]\n",
       "   [0.]\n",
       "   [0.]\n",
       "   [0.]\n",
       "   [0.]\n",
       "   [0.]\n",
       "   [0.]\n",
       "   [0.]\n",
       "   [0.]\n",
       "   [0.]\n",
       "   [0.]\n",
       "   [0.]\n",
       "   [0.]],\n",
       "  '13th',\n",
       "  '7 basis']]"
      ]
     },
     "execution_count": 11,
     "metadata": {},
     "output_type": "execute_result"
    }
   ],
   "source": [
    "basis_states"
   ]
  },
  {
   "cell_type": "code",
   "execution_count": 12,
   "id": "ead582bc-47d7-4579-926f-ff143a695e5e",
   "metadata": {},
   "outputs": [],
   "source": [
    "def build_coff_expansion(vec):\n",
    "    n = 0\n",
    "    coff = 0\n",
    "    while n < len(vec):\n",
    "        coff += eigenvecs[n] * vec[n]\n",
    "        n += 1\n",
    "\n",
    "    return coff"
   ]
  },
  {
   "cell_type": "code",
   "execution_count": 13,
   "id": "50413b3a-eb4c-4836-bc8a-e46980c17f9b",
   "metadata": {},
   "outputs": [
    {
     "name": "stdout",
     "output_type": "stream",
     "text": [
      "True\n",
      "True\n",
      "True\n",
      "True\n",
      "True\n",
      "True\n",
      "True\n",
      "True\n",
      "True\n",
      "True\n",
      "True\n",
      "True\n",
      "True\n",
      "True\n",
      "True\n",
      "True\n",
      "True\n",
      "True\n",
      "True\n",
      "True\n",
      "True\n",
      "True\n",
      "True\n",
      "True\n",
      "True\n",
      "True\n",
      "True\n",
      "True\n",
      "True\n",
      "True\n",
      "True\n",
      "True\n"
     ]
    }
   ],
   "source": [
    "n = 0\n",
    "fock = N_q1 * N_q2 * N_vib1 * N_vib2 * N_cav\n",
    "\n",
    "while n < fock:\n",
    "    print(np.allclose(basis(fock, n).full().real, build_coff_expansion(eigenvectors.full().real[n,:]).full().real, rtol=1e-8))\n",
    "    n += 1"
   ]
  },
  {
   "cell_type": "code",
   "execution_count": 14,
   "id": "3bdbef65-a305-4991-8fe8-2f79834814f6",
   "metadata": {},
   "outputs": [
    {
     "data": {
      "text/plain": [
       "2.201980390271856"
      ]
     },
     "execution_count": 14,
     "metadata": {},
     "output_type": "execute_result"
    }
   ],
   "source": [
    "H_exp_uncoupled = expect(H_htc, eigenvecs[31])\n",
    "H_exp_uncoupled"
   ]
  },
  {
   "cell_type": "code",
   "execution_count": 15,
   "id": "18289c6d-055b-4a99-8081-2803b2129b50",
   "metadata": {},
   "outputs": [
    {
     "data": {
      "text/plain": [
       "np.float64(2.2019803902718555)"
      ]
     },
     "execution_count": 15,
     "metadata": {},
     "output_type": "execute_result"
    }
   ],
   "source": [
    "H_diag.diag()[31]"
   ]
  },
  {
   "cell_type": "code",
   "execution_count": 16,
   "id": "1fe4beb5-7c8a-412c-be17-b97a7a0cb31a",
   "metadata": {},
   "outputs": [
    {
     "name": "stdout",
     "output_type": "stream",
     "text": [
      "0 True\n",
      "1 True\n",
      "2 True\n",
      "3 True\n",
      "4 True\n",
      "5 True\n",
      "6 True\n",
      "7 True\n",
      "8 True\n",
      "9 True\n",
      "10 True\n",
      "11 True\n",
      "12 True\n",
      "13 True\n",
      "14 True\n",
      "15 True\n",
      "16 True\n",
      "17 True\n",
      "18 True\n",
      "19 True\n",
      "20 True\n",
      "21 True\n",
      "22 True\n",
      "23 True\n",
      "24 True\n",
      "25 True\n",
      "26 True\n",
      "27 True\n",
      "28 True\n",
      "29 True\n",
      "30 True\n",
      "31 True\n"
     ]
    }
   ],
   "source": [
    "n = 0\n",
    "while n < fock:\n",
    "    print(n, np.isclose(expect(H_htc, eigenvecs[n]), H_diag.diag()[n], atol=1e-5))\n",
    "    n += 1"
   ]
  },
  {
   "cell_type": "code",
   "execution_count": 17,
   "id": "2378d5ef-c90d-4b9c-81b4-706a87801d61",
   "metadata": {},
   "outputs": [],
   "source": [
    "def find_ket_values(tensor_order, basis_state):\n",
    "    \"\"\"Find the ket values for a given basis state and tensor order.\n",
    "    Args:\n",
    "        tensor_order (list): The order of the tensor product and number of states for each qubit\n",
    "        basis_state (ndarray): The basis state as an ndarray.\"\"\"\n",
    "    \n",
    "    ket_values = []\n",
    "    entries = []\n",
    "\n",
    "    #get the entries of the basis state that are not zero\n",
    "    i = 0\n",
    "    for n in basis_state:\n",
    "        if n != 0:\n",
    "            entries.append([n[0],i])\n",
    "        i += 1\n",
    "    \n",
    "    basis_size = 1\n",
    "    for i in tensor_order:\n",
    "        basis_size *= i\n",
    "\n",
    "    index = -1\n",
    "    for i in entries:\n",
    "        basis = basis_size\n",
    "        ket_values.append([])\n",
    "        start_val = 0\n",
    "        index += 1\n",
    "        for n in tensor_order:\n",
    "            order = 0\n",
    "            tem = basis /n \n",
    "            temp = tem + start_val\n",
    "            while True:\n",
    "                if i[1] < temp:\n",
    "                    ket_values[index].append(order)\n",
    "                    basis = tem\n",
    "                    break\n",
    "                else:\n",
    "                    start_val += tem\n",
    "                    temp += tem\n",
    "                    order += 1\n",
    "    \n",
    "    return ket_values, entries"
   ]
  },
  {
   "cell_type": "code",
   "execution_count": 18,
   "id": "27045113-72ff-4c85-85bd-12c0d51dc6e3",
   "metadata": {},
   "outputs": [
    {
     "data": {
      "text/plain": [
       "([[1, 1, 0, 0, 0],\n",
       "  [1, 1, 0, 0, 1],\n",
       "  [1, 1, 0, 1, 0],\n",
       "  [1, 1, 0, 1, 1],\n",
       "  [1, 1, 1, 0, 0],\n",
       "  [1, 1, 1, 0, 1],\n",
       "  [1, 1, 1, 1, 0],\n",
       "  [1, 1, 1, 1, 1]],\n",
       " [[np.float64(4.8483833335279055e-20), 24],\n",
       "  [np.float64(0.009709662154539986), 25],\n",
       "  [np.float64(-3.927644878854764e-17), 26],\n",
       "  [np.float64(-0.0980580675690923), 27],\n",
       "  [np.float64(3.1847213726501453e-17), 28],\n",
       "  [np.float64(-0.09805806756909238), 29],\n",
       "  [np.float64(-3.632768961620567e-18), 30],\n",
       "  [np.float64(0.9902903378454601), 31]])"
      ]
     },
     "execution_count": 18,
     "metadata": {},
     "output_type": "execute_result"
    }
   ],
   "source": [
    "ket_order = [N_q1, N_q2, N_vib1, N_vib2, N_cav]\n",
    "find_ket_values(ket_order, eigenvecs[31].full().real)"
   ]
  },
  {
   "cell_type": "code",
   "execution_count": 19,
   "id": "2240e6ee-75c2-4126-8fb7-387d68cc6541",
   "metadata": {},
   "outputs": [
    {
     "data": {
      "text/plain": [
       "([[0, 0, 0, 0, 0]], [[np.float64(1.0), 0]])"
      ]
     },
     "execution_count": 19,
     "metadata": {},
     "output_type": "execute_result"
    }
   ],
   "source": [
    "ket_order = [N_q1, N_q2, N_vib1, N_vib2, N_cav]\n",
    "find_ket_values(ket_order, basis_states[0][0].full().real)"
   ]
  },
  {
   "cell_type": "code",
   "execution_count": 20,
   "id": "da23cd2d-7b00-4f86-aba9-00f34ae60e21",
   "metadata": {},
   "outputs": [
    {
     "data": {
      "text/plain": [
       "([[0, 1, 1, 1, 0]], [[np.float64(1.0), 14]])"
      ]
     },
     "execution_count": 20,
     "metadata": {},
     "output_type": "execute_result"
    }
   ],
   "source": [
    "find_ket_values(ket_order, basis(fock, 14).full().real)"
   ]
  },
  {
   "cell_type": "markdown",
   "id": "81338d59-e339-4201-9967-d26310fbb99a",
   "metadata": {},
   "source": [
    "```python\n",
    "kets = find_ket_values(tensor_order, basis)\n",
    "```"
   ]
  },
  {
   "cell_type": "code",
   "execution_count": null,
   "id": "f1974a99-8f7d-4e50-907c-922c662a5e7f",
   "metadata": {},
   "outputs": [],
   "source": []
  }
 ],
 "metadata": {
  "kernelspec": {
   "display_name": "Python 3 (ipykernel)",
   "language": "python",
   "name": "python3"
  },
  "language_info": {
   "codemirror_mode": {
    "name": "ipython",
    "version": 3
   },
   "file_extension": ".py",
   "mimetype": "text/x-python",
   "name": "python",
   "nbconvert_exporter": "python",
   "pygments_lexer": "ipython3",
   "version": "3.12.11"
  }
 },
 "nbformat": 4,
 "nbformat_minor": 5
}
